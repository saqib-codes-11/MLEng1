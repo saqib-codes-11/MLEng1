{
 "cells": [
  {
   "attachments": {},
   "cell_type": "markdown",
   "id": "29778fd4-3b3c-485f-95a9-e7750bba38b0",
   "metadata": {
    "editable": true,
    "papermill": {
     "duration": 0.003044,
     "end_time": "2024-05-10T11:59:41.394852",
     "exception": false,
     "start_time": "2024-05-10T11:59:41.391808",
     "status": "completed"
    },
    "slideshow": {
     "slide_type": ""
    },
    "tags": []
   },
   "source": [
    "# General steps to develop any ML model with Scikit-Learn"
   ]
  },
  {
   "attachments": {},
   "cell_type": "markdown",
   "id": "d252a545",
   "metadata": {
    "papermill": {
     "duration": 0.002272,
     "end_time": "2024-05-10T11:59:41.399783",
     "exception": false,
     "start_time": "2024-05-10T11:59:41.397511",
     "status": "completed"
    },
    "tags": []
   },
   "source": [
    "https://scikit-learn.org/stable/supervised_learning.html"
   ]
  },
  {
   "attachments": {},
   "cell_type": "markdown",
   "id": "bba7b3ce-014f-4be4-a18f-6c771784679e",
   "metadata": {
    "editable": true,
    "papermill": {
     "duration": 0.001969,
     "end_time": "2024-05-10T11:59:41.404055",
     "exception": false,
     "start_time": "2024-05-10T11:59:41.402086",
     "status": "completed"
    },
    "slideshow": {
     "slide_type": ""
    },
    "tags": []
   },
   "source": [
    "## Data"
   ]
  },
  {
   "cell_type": "code",
   "execution_count": null,
   "id": "42ce8ec3-f408-4b5b-82a1-2737f000ebc4",
   "metadata": {
    "editable": true,
    "execution": {
     "iopub.execute_input": "2024-05-10T11:59:41.408511Z",
     "iopub.status.busy": "2024-05-10T11:59:41.408348Z",
     "iopub.status.idle": "2024-05-10T11:59:41.417152Z",
     "shell.execute_reply": "2024-05-10T11:59:41.416879Z"
    },
    "papermill": {
     "duration": 0.012035,
     "end_time": "2024-05-10T11:59:41.417928",
     "exception": false,
     "start_time": "2024-05-10T11:59:41.405893",
     "status": "completed"
    },
    "slideshow": {
     "slide_type": ""
    },
    "tags": [
     "change-false"
    ]
   },
   "outputs": [],
   "source": []
  },
  {
   "attachments": {},
   "cell_type": "markdown",
   "id": "33058cde-0f4b-4df5-8992-4f547e21f5f7",
   "metadata": {
    "editable": true,
    "papermill": {
     "duration": 0.001828,
     "end_time": "2024-05-10T11:59:41.421703",
     "exception": false,
     "start_time": "2024-05-10T11:59:41.419875",
     "status": "completed"
    },
    "slideshow": {
     "slide_type": ""
    },
    "tags": []
   },
   "source": [
    "Based on the previous variables, the goal is to find the best numbers $b_0, b_1, b_2, ...$ that minimize the error of the following model:\n",
    "\n",
    "$$\n",
    "Y = b_0 + b_1 \\cdot X_1 + b_2 \\cdot X_2 + ... \n",
    "$$\n",
    "\n",
    "Where the variables are:\n",
    "\n",
    "- $Y$ `Price` is the target variable\n",
    "- $X_1$ `Bedrooms` is one explanatory variable\n",
    "- $X_2$ `Bathrooms` is another explanatory variable\n",
    "\n"
   ]
  },
  {
   "attachments": {},
   "cell_type": "markdown",
   "id": "1011f9c2-5051-43ce-bfee-81909bb31338",
   "metadata": {
    "editable": true,
    "papermill": {
     "duration": 0.001764,
     "end_time": "2024-05-10T11:59:41.428211",
     "exception": false,
     "start_time": "2024-05-10T11:59:41.426447",
     "status": "completed"
    },
    "slideshow": {
     "slide_type": ""
    },
    "tags": []
   },
   "source": [
    "## The Machine Learning System\n",
    "\n",
    "To create any ML model in Python, you always [follow the same system](https://datons.craft.me/h3f5pSQSE7l6RW/b/53521460-00B0-4667-9FEB-4D31916272C3/Machine-Learning-%E2%86%92-Sklearn-)."
   ]
  },
  {
   "attachments": {},
   "cell_type": "markdown",
   "id": "2772e6c3-f12e-4c31-b409-ad654940f6a3",
   "metadata": {
    "editable": true,
    "papermill": {
     "duration": 0.001651,
     "end_time": "2024-05-10T11:59:41.431504",
     "exception": false,
     "start_time": "2024-05-10T11:59:41.429853",
     "status": "completed"
    },
    "slideshow": {
     "slide_type": ""
    },
    "tags": []
   },
   "source": [
    "## Select the variables for the model\n",
    "\n",
    "1. **`y` target**: output variable (to predict)\n",
    "2. **`X` explanatory**: input variables to calculate/explain the prediction"
   ]
  },
  {
   "cell_type": "code",
   "execution_count": null,
   "id": "ca6e3ab8-b1b5-4b8d-ab27-4dbab94e3c47",
   "metadata": {
    "editable": true,
    "execution": {
     "iopub.execute_input": "2024-05-10T11:59:41.436835Z",
     "iopub.status.busy": "2024-05-10T11:59:41.436638Z",
     "iopub.status.idle": "2024-05-10T11:59:41.438854Z",
     "shell.execute_reply": "2024-05-10T11:59:41.438648Z"
    },
    "papermill": {
     "duration": 0.005605,
     "end_time": "2024-05-10T11:59:41.439612",
     "exception": false,
     "start_time": "2024-05-10T11:59:41.434007",
     "status": "completed"
    },
    "slideshow": {
     "slide_type": ""
    },
    "tags": []
   },
   "outputs": [],
   "source": []
  },
  {
   "cell_type": "code",
   "execution_count": null,
   "id": "3bb71aa0-be28-47e3-abca-7f7ed0aa298c",
   "metadata": {
    "editable": true,
    "execution": {
     "iopub.execute_input": "2024-05-10T11:59:41.443926Z",
     "iopub.status.busy": "2024-05-10T11:59:41.443844Z",
     "iopub.status.idle": "2024-05-10T11:59:41.446125Z",
     "shell.execute_reply": "2024-05-10T11:59:41.445941Z"
    },
    "papermill": {
     "duration": 0.005251,
     "end_time": "2024-05-10T11:59:41.446851",
     "exception": false,
     "start_time": "2024-05-10T11:59:41.441600",
     "status": "completed"
    },
    "slideshow": {
     "slide_type": ""
    },
    "tags": []
   },
   "outputs": [],
   "source": []
  },
  {
   "cell_type": "code",
   "execution_count": null,
   "id": "0f307d82",
   "metadata": {
    "execution": {
     "iopub.execute_input": "2024-05-10T11:59:41.450523Z",
     "iopub.status.busy": "2024-05-10T11:59:41.450446Z",
     "iopub.status.idle": "2024-05-10T11:59:41.453705Z",
     "shell.execute_reply": "2024-05-10T11:59:41.453479Z"
    },
    "papermill": {
     "duration": 0.005826,
     "end_time": "2024-05-10T11:59:41.454357",
     "exception": false,
     "start_time": "2024-05-10T11:59:41.448531",
     "status": "completed"
    },
    "tags": []
   },
   "outputs": [],
   "source": []
  },
  {
   "attachments": {},
   "cell_type": "markdown",
   "id": "a02dfd04-f2eb-4f15-a5dd-9ff50eec2419",
   "metadata": {
    "editable": true,
    "papermill": {
     "duration": 0.002177,
     "end_time": "2024-05-10T11:59:41.458753",
     "exception": false,
     "start_time": "2024-05-10T11:59:41.456576",
     "status": "completed"
    },
    "slideshow": {
     "slide_type": ""
    },
    "tags": []
   },
   "source": [
    "## Linear Regression"
   ]
  },
  {
   "attachments": {},
   "cell_type": "markdown",
   "id": "92ea1fab",
   "metadata": {
    "papermill": {
     "duration": 0.001825,
     "end_time": "2024-05-10T11:59:41.462674",
     "exception": false,
     "start_time": "2024-05-10T11:59:41.460849",
     "status": "completed"
    },
    "tags": []
   },
   "source": [
    "### Fit model"
   ]
  },
  {
   "cell_type": "code",
   "execution_count": null,
   "id": "c5a40984-1bc8-4944-a3d0-da2570acb7ea",
   "metadata": {
    "editable": true,
    "execution": {
     "iopub.execute_input": "2024-05-10T11:59:41.467020Z",
     "iopub.status.busy": "2024-05-10T11:59:41.466930Z",
     "iopub.status.idle": "2024-05-10T11:59:41.982860Z",
     "shell.execute_reply": "2024-05-10T11:59:41.982613Z"
    },
    "papermill": {
     "duration": 0.519156,
     "end_time": "2024-05-10T11:59:41.983770",
     "exception": false,
     "start_time": "2024-05-10T11:59:41.464614",
     "status": "completed"
    },
    "slideshow": {
     "slide_type": ""
    },
    "tags": []
   },
   "outputs": [],
   "source": []
  },
  {
   "attachments": {},
   "cell_type": "markdown",
   "id": "a5c92cd8-63c4-4470-8cb4-2ac2678ebe3e",
   "metadata": {
    "editable": true,
    "papermill": {
     "duration": 0.002021,
     "end_time": "2024-05-10T11:59:41.988089",
     "exception": false,
     "start_time": "2024-05-10T11:59:41.986068",
     "status": "completed"
    },
    "slideshow": {
     "slide_type": ""
    },
    "tags": []
   },
   "source": [
    "### Model's score"
   ]
  },
  {
   "cell_type": "code",
   "execution_count": null,
   "id": "14520ea6",
   "metadata": {
    "execution": {
     "iopub.execute_input": "2024-05-10T11:59:41.992929Z",
     "iopub.status.busy": "2024-05-10T11:59:41.992765Z",
     "iopub.status.idle": "2024-05-10T11:59:41.995499Z",
     "shell.execute_reply": "2024-05-10T11:59:41.995281Z"
    },
    "papermill": {
     "duration": 0.005763,
     "end_time": "2024-05-10T11:59:41.996173",
     "exception": false,
     "start_time": "2024-05-10T11:59:41.990410",
     "status": "completed"
    },
    "tags": []
   },
   "outputs": [],
   "source": []
  },
  {
   "attachments": {},
   "cell_type": "markdown",
   "id": "d2e76c77",
   "metadata": {
    "papermill": {
     "duration": 0.002207,
     "end_time": "2024-05-10T11:59:42.002864",
     "exception": false,
     "start_time": "2024-05-10T11:59:42.000657",
     "status": "completed"
    },
    "tags": []
   },
   "source": [
    "### Predictions"
   ]
  },
  {
   "cell_type": "code",
   "execution_count": null,
   "id": "76ce1578",
   "metadata": {
    "execution": {
     "iopub.execute_input": "2024-05-10T11:59:42.007052Z",
     "iopub.status.busy": "2024-05-10T11:59:42.006944Z",
     "iopub.status.idle": "2024-05-10T11:59:42.010009Z",
     "shell.execute_reply": "2024-05-10T11:59:42.009798Z"
    },
    "papermill": {
     "duration": 0.006034,
     "end_time": "2024-05-10T11:59:42.010700",
     "exception": false,
     "start_time": "2024-05-10T11:59:42.004666",
     "status": "completed"
    },
    "tags": []
   },
   "outputs": [],
   "source": []
  },
  {
   "attachments": {},
   "cell_type": "markdown",
   "id": "d826ee87",
   "metadata": {
    "papermill": {
     "duration": 0.001845,
     "end_time": "2024-05-10T11:59:42.014488",
     "exception": false,
     "start_time": "2024-05-10T11:59:42.012643",
     "status": "completed"
    },
    "tags": []
   },
   "source": [
    "## K Nearest Neighbors"
   ]
  },
  {
   "attachments": {},
   "cell_type": "markdown",
   "id": "fa0447fc",
   "metadata": {
    "papermill": {
     "duration": 0.001889,
     "end_time": "2024-05-10T11:59:42.018158",
     "exception": false,
     "start_time": "2024-05-10T11:59:42.016269",
     "status": "completed"
    },
    "tags": []
   },
   "source": [
    "### Fit model"
   ]
  },
  {
   "cell_type": "code",
   "execution_count": null,
   "id": "0066dd43",
   "metadata": {
    "execution": {
     "iopub.execute_input": "2024-05-10T11:59:42.022534Z",
     "iopub.status.busy": "2024-05-10T11:59:42.022432Z",
     "iopub.status.idle": "2024-05-10T11:59:42.064518Z",
     "shell.execute_reply": "2024-05-10T11:59:42.064217Z"
    },
    "papermill": {
     "duration": 0.04516,
     "end_time": "2024-05-10T11:59:42.065379",
     "exception": false,
     "start_time": "2024-05-10T11:59:42.020219",
     "status": "completed"
    },
    "tags": []
   },
   "outputs": [],
   "source": []
  },
  {
   "attachments": {},
   "cell_type": "markdown",
   "id": "f5c11119",
   "metadata": {
    "papermill": {
     "duration": 0.002026,
     "end_time": "2024-05-10T11:59:42.069778",
     "exception": false,
     "start_time": "2024-05-10T11:59:42.067752",
     "status": "completed"
    },
    "tags": []
   },
   "source": [
    "### Model's score"
   ]
  },
  {
   "cell_type": "code",
   "execution_count": null,
   "id": "7897948b",
   "metadata": {
    "execution": {
     "iopub.execute_input": "2024-05-10T11:59:42.075059Z",
     "iopub.status.busy": "2024-05-10T11:59:42.074902Z",
     "iopub.status.idle": "2024-05-10T11:59:42.077947Z",
     "shell.execute_reply": "2024-05-10T11:59:42.077758Z"
    },
    "papermill": {
     "duration": 0.006601,
     "end_time": "2024-05-10T11:59:42.078592",
     "exception": false,
     "start_time": "2024-05-10T11:59:42.071991",
     "status": "completed"
    },
    "tags": []
   },
   "outputs": [],
   "source": []
  },
  {
   "attachments": {},
   "cell_type": "markdown",
   "id": "bf3933b2",
   "metadata": {
    "papermill": {
     "duration": 0.002217,
     "end_time": "2024-05-10T11:59:42.083188",
     "exception": false,
     "start_time": "2024-05-10T11:59:42.080971",
     "status": "completed"
    },
    "tags": []
   },
   "source": [
    "### Predictions"
   ]
  },
  {
   "cell_type": "code",
   "execution_count": null,
   "id": "2dc012b0",
   "metadata": {
    "execution": {
     "iopub.execute_input": "2024-05-10T11:59:42.088502Z",
     "iopub.status.busy": "2024-05-10T11:59:42.088397Z",
     "iopub.status.idle": "2024-05-10T11:59:42.091443Z",
     "shell.execute_reply": "2024-05-10T11:59:42.091255Z"
    },
    "papermill": {
     "duration": 0.006385,
     "end_time": "2024-05-10T11:59:42.092114",
     "exception": false,
     "start_time": "2024-05-10T11:59:42.085729",
     "status": "completed"
    },
    "tags": []
   },
   "outputs": [],
   "source": []
  },
  {
   "attachments": {},
   "cell_type": "markdown",
   "id": "87724e51",
   "metadata": {
    "papermill": {
     "duration": 0.002277,
     "end_time": "2024-05-10T11:59:42.096827",
     "exception": false,
     "start_time": "2024-05-10T11:59:42.094550",
     "status": "completed"
    },
    "tags": []
   },
   "source": [
    "## Random Forest\n",
    "\n",
    "From the ensemble sub-module."
   ]
  },
  {
   "attachments": {},
   "cell_type": "markdown",
   "id": "b8e2b639",
   "metadata": {
    "papermill": {
     "duration": 0.002125,
     "end_time": "2024-05-10T11:59:42.101233",
     "exception": false,
     "start_time": "2024-05-10T11:59:42.099108",
     "status": "completed"
    },
    "tags": []
   },
   "source": [
    "### Fit model"
   ]
  },
  {
   "cell_type": "code",
   "execution_count": null,
   "id": "780e0173",
   "metadata": {
    "execution": {
     "iopub.execute_input": "2024-05-10T11:59:42.106181Z",
     "iopub.status.busy": "2024-05-10T11:59:42.106044Z",
     "iopub.status.idle": "2024-05-10T11:59:42.248721Z",
     "shell.execute_reply": "2024-05-10T11:59:42.248483Z"
    },
    "papermill": {
     "duration": 0.1462,
     "end_time": "2024-05-10T11:59:42.249446",
     "exception": false,
     "start_time": "2024-05-10T11:59:42.103246",
     "status": "completed"
    },
    "tags": []
   },
   "outputs": [],
   "source": []
  },
  {
   "attachments": {},
   "cell_type": "markdown",
   "id": "5078c4da",
   "metadata": {
    "papermill": {
     "duration": 0.002241,
     "end_time": "2024-05-10T11:59:42.254365",
     "exception": false,
     "start_time": "2024-05-10T11:59:42.252124",
     "status": "completed"
    },
    "tags": []
   },
   "source": [
    "### Model's score"
   ]
  },
  {
   "cell_type": "code",
   "execution_count": null,
   "id": "c09978dc",
   "metadata": {
    "execution": {
     "iopub.execute_input": "2024-05-10T11:59:42.259345Z",
     "iopub.status.busy": "2024-05-10T11:59:42.259201Z",
     "iopub.status.idle": "2024-05-10T11:59:42.265057Z",
     "shell.execute_reply": "2024-05-10T11:59:42.264712Z"
    },
    "papermill": {
     "duration": 0.009125,
     "end_time": "2024-05-10T11:59:42.265707",
     "exception": false,
     "start_time": "2024-05-10T11:59:42.256582",
     "status": "completed"
    },
    "tags": []
   },
   "outputs": [],
   "source": []
  },
  {
   "attachments": {},
   "cell_type": "markdown",
   "id": "db67ebcd",
   "metadata": {
    "papermill": {
     "duration": 0.00236,
     "end_time": "2024-05-10T11:59:42.270596",
     "exception": false,
     "start_time": "2024-05-10T11:59:42.268236",
     "status": "completed"
    },
    "tags": []
   },
   "source": [
    "### Predictions"
   ]
  },
  {
   "cell_type": "code",
   "execution_count": null,
   "id": "c227dbc1",
   "metadata": {
    "execution": {
     "iopub.execute_input": "2024-05-10T11:59:42.276351Z",
     "iopub.status.busy": "2024-05-10T11:59:42.276254Z",
     "iopub.status.idle": "2024-05-10T11:59:42.282413Z",
     "shell.execute_reply": "2024-05-10T11:59:42.282226Z"
    },
    "papermill": {
     "duration": 0.009739,
     "end_time": "2024-05-10T11:59:42.283098",
     "exception": false,
     "start_time": "2024-05-10T11:59:42.273359",
     "status": "completed"
    },
    "tags": []
   },
   "outputs": [],
   "source": []
  },
  {
   "attachments": {},
   "cell_type": "markdown",
   "id": "ae0c7e7d",
   "metadata": {
    "papermill": {
     "duration": 0.002416,
     "end_time": "2024-05-10T11:59:42.288242",
     "exception": false,
     "start_time": "2024-05-10T11:59:42.285826",
     "status": "completed"
    },
    "tags": []
   },
   "source": [
    "## BONUS: Comparing models visually"
   ]
  },
  {
   "cell_type": "code",
   "execution_count": null,
   "id": "3136e8dd",
   "metadata": {
    "execution": {
     "iopub.execute_input": "2024-05-10T11:59:42.293633Z",
     "iopub.status.busy": "2024-05-10T11:59:42.293527Z",
     "iopub.status.idle": "2024-05-10T11:59:42.297206Z",
     "shell.execute_reply": "2024-05-10T11:59:42.296996Z"
    },
    "papermill": {
     "duration": 0.007239,
     "end_time": "2024-05-10T11:59:42.297841",
     "exception": false,
     "start_time": "2024-05-10T11:59:42.290602",
     "status": "completed"
    },
    "tags": [
     "change-false"
    ]
   },
   "outputs": [],
   "source": []
  },
  {
   "cell_type": "code",
   "execution_count": null,
   "id": "11b2d785",
   "metadata": {
    "execution": {
     "iopub.execute_input": "2024-05-10T11:59:42.303278Z",
     "iopub.status.busy": "2024-05-10T11:59:42.303200Z",
     "iopub.status.idle": "2024-05-10T11:59:42.698029Z",
     "shell.execute_reply": "2024-05-10T11:59:42.697368Z"
    },
    "papermill": {
     "duration": 0.399619,
     "end_time": "2024-05-10T11:59:42.700117",
     "exception": false,
     "start_time": "2024-05-10T11:59:42.300498",
     "status": "completed"
    },
    "tags": [
     "change-false"
    ]
   },
   "outputs": [],
   "source": []
  }
 ],
 "metadata": {
  "kernelspec": {
   "display_name": "base",
   "language": "python",
   "name": "python3"
  },
  "language_info": {
   "codemirror_mode": {
    "name": "ipython",
    "version": 3
   },
   "file_extension": ".py",
   "mimetype": "text/x-python",
   "name": "python",
   "nbconvert_exporter": "python",
   "pygments_lexer": "ipython3",
   "version": "3.12.2"
  },
  "papermill": {
   "default_parameters": {},
   "duration": 2.779058,
   "end_time": "2024-05-10T11:59:43.024301",
   "environment_variables": {},
   "exception": null,
   "input_path": "/Users/sota/Dropbox/2 Business/1 Datons/2 Areas/Courses/03 ML/materials/notebooks/10_Modelling/02_Steps/B.ipynb",
   "output_path": "/Users/sota/Dropbox/2 Business/1 Datons/2 Areas/Courses/03 ML/materials/notebooks/10_Modelling/02_Steps/B.ipynb",
   "parameters": {},
   "start_time": "2024-05-10T11:59:40.245243",
   "version": "2.5.0"
  }
 },
 "nbformat": 4,
 "nbformat_minor": 5
}
