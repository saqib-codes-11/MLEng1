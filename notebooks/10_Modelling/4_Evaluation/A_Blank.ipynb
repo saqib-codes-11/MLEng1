{
 "cells": [
  {
   "attachments": {},
   "cell_type": "markdown",
   "id": "87eec761-64bc-4ecb-bf2e-cb06d6dfd1d5",
   "metadata": {
    "papermill": {
     "duration": 0.030923,
     "end_time": "2024-07-06T19:24:14.405660",
     "exception": false,
     "start_time": "2024-07-06T19:24:14.374737",
     "status": "completed"
    },
    "tags": []
   },
   "source": [
    "# Evaluation metrics based on model type"
   ]
  },
  {
   "cell_type": "code",
   "execution_count": null,
   "id": "c2316db2-d8e8-46f5-8d4c-d483a3455156",
   "metadata": {
    "execution": {
     "iopub.execute_input": "2024-07-06T19:24:14.427523Z",
     "iopub.status.busy": "2024-07-06T19:24:14.427051Z",
     "iopub.status.idle": "2024-07-06T19:24:16.082435Z",
     "shell.execute_reply": "2024-07-06T19:24:16.081600Z"
    },
    "papermill": {
     "duration": 1.67943,
     "end_time": "2024-07-06T19:24:16.094262",
     "exception": false,
     "start_time": "2024-07-06T19:24:14.414832",
     "status": "completed"
    },
    "tags": []
   },
   "outputs": [],
   "source": []
  },
  {
   "cell_type": "code",
   "execution_count": null,
   "id": "2806c5c2-1fa3-45e7-8379-9ae06e83097d",
   "metadata": {
    "execution": {
     "iopub.execute_input": "2024-07-06T19:24:16.135461Z",
     "iopub.status.busy": "2024-07-06T19:24:16.131751Z",
     "iopub.status.idle": "2024-07-06T19:24:16.154789Z",
     "shell.execute_reply": "2024-07-06T19:24:16.153094Z"
    },
    "papermill": {
     "duration": 0.067367,
     "end_time": "2024-07-06T19:24:16.183520",
     "exception": false,
     "start_time": "2024-07-06T19:24:16.116153",
     "status": "completed"
    },
    "scrolled": true,
    "tags": []
   },
   "outputs": [
    {
     "data": {
      "text/plain": [
       "['accuracy_score',\n",
       " 'adjusted_mutual_info_score',\n",
       " 'adjusted_rand_score',\n",
       " 'auc',\n",
       " 'average_precision_score',\n",
       " 'balanced_accuracy_score',\n",
       " 'calinski_harabasz_score',\n",
       " 'check_scoring',\n",
       " 'class_likelihood_ratios',\n",
       " 'classification_report',\n",
       " 'cluster',\n",
       " 'cohen_kappa_score',\n",
       " 'completeness_score',\n",
       " 'ConfusionMatrixDisplay',\n",
       " 'confusion_matrix',\n",
       " 'consensus_score',\n",
       " 'coverage_error',\n",
       " 'd2_tweedie_score',\n",
       " 'd2_absolute_error_score',\n",
       " 'd2_pinball_score',\n",
       " 'dcg_score',\n",
       " 'davies_bouldin_score',\n",
       " 'DetCurveDisplay',\n",
       " 'det_curve',\n",
       " 'DistanceMetric',\n",
       " 'euclidean_distances',\n",
       " 'explained_variance_score',\n",
       " 'f1_score',\n",
       " 'fbeta_score',\n",
       " 'fowlkes_mallows_score',\n",
       " 'get_scorer',\n",
       " 'hamming_loss',\n",
       " 'hinge_loss',\n",
       " 'homogeneity_completeness_v_measure',\n",
       " 'homogeneity_score',\n",
       " 'jaccard_score',\n",
       " 'label_ranking_average_precision_score',\n",
       " 'label_ranking_loss',\n",
       " 'log_loss',\n",
       " 'make_scorer',\n",
       " 'nan_euclidean_distances',\n",
       " 'matthews_corrcoef',\n",
       " 'max_error',\n",
       " 'mean_absolute_error',\n",
       " 'mean_squared_error',\n",
       " 'mean_squared_log_error',\n",
       " 'mean_pinball_loss',\n",
       " 'mean_poisson_deviance',\n",
       " 'mean_gamma_deviance',\n",
       " 'mean_tweedie_deviance',\n",
       " 'median_absolute_error',\n",
       " 'mean_absolute_percentage_error',\n",
       " 'multilabel_confusion_matrix',\n",
       " 'mutual_info_score',\n",
       " 'ndcg_score',\n",
       " 'normalized_mutual_info_score',\n",
       " 'pair_confusion_matrix',\n",
       " 'pairwise_distances',\n",
       " 'pairwise_distances_argmin',\n",
       " 'pairwise_distances_argmin_min',\n",
       " 'pairwise_distances_chunked',\n",
       " 'pairwise_kernels',\n",
       " 'PrecisionRecallDisplay',\n",
       " 'precision_recall_curve',\n",
       " 'precision_recall_fscore_support',\n",
       " 'precision_score',\n",
       " 'PredictionErrorDisplay',\n",
       " 'r2_score',\n",
       " 'rand_score',\n",
       " 'recall_score',\n",
       " 'RocCurveDisplay',\n",
       " 'roc_auc_score',\n",
       " 'roc_curve',\n",
       " 'get_scorer_names',\n",
       " 'silhouette_samples',\n",
       " 'silhouette_score',\n",
       " 'top_k_accuracy_score',\n",
       " 'v_measure_score',\n",
       " 'zero_one_loss',\n",
       " 'brier_score_loss']"
      ]
     },
     "execution_count": null,
     "metadata": {},
     "output_type": "execute_result"
    }
   ],
   "source": []
  },
  {
   "attachments": {},
   "cell_type": "markdown",
   "id": "8dcb9037",
   "metadata": {
    "papermill": {
     "duration": 0.017656,
     "end_time": "2024-07-06T19:24:16.218936",
     "exception": false,
     "start_time": "2024-07-06T19:24:16.201280",
     "status": "completed"
    },
    "tags": []
   },
   "source": [
    "## Regressors"
   ]
  },
  {
   "attachments": {},
   "cell_type": "markdown",
   "id": "2046d956",
   "metadata": {
    "papermill": {
     "duration": 0.015359,
     "end_time": "2024-07-06T19:24:16.252124",
     "exception": false,
     "start_time": "2024-07-06T19:24:16.236765",
     "status": "completed"
    },
    "tags": []
   },
   "source": [
    "### Load data"
   ]
  },
  {
   "cell_type": "code",
   "execution_count": null,
   "id": "59c4a642",
   "metadata": {
    "execution": {
     "iopub.execute_input": "2024-07-06T19:24:16.278366Z",
     "iopub.status.busy": "2024-07-06T19:24:16.278049Z",
     "iopub.status.idle": "2024-07-06T19:24:16.947401Z",
     "shell.execute_reply": "2024-07-06T19:24:16.946630Z"
    },
    "papermill": {
     "duration": 0.690351,
     "end_time": "2024-07-06T19:24:16.953002",
     "exception": false,
     "start_time": "2024-07-06T19:24:16.262651",
     "status": "completed"
    },
    "tags": []
   },
   "outputs": [
    {
     "data": {
      "text/html": [
       "<div>\n",
       "<style scoped>\n",
       "    .dataframe tbody tr th:only-of-type {\n",
       "        vertical-align: middle;\n",
       "    }\n",
       "\n",
       "    .dataframe tbody tr th {\n",
       "        vertical-align: top;\n",
       "    }\n",
       "\n",
       "    .dataframe thead th {\n",
       "        text-align: right;\n",
       "    }\n",
       "</style>\n",
       "<table border=\"1\" class=\"dataframe\">\n",
       "  <thead>\n",
       "    <tr style=\"text-align: right;\">\n",
       "      <th></th>\n",
       "      <th>Price</th>\n",
       "      <th>Bedrooms</th>\n",
       "      <th>Bathrooms</th>\n",
       "      <th>Garage</th>\n",
       "      <th>Build Year</th>\n",
       "      <th>Floor Area</th>\n",
       "    </tr>\n",
       "    <tr>\n",
       "      <th>ADDRESS</th>\n",
       "      <th></th>\n",
       "      <th></th>\n",
       "      <th></th>\n",
       "      <th></th>\n",
       "      <th></th>\n",
       "      <th></th>\n",
       "    </tr>\n",
       "  </thead>\n",
       "  <tbody>\n",
       "    <tr>\n",
       "      <th>1 Datchet Turn</th>\n",
       "      <td>270000</td>\n",
       "      <td>3</td>\n",
       "      <td>2</td>\n",
       "      <td>2.0</td>\n",
       "      <td>2011.0</td>\n",
       "      <td>109</td>\n",
       "    </tr>\n",
       "    <tr>\n",
       "      <th>1 McKenzie Corner</th>\n",
       "      <td>470000</td>\n",
       "      <td>4</td>\n",
       "      <td>2</td>\n",
       "      <td>2.0</td>\n",
       "      <td>2005.0</td>\n",
       "      <td>279</td>\n",
       "    </tr>\n",
       "    <tr>\n",
       "      <th>...</th>\n",
       "      <td>...</td>\n",
       "      <td>...</td>\n",
       "      <td>...</td>\n",
       "      <td>...</td>\n",
       "      <td>...</td>\n",
       "      <td>...</td>\n",
       "    </tr>\n",
       "    <tr>\n",
       "      <th>93 Centennial Avenue</th>\n",
       "      <td>350000</td>\n",
       "      <td>4</td>\n",
       "      <td>2</td>\n",
       "      <td>2.0</td>\n",
       "      <td>2005.0</td>\n",
       "      <td>177</td>\n",
       "    </tr>\n",
       "    <tr>\n",
       "      <th>98 Centennial Avenue</th>\n",
       "      <td>441000</td>\n",
       "      <td>4</td>\n",
       "      <td>2</td>\n",
       "      <td>2.0</td>\n",
       "      <td>2004.0</td>\n",
       "      <td>195</td>\n",
       "    </tr>\n",
       "  </tbody>\n",
       "</table>\n",
       "<p>204 rows × 6 columns</p>\n",
       "</div>"
      ],
      "text/plain": [
       "                       Price  Bedrooms  Bathrooms  Garage  Build Year  \\\n",
       "ADDRESS                                                                 \n",
       "1 Datchet Turn        270000         3          2     2.0      2011.0   \n",
       "1 McKenzie Corner     470000         4          2     2.0      2005.0   \n",
       "...                      ...       ...        ...     ...         ...   \n",
       "93 Centennial Avenue  350000         4          2     2.0      2005.0   \n",
       "98 Centennial Avenue  441000         4          2     2.0      2004.0   \n",
       "\n",
       "                      Floor Area  \n",
       "ADDRESS                           \n",
       "1 Datchet Turn               109  \n",
       "1 McKenzie Corner            279  \n",
       "...                          ...  \n",
       "93 Centennial Avenue         177  \n",
       "98 Centennial Avenue         195  \n",
       "\n",
       "[204 rows x 6 columns]"
      ]
     },
     "execution_count": null,
     "metadata": {},
     "output_type": "execute_result"
    }
   ],
   "source": []
  },
  {
   "attachments": {},
   "cell_type": "markdown",
   "id": "a2804bc4",
   "metadata": {
    "papermill": {
     "duration": 0.020927,
     "end_time": "2024-07-06T19:24:16.986050",
     "exception": false,
     "start_time": "2024-07-06T19:24:16.965123",
     "status": "completed"
    },
    "tags": []
   },
   "source": [
    "### Feature selection"
   ]
  },
  {
   "cell_type": "code",
   "execution_count": null,
   "id": "7d681416",
   "metadata": {
    "execution": {
     "iopub.execute_input": "2024-07-06T19:24:17.013874Z",
     "iopub.status.busy": "2024-07-06T19:24:17.013427Z",
     "iopub.status.idle": "2024-07-06T19:24:17.024423Z",
     "shell.execute_reply": "2024-07-06T19:24:17.023261Z"
    },
    "papermill": {
     "duration": 0.02436,
     "end_time": "2024-07-06T19:24:17.026647",
     "exception": false,
     "start_time": "2024-07-06T19:24:17.002287",
     "status": "completed"
    },
    "tags": []
   },
   "outputs": [],
   "source": []
  },
  {
   "attachments": {},
   "cell_type": "markdown",
   "id": "822d38d6",
   "metadata": {
    "papermill": {
     "duration": 0.009798,
     "end_time": "2024-07-06T19:24:17.047602",
     "exception": false,
     "start_time": "2024-07-06T19:24:17.037804",
     "status": "completed"
    },
    "tags": []
   },
   "source": [
    "### Train test split"
   ]
  },
  {
   "cell_type": "code",
   "execution_count": null,
   "id": "5914fba2",
   "metadata": {
    "execution": {
     "iopub.execute_input": "2024-07-06T19:24:17.074638Z",
     "iopub.status.busy": "2024-07-06T19:24:17.074284Z",
     "iopub.status.idle": "2024-07-06T19:24:17.093653Z",
     "shell.execute_reply": "2024-07-06T19:24:17.093080Z"
    },
    "papermill": {
     "duration": 0.036341,
     "end_time": "2024-07-06T19:24:17.095696",
     "exception": false,
     "start_time": "2024-07-06T19:24:17.059355",
     "status": "completed"
    },
    "tags": []
   },
   "outputs": [],
   "source": []
  },
  {
   "attachments": {},
   "cell_type": "markdown",
   "id": "92e4c54a",
   "metadata": {
    "papermill": {
     "duration": 0.01031,
     "end_time": "2024-07-06T19:24:17.120819",
     "exception": false,
     "start_time": "2024-07-06T19:24:17.110509",
     "status": "completed"
    },
    "tags": []
   },
   "source": [
    "### Modelling"
   ]
  },
  {
   "cell_type": "code",
   "execution_count": null,
   "id": "2fa05377",
   "metadata": {
    "execution": {
     "iopub.execute_input": "2024-07-06T19:24:17.143770Z",
     "iopub.status.busy": "2024-07-06T19:24:17.143477Z",
     "iopub.status.idle": "2024-07-06T19:24:17.222501Z",
     "shell.execute_reply": "2024-07-06T19:24:17.221813Z"
    },
    "papermill": {
     "duration": 0.093594,
     "end_time": "2024-07-06T19:24:17.224821",
     "exception": false,
     "start_time": "2024-07-06T19:24:17.131227",
     "status": "completed"
    },
    "tags": []
   },
   "outputs": [
    {
     "data": {
      "text/html": [
       "<style>#sk-container-id-1 {color: black;}#sk-container-id-1 pre{padding: 0;}#sk-container-id-1 div.sk-toggleable {background-color: white;}#sk-container-id-1 label.sk-toggleable__label {cursor: pointer;display: block;width: 100%;margin-bottom: 0;padding: 0.3em;box-sizing: border-box;text-align: center;}#sk-container-id-1 label.sk-toggleable__label-arrow:before {content: \"▸\";float: left;margin-right: 0.25em;color: #696969;}#sk-container-id-1 label.sk-toggleable__label-arrow:hover:before {color: black;}#sk-container-id-1 div.sk-estimator:hover label.sk-toggleable__label-arrow:before {color: black;}#sk-container-id-1 div.sk-toggleable__content {max-height: 0;max-width: 0;overflow: hidden;text-align: left;background-color: #f0f8ff;}#sk-container-id-1 div.sk-toggleable__content pre {margin: 0.2em;color: black;border-radius: 0.25em;background-color: #f0f8ff;}#sk-container-id-1 input.sk-toggleable__control:checked~div.sk-toggleable__content {max-height: 200px;max-width: 100%;overflow: auto;}#sk-container-id-1 input.sk-toggleable__control:checked~label.sk-toggleable__label-arrow:before {content: \"▾\";}#sk-container-id-1 div.sk-estimator input.sk-toggleable__control:checked~label.sk-toggleable__label {background-color: #d4ebff;}#sk-container-id-1 div.sk-label input.sk-toggleable__control:checked~label.sk-toggleable__label {background-color: #d4ebff;}#sk-container-id-1 input.sk-hidden--visually {border: 0;clip: rect(1px 1px 1px 1px);clip: rect(1px, 1px, 1px, 1px);height: 1px;margin: -1px;overflow: hidden;padding: 0;position: absolute;width: 1px;}#sk-container-id-1 div.sk-estimator {font-family: monospace;background-color: #f0f8ff;border: 1px dotted black;border-radius: 0.25em;box-sizing: border-box;margin-bottom: 0.5em;}#sk-container-id-1 div.sk-estimator:hover {background-color: #d4ebff;}#sk-container-id-1 div.sk-parallel-item::after {content: \"\";width: 100%;border-bottom: 1px solid gray;flex-grow: 1;}#sk-container-id-1 div.sk-label:hover label.sk-toggleable__label {background-color: #d4ebff;}#sk-container-id-1 div.sk-serial::before {content: \"\";position: absolute;border-left: 1px solid gray;box-sizing: border-box;top: 0;bottom: 0;left: 50%;z-index: 0;}#sk-container-id-1 div.sk-serial {display: flex;flex-direction: column;align-items: center;background-color: white;padding-right: 0.2em;padding-left: 0.2em;position: relative;}#sk-container-id-1 div.sk-item {position: relative;z-index: 1;}#sk-container-id-1 div.sk-parallel {display: flex;align-items: stretch;justify-content: center;background-color: white;position: relative;}#sk-container-id-1 div.sk-item::before, #sk-container-id-1 div.sk-parallel-item::before {content: \"\";position: absolute;border-left: 1px solid gray;box-sizing: border-box;top: 0;bottom: 0;left: 50%;z-index: -1;}#sk-container-id-1 div.sk-parallel-item {display: flex;flex-direction: column;z-index: 1;position: relative;background-color: white;}#sk-container-id-1 div.sk-parallel-item:first-child::after {align-self: flex-end;width: 50%;}#sk-container-id-1 div.sk-parallel-item:last-child::after {align-self: flex-start;width: 50%;}#sk-container-id-1 div.sk-parallel-item:only-child::after {width: 0;}#sk-container-id-1 div.sk-dashed-wrapped {border: 1px dashed gray;margin: 0 0.4em 0.5em 0.4em;box-sizing: border-box;padding-bottom: 0.4em;background-color: white;}#sk-container-id-1 div.sk-label label {font-family: monospace;font-weight: bold;display: inline-block;line-height: 1.2em;}#sk-container-id-1 div.sk-label-container {text-align: center;}#sk-container-id-1 div.sk-container {/* jupyter's `normalize.less` sets `[hidden] { display: none; }` but bootstrap.min.css set `[hidden] { display: none !important; }` so we also need the `!important` here to be able to override the default hidden behavior on the sphinx rendered scikit-learn.org. See: https://github.com/scikit-learn/scikit-learn/issues/21755 */display: inline-block !important;position: relative;}#sk-container-id-1 div.sk-text-repr-fallback {display: none;}</style><div id=\"sk-container-id-1\" class=\"sk-top-container\"><div class=\"sk-text-repr-fallback\"><pre>LinearRegression()</pre><b>In a Jupyter environment, please rerun this cell to show the HTML representation or trust the notebook. <br />On GitHub, the HTML representation is unable to render, please try loading this page with nbviewer.org.</b></div><div class=\"sk-container\" hidden><div class=\"sk-item\"><div class=\"sk-estimator sk-toggleable\"><input class=\"sk-toggleable__control sk-hidden--visually\" id=\"sk-estimator-id-1\" type=\"checkbox\" checked><label for=\"sk-estimator-id-1\" class=\"sk-toggleable__label sk-toggleable__label-arrow\">LinearRegression</label><div class=\"sk-toggleable__content\"><pre>LinearRegression()</pre></div></div></div></div></div>"
      ],
      "text/plain": [
       "LinearRegression()"
      ]
     },
     "execution_count": null,
     "metadata": {},
     "output_type": "execute_result"
    }
   ],
   "source": []
  },
  {
   "attachments": {},
   "cell_type": "markdown",
   "id": "ea430302",
   "metadata": {
    "papermill": {
     "duration": 0.01137,
     "end_time": "2024-07-06T19:24:17.246773",
     "exception": false,
     "start_time": "2024-07-06T19:24:17.235403",
     "status": "completed"
    },
    "tags": []
   },
   "source": [
    "### Predictions"
   ]
  },
  {
   "cell_type": "code",
   "execution_count": null,
   "id": "6896ddf3",
   "metadata": {
    "execution": {
     "iopub.execute_input": "2024-07-06T19:24:17.268729Z",
     "iopub.status.busy": "2024-07-06T19:24:17.268414Z",
     "iopub.status.idle": "2024-07-06T19:24:17.279311Z",
     "shell.execute_reply": "2024-07-06T19:24:17.278323Z"
    },
    "papermill": {
     "duration": 0.023975,
     "end_time": "2024-07-06T19:24:17.281885",
     "exception": false,
     "start_time": "2024-07-06T19:24:17.257910",
     "status": "completed"
    },
    "tags": []
   },
   "outputs": [
    {
     "data": {
      "text/html": [
       "<div>\n",
       "<style scoped>\n",
       "    .dataframe tbody tr th:only-of-type {\n",
       "        vertical-align: middle;\n",
       "    }\n",
       "\n",
       "    .dataframe tbody tr th {\n",
       "        vertical-align: top;\n",
       "    }\n",
       "\n",
       "    .dataframe thead th {\n",
       "        text-align: right;\n",
       "    }\n",
       "</style>\n",
       "<table border=\"1\" class=\"dataframe\">\n",
       "  <thead>\n",
       "    <tr style=\"text-align: right;\">\n",
       "      <th></th>\n",
       "      <th>y_real</th>\n",
       "      <th>y_pred</th>\n",
       "    </tr>\n",
       "    <tr>\n",
       "      <th>ADDRESS</th>\n",
       "      <th></th>\n",
       "      <th></th>\n",
       "    </tr>\n",
       "  </thead>\n",
       "  <tbody>\n",
       "    <tr>\n",
       "      <th>117 Millbrook Avenue</th>\n",
       "      <td>305000</td>\n",
       "      <td>287306.988737</td>\n",
       "    </tr>\n",
       "    <tr>\n",
       "      <th>10 Yelka Way</th>\n",
       "      <td>460000</td>\n",
       "      <td>424269.757503</td>\n",
       "    </tr>\n",
       "    <tr>\n",
       "      <th>...</th>\n",
       "      <td>...</td>\n",
       "      <td>...</td>\n",
       "    </tr>\n",
       "    <tr>\n",
       "      <th>26 Keyham Street</th>\n",
       "      <td>400000</td>\n",
       "      <td>382523.037292</td>\n",
       "    </tr>\n",
       "    <tr>\n",
       "      <th>7 Millom Way</th>\n",
       "      <td>360000</td>\n",
       "      <td>288644.595117</td>\n",
       "    </tr>\n",
       "  </tbody>\n",
       "</table>\n",
       "<p>62 rows × 2 columns</p>\n",
       "</div>"
      ],
      "text/plain": [
       "                      y_real         y_pred\n",
       "ADDRESS                                    \n",
       "117 Millbrook Avenue  305000  287306.988737\n",
       "10 Yelka Way          460000  424269.757503\n",
       "...                      ...            ...\n",
       "26 Keyham Street      400000  382523.037292\n",
       "7 Millom Way          360000  288644.595117\n",
       "\n",
       "[62 rows x 2 columns]"
      ]
     },
     "execution_count": null,
     "metadata": {},
     "output_type": "execute_result"
    }
   ],
   "source": []
  },
  {
   "cell_type": "code",
   "execution_count": null,
   "id": "a37a7876",
   "metadata": {
    "execution": {
     "iopub.execute_input": "2024-07-06T19:24:17.304510Z",
     "iopub.status.busy": "2024-07-06T19:24:17.304243Z",
     "iopub.status.idle": "2024-07-06T19:24:17.313593Z",
     "shell.execute_reply": "2024-07-06T19:24:17.312994Z"
    },
    "papermill": {
     "duration": 0.021815,
     "end_time": "2024-07-06T19:24:17.315306",
     "exception": false,
     "start_time": "2024-07-06T19:24:17.293491",
     "status": "completed"
    },
    "tags": []
   },
   "outputs": [
    {
     "data": {
      "text/html": [
       "<div>\n",
       "<style scoped>\n",
       "    .dataframe tbody tr th:only-of-type {\n",
       "        vertical-align: middle;\n",
       "    }\n",
       "\n",
       "    .dataframe tbody tr th {\n",
       "        vertical-align: top;\n",
       "    }\n",
       "\n",
       "    .dataframe thead th {\n",
       "        text-align: right;\n",
       "    }\n",
       "</style>\n",
       "<table border=\"1\" class=\"dataframe\">\n",
       "  <thead>\n",
       "    <tr style=\"text-align: right;\">\n",
       "      <th></th>\n",
       "      <th>y_real</th>\n",
       "      <th>y_pred</th>\n",
       "      <th>error</th>\n",
       "    </tr>\n",
       "    <tr>\n",
       "      <th>ADDRESS</th>\n",
       "      <th></th>\n",
       "      <th></th>\n",
       "      <th></th>\n",
       "    </tr>\n",
       "  </thead>\n",
       "  <tbody>\n",
       "    <tr>\n",
       "      <th>117 Millbrook Avenue</th>\n",
       "      <td>305000</td>\n",
       "      <td>287306.988737</td>\n",
       "      <td>17693.011263</td>\n",
       "    </tr>\n",
       "    <tr>\n",
       "      <th>10 Yelka Way</th>\n",
       "      <td>460000</td>\n",
       "      <td>424269.757503</td>\n",
       "      <td>35730.242497</td>\n",
       "    </tr>\n",
       "    <tr>\n",
       "      <th>...</th>\n",
       "      <td>...</td>\n",
       "      <td>...</td>\n",
       "      <td>...</td>\n",
       "    </tr>\n",
       "    <tr>\n",
       "      <th>26 Keyham Street</th>\n",
       "      <td>400000</td>\n",
       "      <td>382523.037292</td>\n",
       "      <td>17476.962708</td>\n",
       "    </tr>\n",
       "    <tr>\n",
       "      <th>7 Millom Way</th>\n",
       "      <td>360000</td>\n",
       "      <td>288644.595117</td>\n",
       "      <td>71355.404883</td>\n",
       "    </tr>\n",
       "  </tbody>\n",
       "</table>\n",
       "<p>62 rows × 3 columns</p>\n",
       "</div>"
      ],
      "text/plain": [
       "                      y_real         y_pred         error\n",
       "ADDRESS                                                  \n",
       "117 Millbrook Avenue  305000  287306.988737  17693.011263\n",
       "10 Yelka Way          460000  424269.757503  35730.242497\n",
       "...                      ...            ...           ...\n",
       "26 Keyham Street      400000  382523.037292  17476.962708\n",
       "7 Millom Way          360000  288644.595117  71355.404883\n",
       "\n",
       "[62 rows x 3 columns]"
      ]
     },
     "execution_count": null,
     "metadata": {},
     "output_type": "execute_result"
    }
   ],
   "source": []
  },
  {
   "cell_type": "code",
   "execution_count": null,
   "id": "7a8ba3d8",
   "metadata": {
    "execution": {
     "iopub.execute_input": "2024-07-06T19:24:17.337546Z",
     "iopub.status.busy": "2024-07-06T19:24:17.337266Z",
     "iopub.status.idle": "2024-07-06T19:24:17.346878Z",
     "shell.execute_reply": "2024-07-06T19:24:17.346250Z"
    },
    "papermill": {
     "duration": 0.022562,
     "end_time": "2024-07-06T19:24:17.348784",
     "exception": false,
     "start_time": "2024-07-06T19:24:17.326222",
     "status": "completed"
    },
    "tags": []
   },
   "outputs": [
    {
     "data": {
      "text/html": [
       "<div>\n",
       "<style scoped>\n",
       "    .dataframe tbody tr th:only-of-type {\n",
       "        vertical-align: middle;\n",
       "    }\n",
       "\n",
       "    .dataframe tbody tr th {\n",
       "        vertical-align: top;\n",
       "    }\n",
       "\n",
       "    .dataframe thead th {\n",
       "        text-align: right;\n",
       "    }\n",
       "</style>\n",
       "<table border=\"1\" class=\"dataframe\">\n",
       "  <thead>\n",
       "    <tr style=\"text-align: right;\">\n",
       "      <th></th>\n",
       "      <th>y_real</th>\n",
       "      <th>y_pred</th>\n",
       "      <th>error</th>\n",
       "      <th>error2</th>\n",
       "    </tr>\n",
       "    <tr>\n",
       "      <th>ADDRESS</th>\n",
       "      <th></th>\n",
       "      <th></th>\n",
       "      <th></th>\n",
       "      <th></th>\n",
       "    </tr>\n",
       "  </thead>\n",
       "  <tbody>\n",
       "    <tr>\n",
       "      <th>117 Millbrook Avenue</th>\n",
       "      <td>305000</td>\n",
       "      <td>287306.988737</td>\n",
       "      <td>17693.011263</td>\n",
       "      <td>3.130426e+08</td>\n",
       "    </tr>\n",
       "    <tr>\n",
       "      <th>10 Yelka Way</th>\n",
       "      <td>460000</td>\n",
       "      <td>424269.757503</td>\n",
       "      <td>35730.242497</td>\n",
       "      <td>1.276650e+09</td>\n",
       "    </tr>\n",
       "    <tr>\n",
       "      <th>...</th>\n",
       "      <td>...</td>\n",
       "      <td>...</td>\n",
       "      <td>...</td>\n",
       "      <td>...</td>\n",
       "    </tr>\n",
       "    <tr>\n",
       "      <th>26 Keyham Street</th>\n",
       "      <td>400000</td>\n",
       "      <td>382523.037292</td>\n",
       "      <td>17476.962708</td>\n",
       "      <td>3.054442e+08</td>\n",
       "    </tr>\n",
       "    <tr>\n",
       "      <th>7 Millom Way</th>\n",
       "      <td>360000</td>\n",
       "      <td>288644.595117</td>\n",
       "      <td>71355.404883</td>\n",
       "      <td>5.091594e+09</td>\n",
       "    </tr>\n",
       "  </tbody>\n",
       "</table>\n",
       "<p>62 rows × 4 columns</p>\n",
       "</div>"
      ],
      "text/plain": [
       "                      y_real         y_pred         error        error2\n",
       "ADDRESS                                                                \n",
       "117 Millbrook Avenue  305000  287306.988737  17693.011263  3.130426e+08\n",
       "10 Yelka Way          460000  424269.757503  35730.242497  1.276650e+09\n",
       "...                      ...            ...           ...           ...\n",
       "26 Keyham Street      400000  382523.037292  17476.962708  3.054442e+08\n",
       "7 Millom Way          360000  288644.595117  71355.404883  5.091594e+09\n",
       "\n",
       "[62 rows x 4 columns]"
      ]
     },
     "execution_count": null,
     "metadata": {},
     "output_type": "execute_result"
    }
   ],
   "source": []
  },
  {
   "attachments": {},
   "cell_type": "markdown",
   "id": "7b015238",
   "metadata": {
    "papermill": {
     "duration": 0.021225,
     "end_time": "2024-07-06T19:24:17.381299",
     "exception": false,
     "start_time": "2024-07-06T19:24:17.360074",
     "status": "completed"
    },
    "tags": []
   },
   "source": [
    "### Metrics"
   ]
  },
  {
   "attachments": {},
   "cell_type": "markdown",
   "id": "02165719",
   "metadata": {
    "papermill": {
     "duration": 0.013426,
     "end_time": "2024-07-06T19:24:17.442036",
     "exception": false,
     "start_time": "2024-07-06T19:24:17.428610",
     "status": "completed"
    },
    "tags": []
   },
   "source": [
    "#### MSE: Mean Squared Error"
   ]
  },
  {
   "cell_type": "code",
   "execution_count": null,
   "id": "f84c8a64",
   "metadata": {
    "execution": {
     "iopub.execute_input": "2024-07-06T19:24:17.485323Z",
     "iopub.status.busy": "2024-07-06T19:24:17.484473Z",
     "iopub.status.idle": "2024-07-06T19:24:17.492506Z",
     "shell.execute_reply": "2024-07-06T19:24:17.491766Z"
    },
    "papermill": {
     "duration": 0.031631,
     "end_time": "2024-07-06T19:24:17.494627",
     "exception": false,
     "start_time": "2024-07-06T19:24:17.462996",
     "status": "completed"
    },
    "tags": []
   },
   "outputs": [
    {
     "data": {
      "text/plain": [
       "1164969171.5051455"
      ]
     },
     "execution_count": null,
     "metadata": {},
     "output_type": "execute_result"
    }
   ],
   "source": []
  },
  {
   "cell_type": "code",
   "execution_count": null,
   "id": "4f3cf78d",
   "metadata": {
    "execution": {
     "iopub.execute_input": "2024-07-06T19:24:17.530696Z",
     "iopub.status.busy": "2024-07-06T19:24:17.529326Z",
     "iopub.status.idle": "2024-07-06T19:24:17.537884Z",
     "shell.execute_reply": "2024-07-06T19:24:17.537080Z"
    },
    "papermill": {
     "duration": 0.028996,
     "end_time": "2024-07-06T19:24:17.539882",
     "exception": false,
     "start_time": "2024-07-06T19:24:17.510886",
     "status": "completed"
    },
    "tags": []
   },
   "outputs": [
    {
     "data": {
      "text/plain": [
       "1164969171.5051455"
      ]
     },
     "execution_count": null,
     "metadata": {},
     "output_type": "execute_result"
    }
   ],
   "source": []
  },
  {
   "attachments": {},
   "cell_type": "markdown",
   "id": "b1449b79",
   "metadata": {
    "papermill": {
     "duration": 0.022969,
     "end_time": "2024-07-06T19:24:17.583419",
     "exception": false,
     "start_time": "2024-07-06T19:24:17.560450",
     "status": "completed"
    },
    "tags": []
   },
   "source": [
    "#### RMSE: Root Mean Squared Error"
   ]
  },
  {
   "cell_type": "code",
   "execution_count": null,
   "id": "35b4d059",
   "metadata": {
    "execution": {
     "iopub.execute_input": "2024-07-06T19:24:17.620595Z",
     "iopub.status.busy": "2024-07-06T19:24:17.620147Z",
     "iopub.status.idle": "2024-07-06T19:24:17.626890Z",
     "shell.execute_reply": "2024-07-06T19:24:17.626039Z"
    },
    "papermill": {
     "duration": 0.028643,
     "end_time": "2024-07-06T19:24:17.629791",
     "exception": false,
     "start_time": "2024-07-06T19:24:17.601148",
     "status": "completed"
    },
    "tags": []
   },
   "outputs": [
    {
     "data": {
      "text/plain": [
       "34131.644723117955"
      ]
     },
     "execution_count": null,
     "metadata": {},
     "output_type": "execute_result"
    }
   ],
   "source": []
  },
  {
   "cell_type": "code",
   "execution_count": null,
   "id": "946ed112",
   "metadata": {
    "execution": {
     "iopub.execute_input": "2024-07-06T19:24:17.672631Z",
     "iopub.status.busy": "2024-07-06T19:24:17.672035Z",
     "iopub.status.idle": "2024-07-06T19:24:17.680168Z",
     "shell.execute_reply": "2024-07-06T19:24:17.679160Z"
    },
    "papermill": {
     "duration": 0.035825,
     "end_time": "2024-07-06T19:24:17.683681",
     "exception": false,
     "start_time": "2024-07-06T19:24:17.647856",
     "status": "completed"
    },
    "tags": []
   },
   "outputs": [
    {
     "data": {
      "text/plain": [
       "34131.644723117955"
      ]
     },
     "execution_count": null,
     "metadata": {},
     "output_type": "execute_result"
    }
   ],
   "source": []
  },
  {
   "attachments": {},
   "cell_type": "markdown",
   "id": "6baa1823",
   "metadata": {
    "papermill": {
     "duration": 0.014905,
     "end_time": "2024-07-06T19:24:17.719935",
     "exception": false,
     "start_time": "2024-07-06T19:24:17.705030",
     "status": "completed"
    },
    "tags": []
   },
   "source": [
    "#### R-Squared"
   ]
  },
  {
   "cell_type": "code",
   "execution_count": null,
   "id": "8a40e069",
   "metadata": {
    "execution": {
     "iopub.execute_input": "2024-07-06T19:24:17.745320Z",
     "iopub.status.busy": "2024-07-06T19:24:17.744952Z",
     "iopub.status.idle": "2024-07-06T19:24:17.752629Z",
     "shell.execute_reply": "2024-07-06T19:24:17.751874Z"
    },
    "papermill": {
     "duration": 0.022247,
     "end_time": "2024-07-06T19:24:17.754698",
     "exception": false,
     "start_time": "2024-07-06T19:24:17.732451",
     "status": "completed"
    },
    "tags": []
   },
   "outputs": [
    {
     "data": {
      "text/plain": [
       "ADDRESS\n",
       "117 Millbrook Avenue    6.147066e+09\n",
       "10 Yelka Way            5.867066e+09\n",
       "                            ...     \n",
       "26 Keyham Street        2.754529e+08\n",
       "7 Millom Way            5.477110e+08\n",
       "Name: Price, Length: 62, dtype: float64"
      ]
     },
     "execution_count": null,
     "metadata": {},
     "output_type": "execute_result"
    }
   ],
   "source": []
  },
  {
   "cell_type": "code",
   "execution_count": null,
   "id": "6fcea433",
   "metadata": {
    "execution": {
     "iopub.execute_input": "2024-07-06T19:24:17.783548Z",
     "iopub.status.busy": "2024-07-06T19:24:17.782508Z",
     "iopub.status.idle": "2024-07-06T19:24:17.789619Z",
     "shell.execute_reply": "2024-07-06T19:24:17.788965Z"
    },
    "papermill": {
     "duration": 0.02359,
     "end_time": "2024-07-06T19:24:17.791797",
     "exception": false,
     "start_time": "2024-07-06T19:24:17.768207",
     "status": "completed"
    },
    "tags": []
   },
   "outputs": [
    {
     "data": {
      "text/plain": [
       "3047119667.0135283"
      ]
     },
     "execution_count": null,
     "metadata": {},
     "output_type": "execute_result"
    }
   ],
   "source": []
  },
  {
   "cell_type": "code",
   "execution_count": null,
   "id": "b135a938",
   "metadata": {
    "execution": {
     "iopub.execute_input": "2024-07-06T19:24:17.817658Z",
     "iopub.status.busy": "2024-07-06T19:24:17.816774Z",
     "iopub.status.idle": "2024-07-06T19:24:17.822522Z",
     "shell.execute_reply": "2024-07-06T19:24:17.821893Z"
    },
    "papermill": {
     "duration": 0.021304,
     "end_time": "2024-07-06T19:24:17.824712",
     "exception": false,
     "start_time": "2024-07-06T19:24:17.803408",
     "status": "completed"
    },
    "tags": []
   },
   "outputs": [
    {
     "data": {
      "text/plain": [
       "0.38231815577066847"
      ]
     },
     "execution_count": null,
     "metadata": {},
     "output_type": "execute_result"
    }
   ],
   "source": []
  },
  {
   "cell_type": "code",
   "execution_count": null,
   "id": "3f46b2e8",
   "metadata": {
    "execution": {
     "iopub.execute_input": "2024-07-06T19:24:17.854682Z",
     "iopub.status.busy": "2024-07-06T19:24:17.854144Z",
     "iopub.status.idle": "2024-07-06T19:24:17.859147Z",
     "shell.execute_reply": "2024-07-06T19:24:17.858599Z"
    },
    "papermill": {
     "duration": 0.021821,
     "end_time": "2024-07-06T19:24:17.861174",
     "exception": false,
     "start_time": "2024-07-06T19:24:17.839353",
     "status": "completed"
    },
    "tags": []
   },
   "outputs": [
    {
     "data": {
      "text/plain": [
       "0.6176818442293315"
      ]
     },
     "execution_count": null,
     "metadata": {},
     "output_type": "execute_result"
    }
   ],
   "source": []
  },
  {
   "cell_type": "code",
   "execution_count": null,
   "id": "b2c68c28",
   "metadata": {
    "execution": {
     "iopub.execute_input": "2024-07-06T19:24:17.893650Z",
     "iopub.status.busy": "2024-07-06T19:24:17.893353Z",
     "iopub.status.idle": "2024-07-06T19:24:17.901559Z",
     "shell.execute_reply": "2024-07-06T19:24:17.899306Z"
    },
    "papermill": {
     "duration": 0.027311,
     "end_time": "2024-07-06T19:24:17.903393",
     "exception": false,
     "start_time": "2024-07-06T19:24:17.876082",
     "status": "completed"
    },
    "tags": []
   },
   "outputs": [
    {
     "data": {
      "text/plain": [
       "0.6176818442293315"
      ]
     },
     "execution_count": null,
     "metadata": {},
     "output_type": "execute_result"
    }
   ],
   "source": []
  },
  {
   "attachments": {},
   "cell_type": "markdown",
   "id": "887bbe7a",
   "metadata": {
    "papermill": {
     "duration": 0.012584,
     "end_time": "2024-07-06T19:24:17.926886",
     "exception": false,
     "start_time": "2024-07-06T19:24:17.914302",
     "status": "completed"
    },
    "tags": []
   },
   "source": [
    "#### MAE: Mean Absolute Error"
   ]
  },
  {
   "cell_type": "code",
   "execution_count": null,
   "id": "36eea7ae",
   "metadata": {
    "execution": {
     "iopub.execute_input": "2024-07-06T19:24:17.961981Z",
     "iopub.status.busy": "2024-07-06T19:24:17.961643Z",
     "iopub.status.idle": "2024-07-06T19:24:17.968766Z",
     "shell.execute_reply": "2024-07-06T19:24:17.966357Z"
    },
    "papermill": {
     "duration": 0.032354,
     "end_time": "2024-07-06T19:24:17.970954",
     "exception": false,
     "start_time": "2024-07-06T19:24:17.938600",
     "status": "completed"
    },
    "tags": []
   },
   "outputs": [
    {
     "data": {
      "text/plain": [
       "25889.866006540404"
      ]
     },
     "execution_count": null,
     "metadata": {},
     "output_type": "execute_result"
    }
   ],
   "source": []
  },
  {
   "cell_type": "code",
   "execution_count": null,
   "id": "a73f6b1d",
   "metadata": {
    "execution": {
     "iopub.execute_input": "2024-07-06T19:24:18.006000Z",
     "iopub.status.busy": "2024-07-06T19:24:18.005358Z",
     "iopub.status.idle": "2024-07-06T19:24:18.040805Z",
     "shell.execute_reply": "2024-07-06T19:24:18.036382Z"
    },
    "papermill": {
     "duration": 0.059945,
     "end_time": "2024-07-06T19:24:18.044246",
     "exception": false,
     "start_time": "2024-07-06T19:24:17.984301",
     "status": "completed"
    },
    "tags": []
   },
   "outputs": [
    {
     "data": {
      "text/plain": [
       "25889.866006540404"
      ]
     },
     "execution_count": null,
     "metadata": {},
     "output_type": "execute_result"
    }
   ],
   "source": []
  },
  {
   "attachments": {},
   "cell_type": "markdown",
   "id": "e01a739a-2cbb-44be-b4f8-45193c53af03",
   "metadata": {
    "papermill": {
     "duration": 0.031575,
     "end_time": "2024-07-06T19:24:18.093394",
     "exception": false,
     "start_time": "2024-07-06T19:24:18.061819",
     "status": "completed"
    },
    "tags": []
   },
   "source": [
    "## Classifiers"
   ]
  },
  {
   "attachments": {},
   "cell_type": "markdown",
   "id": "8c6c58b8-11f8-4549-922d-7c0fbe4b7a9d",
   "metadata": {
    "papermill": {
     "duration": 0.034834,
     "end_time": "2024-07-06T19:24:18.146542",
     "exception": false,
     "start_time": "2024-07-06T19:24:18.111708",
     "status": "completed"
    },
    "tags": []
   },
   "source": [
    "### Load data"
   ]
  },
  {
   "cell_type": "code",
   "execution_count": null,
   "id": "300a735b-4ad0-44f0-b7c8-8370323ed453",
   "metadata": {
    "execution": {
     "iopub.execute_input": "2024-07-06T19:24:18.198935Z",
     "iopub.status.busy": "2024-07-06T19:24:18.197817Z",
     "iopub.status.idle": "2024-07-06T19:24:18.227596Z",
     "shell.execute_reply": "2024-07-06T19:24:18.220604Z"
    },
    "papermill": {
     "duration": 0.178469,
     "end_time": "2024-07-06T19:24:18.338980",
     "exception": false,
     "start_time": "2024-07-06T19:24:18.160511",
     "status": "completed"
    },
    "tags": []
   },
   "outputs": [
    {
     "data": {
      "text/html": [
       "<div>\n",
       "<style scoped>\n",
       "    .dataframe tbody tr th:only-of-type {\n",
       "        vertical-align: middle;\n",
       "    }\n",
       "\n",
       "    .dataframe tbody tr th {\n",
       "        vertical-align: top;\n",
       "    }\n",
       "\n",
       "    .dataframe thead th {\n",
       "        text-align: right;\n",
       "    }\n",
       "</style>\n",
       "<table border=\"1\" class=\"dataframe\">\n",
       "  <thead>\n",
       "    <tr style=\"text-align: right;\">\n",
       "      <th></th>\n",
       "      <th>Gender</th>\n",
       "      <th>Age</th>\n",
       "      <th>Married</th>\n",
       "      <th>YearsEmployed</th>\n",
       "      <th>Income</th>\n",
       "      <th>Approved</th>\n",
       "    </tr>\n",
       "  </thead>\n",
       "  <tbody>\n",
       "    <tr>\n",
       "      <th>0</th>\n",
       "      <td>1</td>\n",
       "      <td>30</td>\n",
       "      <td>1</td>\n",
       "      <td>1.25</td>\n",
       "      <td>0.000000</td>\n",
       "      <td>1</td>\n",
       "    </tr>\n",
       "    <tr>\n",
       "      <th>1</th>\n",
       "      <td>0</td>\n",
       "      <td>58</td>\n",
       "      <td>1</td>\n",
       "      <td>3.04</td>\n",
       "      <td>632.793678</td>\n",
       "      <td>1</td>\n",
       "    </tr>\n",
       "    <tr>\n",
       "      <th>...</th>\n",
       "      <td>...</td>\n",
       "      <td>...</td>\n",
       "      <td>...</td>\n",
       "      <td>...</td>\n",
       "      <td>...</td>\n",
       "      <td>...</td>\n",
       "    </tr>\n",
       "    <tr>\n",
       "      <th>687</th>\n",
       "      <td>1</td>\n",
       "      <td>17</td>\n",
       "      <td>1</td>\n",
       "      <td>0.04</td>\n",
       "      <td>662.007321</td>\n",
       "      <td>0</td>\n",
       "    </tr>\n",
       "    <tr>\n",
       "      <th>688</th>\n",
       "      <td>1</td>\n",
       "      <td>35</td>\n",
       "      <td>1</td>\n",
       "      <td>8.29</td>\n",
       "      <td>0.000000</td>\n",
       "      <td>0</td>\n",
       "    </tr>\n",
       "  </tbody>\n",
       "</table>\n",
       "<p>689 rows × 6 columns</p>\n",
       "</div>"
      ],
      "text/plain": [
       "     Gender  Age  Married  YearsEmployed      Income  Approved\n",
       "0         1   30        1           1.25    0.000000         1\n",
       "1         0   58        1           3.04  632.793678         1\n",
       "..      ...  ...      ...            ...         ...       ...\n",
       "687       1   17        1           0.04  662.007321         0\n",
       "688       1   35        1           8.29    0.000000         0\n",
       "\n",
       "[689 rows x 6 columns]"
      ]
     },
     "execution_count": null,
     "metadata": {},
     "output_type": "execute_result"
    }
   ],
   "source": []
  },
  {
   "attachments": {},
   "cell_type": "markdown",
   "id": "8cd155e0-255d-4df0-8cc6-45cbeb2d9769",
   "metadata": {
    "papermill": {
     "duration": 0.041004,
     "end_time": "2024-07-06T19:24:18.401042",
     "exception": false,
     "start_time": "2024-07-06T19:24:18.360038",
     "status": "completed"
    },
    "tags": []
   },
   "source": [
    "### Feature selection"
   ]
  },
  {
   "cell_type": "code",
   "execution_count": null,
   "id": "612a5622-f0ed-44f6-9718-9c4b9d2102c8",
   "metadata": {
    "execution": {
     "iopub.execute_input": "2024-07-06T19:24:18.445343Z",
     "iopub.status.busy": "2024-07-06T19:24:18.444520Z",
     "iopub.status.idle": "2024-07-06T19:24:18.453748Z",
     "shell.execute_reply": "2024-07-06T19:24:18.449909Z"
    },
    "papermill": {
     "duration": 0.035576,
     "end_time": "2024-07-06T19:24:18.456552",
     "exception": false,
     "start_time": "2024-07-06T19:24:18.420976",
     "status": "completed"
    },
    "tags": []
   },
   "outputs": [],
   "source": []
  },
  {
   "attachments": {},
   "cell_type": "markdown",
   "id": "136d2335-714c-48b5-b3d5-a9994e3ba501",
   "metadata": {
    "papermill": {
     "duration": 0.019132,
     "end_time": "2024-07-06T19:24:18.499431",
     "exception": false,
     "start_time": "2024-07-06T19:24:18.480299",
     "status": "completed"
    },
    "tags": []
   },
   "source": [
    "### Train test split"
   ]
  },
  {
   "cell_type": "code",
   "execution_count": null,
   "id": "3cff644c-fb8c-4a11-b4a2-6fb9e525e956",
   "metadata": {
    "execution": {
     "iopub.execute_input": "2024-07-06T19:24:18.530576Z",
     "iopub.status.busy": "2024-07-06T19:24:18.530271Z",
     "iopub.status.idle": "2024-07-06T19:24:18.537287Z",
     "shell.execute_reply": "2024-07-06T19:24:18.536532Z"
    },
    "papermill": {
     "duration": 0.024574,
     "end_time": "2024-07-06T19:24:18.539315",
     "exception": false,
     "start_time": "2024-07-06T19:24:18.514741",
     "status": "completed"
    },
    "tags": []
   },
   "outputs": [],
   "source": []
  },
  {
   "attachments": {},
   "cell_type": "markdown",
   "id": "550aae1d-5525-4a5a-9158-f7f50ffc3021",
   "metadata": {
    "papermill": {
     "duration": 0.036843,
     "end_time": "2024-07-06T19:24:18.593686",
     "exception": false,
     "start_time": "2024-07-06T19:24:18.556843",
     "status": "completed"
    },
    "tags": []
   },
   "source": [
    "### Modelling"
   ]
  },
  {
   "cell_type": "code",
   "execution_count": null,
   "id": "81342534-6128-4538-81c4-b4aa7436862a",
   "metadata": {
    "execution": {
     "iopub.execute_input": "2024-07-06T19:24:18.695904Z",
     "iopub.status.busy": "2024-07-06T19:24:18.693092Z",
     "iopub.status.idle": "2024-07-06T19:24:18.968870Z",
     "shell.execute_reply": "2024-07-06T19:24:18.967891Z"
    },
    "papermill": {
     "duration": 0.34035,
     "end_time": "2024-07-06T19:24:18.971089",
     "exception": false,
     "start_time": "2024-07-06T19:24:18.630739",
     "status": "completed"
    },
    "tags": []
   },
   "outputs": [
    {
     "data": {
      "text/html": [
       "<style>#sk-container-id-2 {color: black;}#sk-container-id-2 pre{padding: 0;}#sk-container-id-2 div.sk-toggleable {background-color: white;}#sk-container-id-2 label.sk-toggleable__label {cursor: pointer;display: block;width: 100%;margin-bottom: 0;padding: 0.3em;box-sizing: border-box;text-align: center;}#sk-container-id-2 label.sk-toggleable__label-arrow:before {content: \"▸\";float: left;margin-right: 0.25em;color: #696969;}#sk-container-id-2 label.sk-toggleable__label-arrow:hover:before {color: black;}#sk-container-id-2 div.sk-estimator:hover label.sk-toggleable__label-arrow:before {color: black;}#sk-container-id-2 div.sk-toggleable__content {max-height: 0;max-width: 0;overflow: hidden;text-align: left;background-color: #f0f8ff;}#sk-container-id-2 div.sk-toggleable__content pre {margin: 0.2em;color: black;border-radius: 0.25em;background-color: #f0f8ff;}#sk-container-id-2 input.sk-toggleable__control:checked~div.sk-toggleable__content {max-height: 200px;max-width: 100%;overflow: auto;}#sk-container-id-2 input.sk-toggleable__control:checked~label.sk-toggleable__label-arrow:before {content: \"▾\";}#sk-container-id-2 div.sk-estimator input.sk-toggleable__control:checked~label.sk-toggleable__label {background-color: #d4ebff;}#sk-container-id-2 div.sk-label input.sk-toggleable__control:checked~label.sk-toggleable__label {background-color: #d4ebff;}#sk-container-id-2 input.sk-hidden--visually {border: 0;clip: rect(1px 1px 1px 1px);clip: rect(1px, 1px, 1px, 1px);height: 1px;margin: -1px;overflow: hidden;padding: 0;position: absolute;width: 1px;}#sk-container-id-2 div.sk-estimator {font-family: monospace;background-color: #f0f8ff;border: 1px dotted black;border-radius: 0.25em;box-sizing: border-box;margin-bottom: 0.5em;}#sk-container-id-2 div.sk-estimator:hover {background-color: #d4ebff;}#sk-container-id-2 div.sk-parallel-item::after {content: \"\";width: 100%;border-bottom: 1px solid gray;flex-grow: 1;}#sk-container-id-2 div.sk-label:hover label.sk-toggleable__label {background-color: #d4ebff;}#sk-container-id-2 div.sk-serial::before {content: \"\";position: absolute;border-left: 1px solid gray;box-sizing: border-box;top: 0;bottom: 0;left: 50%;z-index: 0;}#sk-container-id-2 div.sk-serial {display: flex;flex-direction: column;align-items: center;background-color: white;padding-right: 0.2em;padding-left: 0.2em;position: relative;}#sk-container-id-2 div.sk-item {position: relative;z-index: 1;}#sk-container-id-2 div.sk-parallel {display: flex;align-items: stretch;justify-content: center;background-color: white;position: relative;}#sk-container-id-2 div.sk-item::before, #sk-container-id-2 div.sk-parallel-item::before {content: \"\";position: absolute;border-left: 1px solid gray;box-sizing: border-box;top: 0;bottom: 0;left: 50%;z-index: -1;}#sk-container-id-2 div.sk-parallel-item {display: flex;flex-direction: column;z-index: 1;position: relative;background-color: white;}#sk-container-id-2 div.sk-parallel-item:first-child::after {align-self: flex-end;width: 50%;}#sk-container-id-2 div.sk-parallel-item:last-child::after {align-self: flex-start;width: 50%;}#sk-container-id-2 div.sk-parallel-item:only-child::after {width: 0;}#sk-container-id-2 div.sk-dashed-wrapped {border: 1px dashed gray;margin: 0 0.4em 0.5em 0.4em;box-sizing: border-box;padding-bottom: 0.4em;background-color: white;}#sk-container-id-2 div.sk-label label {font-family: monospace;font-weight: bold;display: inline-block;line-height: 1.2em;}#sk-container-id-2 div.sk-label-container {text-align: center;}#sk-container-id-2 div.sk-container {/* jupyter's `normalize.less` sets `[hidden] { display: none; }` but bootstrap.min.css set `[hidden] { display: none !important; }` so we also need the `!important` here to be able to override the default hidden behavior on the sphinx rendered scikit-learn.org. See: https://github.com/scikit-learn/scikit-learn/issues/21755 */display: inline-block !important;position: relative;}#sk-container-id-2 div.sk-text-repr-fallback {display: none;}</style><div id=\"sk-container-id-2\" class=\"sk-top-container\"><div class=\"sk-text-repr-fallback\"><pre>DecisionTreeClassifier(max_depth=3, min_samples_leaf=100)</pre><b>In a Jupyter environment, please rerun this cell to show the HTML representation or trust the notebook. <br />On GitHub, the HTML representation is unable to render, please try loading this page with nbviewer.org.</b></div><div class=\"sk-container\" hidden><div class=\"sk-item\"><div class=\"sk-estimator sk-toggleable\"><input class=\"sk-toggleable__control sk-hidden--visually\" id=\"sk-estimator-id-2\" type=\"checkbox\" checked><label for=\"sk-estimator-id-2\" class=\"sk-toggleable__label sk-toggleable__label-arrow\">DecisionTreeClassifier</label><div class=\"sk-toggleable__content\"><pre>DecisionTreeClassifier(max_depth=3, min_samples_leaf=100)</pre></div></div></div></div></div>"
      ],
      "text/plain": [
       "DecisionTreeClassifier(max_depth=3, min_samples_leaf=100)"
      ]
     },
     "execution_count": null,
     "metadata": {},
     "output_type": "execute_result"
    }
   ],
   "source": []
  },
  {
   "attachments": {},
   "cell_type": "markdown",
   "id": "bf2722cf-d95f-423e-9bfe-bb126fe0ac6f",
   "metadata": {
    "papermill": {
     "duration": 0.02902,
     "end_time": "2024-07-06T19:24:19.019592",
     "exception": false,
     "start_time": "2024-07-06T19:24:18.990572",
     "status": "completed"
    },
    "tags": []
   },
   "source": [
    "### Predictions"
   ]
  },
  {
   "cell_type": "code",
   "execution_count": null,
   "id": "51613c4b-8ff8-42ca-912f-2e60bcb79e04",
   "metadata": {
    "execution": {
     "iopub.execute_input": "2024-07-06T19:24:19.084668Z",
     "iopub.status.busy": "2024-07-06T19:24:19.083438Z",
     "iopub.status.idle": "2024-07-06T19:24:19.095291Z",
     "shell.execute_reply": "2024-07-06T19:24:19.093808Z"
    },
    "papermill": {
     "duration": 0.043939,
     "end_time": "2024-07-06T19:24:19.097743",
     "exception": false,
     "start_time": "2024-07-06T19:24:19.053804",
     "status": "completed"
    },
    "tags": []
   },
   "outputs": [
    {
     "data": {
      "text/plain": [
       "array([[0.63      , 0.37      ],\n",
       "       [0.50442478, 0.49557522],\n",
       "       [0.81437126, 0.18562874],\n",
       "       [0.81437126, 0.18562874],\n",
       "       [0.14705882, 0.85294118]])"
      ]
     },
     "execution_count": null,
     "metadata": {},
     "output_type": "execute_result"
    }
   ],
   "source": []
  },
  {
   "cell_type": "code",
   "execution_count": null,
   "id": "5545641a-fdba-40d9-bfeb-28c659857c4a",
   "metadata": {
    "execution": {
     "iopub.execute_input": "2024-07-06T19:24:19.162123Z",
     "iopub.status.busy": "2024-07-06T19:24:19.161298Z",
     "iopub.status.idle": "2024-07-06T19:24:19.172172Z",
     "shell.execute_reply": "2024-07-06T19:24:19.171291Z"
    },
    "papermill": {
     "duration": 0.052166,
     "end_time": "2024-07-06T19:24:19.175201",
     "exception": false,
     "start_time": "2024-07-06T19:24:19.123035",
     "status": "completed"
    },
    "tags": []
   },
   "outputs": [
    {
     "data": {
      "text/plain": [
       "array([0.37      , 0.49557522, 0.18562874, 0.18562874, 0.85294118,\n",
       "       0.49557522, 0.18562874, 0.49557522, 0.85294118, 0.49557522,\n",
       "       0.37      , 0.85294118, 0.18562874, 0.49557522, 0.18562874,\n",
       "       0.37      , 0.18562874, 0.37      , 0.37      , 0.37      ,\n",
       "       0.18562874, 0.37      , 0.18562874, 0.37      , 0.18562874,\n",
       "       0.49557522, 0.85294118, 0.49557522, 0.49557522, 0.37      ,\n",
       "       0.85294118, 0.85294118, 0.37      , 0.18562874, 0.18562874,\n",
       "       0.85294118, 0.85294118, 0.37      , 0.85294118, 0.85294118,\n",
       "       0.18562874, 0.49557522, 0.18562874, 0.37      , 0.85294118,\n",
       "       0.85294118, 0.37      , 0.18562874, 0.18562874, 0.18562874,\n",
       "       0.18562874, 0.49557522, 0.18562874, 0.49557522, 0.49557522,\n",
       "       0.85294118, 0.85294118, 0.18562874, 0.18562874, 0.18562874,\n",
       "       0.49557522, 0.49557522, 0.18562874, 0.18562874, 0.18562874,\n",
       "       0.37      , 0.49557522, 0.37      , 0.49557522, 0.18562874,\n",
       "       0.49557522, 0.85294118, 0.85294118, 0.49557522, 0.18562874,\n",
       "       0.49557522, 0.49557522, 0.18562874, 0.37      , 0.18562874,\n",
       "       0.37      , 0.18562874, 0.18562874, 0.49557522, 0.85294118,\n",
       "       0.37      , 0.49557522, 0.85294118, 0.49557522, 0.85294118,\n",
       "       0.49557522, 0.18562874, 0.49557522, 0.37      , 0.49557522,\n",
       "       0.18562874, 0.85294118, 0.37      , 0.18562874, 0.18562874,\n",
       "       0.49557522, 0.37      , 0.85294118, 0.18562874, 0.85294118,\n",
       "       0.37      , 0.18562874, 0.85294118, 0.18562874, 0.85294118,\n",
       "       0.18562874, 0.85294118, 0.85294118, 0.49557522, 0.18562874,\n",
       "       0.49557522, 0.85294118, 0.37      , 0.37      , 0.85294118,\n",
       "       0.37      , 0.18562874, 0.85294118, 0.85294118, 0.85294118,\n",
       "       0.18562874, 0.18562874, 0.49557522, 0.49557522, 0.85294118,\n",
       "       0.49557522, 0.49557522, 0.18562874, 0.18562874, 0.85294118,\n",
       "       0.18562874, 0.49557522, 0.18562874, 0.18562874, 0.49557522,\n",
       "       0.18562874, 0.49557522, 0.49557522, 0.85294118, 0.18562874,\n",
       "       0.37      , 0.18562874, 0.49557522, 0.18562874, 0.18562874,\n",
       "       0.37      , 0.85294118, 0.49557522, 0.85294118, 0.49557522,\n",
       "       0.49557522, 0.85294118, 0.18562874, 0.18562874, 0.85294118,\n",
       "       0.37      , 0.37      , 0.49557522, 0.37      , 0.37      ,\n",
       "       0.37      , 0.18562874, 0.85294118, 0.18562874, 0.49557522,\n",
       "       0.49557522, 0.18562874, 0.49557522, 0.37      , 0.18562874,\n",
       "       0.18562874, 0.18562874, 0.18562874, 0.37      , 0.18562874,\n",
       "       0.49557522, 0.49557522, 0.85294118, 0.85294118, 0.85294118,\n",
       "       0.49557522, 0.49557522, 0.37      , 0.18562874, 0.85294118,\n",
       "       0.18562874, 0.49557522, 0.49557522, 0.37      , 0.37      ,\n",
       "       0.18562874, 0.49557522, 0.49557522, 0.37      , 0.49557522,\n",
       "       0.37      , 0.85294118, 0.49557522, 0.85294118, 0.85294118,\n",
       "       0.37      , 0.85294118])"
      ]
     },
     "execution_count": null,
     "metadata": {},
     "output_type": "execute_result"
    }
   ],
   "source": []
  },
  {
   "cell_type": "code",
   "execution_count": null,
   "id": "fdcc7058-654a-49c8-937a-6ef8b77009de",
   "metadata": {
    "execution": {
     "iopub.execute_input": "2024-07-06T19:24:19.219930Z",
     "iopub.status.busy": "2024-07-06T19:24:19.219476Z",
     "iopub.status.idle": "2024-07-06T19:24:19.226788Z",
     "shell.execute_reply": "2024-07-06T19:24:19.225626Z"
    },
    "papermill": {
     "duration": 0.032283,
     "end_time": "2024-07-06T19:24:19.229772",
     "exception": false,
     "start_time": "2024-07-06T19:24:19.197489",
     "status": "completed"
    },
    "tags": []
   },
   "outputs": [
    {
     "data": {
      "text/plain": [
       "array([0, 0, 0, 0, 1, 0, 0, 0, 1, 0, 0, 1, 0, 0, 0, 0, 0, 0, 0, 0, 0, 0,\n",
       "       0, 0, 0, 0, 1, 0, 0, 0, 1, 1, 0, 0, 0, 1, 1, 0, 1, 1, 0, 0, 0, 0,\n",
       "       1, 1, 0, 0, 0, 0, 0, 0, 0, 0, 0, 1, 1, 0, 0, 0, 0, 0, 0, 0, 0, 0,\n",
       "       0, 0, 0, 0, 0, 1, 1, 0, 0, 0, 0, 0, 0, 0, 0, 0, 0, 0, 1, 0, 0, 1,\n",
       "       0, 1, 0, 0, 0, 0, 0, 0, 1, 0, 0, 0, 0, 0, 1, 0, 1, 0, 0, 1, 0, 1,\n",
       "       0, 1, 1, 0, 0, 0, 1, 0, 0, 1, 0, 0, 1, 1, 1, 0, 0, 0, 0, 1, 0, 0,\n",
       "       0, 0, 1, 0, 0, 0, 0, 0, 0, 0, 0, 1, 0, 0, 0, 0, 0, 0, 0, 1, 0, 1,\n",
       "       0, 0, 1, 0, 0, 1, 0, 0, 0, 0, 0, 0, 0, 1, 0, 0, 0, 0, 0, 0, 0, 0,\n",
       "       0, 0, 0, 0, 0, 0, 1, 1, 1, 0, 0, 0, 0, 1, 0, 0, 0, 0, 0, 0, 0, 0,\n",
       "       0, 0, 0, 1, 0, 1, 1, 0, 1])"
      ]
     },
     "execution_count": null,
     "metadata": {},
     "output_type": "execute_result"
    }
   ],
   "source": []
  },
  {
   "cell_type": "code",
   "execution_count": null,
   "id": "7c1c8b21-023b-483b-a4ff-ae8b42da6b79",
   "metadata": {
    "execution": {
     "iopub.execute_input": "2024-07-06T19:24:19.264874Z",
     "iopub.status.busy": "2024-07-06T19:24:19.264467Z",
     "iopub.status.idle": "2024-07-06T19:24:19.278483Z",
     "shell.execute_reply": "2024-07-06T19:24:19.277006Z"
    },
    "papermill": {
     "duration": 0.034517,
     "end_time": "2024-07-06T19:24:19.281977",
     "exception": false,
     "start_time": "2024-07-06T19:24:19.247460",
     "status": "completed"
    },
    "tags": []
   },
   "outputs": [
    {
     "data": {
      "text/html": [
       "<div>\n",
       "<style scoped>\n",
       "    .dataframe tbody tr th:only-of-type {\n",
       "        vertical-align: middle;\n",
       "    }\n",
       "\n",
       "    .dataframe tbody tr th {\n",
       "        vertical-align: top;\n",
       "    }\n",
       "\n",
       "    .dataframe thead th {\n",
       "        text-align: right;\n",
       "    }\n",
       "</style>\n",
       "<table border=\"1\" class=\"dataframe\">\n",
       "  <thead>\n",
       "    <tr style=\"text-align: right;\">\n",
       "      <th></th>\n",
       "      <th>y_real</th>\n",
       "      <th>y_pred_proba</th>\n",
       "      <th>y_pred</th>\n",
       "    </tr>\n",
       "  </thead>\n",
       "  <tbody>\n",
       "    <tr>\n",
       "      <th>286</th>\n",
       "      <td>0</td>\n",
       "      <td>0.370000</td>\n",
       "      <td>0</td>\n",
       "    </tr>\n",
       "    <tr>\n",
       "      <th>655</th>\n",
       "      <td>0</td>\n",
       "      <td>0.495575</td>\n",
       "      <td>0</td>\n",
       "    </tr>\n",
       "    <tr>\n",
       "      <th>...</th>\n",
       "      <td>...</td>\n",
       "      <td>...</td>\n",
       "      <td>...</td>\n",
       "    </tr>\n",
       "    <tr>\n",
       "      <th>677</th>\n",
       "      <td>0</td>\n",
       "      <td>0.370000</td>\n",
       "      <td>0</td>\n",
       "    </tr>\n",
       "    <tr>\n",
       "      <th>558</th>\n",
       "      <td>1</td>\n",
       "      <td>0.852941</td>\n",
       "      <td>1</td>\n",
       "    </tr>\n",
       "  </tbody>\n",
       "</table>\n",
       "<p>207 rows × 3 columns</p>\n",
       "</div>"
      ],
      "text/plain": [
       "     y_real  y_pred_proba  y_pred\n",
       "286       0      0.370000       0\n",
       "655       0      0.495575       0\n",
       "..      ...           ...     ...\n",
       "677       0      0.370000       0\n",
       "558       1      0.852941       1\n",
       "\n",
       "[207 rows x 3 columns]"
      ]
     },
     "execution_count": null,
     "metadata": {},
     "output_type": "execute_result"
    }
   ],
   "source": []
  },
  {
   "cell_type": "code",
   "execution_count": null,
   "id": "17f76a30-0f24-4103-9b05-579845f02e39",
   "metadata": {
    "execution": {
     "iopub.execute_input": "2024-07-06T19:24:19.341896Z",
     "iopub.status.busy": "2024-07-06T19:24:19.340891Z",
     "iopub.status.idle": "2024-07-06T19:24:19.352682Z",
     "shell.execute_reply": "2024-07-06T19:24:19.351794Z"
    },
    "papermill": {
     "duration": 0.046956,
     "end_time": "2024-07-06T19:24:19.358535",
     "exception": false,
     "start_time": "2024-07-06T19:24:19.311579",
     "status": "completed"
    },
    "tags": []
   },
   "outputs": [
    {
     "data": {
      "text/html": [
       "<div>\n",
       "<style scoped>\n",
       "    .dataframe tbody tr th:only-of-type {\n",
       "        vertical-align: middle;\n",
       "    }\n",
       "\n",
       "    .dataframe tbody tr th {\n",
       "        vertical-align: top;\n",
       "    }\n",
       "\n",
       "    .dataframe thead th {\n",
       "        text-align: right;\n",
       "    }\n",
       "</style>\n",
       "<table border=\"1\" class=\"dataframe\">\n",
       "  <thead>\n",
       "    <tr style=\"text-align: right;\">\n",
       "      <th></th>\n",
       "      <th>y_real</th>\n",
       "      <th>y_pred</th>\n",
       "    </tr>\n",
       "  </thead>\n",
       "  <tbody>\n",
       "    <tr>\n",
       "      <th>286</th>\n",
       "      <td>0</td>\n",
       "      <td>0</td>\n",
       "    </tr>\n",
       "    <tr>\n",
       "      <th>655</th>\n",
       "      <td>0</td>\n",
       "      <td>0</td>\n",
       "    </tr>\n",
       "    <tr>\n",
       "      <th>...</th>\n",
       "      <td>...</td>\n",
       "      <td>...</td>\n",
       "    </tr>\n",
       "    <tr>\n",
       "      <th>677</th>\n",
       "      <td>0</td>\n",
       "      <td>0</td>\n",
       "    </tr>\n",
       "    <tr>\n",
       "      <th>558</th>\n",
       "      <td>1</td>\n",
       "      <td>1</td>\n",
       "    </tr>\n",
       "  </tbody>\n",
       "</table>\n",
       "<p>207 rows × 2 columns</p>\n",
       "</div>"
      ],
      "text/plain": [
       "     y_real  y_pred\n",
       "286       0       0\n",
       "655       0       0\n",
       "..      ...     ...\n",
       "677       0       0\n",
       "558       1       1\n",
       "\n",
       "[207 rows x 2 columns]"
      ]
     },
     "execution_count": null,
     "metadata": {},
     "output_type": "execute_result"
    }
   ],
   "source": []
  },
  {
   "cell_type": "code",
   "execution_count": null,
   "id": "005ca92a-675d-459b-aa4d-4f1756611468",
   "metadata": {
    "execution": {
     "iopub.execute_input": "2024-07-06T19:24:19.420332Z",
     "iopub.status.busy": "2024-07-06T19:24:19.420038Z",
     "iopub.status.idle": "2024-07-06T19:24:19.433635Z",
     "shell.execute_reply": "2024-07-06T19:24:19.431980Z"
    },
    "papermill": {
     "duration": 0.039013,
     "end_time": "2024-07-06T19:24:19.437656",
     "exception": false,
     "start_time": "2024-07-06T19:24:19.398643",
     "status": "completed"
    },
    "tags": []
   },
   "outputs": [
    {
     "data": {
      "text/html": [
       "<div>\n",
       "<style scoped>\n",
       "    .dataframe tbody tr th:only-of-type {\n",
       "        vertical-align: middle;\n",
       "    }\n",
       "\n",
       "    .dataframe tbody tr th {\n",
       "        vertical-align: top;\n",
       "    }\n",
       "\n",
       "    .dataframe thead th {\n",
       "        text-align: right;\n",
       "    }\n",
       "</style>\n",
       "<table border=\"1\" class=\"dataframe\">\n",
       "  <thead>\n",
       "    <tr style=\"text-align: right;\">\n",
       "      <th></th>\n",
       "      <th>y_real</th>\n",
       "      <th>y_pred</th>\n",
       "      <th>comp</th>\n",
       "    </tr>\n",
       "  </thead>\n",
       "  <tbody>\n",
       "    <tr>\n",
       "      <th>286</th>\n",
       "      <td>0</td>\n",
       "      <td>0</td>\n",
       "      <td>True</td>\n",
       "    </tr>\n",
       "    <tr>\n",
       "      <th>655</th>\n",
       "      <td>0</td>\n",
       "      <td>0</td>\n",
       "      <td>True</td>\n",
       "    </tr>\n",
       "    <tr>\n",
       "      <th>...</th>\n",
       "      <td>...</td>\n",
       "      <td>...</td>\n",
       "      <td>...</td>\n",
       "    </tr>\n",
       "    <tr>\n",
       "      <th>677</th>\n",
       "      <td>0</td>\n",
       "      <td>0</td>\n",
       "      <td>True</td>\n",
       "    </tr>\n",
       "    <tr>\n",
       "      <th>558</th>\n",
       "      <td>1</td>\n",
       "      <td>1</td>\n",
       "      <td>True</td>\n",
       "    </tr>\n",
       "  </tbody>\n",
       "</table>\n",
       "<p>207 rows × 3 columns</p>\n",
       "</div>"
      ],
      "text/plain": [
       "     y_real  y_pred  comp\n",
       "286       0       0  True\n",
       "655       0       0  True\n",
       "..      ...     ...   ...\n",
       "677       0       0  True\n",
       "558       1       1  True\n",
       "\n",
       "[207 rows x 3 columns]"
      ]
     },
     "execution_count": null,
     "metadata": {},
     "output_type": "execute_result"
    }
   ],
   "source": []
  },
  {
   "attachments": {},
   "cell_type": "markdown",
   "id": "ba6c26e1-b83e-4713-89ea-a119780c5107",
   "metadata": {
    "papermill": {
     "duration": 0.030829,
     "end_time": "2024-07-06T19:24:19.491682",
     "exception": false,
     "start_time": "2024-07-06T19:24:19.460853",
     "status": "completed"
    },
    "tags": []
   },
   "source": [
    "### Metrics"
   ]
  },
  {
   "attachments": {},
   "cell_type": "markdown",
   "id": "f1232728-b91d-4d0b-aed8-86bf839d5f75",
   "metadata": {
    "papermill": {
     "duration": 0.028834,
     "end_time": "2024-07-06T19:24:19.553066",
     "exception": false,
     "start_time": "2024-07-06T19:24:19.524232",
     "status": "completed"
    },
    "tags": []
   },
   "source": [
    "#### Accuracy"
   ]
  },
  {
   "cell_type": "code",
   "execution_count": null,
   "id": "ab741f57-0a57-4786-958d-9d3132a3d2c8",
   "metadata": {
    "execution": {
     "iopub.execute_input": "2024-07-06T19:24:19.607826Z",
     "iopub.status.busy": "2024-07-06T19:24:19.607401Z",
     "iopub.status.idle": "2024-07-06T19:24:19.614551Z",
     "shell.execute_reply": "2024-07-06T19:24:19.613679Z"
    },
    "papermill": {
     "duration": 0.03999,
     "end_time": "2024-07-06T19:24:19.618452",
     "exception": false,
     "start_time": "2024-07-06T19:24:19.578462",
     "status": "completed"
    },
    "tags": []
   },
   "outputs": [
    {
     "data": {
      "text/plain": [
       "143"
      ]
     },
     "execution_count": null,
     "metadata": {},
     "output_type": "execute_result"
    }
   ],
   "source": []
  },
  {
   "cell_type": "code",
   "execution_count": null,
   "id": "0586cd70-06a5-4439-a332-b028a771fbe1",
   "metadata": {
    "execution": {
     "iopub.execute_input": "2024-07-06T19:24:19.657632Z",
     "iopub.status.busy": "2024-07-06T19:24:19.657161Z",
     "iopub.status.idle": "2024-07-06T19:24:19.663481Z",
     "shell.execute_reply": "2024-07-06T19:24:19.662636Z"
    },
    "papermill": {
     "duration": 0.029196,
     "end_time": "2024-07-06T19:24:19.666864",
     "exception": false,
     "start_time": "2024-07-06T19:24:19.637668",
     "status": "completed"
    },
    "tags": []
   },
   "outputs": [
    {
     "data": {
      "text/plain": [
       "207"
      ]
     },
     "execution_count": null,
     "metadata": {},
     "output_type": "execute_result"
    }
   ],
   "source": []
  },
  {
   "cell_type": "code",
   "execution_count": null,
   "id": "e99002da-c417-4278-8229-a29fb6ff05cc",
   "metadata": {
    "execution": {
     "iopub.execute_input": "2024-07-06T19:24:19.712262Z",
     "iopub.status.busy": "2024-07-06T19:24:19.711845Z",
     "iopub.status.idle": "2024-07-06T19:24:19.718456Z",
     "shell.execute_reply": "2024-07-06T19:24:19.717092Z"
    },
    "papermill": {
     "duration": 0.030836,
     "end_time": "2024-07-06T19:24:19.720634",
     "exception": false,
     "start_time": "2024-07-06T19:24:19.689798",
     "status": "completed"
    },
    "tags": []
   },
   "outputs": [
    {
     "data": {
      "text/plain": [
       "0.6908212560386473"
      ]
     },
     "execution_count": null,
     "metadata": {},
     "output_type": "execute_result"
    }
   ],
   "source": []
  },
  {
   "cell_type": "code",
   "execution_count": null,
   "id": "78888a04-7762-46cc-80fe-45661d5e65ca",
   "metadata": {
    "execution": {
     "iopub.execute_input": "2024-07-06T19:24:19.764661Z",
     "iopub.status.busy": "2024-07-06T19:24:19.764274Z",
     "iopub.status.idle": "2024-07-06T19:24:19.774125Z",
     "shell.execute_reply": "2024-07-06T19:24:19.773185Z"
    },
    "papermill": {
     "duration": 0.036473,
     "end_time": "2024-07-06T19:24:19.777001",
     "exception": false,
     "start_time": "2024-07-06T19:24:19.740528",
     "status": "completed"
    },
    "tags": []
   },
   "outputs": [
    {
     "data": {
      "text/plain": [
       "0.6908212560386473"
      ]
     },
     "execution_count": null,
     "metadata": {},
     "output_type": "execute_result"
    }
   ],
   "source": []
  },
  {
   "attachments": {},
   "cell_type": "markdown",
   "id": "a7e80b6c-6b72-48e3-9f97-7bc63262d52e",
   "metadata": {
    "papermill": {
     "duration": 0.037591,
     "end_time": "2024-07-06T19:24:19.859525",
     "exception": false,
     "start_time": "2024-07-06T19:24:19.821934",
     "status": "completed"
    },
    "tags": []
   },
   "source": [
    "#### Confusion matrix"
   ]
  },
  {
   "cell_type": "code",
   "execution_count": null,
   "id": "46db4584-76b7-4ab8-a461-0fb387215825",
   "metadata": {
    "execution": {
     "iopub.execute_input": "2024-07-06T19:24:19.926108Z",
     "iopub.status.busy": "2024-07-06T19:24:19.925771Z",
     "iopub.status.idle": "2024-07-06T19:24:21.159450Z",
     "shell.execute_reply": "2024-07-06T19:24:21.158874Z"
    },
    "papermill": {
     "duration": 1.276798,
     "end_time": "2024-07-06T19:24:21.161582",
     "exception": false,
     "start_time": "2024-07-06T19:24:19.884784",
     "status": "completed"
    },
    "tags": []
   },
   "outputs": [
    {
     "data": {
      "image/png": "[encoded data removed]",
      "text/plain": [
       "<Figure size 640x480 with 2 Axes>"
      ]
     },
     "execution_count": null,
     "metadata": {},
     "output_type": "display_data"
    }
   ],
   "source": []
  },
  {
   "attachments": {},
   "cell_type": "markdown",
   "id": "e91a3527-4da1-4944-a68a-a949b9c0ed59",
   "metadata": {
    "papermill": {
     "duration": 0.019519,
     "end_time": "2024-07-06T19:24:21.199304",
     "exception": false,
     "start_time": "2024-07-06T19:24:21.179785",
     "status": "completed"
    },
    "tags": []
   },
   "source": [
    "#### Classification report"
   ]
  },
  {
   "cell_type": "code",
   "execution_count": null,
   "id": "bc9d951d-b365-48c6-8b99-e711d0d0737b",
   "metadata": {
    "execution": {
     "iopub.execute_input": "2024-07-06T19:24:21.242125Z",
     "iopub.status.busy": "2024-07-06T19:24:21.241608Z",
     "iopub.status.idle": "2024-07-06T19:24:21.273151Z",
     "shell.execute_reply": "2024-07-06T19:24:21.265443Z"
    },
    "papermill": {
     "duration": 0.060865,
     "end_time": "2024-07-06T19:24:21.282408",
     "exception": false,
     "start_time": "2024-07-06T19:24:21.221543",
     "status": "completed"
    },
    "tags": []
   },
   "outputs": [
    {
     "data": {
      "text/html": [
       "<div>\n",
       "<style scoped>\n",
       "    .dataframe tbody tr th:only-of-type {\n",
       "        vertical-align: middle;\n",
       "    }\n",
       "\n",
       "    .dataframe tbody tr th {\n",
       "        vertical-align: top;\n",
       "    }\n",
       "\n",
       "    .dataframe thead th {\n",
       "        text-align: right;\n",
       "    }\n",
       "</style>\n",
       "<table border=\"1\" class=\"dataframe\">\n",
       "  <thead>\n",
       "    <tr style=\"text-align: right;\">\n",
       "      <th></th>\n",
       "      <th>0</th>\n",
       "      <th>1</th>\n",
       "      <th>accuracy</th>\n",
       "      <th>macro avg</th>\n",
       "      <th>weighted avg</th>\n",
       "    </tr>\n",
       "  </thead>\n",
       "  <tbody>\n",
       "    <tr>\n",
       "      <th>precision</th>\n",
       "      <td>0.650000</td>\n",
       "      <td>0.829787</td>\n",
       "      <td>0.690821</td>\n",
       "      <td>0.739894</td>\n",
       "      <td>0.732511</td>\n",
       "    </tr>\n",
       "    <tr>\n",
       "      <th>recall</th>\n",
       "      <td>0.928571</td>\n",
       "      <td>0.410526</td>\n",
       "      <td>0.690821</td>\n",
       "      <td>0.669549</td>\n",
       "      <td>0.690821</td>\n",
       "    </tr>\n",
       "    <tr>\n",
       "      <th>f1-score</th>\n",
       "      <td>0.764706</td>\n",
       "      <td>0.549296</td>\n",
       "      <td>0.690821</td>\n",
       "      <td>0.657001</td>\n",
       "      <td>0.665846</td>\n",
       "    </tr>\n",
       "    <tr>\n",
       "      <th>support</th>\n",
       "      <td>112.000000</td>\n",
       "      <td>95.000000</td>\n",
       "      <td>0.690821</td>\n",
       "      <td>207.000000</td>\n",
       "      <td>207.000000</td>\n",
       "    </tr>\n",
       "  </tbody>\n",
       "</table>\n",
       "</div>"
      ],
      "text/plain": [
       "                    0          1  accuracy   macro avg  weighted avg\n",
       "precision    0.650000   0.829787  0.690821    0.739894      0.732511\n",
       "recall       0.928571   0.410526  0.690821    0.669549      0.690821\n",
       "f1-score     0.764706   0.549296  0.690821    0.657001      0.665846\n",
       "support    112.000000  95.000000  0.690821  207.000000    207.000000"
      ]
     },
     "execution_count": null,
     "metadata": {},
     "output_type": "execute_result"
    }
   ],
   "source": []
  },
  {
   "attachments": {},
   "cell_type": "markdown",
   "id": "7c72cc5d-062c-4538-90a3-cf8770d1958e",
   "metadata": {
    "papermill": {
     "duration": 0.022647,
     "end_time": "2024-07-06T19:24:21.325755",
     "exception": false,
     "start_time": "2024-07-06T19:24:21.303108",
     "status": "completed"
    },
    "tags": []
   },
   "source": [
    "#### ROC Curve\n",
    "\n",
    "https://www.youtube.com/watch?v=4jRBRDbJemM"
   ]
  },
  {
   "cell_type": "code",
   "execution_count": null,
   "id": "92f99661-d8f1-480b-82b9-c7c2d93ced67",
   "metadata": {
    "execution": {
     "iopub.execute_input": "2024-07-06T19:24:21.363478Z",
     "iopub.status.busy": "2024-07-06T19:24:21.363150Z",
     "iopub.status.idle": "2024-07-06T19:24:21.672601Z",
     "shell.execute_reply": "2024-07-06T19:24:21.670802Z"
    },
    "papermill": {
     "duration": 0.33111,
     "end_time": "2024-07-06T19:24:21.676438",
     "exception": false,
     "start_time": "2024-07-06T19:24:21.345328",
     "status": "completed"
    },
    "tags": []
   },
   "outputs": [
    {
     "data": {
      "image/png": "[encoded data removed]",
      "text/plain": [
       "<Figure size 640x480 with 1 Axes>"
      ]
     },
     "execution_count": null,
     "metadata": {},
     "output_type": "display_data"
    }
   ],
   "source": []
  }
 ],
 "metadata": {
  "kernelspec": {
   "display_name": "Python 3 (ipykernel)",
   "language": "python",
   "name": "python3"
  },
  "language_info": {
   "codemirror_mode": {
    "name": "ipython",
    "version": 3
   },
   "file_extension": ".py",
   "mimetype": "text/x-python",
   "name": "python",
   "nbconvert_exporter": "python",
   "pygments_lexer": "ipython3",
   "version": "3.12.0"
  },
  "papermill": {
   "default_parameters": {},
   "duration": 9.414374,
   "end_time": "2024-07-06T19:24:22.400410",
   "environment_variables": {},
   "exception": null,
   "input_path": "/Users/sota/Dropbox/2 Business/1 Datons/2 Areas/Courses/3 Catalogue/20 ML/1 Materials/ML/notebooks/10_Modelling/4_Evaluation/B_Solution.ipynb",
   "output_path": "/Users/sota/Dropbox/2 Business/1 Datons/2 Areas/Courses/3 Catalogue/20 ML/1 Materials/ML/notebooks/10_Modelling/4_Evaluation/B_Solution.ipynb",
   "parameters": {},
   "start_time": "2024-07-06T19:24:12.986036",
   "version": "2.5.0"
  }
 },
 "nbformat": 4,
 "nbformat_minor": 5
}
