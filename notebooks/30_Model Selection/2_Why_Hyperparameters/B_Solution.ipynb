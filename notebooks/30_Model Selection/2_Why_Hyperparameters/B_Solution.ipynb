{
 "cells": [
  {
   "attachments": {},
   "cell_type": "markdown",
   "id": "afd57b82",
   "metadata": {
    "papermill": {
     "duration": 0.009869,
     "end_time": "2024-07-06T19:26:19.386617",
     "exception": false,
     "start_time": "2024-07-06T19:26:19.376748",
     "status": "completed"
    },
    "tags": []
   },
   "source": [
    "# Hyperparameter tuning to avoid overfitting"
   ]
  },
  {
   "attachments": {},
   "cell_type": "markdown",
   "id": "a935bb14",
   "metadata": {
    "papermill": {
     "duration": 0.007659,
     "end_time": "2024-07-06T19:26:19.400557",
     "exception": false,
     "start_time": "2024-07-06T19:26:19.392898",
     "status": "completed"
    },
    "tags": []
   },
   "source": [
    "## Load data"
   ]
  },
  {
   "cell_type": "code",
   "execution_count": 1,
   "id": "38dfc647",
   "metadata": {
    "execution": {
     "iopub.execute_input": "2024-07-06T19:26:19.440644Z",
     "iopub.status.busy": "2024-07-06T19:26:19.440194Z",
     "iopub.status.idle": "2024-07-06T19:26:20.037409Z",
     "shell.execute_reply": "2024-07-06T19:26:20.036819Z"
    },
    "papermill": {
     "duration": 0.629113,
     "end_time": "2024-07-06T19:26:20.039154",
     "exception": false,
     "start_time": "2024-07-06T19:26:19.410041",
     "status": "completed"
    },
    "tags": [
     "change-false"
    ]
   },
   "outputs": [
    {
     "data": {
      "text/html": [
       "<div>\n",
       "<style scoped>\n",
       "    .dataframe tbody tr th:only-of-type {\n",
       "        vertical-align: middle;\n",
       "    }\n",
       "\n",
       "    .dataframe tbody tr th {\n",
       "        vertical-align: top;\n",
       "    }\n",
       "\n",
       "    .dataframe thead th {\n",
       "        text-align: right;\n",
       "    }\n",
       "</style>\n",
       "<table border=\"1\" class=\"dataframe\">\n",
       "  <thead>\n",
       "    <tr style=\"text-align: right;\">\n",
       "      <th></th>\n",
       "      <th>Gender</th>\n",
       "      <th>Age</th>\n",
       "      <th>Married</th>\n",
       "      <th>YearsEmployed</th>\n",
       "      <th>Income</th>\n",
       "      <th>Approved</th>\n",
       "    </tr>\n",
       "  </thead>\n",
       "  <tbody>\n",
       "    <tr>\n",
       "      <th>0</th>\n",
       "      <td>1</td>\n",
       "      <td>30</td>\n",
       "      <td>1</td>\n",
       "      <td>1.25</td>\n",
       "      <td>0.000000</td>\n",
       "      <td>1</td>\n",
       "    </tr>\n",
       "    <tr>\n",
       "      <th>1</th>\n",
       "      <td>0</td>\n",
       "      <td>58</td>\n",
       "      <td>1</td>\n",
       "      <td>3.04</td>\n",
       "      <td>632.793678</td>\n",
       "      <td>1</td>\n",
       "    </tr>\n",
       "    <tr>\n",
       "      <th>...</th>\n",
       "      <td>...</td>\n",
       "      <td>...</td>\n",
       "      <td>...</td>\n",
       "      <td>...</td>\n",
       "      <td>...</td>\n",
       "      <td>...</td>\n",
       "    </tr>\n",
       "    <tr>\n",
       "      <th>687</th>\n",
       "      <td>1</td>\n",
       "      <td>17</td>\n",
       "      <td>1</td>\n",
       "      <td>0.04</td>\n",
       "      <td>662.007321</td>\n",
       "      <td>0</td>\n",
       "    </tr>\n",
       "    <tr>\n",
       "      <th>688</th>\n",
       "      <td>1</td>\n",
       "      <td>35</td>\n",
       "      <td>1</td>\n",
       "      <td>8.29</td>\n",
       "      <td>0.000000</td>\n",
       "      <td>0</td>\n",
       "    </tr>\n",
       "  </tbody>\n",
       "</table>\n",
       "<p>689 rows × 6 columns</p>\n",
       "</div>"
      ],
      "text/plain": [
       "     Gender  Age  Married  YearsEmployed      Income  Approved\n",
       "0         1   30        1           1.25    0.000000         1\n",
       "1         0   58        1           3.04  632.793678         1\n",
       "..      ...  ...      ...            ...         ...       ...\n",
       "687       1   17        1           0.04  662.007321         0\n",
       "688       1   35        1           8.29    0.000000         0\n",
       "\n",
       "[689 rows x 6 columns]"
      ]
     },
     "execution_count": 1,
     "metadata": {},
     "output_type": "execute_result"
    }
   ],
   "source": [
    "import pandas as pd\n",
    "\n",
    "path = '../../../data/default_credit_card/output/simplified_features.csv'\n",
    "df = pd.read_csv(path)\n",
    "df"
   ]
  },
  {
   "attachments": {},
   "cell_type": "markdown",
   "id": "dc1b50f7",
   "metadata": {
    "papermill": {
     "duration": 0.007326,
     "end_time": "2024-07-06T19:26:20.052688",
     "exception": false,
     "start_time": "2024-07-06T19:26:20.045362",
     "status": "completed"
    },
    "tags": []
   },
   "source": [
    "## Feature selection"
   ]
  },
  {
   "cell_type": "code",
   "execution_count": 2,
   "id": "bf708db8",
   "metadata": {
    "execution": {
     "iopub.execute_input": "2024-07-06T19:26:20.072540Z",
     "iopub.status.busy": "2024-07-06T19:26:20.071904Z",
     "iopub.status.idle": "2024-07-06T19:26:20.080921Z",
     "shell.execute_reply": "2024-07-06T19:26:20.079745Z"
    },
    "papermill": {
     "duration": 0.022172,
     "end_time": "2024-07-06T19:26:20.083179",
     "exception": false,
     "start_time": "2024-07-06T19:26:20.061007",
     "status": "completed"
    },
    "tags": [
     "change-false"
    ]
   },
   "outputs": [],
   "source": [
    "target = 'Approved'\n",
    "\n",
    "y = df[target]\n",
    "X = df.drop(columns=target)"
   ]
  },
  {
   "attachments": {},
   "cell_type": "markdown",
   "id": "9970eed7",
   "metadata": {
    "papermill": {
     "duration": 0.007608,
     "end_time": "2024-07-06T19:26:20.097493",
     "exception": false,
     "start_time": "2024-07-06T19:26:20.089885",
     "status": "completed"
    },
    "tags": []
   },
   "source": [
    "## Train test split"
   ]
  },
  {
   "cell_type": "code",
   "execution_count": 3,
   "id": "c1f47675",
   "metadata": {
    "execution": {
     "iopub.execute_input": "2024-07-06T19:26:20.112526Z",
     "iopub.status.busy": "2024-07-06T19:26:20.112002Z",
     "iopub.status.idle": "2024-07-06T19:26:20.995888Z",
     "shell.execute_reply": "2024-07-06T19:26:20.994768Z"
    },
    "papermill": {
     "duration": 0.893632,
     "end_time": "2024-07-06T19:26:20.998429",
     "exception": false,
     "start_time": "2024-07-06T19:26:20.104797",
     "status": "completed"
    },
    "tags": [
     "change-false"
    ]
   },
   "outputs": [],
   "source": [
    "from sklearn.model_selection import train_test_split\n",
    "\n",
    "X_train, X_test, y_train, y_test = train_test_split(\n",
    "    X, y, test_size=0.3, random_state=42)"
   ]
  },
  {
   "attachments": {},
   "cell_type": "markdown",
   "id": "dc2d4255",
   "metadata": {
    "papermill": {
     "duration": 0.00595,
     "end_time": "2024-07-06T19:26:21.011129",
     "exception": false,
     "start_time": "2024-07-06T19:26:21.005179",
     "status": "completed"
    },
    "tags": []
   },
   "source": [
    "## Modelling with default hyperparameters"
   ]
  },
  {
   "cell_type": "code",
   "execution_count": 4,
   "id": "aa1088e6",
   "metadata": {
    "execution": {
     "iopub.execute_input": "2024-07-06T19:26:21.027535Z",
     "iopub.status.busy": "2024-07-06T19:26:21.027061Z",
     "iopub.status.idle": "2024-07-06T19:26:21.160491Z",
     "shell.execute_reply": "2024-07-06T19:26:21.159613Z"
    },
    "papermill": {
     "duration": 0.143919,
     "end_time": "2024-07-06T19:26:21.163428",
     "exception": false,
     "start_time": "2024-07-06T19:26:21.019509",
     "status": "completed"
    },
    "tags": []
   },
   "outputs": [
    {
     "data": {
      "text/html": [
       "<style>#sk-container-id-1 {color: black;}#sk-container-id-1 pre{padding: 0;}#sk-container-id-1 div.sk-toggleable {background-color: white;}#sk-container-id-1 label.sk-toggleable__label {cursor: pointer;display: block;width: 100%;margin-bottom: 0;padding: 0.3em;box-sizing: border-box;text-align: center;}#sk-container-id-1 label.sk-toggleable__label-arrow:before {content: \"▸\";float: left;margin-right: 0.25em;color: #696969;}#sk-container-id-1 label.sk-toggleable__label-arrow:hover:before {color: black;}#sk-container-id-1 div.sk-estimator:hover label.sk-toggleable__label-arrow:before {color: black;}#sk-container-id-1 div.sk-toggleable__content {max-height: 0;max-width: 0;overflow: hidden;text-align: left;background-color: #f0f8ff;}#sk-container-id-1 div.sk-toggleable__content pre {margin: 0.2em;color: black;border-radius: 0.25em;background-color: #f0f8ff;}#sk-container-id-1 input.sk-toggleable__control:checked~div.sk-toggleable__content {max-height: 200px;max-width: 100%;overflow: auto;}#sk-container-id-1 input.sk-toggleable__control:checked~label.sk-toggleable__label-arrow:before {content: \"▾\";}#sk-container-id-1 div.sk-estimator input.sk-toggleable__control:checked~label.sk-toggleable__label {background-color: #d4ebff;}#sk-container-id-1 div.sk-label input.sk-toggleable__control:checked~label.sk-toggleable__label {background-color: #d4ebff;}#sk-container-id-1 input.sk-hidden--visually {border: 0;clip: rect(1px 1px 1px 1px);clip: rect(1px, 1px, 1px, 1px);height: 1px;margin: -1px;overflow: hidden;padding: 0;position: absolute;width: 1px;}#sk-container-id-1 div.sk-estimator {font-family: monospace;background-color: #f0f8ff;border: 1px dotted black;border-radius: 0.25em;box-sizing: border-box;margin-bottom: 0.5em;}#sk-container-id-1 div.sk-estimator:hover {background-color: #d4ebff;}#sk-container-id-1 div.sk-parallel-item::after {content: \"\";width: 100%;border-bottom: 1px solid gray;flex-grow: 1;}#sk-container-id-1 div.sk-label:hover label.sk-toggleable__label {background-color: #d4ebff;}#sk-container-id-1 div.sk-serial::before {content: \"\";position: absolute;border-left: 1px solid gray;box-sizing: border-box;top: 0;bottom: 0;left: 50%;z-index: 0;}#sk-container-id-1 div.sk-serial {display: flex;flex-direction: column;align-items: center;background-color: white;padding-right: 0.2em;padding-left: 0.2em;position: relative;}#sk-container-id-1 div.sk-item {position: relative;z-index: 1;}#sk-container-id-1 div.sk-parallel {display: flex;align-items: stretch;justify-content: center;background-color: white;position: relative;}#sk-container-id-1 div.sk-item::before, #sk-container-id-1 div.sk-parallel-item::before {content: \"\";position: absolute;border-left: 1px solid gray;box-sizing: border-box;top: 0;bottom: 0;left: 50%;z-index: -1;}#sk-container-id-1 div.sk-parallel-item {display: flex;flex-direction: column;z-index: 1;position: relative;background-color: white;}#sk-container-id-1 div.sk-parallel-item:first-child::after {align-self: flex-end;width: 50%;}#sk-container-id-1 div.sk-parallel-item:last-child::after {align-self: flex-start;width: 50%;}#sk-container-id-1 div.sk-parallel-item:only-child::after {width: 0;}#sk-container-id-1 div.sk-dashed-wrapped {border: 1px dashed gray;margin: 0 0.4em 0.5em 0.4em;box-sizing: border-box;padding-bottom: 0.4em;background-color: white;}#sk-container-id-1 div.sk-label label {font-family: monospace;font-weight: bold;display: inline-block;line-height: 1.2em;}#sk-container-id-1 div.sk-label-container {text-align: center;}#sk-container-id-1 div.sk-container {/* jupyter's `normalize.less` sets `[hidden] { display: none; }` but bootstrap.min.css set `[hidden] { display: none !important; }` so we also need the `!important` here to be able to override the default hidden behavior on the sphinx rendered scikit-learn.org. See: https://github.com/scikit-learn/scikit-learn/issues/21755 */display: inline-block !important;position: relative;}#sk-container-id-1 div.sk-text-repr-fallback {display: none;}</style><div id=\"sk-container-id-1\" class=\"sk-top-container\"><div class=\"sk-text-repr-fallback\"><pre>DecisionTreeClassifier()</pre><b>In a Jupyter environment, please rerun this cell to show the HTML representation or trust the notebook. <br />On GitHub, the HTML representation is unable to render, please try loading this page with nbviewer.org.</b></div><div class=\"sk-container\" hidden><div class=\"sk-item\"><div class=\"sk-estimator sk-toggleable\"><input class=\"sk-toggleable__control sk-hidden--visually\" id=\"sk-estimator-id-1\" type=\"checkbox\" checked><label for=\"sk-estimator-id-1\" class=\"sk-toggleable__label sk-toggleable__label-arrow\">DecisionTreeClassifier</label><div class=\"sk-toggleable__content\"><pre>DecisionTreeClassifier()</pre></div></div></div></div></div>"
      ],
      "text/plain": [
       "DecisionTreeClassifier()"
      ]
     },
     "execution_count": 4,
     "metadata": {},
     "output_type": "execute_result"
    }
   ],
   "source": [
    "from sklearn.tree import DecisionTreeClassifier\n",
    "\n",
    "model = DecisionTreeClassifier()\n",
    "model.fit(X_train, y_train)"
   ]
  },
  {
   "cell_type": "code",
   "execution_count": 5,
   "id": "5682f993",
   "metadata": {
    "execution": {
     "iopub.execute_input": "2024-07-06T19:26:21.180718Z",
     "iopub.status.busy": "2024-07-06T19:26:21.180353Z",
     "iopub.status.idle": "2024-07-06T19:26:21.189451Z",
     "shell.execute_reply": "2024-07-06T19:26:21.188513Z"
    },
    "papermill": {
     "duration": 0.01999,
     "end_time": "2024-07-06T19:26:21.191616",
     "exception": false,
     "start_time": "2024-07-06T19:26:21.171626",
     "status": "completed"
    },
    "tags": []
   },
   "outputs": [
    {
     "data": {
      "text/plain": [
       "0.995850622406639"
      ]
     },
     "execution_count": 5,
     "metadata": {},
     "output_type": "execute_result"
    }
   ],
   "source": [
    "model.score(X_train, y_train)"
   ]
  },
  {
   "cell_type": "code",
   "execution_count": 6,
   "id": "60216996",
   "metadata": {
    "execution": {
     "iopub.execute_input": "2024-07-06T19:26:21.205724Z",
     "iopub.status.busy": "2024-07-06T19:26:21.205475Z",
     "iopub.status.idle": "2024-07-06T19:26:21.211734Z",
     "shell.execute_reply": "2024-07-06T19:26:21.211138Z"
    },
    "papermill": {
     "duration": 0.015493,
     "end_time": "2024-07-06T19:26:21.214064",
     "exception": false,
     "start_time": "2024-07-06T19:26:21.198571",
     "status": "completed"
    },
    "tags": []
   },
   "outputs": [
    {
     "data": {
      "text/plain": [
       "0.642512077294686"
      ]
     },
     "execution_count": 6,
     "metadata": {},
     "output_type": "execute_result"
    }
   ],
   "source": [
    "model.score(X_test, y_test)"
   ]
  },
  {
   "attachments": {},
   "cell_type": "markdown",
   "id": "716deb8d",
   "metadata": {
    "papermill": {
     "duration": 0.005718,
     "end_time": "2024-07-06T19:26:21.226128",
     "exception": false,
     "start_time": "2024-07-06T19:26:21.220410",
     "status": "completed"
    },
    "tags": []
   },
   "source": [
    "## Modelling with custom hyperparameters"
   ]
  },
  {
   "cell_type": "code",
   "execution_count": 7,
   "id": "61e4e714",
   "metadata": {
    "execution": {
     "iopub.execute_input": "2024-07-06T19:26:21.239687Z",
     "iopub.status.busy": "2024-07-06T19:26:21.239438Z",
     "iopub.status.idle": "2024-07-06T19:26:21.246688Z",
     "shell.execute_reply": "2024-07-06T19:26:21.245834Z"
    },
    "papermill": {
     "duration": 0.015802,
     "end_time": "2024-07-06T19:26:21.248516",
     "exception": false,
     "start_time": "2024-07-06T19:26:21.232714",
     "status": "completed"
    },
    "tags": []
   },
   "outputs": [
    {
     "data": {
      "text/html": [
       "<style>#sk-container-id-2 {color: black;}#sk-container-id-2 pre{padding: 0;}#sk-container-id-2 div.sk-toggleable {background-color: white;}#sk-container-id-2 label.sk-toggleable__label {cursor: pointer;display: block;width: 100%;margin-bottom: 0;padding: 0.3em;box-sizing: border-box;text-align: center;}#sk-container-id-2 label.sk-toggleable__label-arrow:before {content: \"▸\";float: left;margin-right: 0.25em;color: #696969;}#sk-container-id-2 label.sk-toggleable__label-arrow:hover:before {color: black;}#sk-container-id-2 div.sk-estimator:hover label.sk-toggleable__label-arrow:before {color: black;}#sk-container-id-2 div.sk-toggleable__content {max-height: 0;max-width: 0;overflow: hidden;text-align: left;background-color: #f0f8ff;}#sk-container-id-2 div.sk-toggleable__content pre {margin: 0.2em;color: black;border-radius: 0.25em;background-color: #f0f8ff;}#sk-container-id-2 input.sk-toggleable__control:checked~div.sk-toggleable__content {max-height: 200px;max-width: 100%;overflow: auto;}#sk-container-id-2 input.sk-toggleable__control:checked~label.sk-toggleable__label-arrow:before {content: \"▾\";}#sk-container-id-2 div.sk-estimator input.sk-toggleable__control:checked~label.sk-toggleable__label {background-color: #d4ebff;}#sk-container-id-2 div.sk-label input.sk-toggleable__control:checked~label.sk-toggleable__label {background-color: #d4ebff;}#sk-container-id-2 input.sk-hidden--visually {border: 0;clip: rect(1px 1px 1px 1px);clip: rect(1px, 1px, 1px, 1px);height: 1px;margin: -1px;overflow: hidden;padding: 0;position: absolute;width: 1px;}#sk-container-id-2 div.sk-estimator {font-family: monospace;background-color: #f0f8ff;border: 1px dotted black;border-radius: 0.25em;box-sizing: border-box;margin-bottom: 0.5em;}#sk-container-id-2 div.sk-estimator:hover {background-color: #d4ebff;}#sk-container-id-2 div.sk-parallel-item::after {content: \"\";width: 100%;border-bottom: 1px solid gray;flex-grow: 1;}#sk-container-id-2 div.sk-label:hover label.sk-toggleable__label {background-color: #d4ebff;}#sk-container-id-2 div.sk-serial::before {content: \"\";position: absolute;border-left: 1px solid gray;box-sizing: border-box;top: 0;bottom: 0;left: 50%;z-index: 0;}#sk-container-id-2 div.sk-serial {display: flex;flex-direction: column;align-items: center;background-color: white;padding-right: 0.2em;padding-left: 0.2em;position: relative;}#sk-container-id-2 div.sk-item {position: relative;z-index: 1;}#sk-container-id-2 div.sk-parallel {display: flex;align-items: stretch;justify-content: center;background-color: white;position: relative;}#sk-container-id-2 div.sk-item::before, #sk-container-id-2 div.sk-parallel-item::before {content: \"\";position: absolute;border-left: 1px solid gray;box-sizing: border-box;top: 0;bottom: 0;left: 50%;z-index: -1;}#sk-container-id-2 div.sk-parallel-item {display: flex;flex-direction: column;z-index: 1;position: relative;background-color: white;}#sk-container-id-2 div.sk-parallel-item:first-child::after {align-self: flex-end;width: 50%;}#sk-container-id-2 div.sk-parallel-item:last-child::after {align-self: flex-start;width: 50%;}#sk-container-id-2 div.sk-parallel-item:only-child::after {width: 0;}#sk-container-id-2 div.sk-dashed-wrapped {border: 1px dashed gray;margin: 0 0.4em 0.5em 0.4em;box-sizing: border-box;padding-bottom: 0.4em;background-color: white;}#sk-container-id-2 div.sk-label label {font-family: monospace;font-weight: bold;display: inline-block;line-height: 1.2em;}#sk-container-id-2 div.sk-label-container {text-align: center;}#sk-container-id-2 div.sk-container {/* jupyter's `normalize.less` sets `[hidden] { display: none; }` but bootstrap.min.css set `[hidden] { display: none !important; }` so we also need the `!important` here to be able to override the default hidden behavior on the sphinx rendered scikit-learn.org. See: https://github.com/scikit-learn/scikit-learn/issues/21755 */display: inline-block !important;position: relative;}#sk-container-id-2 div.sk-text-repr-fallback {display: none;}</style><div id=\"sk-container-id-2\" class=\"sk-top-container\"><div class=\"sk-text-repr-fallback\"><pre>DecisionTreeClassifier(max_depth=3)</pre><b>In a Jupyter environment, please rerun this cell to show the HTML representation or trust the notebook. <br />On GitHub, the HTML representation is unable to render, please try loading this page with nbviewer.org.</b></div><div class=\"sk-container\" hidden><div class=\"sk-item\"><div class=\"sk-estimator sk-toggleable\"><input class=\"sk-toggleable__control sk-hidden--visually\" id=\"sk-estimator-id-2\" type=\"checkbox\" checked><label for=\"sk-estimator-id-2\" class=\"sk-toggleable__label sk-toggleable__label-arrow\">DecisionTreeClassifier</label><div class=\"sk-toggleable__content\"><pre>DecisionTreeClassifier(max_depth=3)</pre></div></div></div></div></div>"
      ],
      "text/plain": [
       "DecisionTreeClassifier(max_depth=3)"
      ]
     },
     "execution_count": 7,
     "metadata": {},
     "output_type": "execute_result"
    }
   ],
   "source": [
    "model = DecisionTreeClassifier(max_depth=3)\n",
    "model.fit(X_train, y_train)"
   ]
  },
  {
   "cell_type": "code",
   "execution_count": 8,
   "id": "c0442008",
   "metadata": {
    "execution": {
     "iopub.execute_input": "2024-07-06T19:26:21.263930Z",
     "iopub.status.busy": "2024-07-06T19:26:21.263665Z",
     "iopub.status.idle": "2024-07-06T19:26:21.269613Z",
     "shell.execute_reply": "2024-07-06T19:26:21.269115Z"
    },
    "papermill": {
     "duration": 0.01652,
     "end_time": "2024-07-06T19:26:21.271186",
     "exception": false,
     "start_time": "2024-07-06T19:26:21.254666",
     "status": "completed"
    },
    "tags": []
   },
   "outputs": [
    {
     "data": {
      "text/plain": [
       "0.7697095435684648"
      ]
     },
     "execution_count": 8,
     "metadata": {},
     "output_type": "execute_result"
    }
   ],
   "source": [
    "model.score(X_train, y_train)"
   ]
  },
  {
   "cell_type": "code",
   "execution_count": 9,
   "id": "ca4cb5dc",
   "metadata": {
    "execution": {
     "iopub.execute_input": "2024-07-06T19:26:21.289308Z",
     "iopub.status.busy": "2024-07-06T19:26:21.288679Z",
     "iopub.status.idle": "2024-07-06T19:26:21.295514Z",
     "shell.execute_reply": "2024-07-06T19:26:21.294619Z"
    },
    "papermill": {
     "duration": 0.02003,
     "end_time": "2024-07-06T19:26:21.297573",
     "exception": false,
     "start_time": "2024-07-06T19:26:21.277543",
     "status": "completed"
    },
    "tags": []
   },
   "outputs": [
    {
     "data": {
      "text/plain": [
       "0.7053140096618358"
      ]
     },
     "execution_count": 9,
     "metadata": {},
     "output_type": "execute_result"
    }
   ],
   "source": [
    "model.score(X_test, y_test)"
   ]
  },
  {
   "cell_type": "code",
   "execution_count": 10,
   "id": "d8540ae5",
   "metadata": {
    "execution": {
     "iopub.execute_input": "2024-07-06T19:26:21.312890Z",
     "iopub.status.busy": "2024-07-06T19:26:21.312615Z",
     "iopub.status.idle": "2024-07-06T19:26:22.475983Z",
     "shell.execute_reply": "2024-07-06T19:26:22.475398Z"
    },
    "papermill": {
     "duration": 1.173665,
     "end_time": "2024-07-06T19:26:22.478066",
     "exception": false,
     "start_time": "2024-07-06T19:26:21.304401",
     "status": "completed"
    },
    "tags": []
   },
   "outputs": [
    {
     "data": {
      "image/png": "[encoded data removed]",
      "text/plain": [
       "<Figure size 1000x600 with 1 Axes>"
      ]
     },
     "metadata": {},
     "output_type": "display_data"
    }
   ],
   "source": [
    "from sklearn.tree import plot_tree\n",
    "import matplotlib.pyplot as plt\n",
    "\n",
    "plt.figure(figsize=(10,6))\n",
    "\n",
    "feature_names = X.columns.tolist()\n",
    "plot_tree(model, feature_names=feature_names, filled=True, fontsize=8);"
   ]
  },
  {
   "attachments": {},
   "cell_type": "markdown",
   "id": "9e3df71b",
   "metadata": {
    "papermill": {
     "duration": 0.009326,
     "end_time": "2024-07-06T19:26:22.494651",
     "exception": false,
     "start_time": "2024-07-06T19:26:22.485325",
     "status": "completed"
    },
    "tags": []
   },
   "source": [
    "## Modelling with other custom hyperparameters"
   ]
  },
  {
   "cell_type": "code",
   "execution_count": 11,
   "id": "4a1ecd35",
   "metadata": {
    "execution": {
     "iopub.execute_input": "2024-07-06T19:26:22.513635Z",
     "iopub.status.busy": "2024-07-06T19:26:22.512886Z",
     "iopub.status.idle": "2024-07-06T19:26:22.522264Z",
     "shell.execute_reply": "2024-07-06T19:26:22.521561Z"
    },
    "papermill": {
     "duration": 0.021309,
     "end_time": "2024-07-06T19:26:22.524177",
     "exception": false,
     "start_time": "2024-07-06T19:26:22.502868",
     "status": "completed"
    },
    "tags": []
   },
   "outputs": [
    {
     "data": {
      "text/html": [
       "<style>#sk-container-id-3 {color: black;}#sk-container-id-3 pre{padding: 0;}#sk-container-id-3 div.sk-toggleable {background-color: white;}#sk-container-id-3 label.sk-toggleable__label {cursor: pointer;display: block;width: 100%;margin-bottom: 0;padding: 0.3em;box-sizing: border-box;text-align: center;}#sk-container-id-3 label.sk-toggleable__label-arrow:before {content: \"▸\";float: left;margin-right: 0.25em;color: #696969;}#sk-container-id-3 label.sk-toggleable__label-arrow:hover:before {color: black;}#sk-container-id-3 div.sk-estimator:hover label.sk-toggleable__label-arrow:before {color: black;}#sk-container-id-3 div.sk-toggleable__content {max-height: 0;max-width: 0;overflow: hidden;text-align: left;background-color: #f0f8ff;}#sk-container-id-3 div.sk-toggleable__content pre {margin: 0.2em;color: black;border-radius: 0.25em;background-color: #f0f8ff;}#sk-container-id-3 input.sk-toggleable__control:checked~div.sk-toggleable__content {max-height: 200px;max-width: 100%;overflow: auto;}#sk-container-id-3 input.sk-toggleable__control:checked~label.sk-toggleable__label-arrow:before {content: \"▾\";}#sk-container-id-3 div.sk-estimator input.sk-toggleable__control:checked~label.sk-toggleable__label {background-color: #d4ebff;}#sk-container-id-3 div.sk-label input.sk-toggleable__control:checked~label.sk-toggleable__label {background-color: #d4ebff;}#sk-container-id-3 input.sk-hidden--visually {border: 0;clip: rect(1px 1px 1px 1px);clip: rect(1px, 1px, 1px, 1px);height: 1px;margin: -1px;overflow: hidden;padding: 0;position: absolute;width: 1px;}#sk-container-id-3 div.sk-estimator {font-family: monospace;background-color: #f0f8ff;border: 1px dotted black;border-radius: 0.25em;box-sizing: border-box;margin-bottom: 0.5em;}#sk-container-id-3 div.sk-estimator:hover {background-color: #d4ebff;}#sk-container-id-3 div.sk-parallel-item::after {content: \"\";width: 100%;border-bottom: 1px solid gray;flex-grow: 1;}#sk-container-id-3 div.sk-label:hover label.sk-toggleable__label {background-color: #d4ebff;}#sk-container-id-3 div.sk-serial::before {content: \"\";position: absolute;border-left: 1px solid gray;box-sizing: border-box;top: 0;bottom: 0;left: 50%;z-index: 0;}#sk-container-id-3 div.sk-serial {display: flex;flex-direction: column;align-items: center;background-color: white;padding-right: 0.2em;padding-left: 0.2em;position: relative;}#sk-container-id-3 div.sk-item {position: relative;z-index: 1;}#sk-container-id-3 div.sk-parallel {display: flex;align-items: stretch;justify-content: center;background-color: white;position: relative;}#sk-container-id-3 div.sk-item::before, #sk-container-id-3 div.sk-parallel-item::before {content: \"\";position: absolute;border-left: 1px solid gray;box-sizing: border-box;top: 0;bottom: 0;left: 50%;z-index: -1;}#sk-container-id-3 div.sk-parallel-item {display: flex;flex-direction: column;z-index: 1;position: relative;background-color: white;}#sk-container-id-3 div.sk-parallel-item:first-child::after {align-self: flex-end;width: 50%;}#sk-container-id-3 div.sk-parallel-item:last-child::after {align-self: flex-start;width: 50%;}#sk-container-id-3 div.sk-parallel-item:only-child::after {width: 0;}#sk-container-id-3 div.sk-dashed-wrapped {border: 1px dashed gray;margin: 0 0.4em 0.5em 0.4em;box-sizing: border-box;padding-bottom: 0.4em;background-color: white;}#sk-container-id-3 div.sk-label label {font-family: monospace;font-weight: bold;display: inline-block;line-height: 1.2em;}#sk-container-id-3 div.sk-label-container {text-align: center;}#sk-container-id-3 div.sk-container {/* jupyter's `normalize.less` sets `[hidden] { display: none; }` but bootstrap.min.css set `[hidden] { display: none !important; }` so we also need the `!important` here to be able to override the default hidden behavior on the sphinx rendered scikit-learn.org. See: https://github.com/scikit-learn/scikit-learn/issues/21755 */display: inline-block !important;position: relative;}#sk-container-id-3 div.sk-text-repr-fallback {display: none;}</style><div id=\"sk-container-id-3\" class=\"sk-top-container\"><div class=\"sk-text-repr-fallback\"><pre>DecisionTreeClassifier(min_samples_leaf=50)</pre><b>In a Jupyter environment, please rerun this cell to show the HTML representation or trust the notebook. <br />On GitHub, the HTML representation is unable to render, please try loading this page with nbviewer.org.</b></div><div class=\"sk-container\" hidden><div class=\"sk-item\"><div class=\"sk-estimator sk-toggleable\"><input class=\"sk-toggleable__control sk-hidden--visually\" id=\"sk-estimator-id-3\" type=\"checkbox\" checked><label for=\"sk-estimator-id-3\" class=\"sk-toggleable__label sk-toggleable__label-arrow\">DecisionTreeClassifier</label><div class=\"sk-toggleable__content\"><pre>DecisionTreeClassifier(min_samples_leaf=50)</pre></div></div></div></div></div>"
      ],
      "text/plain": [
       "DecisionTreeClassifier(min_samples_leaf=50)"
      ]
     },
     "execution_count": 11,
     "metadata": {},
     "output_type": "execute_result"
    }
   ],
   "source": [
    "model = DecisionTreeClassifier(min_samples_leaf=50)\n",
    "model.fit(X_train, y_train)"
   ]
  },
  {
   "cell_type": "code",
   "execution_count": 12,
   "id": "65d1771a",
   "metadata": {
    "execution": {
     "iopub.execute_input": "2024-07-06T19:26:22.540271Z",
     "iopub.status.busy": "2024-07-06T19:26:22.540025Z",
     "iopub.status.idle": "2024-07-06T19:26:22.546541Z",
     "shell.execute_reply": "2024-07-06T19:26:22.545725Z"
    },
    "papermill": {
     "duration": 0.016057,
     "end_time": "2024-07-06T19:26:22.548192",
     "exception": false,
     "start_time": "2024-07-06T19:26:22.532135",
     "status": "completed"
    },
    "tags": []
   },
   "outputs": [
    {
     "data": {
      "text/plain": [
       "0.7593360995850622"
      ]
     },
     "execution_count": 12,
     "metadata": {},
     "output_type": "execute_result"
    }
   ],
   "source": [
    "model.score(X_train, y_train)"
   ]
  },
  {
   "cell_type": "code",
   "execution_count": 13,
   "id": "4af1040b",
   "metadata": {
    "execution": {
     "iopub.execute_input": "2024-07-06T19:26:22.565762Z",
     "iopub.status.busy": "2024-07-06T19:26:22.565523Z",
     "iopub.status.idle": "2024-07-06T19:26:22.571382Z",
     "shell.execute_reply": "2024-07-06T19:26:22.570887Z"
    },
    "papermill": {
     "duration": 0.016738,
     "end_time": "2024-07-06T19:26:22.572862",
     "exception": false,
     "start_time": "2024-07-06T19:26:22.556124",
     "status": "completed"
    },
    "tags": []
   },
   "outputs": [
    {
     "data": {
      "text/plain": [
       "0.6908212560386473"
      ]
     },
     "execution_count": 13,
     "metadata": {},
     "output_type": "execute_result"
    }
   ],
   "source": [
    "model.score(X_test, y_test)"
   ]
  },
  {
   "cell_type": "code",
   "execution_count": 14,
   "id": "11eae224",
   "metadata": {
    "execution": {
     "iopub.execute_input": "2024-07-06T19:26:22.589903Z",
     "iopub.status.busy": "2024-07-06T19:26:22.589548Z",
     "iopub.status.idle": "2024-07-06T19:26:23.141512Z",
     "shell.execute_reply": "2024-07-06T19:26:23.140753Z"
    },
    "papermill": {
     "duration": 0.563384,
     "end_time": "2024-07-06T19:26:23.143691",
     "exception": false,
     "start_time": "2024-07-06T19:26:22.580307",
     "status": "completed"
    },
    "tags": []
   },
   "outputs": [
    {
     "data": {
      "image/png": "[encoded data removed]",
      "text/plain": [
       "<Figure size 1000x600 with 1 Axes>"
      ]
     },
     "metadata": {},
     "output_type": "display_data"
    }
   ],
   "source": [
    "from sklearn.tree import plot_tree\n",
    "import matplotlib.pyplot as plt\n",
    "\n",
    "plt.figure(figsize=(10,6))\n",
    "\n",
    "feature_names = X.columns.tolist()\n",
    "plot_tree(model, feature_names=feature_names, filled=True, fontsize=8);"
   ]
  },
  {
   "attachments": {},
   "cell_type": "markdown",
   "id": "6671a53d",
   "metadata": {
    "papermill": {
     "duration": 0.009249,
     "end_time": "2024-07-06T19:26:23.162584",
     "exception": false,
     "start_time": "2024-07-06T19:26:23.153335",
     "status": "completed"
    },
    "tags": []
   },
   "source": [
    "## Grid search to find the best hyperparameters"
   ]
  },
  {
   "cell_type": "code",
   "execution_count": 15,
   "id": "95370409",
   "metadata": {
    "execution": {
     "iopub.execute_input": "2024-07-06T19:26:23.187962Z",
     "iopub.status.busy": "2024-07-06T19:26:23.187578Z",
     "iopub.status.idle": "2024-07-06T19:26:23.232653Z",
     "shell.execute_reply": "2024-07-06T19:26:23.231850Z"
    },
    "papermill": {
     "duration": 0.06012,
     "end_time": "2024-07-06T19:26:23.234472",
     "exception": false,
     "start_time": "2024-07-06T19:26:23.174352",
     "status": "completed"
    },
    "tags": []
   },
   "outputs": [],
   "source": [
    "from sklearn.model_selection import GridSearchCV\n",
    "GridSearchCV?"
   ]
  },
  {
   "cell_type": "code",
   "execution_count": 16,
   "id": "adb3f874",
   "metadata": {
    "execution": {
     "iopub.execute_input": "2024-07-06T19:26:23.254167Z",
     "iopub.status.busy": "2024-07-06T19:26:23.253924Z",
     "iopub.status.idle": "2024-07-06T19:26:23.257993Z",
     "shell.execute_reply": "2024-07-06T19:26:23.257366Z"
    },
    "papermill": {
     "duration": 0.016535,
     "end_time": "2024-07-06T19:26:23.259643",
     "exception": false,
     "start_time": "2024-07-06T19:26:23.243108",
     "status": "completed"
    },
    "tags": []
   },
   "outputs": [
    {
     "data": {
      "text/plain": [
       "{'ccp_alpha': 0.0,\n",
       " 'class_weight': None,\n",
       " 'criterion': 'gini',\n",
       " 'max_depth': None,\n",
       " 'max_features': None,\n",
       " 'max_leaf_nodes': None,\n",
       " 'min_impurity_decrease': 0.0,\n",
       " 'min_samples_leaf': 1,\n",
       " 'min_samples_split': 2,\n",
       " 'min_weight_fraction_leaf': 0.0,\n",
       " 'random_state': None,\n",
       " 'splitter': 'best'}"
      ]
     },
     "execution_count": 16,
     "metadata": {},
     "output_type": "execute_result"
    }
   ],
   "source": [
    "model = DecisionTreeClassifier()\n",
    "model.get_params()"
   ]
  },
  {
   "cell_type": "code",
   "execution_count": 17,
   "id": "7b9878c3",
   "metadata": {
    "execution": {
     "iopub.execute_input": "2024-07-06T19:26:23.282717Z",
     "iopub.status.busy": "2024-07-06T19:26:23.282412Z",
     "iopub.status.idle": "2024-07-06T19:26:23.285906Z",
     "shell.execute_reply": "2024-07-06T19:26:23.285306Z"
    },
    "papermill": {
     "duration": 0.017054,
     "end_time": "2024-07-06T19:26:23.287635",
     "exception": false,
     "start_time": "2024-07-06T19:26:23.270581",
     "status": "completed"
    },
    "tags": []
   },
   "outputs": [],
   "source": [
    "param_grid = {\n",
    "    'max_depth': [3, 5, 7, 9],\n",
    "    'min_samples_leaf': [50, 100, 200, 500],\n",
    "    'criterion': ['gini', 'entropy']\n",
    "}"
   ]
  },
  {
   "cell_type": "code",
   "execution_count": 18,
   "id": "1bdc6f43",
   "metadata": {
    "execution": {
     "iopub.execute_input": "2024-07-06T19:26:23.307068Z",
     "iopub.status.busy": "2024-07-06T19:26:23.306662Z",
     "iopub.status.idle": "2024-07-06T19:26:23.911267Z",
     "shell.execute_reply": "2024-07-06T19:26:23.910773Z"
    },
    "papermill": {
     "duration": 0.617069,
     "end_time": "2024-07-06T19:26:23.913597",
     "exception": false,
     "start_time": "2024-07-06T19:26:23.296528",
     "status": "completed"
    },
    "tags": []
   },
   "outputs": [
    {
     "name": "stdout",
     "output_type": "stream",
     "text": [
      "Fitting 5 folds for each of 32 candidates, totalling 160 fits\n",
      "[CV] END ...criterion=gini, max_depth=3, min_samples_leaf=50; total time=   0.0s\n",
      "[CV] END ...criterion=gini, max_depth=3, min_samples_leaf=50; total time=   0.0s\n",
      "[CV] END ...criterion=gini, max_depth=3, min_samples_leaf=50; total time=   0.0s\n",
      "[CV] END ...criterion=gini, max_depth=3, min_samples_leaf=50; total time=   0.0s\n",
      "[CV] END ...criterion=gini, max_depth=3, min_samples_leaf=50; total time=   0.0s\n",
      "[CV] END ..criterion=gini, max_depth=3, min_samples_leaf=100; total time=   0.0s\n",
      "[CV] END ..criterion=gini, max_depth=3, min_samples_leaf=100; total time=   0.0s\n",
      "[CV] END ..criterion=gini, max_depth=3, min_samples_leaf=100; total time=   0.0s\n",
      "[CV] END ..criterion=gini, max_depth=3, min_samples_leaf=100; total time=   0.0s\n",
      "[CV] END ..criterion=gini, max_depth=3, min_samples_leaf=100; total time=   0.0s\n",
      "[CV] END ..criterion=gini, max_depth=3, min_samples_leaf=200; total time=   0.0s\n",
      "[CV] END ..criterion=gini, max_depth=3, min_samples_leaf=200; total time=   0.0s\n",
      "[CV] END ..criterion=gini, max_depth=3, min_samples_leaf=200; total time=   0.0s\n",
      "[CV] END ..criterion=gini, max_depth=3, min_samples_leaf=200; total time=   0.0s\n",
      "[CV] END ..criterion=gini, max_depth=3, min_samples_leaf=200; total time=   0.0s\n",
      "[CV] END ..criterion=gini, max_depth=3, min_samples_leaf=500; total time=   0.0s\n",
      "[CV] END ..criterion=gini, max_depth=3, min_samples_leaf=500; total time=   0.0s\n",
      "[CV] END ..criterion=gini, max_depth=3, min_samples_leaf=500; total time=   0.0s\n",
      "[CV] END ..criterion=gini, max_depth=3, min_samples_leaf=500; total time=   0.0s\n",
      "[CV] END ..criterion=gini, max_depth=3, min_samples_leaf=500; total time=   0.0s\n",
      "[CV] END ...criterion=gini, max_depth=5, min_samples_leaf=50; total time=   0.0s\n",
      "[CV] END ...criterion=gini, max_depth=5, min_samples_leaf=50; total time=   0.0s\n",
      "[CV] END ...criterion=gini, max_depth=5, min_samples_leaf=50; total time=   0.0s\n",
      "[CV] END ...criterion=gini, max_depth=5, min_samples_leaf=50; total time=   0.0s\n",
      "[CV] END ...criterion=gini, max_depth=5, min_samples_leaf=50; total time=   0.0s\n",
      "[CV] END ..criterion=gini, max_depth=5, min_samples_leaf=100; total time=   0.0s\n",
      "[CV] END ..criterion=gini, max_depth=5, min_samples_leaf=100; total time=   0.0s\n",
      "[CV] END ..criterion=gini, max_depth=5, min_samples_leaf=100; total time=   0.0s\n",
      "[CV] END ..criterion=gini, max_depth=5, min_samples_leaf=100; total time=   0.0s\n",
      "[CV] END ..criterion=gini, max_depth=5, min_samples_leaf=100; total time=   0.0s\n",
      "[CV] END ..criterion=gini, max_depth=5, min_samples_leaf=200; total time=   0.0s\n",
      "[CV] END ..criterion=gini, max_depth=5, min_samples_leaf=200; total time=   0.0s\n",
      "[CV] END ..criterion=gini, max_depth=5, min_samples_leaf=200; total time=   0.0s\n",
      "[CV] END ..criterion=gini, max_depth=5, min_samples_leaf=200; total time=   0.0s\n",
      "[CV] END ..criterion=gini, max_depth=5, min_samples_leaf=200; total time=   0.0s\n",
      "[CV] END ..criterion=gini, max_depth=5, min_samples_leaf=500; total time=   0.0s\n",
      "[CV] END ..criterion=gini, max_depth=5, min_samples_leaf=500; total time=   0.0s\n",
      "[CV] END ..criterion=gini, max_depth=5, min_samples_leaf=500; total time=   0.0s\n",
      "[CV] END ..criterion=gini, max_depth=5, min_samples_leaf=500; total time=   0.0s\n",
      "[CV] END ..criterion=gini, max_depth=5, min_samples_leaf=500; total time=   0.0s\n",
      "[CV] END ...criterion=gini, max_depth=7, min_samples_leaf=50; total time=   0.0s\n",
      "[CV] END ...criterion=gini, max_depth=7, min_samples_leaf=50; total time=   0.0s\n",
      "[CV] END ...criterion=gini, max_depth=7, min_samples_leaf=50; total time=   0.0s\n",
      "[CV] END ...criterion=gini, max_depth=7, min_samples_leaf=50; total time=   0.0s\n",
      "[CV] END ...criterion=gini, max_depth=7, min_samples_leaf=50; total time=   0.0s\n",
      "[CV] END ..criterion=gini, max_depth=7, min_samples_leaf=100; total time=   0.0s\n",
      "[CV] END ..criterion=gini, max_depth=7, min_samples_leaf=100; total time=   0.0s\n",
      "[CV] END ..criterion=gini, max_depth=7, min_samples_leaf=100; total time=   0.0s\n",
      "[CV] END ..criterion=gini, max_depth=7, min_samples_leaf=100; total time=   0.0s\n",
      "[CV] END ..criterion=gini, max_depth=7, min_samples_leaf=100; total time=   0.0s\n",
      "[CV] END ..criterion=gini, max_depth=7, min_samples_leaf=200; total time=   0.0s\n",
      "[CV] END ..criterion=gini, max_depth=7, min_samples_leaf=200; total time=   0.0s\n",
      "[CV] END ..criterion=gini, max_depth=7, min_samples_leaf=200; total time=   0.0s\n"
     ]
    },
    {
     "name": "stdout",
     "output_type": "stream",
     "text": [
      "[CV] END ..criterion=gini, max_depth=7, min_samples_leaf=200; total time=   0.0s\n",
      "[CV] END ..criterion=gini, max_depth=7, min_samples_leaf=200; total time=   0.0s\n",
      "[CV] END ..criterion=gini, max_depth=7, min_samples_leaf=500; total time=   0.0s\n",
      "[CV] END ..criterion=gini, max_depth=7, min_samples_leaf=500; total time=   0.0s\n",
      "[CV] END ..criterion=gini, max_depth=7, min_samples_leaf=500; total time=   0.0s\n",
      "[CV] END ..criterion=gini, max_depth=7, min_samples_leaf=500; total time=   0.0s\n",
      "[CV] END ..criterion=gini, max_depth=7, min_samples_leaf=500; total time=   0.0s\n",
      "[CV] END ...criterion=gini, max_depth=9, min_samples_leaf=50; total time=   0.0s\n",
      "[CV] END ...criterion=gini, max_depth=9, min_samples_leaf=50; total time=   0.0s\n",
      "[CV] END ...criterion=gini, max_depth=9, min_samples_leaf=50; total time=   0.0s\n",
      "[CV] END ...criterion=gini, max_depth=9, min_samples_leaf=50; total time=   0.0s\n",
      "[CV] END ...criterion=gini, max_depth=9, min_samples_leaf=50; total time=   0.0s\n",
      "[CV] END ..criterion=gini, max_depth=9, min_samples_leaf=100; total time=   0.0s\n",
      "[CV] END ..criterion=gini, max_depth=9, min_samples_leaf=100; total time=   0.0s\n",
      "[CV] END ..criterion=gini, max_depth=9, min_samples_leaf=100; total time=   0.0s\n",
      "[CV] END ..criterion=gini, max_depth=9, min_samples_leaf=100; total time=   0.0s\n",
      "[CV] END ..criterion=gini, max_depth=9, min_samples_leaf=100; total time=   0.0s\n",
      "[CV] END ..criterion=gini, max_depth=9, min_samples_leaf=200; total time=   0.0s\n",
      "[CV] END ..criterion=gini, max_depth=9, min_samples_leaf=200; total time=   0.0s\n",
      "[CV] END ..criterion=gini, max_depth=9, min_samples_leaf=200; total time=   0.0s\n",
      "[CV] END ..criterion=gini, max_depth=9, min_samples_leaf=200; total time=   0.0s\n",
      "[CV] END ..criterion=gini, max_depth=9, min_samples_leaf=200; total time=   0.0s\n",
      "[CV] END ..criterion=gini, max_depth=9, min_samples_leaf=500; total time=   0.0s\n",
      "[CV] END ..criterion=gini, max_depth=9, min_samples_leaf=500; total time=   0.0s\n",
      "[CV] END ..criterion=gini, max_depth=9, min_samples_leaf=500; total time=   0.0s\n",
      "[CV] END ..criterion=gini, max_depth=9, min_samples_leaf=500; total time=   0.0s\n",
      "[CV] END ..criterion=gini, max_depth=9, min_samples_leaf=500; total time=   0.0s\n",
      "[CV] END criterion=entropy, max_depth=3, min_samples_leaf=50; total time=   0.0s\n",
      "[CV] END criterion=entropy, max_depth=3, min_samples_leaf=50; total time=   0.0s\n",
      "[CV] END criterion=entropy, max_depth=3, min_samples_leaf=50; total time=   0.0s\n",
      "[CV] END criterion=entropy, max_depth=3, min_samples_leaf=50; total time=   0.0s\n",
      "[CV] END criterion=entropy, max_depth=3, min_samples_leaf=50; total time=   0.0s\n",
      "[CV] END criterion=entropy, max_depth=3, min_samples_leaf=100; total time=   0.0s\n",
      "[CV] END criterion=entropy, max_depth=3, min_samples_leaf=100; total time=   0.0s\n",
      "[CV] END criterion=entropy, max_depth=3, min_samples_leaf=100; total time=   0.0s\n",
      "[CV] END criterion=entropy, max_depth=3, min_samples_leaf=100; total time=   0.0s\n",
      "[CV] END criterion=entropy, max_depth=3, min_samples_leaf=100; total time=   0.0s\n",
      "[CV] END criterion=entropy, max_depth=3, min_samples_leaf=200; total time=   0.0s\n",
      "[CV] END criterion=entropy, max_depth=3, min_samples_leaf=200; total time=   0.0s\n",
      "[CV] END criterion=entropy, max_depth=3, min_samples_leaf=200; total time=   0.0s\n",
      "[CV] END criterion=entropy, max_depth=3, min_samples_leaf=200; total time=   0.0s\n",
      "[CV] END criterion=entropy, max_depth=3, min_samples_leaf=200; total time=   0.0s\n",
      "[CV] END criterion=entropy, max_depth=3, min_samples_leaf=500; total time=   0.0s\n",
      "[CV] END criterion=entropy, max_depth=3, min_samples_leaf=500; total time=   0.0s\n",
      "[CV] END criterion=entropy, max_depth=3, min_samples_leaf=500; total time=   0.0s\n",
      "[CV] END criterion=entropy, max_depth=3, min_samples_leaf=500; total time=   0.0s\n",
      "[CV] END criterion=entropy, max_depth=3, min_samples_leaf=500; total time=   0.0s\n",
      "[CV] END criterion=entropy, max_depth=5, min_samples_leaf=50; total time=   0.0s\n",
      "[CV] END criterion=entropy, max_depth=5, min_samples_leaf=50; total time=   0.0s\n",
      "[CV] END criterion=entropy, max_depth=5, min_samples_leaf=50; total time=   0.0s\n",
      "[CV] END criterion=entropy, max_depth=5, min_samples_leaf=50; total time=   0.0s\n",
      "[CV] END criterion=entropy, max_depth=5, min_samples_leaf=50; total time=   0.0s\n",
      "[CV] END criterion=entropy, max_depth=5, min_samples_leaf=100; total time=   0.0s\n",
      "[CV] END criterion=entropy, max_depth=5, min_samples_leaf=100; total time=   0.0s\n",
      "[CV] END criterion=entropy, max_depth=5, min_samples_leaf=100; total time=   0.0s\n",
      "[CV] END criterion=entropy, max_depth=5, min_samples_leaf=100; total time=   0.0s\n",
      "[CV] END criterion=entropy, max_depth=5, min_samples_leaf=100; total time=   0.0s\n"
     ]
    },
    {
     "name": "stdout",
     "output_type": "stream",
     "text": [
      "[CV] END criterion=entropy, max_depth=5, min_samples_leaf=200; total time=   0.0s\n",
      "[CV] END criterion=entropy, max_depth=5, min_samples_leaf=200; total time=   0.0s\n",
      "[CV] END criterion=entropy, max_depth=5, min_samples_leaf=200; total time=   0.0s\n",
      "[CV] END criterion=entropy, max_depth=5, min_samples_leaf=200; total time=   0.0s\n",
      "[CV] END criterion=entropy, max_depth=5, min_samples_leaf=200; total time=   0.0s\n",
      "[CV] END criterion=entropy, max_depth=5, min_samples_leaf=500; total time=   0.0s\n",
      "[CV] END criterion=entropy, max_depth=5, min_samples_leaf=500; total time=   0.0s\n",
      "[CV] END criterion=entropy, max_depth=5, min_samples_leaf=500; total time=   0.0s\n",
      "[CV] END criterion=entropy, max_depth=5, min_samples_leaf=500; total time=   0.0s\n",
      "[CV] END criterion=entropy, max_depth=5, min_samples_leaf=500; total time=   0.0s\n",
      "[CV] END criterion=entropy, max_depth=7, min_samples_leaf=50; total time=   0.0s\n",
      "[CV] END criterion=entropy, max_depth=7, min_samples_leaf=50; total time=   0.0s\n",
      "[CV] END criterion=entropy, max_depth=7, min_samples_leaf=50; total time=   0.0s\n",
      "[CV] END criterion=entropy, max_depth=7, min_samples_leaf=50; total time=   0.0s\n",
      "[CV] END criterion=entropy, max_depth=7, min_samples_leaf=50; total time=   0.0s\n",
      "[CV] END criterion=entropy, max_depth=7, min_samples_leaf=100; total time=   0.0s\n",
      "[CV] END criterion=entropy, max_depth=7, min_samples_leaf=100; total time=   0.0s\n",
      "[CV] END criterion=entropy, max_depth=7, min_samples_leaf=100; total time=   0.0s\n",
      "[CV] END criterion=entropy, max_depth=7, min_samples_leaf=100; total time=   0.0s\n",
      "[CV] END criterion=entropy, max_depth=7, min_samples_leaf=100; total time=   0.0s\n",
      "[CV] END criterion=entropy, max_depth=7, min_samples_leaf=200; total time=   0.0s\n",
      "[CV] END criterion=entropy, max_depth=7, min_samples_leaf=200; total time=   0.0s\n",
      "[CV] END criterion=entropy, max_depth=7, min_samples_leaf=200; total time=   0.0s\n",
      "[CV] END criterion=entropy, max_depth=7, min_samples_leaf=200; total time=   0.0s\n",
      "[CV] END criterion=entropy, max_depth=7, min_samples_leaf=200; total time=   0.0s\n",
      "[CV] END criterion=entropy, max_depth=7, min_samples_leaf=500; total time=   0.0s\n",
      "[CV] END criterion=entropy, max_depth=7, min_samples_leaf=500; total time=   0.0s\n",
      "[CV] END criterion=entropy, max_depth=7, min_samples_leaf=500; total time=   0.0s\n",
      "[CV] END criterion=entropy, max_depth=7, min_samples_leaf=500; total time=   0.0s\n",
      "[CV] END criterion=entropy, max_depth=7, min_samples_leaf=500; total time=   0.0s\n",
      "[CV] END criterion=entropy, max_depth=9, min_samples_leaf=50; total time=   0.0s\n",
      "[CV] END criterion=entropy, max_depth=9, min_samples_leaf=50; total time=   0.0s\n",
      "[CV] END criterion=entropy, max_depth=9, min_samples_leaf=50; total time=   0.0s\n",
      "[CV] END criterion=entropy, max_depth=9, min_samples_leaf=50; total time=   0.0s\n",
      "[CV] END criterion=entropy, max_depth=9, min_samples_leaf=50; total time=   0.0s\n",
      "[CV] END criterion=entropy, max_depth=9, min_samples_leaf=100; total time=   0.0s\n",
      "[CV] END criterion=entropy, max_depth=9, min_samples_leaf=100; total time=   0.0s\n",
      "[CV] END criterion=entropy, max_depth=9, min_samples_leaf=100; total time=   0.0s\n",
      "[CV] END criterion=entropy, max_depth=9, min_samples_leaf=100; total time=   0.0s\n",
      "[CV] END criterion=entropy, max_depth=9, min_samples_leaf=100; total time=   0.0s\n",
      "[CV] END criterion=entropy, max_depth=9, min_samples_leaf=200; total time=   0.0s\n",
      "[CV] END criterion=entropy, max_depth=9, min_samples_leaf=200; total time=   0.0s\n",
      "[CV] END criterion=entropy, max_depth=9, min_samples_leaf=200; total time=   0.0s\n",
      "[CV] END criterion=entropy, max_depth=9, min_samples_leaf=200; total time=   0.0s\n",
      "[CV] END criterion=entropy, max_depth=9, min_samples_leaf=200; total time=   0.0s\n",
      "[CV] END criterion=entropy, max_depth=9, min_samples_leaf=500; total time=   0.0s\n",
      "[CV] END criterion=entropy, max_depth=9, min_samples_leaf=500; total time=   0.0s\n",
      "[CV] END criterion=entropy, max_depth=9, min_samples_leaf=500; total time=   0.0s\n",
      "[CV] END criterion=entropy, max_depth=9, min_samples_leaf=500; total time=   0.0s\n",
      "[CV] END criterion=entropy, max_depth=9, min_samples_leaf=500; total time=   0.0s\n"
     ]
    },
    {
     "data": {
      "text/html": [
       "<style>#sk-container-id-4 {color: black;}#sk-container-id-4 pre{padding: 0;}#sk-container-id-4 div.sk-toggleable {background-color: white;}#sk-container-id-4 label.sk-toggleable__label {cursor: pointer;display: block;width: 100%;margin-bottom: 0;padding: 0.3em;box-sizing: border-box;text-align: center;}#sk-container-id-4 label.sk-toggleable__label-arrow:before {content: \"▸\";float: left;margin-right: 0.25em;color: #696969;}#sk-container-id-4 label.sk-toggleable__label-arrow:hover:before {color: black;}#sk-container-id-4 div.sk-estimator:hover label.sk-toggleable__label-arrow:before {color: black;}#sk-container-id-4 div.sk-toggleable__content {max-height: 0;max-width: 0;overflow: hidden;text-align: left;background-color: #f0f8ff;}#sk-container-id-4 div.sk-toggleable__content pre {margin: 0.2em;color: black;border-radius: 0.25em;background-color: #f0f8ff;}#sk-container-id-4 input.sk-toggleable__control:checked~div.sk-toggleable__content {max-height: 200px;max-width: 100%;overflow: auto;}#sk-container-id-4 input.sk-toggleable__control:checked~label.sk-toggleable__label-arrow:before {content: \"▾\";}#sk-container-id-4 div.sk-estimator input.sk-toggleable__control:checked~label.sk-toggleable__label {background-color: #d4ebff;}#sk-container-id-4 div.sk-label input.sk-toggleable__control:checked~label.sk-toggleable__label {background-color: #d4ebff;}#sk-container-id-4 input.sk-hidden--visually {border: 0;clip: rect(1px 1px 1px 1px);clip: rect(1px, 1px, 1px, 1px);height: 1px;margin: -1px;overflow: hidden;padding: 0;position: absolute;width: 1px;}#sk-container-id-4 div.sk-estimator {font-family: monospace;background-color: #f0f8ff;border: 1px dotted black;border-radius: 0.25em;box-sizing: border-box;margin-bottom: 0.5em;}#sk-container-id-4 div.sk-estimator:hover {background-color: #d4ebff;}#sk-container-id-4 div.sk-parallel-item::after {content: \"\";width: 100%;border-bottom: 1px solid gray;flex-grow: 1;}#sk-container-id-4 div.sk-label:hover label.sk-toggleable__label {background-color: #d4ebff;}#sk-container-id-4 div.sk-serial::before {content: \"\";position: absolute;border-left: 1px solid gray;box-sizing: border-box;top: 0;bottom: 0;left: 50%;z-index: 0;}#sk-container-id-4 div.sk-serial {display: flex;flex-direction: column;align-items: center;background-color: white;padding-right: 0.2em;padding-left: 0.2em;position: relative;}#sk-container-id-4 div.sk-item {position: relative;z-index: 1;}#sk-container-id-4 div.sk-parallel {display: flex;align-items: stretch;justify-content: center;background-color: white;position: relative;}#sk-container-id-4 div.sk-item::before, #sk-container-id-4 div.sk-parallel-item::before {content: \"\";position: absolute;border-left: 1px solid gray;box-sizing: border-box;top: 0;bottom: 0;left: 50%;z-index: -1;}#sk-container-id-4 div.sk-parallel-item {display: flex;flex-direction: column;z-index: 1;position: relative;background-color: white;}#sk-container-id-4 div.sk-parallel-item:first-child::after {align-self: flex-end;width: 50%;}#sk-container-id-4 div.sk-parallel-item:last-child::after {align-self: flex-start;width: 50%;}#sk-container-id-4 div.sk-parallel-item:only-child::after {width: 0;}#sk-container-id-4 div.sk-dashed-wrapped {border: 1px dashed gray;margin: 0 0.4em 0.5em 0.4em;box-sizing: border-box;padding-bottom: 0.4em;background-color: white;}#sk-container-id-4 div.sk-label label {font-family: monospace;font-weight: bold;display: inline-block;line-height: 1.2em;}#sk-container-id-4 div.sk-label-container {text-align: center;}#sk-container-id-4 div.sk-container {/* jupyter's `normalize.less` sets `[hidden] { display: none; }` but bootstrap.min.css set `[hidden] { display: none !important; }` so we also need the `!important` here to be able to override the default hidden behavior on the sphinx rendered scikit-learn.org. See: https://github.com/scikit-learn/scikit-learn/issues/21755 */display: inline-block !important;position: relative;}#sk-container-id-4 div.sk-text-repr-fallback {display: none;}</style><div id=\"sk-container-id-4\" class=\"sk-top-container\"><div class=\"sk-text-repr-fallback\"><pre>GridSearchCV(estimator=DecisionTreeClassifier(),\n",
       "             param_grid={&#x27;criterion&#x27;: [&#x27;gini&#x27;, &#x27;entropy&#x27;],\n",
       "                         &#x27;max_depth&#x27;: [3, 5, 7, 9],\n",
       "                         &#x27;min_samples_leaf&#x27;: [50, 100, 200, 500]},\n",
       "             verbose=2)</pre><b>In a Jupyter environment, please rerun this cell to show the HTML representation or trust the notebook. <br />On GitHub, the HTML representation is unable to render, please try loading this page with nbviewer.org.</b></div><div class=\"sk-container\" hidden><div class=\"sk-item sk-dashed-wrapped\"><div class=\"sk-label-container\"><div class=\"sk-label sk-toggleable\"><input class=\"sk-toggleable__control sk-hidden--visually\" id=\"sk-estimator-id-4\" type=\"checkbox\" ><label for=\"sk-estimator-id-4\" class=\"sk-toggleable__label sk-toggleable__label-arrow\">GridSearchCV</label><div class=\"sk-toggleable__content\"><pre>GridSearchCV(estimator=DecisionTreeClassifier(),\n",
       "             param_grid={&#x27;criterion&#x27;: [&#x27;gini&#x27;, &#x27;entropy&#x27;],\n",
       "                         &#x27;max_depth&#x27;: [3, 5, 7, 9],\n",
       "                         &#x27;min_samples_leaf&#x27;: [50, 100, 200, 500]},\n",
       "             verbose=2)</pre></div></div></div><div class=\"sk-parallel\"><div class=\"sk-parallel-item\"><div class=\"sk-item\"><div class=\"sk-label-container\"><div class=\"sk-label sk-toggleable\"><input class=\"sk-toggleable__control sk-hidden--visually\" id=\"sk-estimator-id-5\" type=\"checkbox\" ><label for=\"sk-estimator-id-5\" class=\"sk-toggleable__label sk-toggleable__label-arrow\">estimator: DecisionTreeClassifier</label><div class=\"sk-toggleable__content\"><pre>DecisionTreeClassifier()</pre></div></div></div><div class=\"sk-serial\"><div class=\"sk-item\"><div class=\"sk-estimator sk-toggleable\"><input class=\"sk-toggleable__control sk-hidden--visually\" id=\"sk-estimator-id-6\" type=\"checkbox\" ><label for=\"sk-estimator-id-6\" class=\"sk-toggleable__label sk-toggleable__label-arrow\">DecisionTreeClassifier</label><div class=\"sk-toggleable__content\"><pre>DecisionTreeClassifier()</pre></div></div></div></div></div></div></div></div></div></div>"
      ],
      "text/plain": [
       "GridSearchCV(estimator=DecisionTreeClassifier(),\n",
       "             param_grid={'criterion': ['gini', 'entropy'],\n",
       "                         'max_depth': [3, 5, 7, 9],\n",
       "                         'min_samples_leaf': [50, 100, 200, 500]},\n",
       "             verbose=2)"
      ]
     },
     "execution_count": 18,
     "metadata": {},
     "output_type": "execute_result"
    }
   ],
   "source": [
    "model_grid = GridSearchCV(model, param_grid, verbose=2)\n",
    "model_grid.fit(X_train, y_train)"
   ]
  },
  {
   "cell_type": "code",
   "execution_count": 19,
   "id": "2ced4b3c",
   "metadata": {
    "execution": {
     "iopub.execute_input": "2024-07-06T19:26:23.939359Z",
     "iopub.status.busy": "2024-07-06T19:26:23.939035Z",
     "iopub.status.idle": "2024-07-06T19:26:23.944840Z",
     "shell.execute_reply": "2024-07-06T19:26:23.944092Z"
    },
    "papermill": {
     "duration": 0.022276,
     "end_time": "2024-07-06T19:26:23.947743",
     "exception": false,
     "start_time": "2024-07-06T19:26:23.925467",
     "status": "completed"
    },
    "tags": []
   },
   "outputs": [
    {
     "data": {
      "text/plain": [
       "{'max_depth': [3, 5, 7, 9],\n",
       " 'min_samples_leaf': [50, 100, 200, 500],\n",
       " 'criterion': ['gini', 'entropy']}"
      ]
     },
     "execution_count": 19,
     "metadata": {},
     "output_type": "execute_result"
    }
   ],
   "source": [
    "param_grid"
   ]
  },
  {
   "cell_type": "code",
   "execution_count": 20,
   "id": "fde33cf2",
   "metadata": {
    "execution": {
     "iopub.execute_input": "2024-07-06T19:26:23.968994Z",
     "iopub.status.busy": "2024-07-06T19:26:23.968742Z",
     "iopub.status.idle": "2024-07-06T19:26:23.973159Z",
     "shell.execute_reply": "2024-07-06T19:26:23.972661Z"
    },
    "papermill": {
     "duration": 0.016784,
     "end_time": "2024-07-06T19:26:23.974716",
     "exception": false,
     "start_time": "2024-07-06T19:26:23.957932",
     "status": "completed"
    },
    "tags": []
   },
   "outputs": [
    {
     "data": {
      "text/plain": [
       "32"
      ]
     },
     "execution_count": 20,
     "metadata": {},
     "output_type": "execute_result"
    }
   ],
   "source": [
    "4 * 4 * 2"
   ]
  },
  {
   "cell_type": "code",
   "execution_count": 21,
   "id": "af3a7618",
   "metadata": {
    "execution": {
     "iopub.execute_input": "2024-07-06T19:26:23.996701Z",
     "iopub.status.busy": "2024-07-06T19:26:23.996416Z",
     "iopub.status.idle": "2024-07-06T19:26:24.001543Z",
     "shell.execute_reply": "2024-07-06T19:26:24.000872Z"
    },
    "papermill": {
     "duration": 0.017918,
     "end_time": "2024-07-06T19:26:24.003071",
     "exception": false,
     "start_time": "2024-07-06T19:26:23.985153",
     "status": "completed"
    },
    "tags": []
   },
   "outputs": [
    {
     "data": {
      "text/html": [
       "<style>#sk-container-id-5 {color: black;}#sk-container-id-5 pre{padding: 0;}#sk-container-id-5 div.sk-toggleable {background-color: white;}#sk-container-id-5 label.sk-toggleable__label {cursor: pointer;display: block;width: 100%;margin-bottom: 0;padding: 0.3em;box-sizing: border-box;text-align: center;}#sk-container-id-5 label.sk-toggleable__label-arrow:before {content: \"▸\";float: left;margin-right: 0.25em;color: #696969;}#sk-container-id-5 label.sk-toggleable__label-arrow:hover:before {color: black;}#sk-container-id-5 div.sk-estimator:hover label.sk-toggleable__label-arrow:before {color: black;}#sk-container-id-5 div.sk-toggleable__content {max-height: 0;max-width: 0;overflow: hidden;text-align: left;background-color: #f0f8ff;}#sk-container-id-5 div.sk-toggleable__content pre {margin: 0.2em;color: black;border-radius: 0.25em;background-color: #f0f8ff;}#sk-container-id-5 input.sk-toggleable__control:checked~div.sk-toggleable__content {max-height: 200px;max-width: 100%;overflow: auto;}#sk-container-id-5 input.sk-toggleable__control:checked~label.sk-toggleable__label-arrow:before {content: \"▾\";}#sk-container-id-5 div.sk-estimator input.sk-toggleable__control:checked~label.sk-toggleable__label {background-color: #d4ebff;}#sk-container-id-5 div.sk-label input.sk-toggleable__control:checked~label.sk-toggleable__label {background-color: #d4ebff;}#sk-container-id-5 input.sk-hidden--visually {border: 0;clip: rect(1px 1px 1px 1px);clip: rect(1px, 1px, 1px, 1px);height: 1px;margin: -1px;overflow: hidden;padding: 0;position: absolute;width: 1px;}#sk-container-id-5 div.sk-estimator {font-family: monospace;background-color: #f0f8ff;border: 1px dotted black;border-radius: 0.25em;box-sizing: border-box;margin-bottom: 0.5em;}#sk-container-id-5 div.sk-estimator:hover {background-color: #d4ebff;}#sk-container-id-5 div.sk-parallel-item::after {content: \"\";width: 100%;border-bottom: 1px solid gray;flex-grow: 1;}#sk-container-id-5 div.sk-label:hover label.sk-toggleable__label {background-color: #d4ebff;}#sk-container-id-5 div.sk-serial::before {content: \"\";position: absolute;border-left: 1px solid gray;box-sizing: border-box;top: 0;bottom: 0;left: 50%;z-index: 0;}#sk-container-id-5 div.sk-serial {display: flex;flex-direction: column;align-items: center;background-color: white;padding-right: 0.2em;padding-left: 0.2em;position: relative;}#sk-container-id-5 div.sk-item {position: relative;z-index: 1;}#sk-container-id-5 div.sk-parallel {display: flex;align-items: stretch;justify-content: center;background-color: white;position: relative;}#sk-container-id-5 div.sk-item::before, #sk-container-id-5 div.sk-parallel-item::before {content: \"\";position: absolute;border-left: 1px solid gray;box-sizing: border-box;top: 0;bottom: 0;left: 50%;z-index: -1;}#sk-container-id-5 div.sk-parallel-item {display: flex;flex-direction: column;z-index: 1;position: relative;background-color: white;}#sk-container-id-5 div.sk-parallel-item:first-child::after {align-self: flex-end;width: 50%;}#sk-container-id-5 div.sk-parallel-item:last-child::after {align-self: flex-start;width: 50%;}#sk-container-id-5 div.sk-parallel-item:only-child::after {width: 0;}#sk-container-id-5 div.sk-dashed-wrapped {border: 1px dashed gray;margin: 0 0.4em 0.5em 0.4em;box-sizing: border-box;padding-bottom: 0.4em;background-color: white;}#sk-container-id-5 div.sk-label label {font-family: monospace;font-weight: bold;display: inline-block;line-height: 1.2em;}#sk-container-id-5 div.sk-label-container {text-align: center;}#sk-container-id-5 div.sk-container {/* jupyter's `normalize.less` sets `[hidden] { display: none; }` but bootstrap.min.css set `[hidden] { display: none !important; }` so we also need the `!important` here to be able to override the default hidden behavior on the sphinx rendered scikit-learn.org. See: https://github.com/scikit-learn/scikit-learn/issues/21755 */display: inline-block !important;position: relative;}#sk-container-id-5 div.sk-text-repr-fallback {display: none;}</style><div id=\"sk-container-id-5\" class=\"sk-top-container\"><div class=\"sk-text-repr-fallback\"><pre>DecisionTreeClassifier(max_depth=3, min_samples_leaf=50)</pre><b>In a Jupyter environment, please rerun this cell to show the HTML representation or trust the notebook. <br />On GitHub, the HTML representation is unable to render, please try loading this page with nbviewer.org.</b></div><div class=\"sk-container\" hidden><div class=\"sk-item\"><div class=\"sk-estimator sk-toggleable\"><input class=\"sk-toggleable__control sk-hidden--visually\" id=\"sk-estimator-id-7\" type=\"checkbox\" checked><label for=\"sk-estimator-id-7\" class=\"sk-toggleable__label sk-toggleable__label-arrow\">DecisionTreeClassifier</label><div class=\"sk-toggleable__content\"><pre>DecisionTreeClassifier(max_depth=3, min_samples_leaf=50)</pre></div></div></div></div></div>"
      ],
      "text/plain": [
       "DecisionTreeClassifier(max_depth=3, min_samples_leaf=50)"
      ]
     },
     "execution_count": 21,
     "metadata": {},
     "output_type": "execute_result"
    }
   ],
   "source": [
    "model_grid.best_estimator_"
   ]
  },
  {
   "cell_type": "code",
   "execution_count": 22,
   "id": "ebf7c29c",
   "metadata": {
    "execution": {
     "iopub.execute_input": "2024-07-06T19:26:24.025124Z",
     "iopub.status.busy": "2024-07-06T19:26:24.024893Z",
     "iopub.status.idle": "2024-07-06T19:26:24.030192Z",
     "shell.execute_reply": "2024-07-06T19:26:24.028929Z"
    },
    "papermill": {
     "duration": 0.017977,
     "end_time": "2024-07-06T19:26:24.032123",
     "exception": false,
     "start_time": "2024-07-06T19:26:24.014146",
     "status": "completed"
    },
    "tags": []
   },
   "outputs": [
    {
     "data": {
      "text/plain": [
       "0.7242482817869416"
      ]
     },
     "execution_count": 22,
     "metadata": {},
     "output_type": "execute_result"
    }
   ],
   "source": [
    "model_grid.best_score_"
   ]
  },
  {
   "cell_type": "code",
   "execution_count": 23,
   "id": "9b06fc2c",
   "metadata": {
    "execution": {
     "iopub.execute_input": "2024-07-06T19:26:24.058011Z",
     "iopub.status.busy": "2024-07-06T19:26:24.057295Z",
     "iopub.status.idle": "2024-07-06T19:26:24.064411Z",
     "shell.execute_reply": "2024-07-06T19:26:24.063696Z"
    },
    "papermill": {
     "duration": 0.022915,
     "end_time": "2024-07-06T19:26:24.066083",
     "exception": false,
     "start_time": "2024-07-06T19:26:24.043168",
     "status": "completed"
    },
    "tags": []
   },
   "outputs": [
    {
     "data": {
      "text/plain": [
       "0.6908212560386473"
      ]
     },
     "execution_count": 23,
     "metadata": {},
     "output_type": "execute_result"
    }
   ],
   "source": [
    "model_grid.score(X_test, y_test)"
   ]
  },
  {
   "attachments": {},
   "cell_type": "markdown",
   "id": "a6ce7ec9",
   "metadata": {
    "papermill": {
     "duration": 0.01097,
     "end_time": "2024-07-06T19:26:24.086148",
     "exception": false,
     "start_time": "2024-07-06T19:26:24.075178",
     "status": "completed"
    },
    "tags": []
   },
   "source": [
    "## Grid search with other models"
   ]
  },
  {
   "cell_type": "code",
   "execution_count": 24,
   "id": "8f556bac",
   "metadata": {
    "execution": {
     "iopub.execute_input": "2024-07-06T19:26:24.114295Z",
     "iopub.status.busy": "2024-07-06T19:26:24.113872Z",
     "iopub.status.idle": "2024-07-06T19:26:24.188118Z",
     "shell.execute_reply": "2024-07-06T19:26:24.187563Z"
    },
    "papermill": {
     "duration": 0.090192,
     "end_time": "2024-07-06T19:26:24.189901",
     "exception": false,
     "start_time": "2024-07-06T19:26:24.099709",
     "status": "completed"
    },
    "tags": []
   },
   "outputs": [
    {
     "data": {
      "text/plain": [
       "{'ccp_alpha': 0.0,\n",
       " 'criterion': 'friedman_mse',\n",
       " 'init': None,\n",
       " 'learning_rate': 0.1,\n",
       " 'loss': 'log_loss',\n",
       " 'max_depth': 3,\n",
       " 'max_features': None,\n",
       " 'max_leaf_nodes': None,\n",
       " 'min_impurity_decrease': 0.0,\n",
       " 'min_samples_leaf': 1,\n",
       " 'min_samples_split': 2,\n",
       " 'min_weight_fraction_leaf': 0.0,\n",
       " 'n_estimators': 100,\n",
       " 'n_iter_no_change': None,\n",
       " 'random_state': None,\n",
       " 'subsample': 1.0,\n",
       " 'tol': 0.0001,\n",
       " 'validation_fraction': 0.1,\n",
       " 'verbose': 0,\n",
       " 'warm_start': False}"
      ]
     },
     "execution_count": 24,
     "metadata": {},
     "output_type": "execute_result"
    }
   ],
   "source": [
    "from sklearn.ensemble import GradientBoostingClassifier\n",
    "\n",
    "model = GradientBoostingClassifier()\n",
    "model.get_params()"
   ]
  },
  {
   "cell_type": "code",
   "execution_count": 25,
   "id": "e5e6be4d",
   "metadata": {
    "execution": {
     "iopub.execute_input": "2024-07-06T19:26:24.214167Z",
     "iopub.status.busy": "2024-07-06T19:26:24.213777Z",
     "iopub.status.idle": "2024-07-06T19:26:24.217978Z",
     "shell.execute_reply": "2024-07-06T19:26:24.217117Z"
    },
    "papermill": {
     "duration": 0.01957,
     "end_time": "2024-07-06T19:26:24.220402",
     "exception": false,
     "start_time": "2024-07-06T19:26:24.200832",
     "status": "completed"
    },
    "tags": []
   },
   "outputs": [],
   "source": [
    "param_grid = {\n",
    "    'n_estimators': [50, 100, 200],\n",
    "    'max_depth': [3, 5, 7],\n",
    "    'learning_rate': [0.01, 0.1, 1]\n",
    "}"
   ]
  },
  {
   "cell_type": "code",
   "execution_count": 26,
   "id": "f8bebbde",
   "metadata": {
    "execution": {
     "iopub.execute_input": "2024-07-06T19:26:24.243201Z",
     "iopub.status.busy": "2024-07-06T19:26:24.242943Z",
     "iopub.status.idle": "2024-07-06T19:26:47.990624Z",
     "shell.execute_reply": "2024-07-06T19:26:47.989673Z"
    },
    "papermill": {
     "duration": 23.761623,
     "end_time": "2024-07-06T19:26:47.992824",
     "exception": false,
     "start_time": "2024-07-06T19:26:24.231201",
     "status": "completed"
    },
    "tags": []
   },
   "outputs": [
    {
     "name": "stdout",
     "output_type": "stream",
     "text": [
      "Fitting 5 folds for each of 27 candidates, totalling 135 fits\n",
      "[CV] END ...learning_rate=0.01, max_depth=3, n_estimators=50; total time=   0.1s\n",
      "[CV] END ...learning_rate=0.01, max_depth=3, n_estimators=50; total time=   0.1s\n",
      "[CV] END ...learning_rate=0.01, max_depth=3, n_estimators=50; total time=   0.1s\n"
     ]
    },
    {
     "name": "stdout",
     "output_type": "stream",
     "text": [
      "[CV] END ...learning_rate=0.01, max_depth=3, n_estimators=50; total time=   0.1s\n",
      "[CV] END ...learning_rate=0.01, max_depth=3, n_estimators=50; total time=   0.0s\n",
      "[CV] END ..learning_rate=0.01, max_depth=3, n_estimators=100; total time=   0.1s\n"
     ]
    },
    {
     "name": "stdout",
     "output_type": "stream",
     "text": [
      "[CV] END ..learning_rate=0.01, max_depth=3, n_estimators=100; total time=   0.1s\n",
      "[CV] END ..learning_rate=0.01, max_depth=3, n_estimators=100; total time=   0.1s\n",
      "[CV] END ..learning_rate=0.01, max_depth=3, n_estimators=100; total time=   0.1s\n"
     ]
    },
    {
     "name": "stdout",
     "output_type": "stream",
     "text": [
      "[CV] END ..learning_rate=0.01, max_depth=3, n_estimators=100; total time=   0.1s\n"
     ]
    },
    {
     "name": "stdout",
     "output_type": "stream",
     "text": [
      "[CV] END ..learning_rate=0.01, max_depth=3, n_estimators=200; total time=   0.2s\n",
      "[CV] END ..learning_rate=0.01, max_depth=3, n_estimators=200; total time=   0.2s\n"
     ]
    },
    {
     "name": "stdout",
     "output_type": "stream",
     "text": [
      "[CV] END ..learning_rate=0.01, max_depth=3, n_estimators=200; total time=   0.2s\n",
      "[CV] END ..learning_rate=0.01, max_depth=3, n_estimators=200; total time=   0.2s\n"
     ]
    },
    {
     "name": "stdout",
     "output_type": "stream",
     "text": [
      "[CV] END ..learning_rate=0.01, max_depth=3, n_estimators=200; total time=   0.2s\n",
      "[CV] END ...learning_rate=0.01, max_depth=5, n_estimators=50; total time=   0.1s\n",
      "[CV] END ...learning_rate=0.01, max_depth=5, n_estimators=50; total time=   0.1s\n"
     ]
    },
    {
     "name": "stdout",
     "output_type": "stream",
     "text": [
      "[CV] END ...learning_rate=0.01, max_depth=5, n_estimators=50; total time=   0.1s\n",
      "[CV] END ...learning_rate=0.01, max_depth=5, n_estimators=50; total time=   0.1s\n",
      "[CV] END ...learning_rate=0.01, max_depth=5, n_estimators=50; total time=   0.1s\n"
     ]
    },
    {
     "name": "stdout",
     "output_type": "stream",
     "text": [
      "[CV] END ..learning_rate=0.01, max_depth=5, n_estimators=100; total time=   0.2s\n",
      "[CV] END ..learning_rate=0.01, max_depth=5, n_estimators=100; total time=   0.2s\n"
     ]
    },
    {
     "name": "stdout",
     "output_type": "stream",
     "text": [
      "[CV] END ..learning_rate=0.01, max_depth=5, n_estimators=100; total time=   0.1s\n",
      "[CV] END ..learning_rate=0.01, max_depth=5, n_estimators=100; total time=   0.1s\n"
     ]
    },
    {
     "name": "stdout",
     "output_type": "stream",
     "text": [
      "[CV] END ..learning_rate=0.01, max_depth=5, n_estimators=100; total time=   0.2s\n"
     ]
    },
    {
     "name": "stdout",
     "output_type": "stream",
     "text": [
      "[CV] END ..learning_rate=0.01, max_depth=5, n_estimators=200; total time=   0.3s\n"
     ]
    },
    {
     "name": "stdout",
     "output_type": "stream",
     "text": [
      "[CV] END ..learning_rate=0.01, max_depth=5, n_estimators=200; total time=   0.3s\n"
     ]
    },
    {
     "name": "stdout",
     "output_type": "stream",
     "text": [
      "[CV] END ..learning_rate=0.01, max_depth=5, n_estimators=200; total time=   0.3s\n"
     ]
    },
    {
     "name": "stdout",
     "output_type": "stream",
     "text": [
      "[CV] END ..learning_rate=0.01, max_depth=5, n_estimators=200; total time=   0.3s\n"
     ]
    },
    {
     "name": "stdout",
     "output_type": "stream",
     "text": [
      "[CV] END ..learning_rate=0.01, max_depth=5, n_estimators=200; total time=   0.3s\n",
      "[CV] END ...learning_rate=0.01, max_depth=7, n_estimators=50; total time=   0.1s\n"
     ]
    },
    {
     "name": "stdout",
     "output_type": "stream",
     "text": [
      "[CV] END ...learning_rate=0.01, max_depth=7, n_estimators=50; total time=   0.1s\n",
      "[CV] END ...learning_rate=0.01, max_depth=7, n_estimators=50; total time=   0.1s\n"
     ]
    },
    {
     "name": "stdout",
     "output_type": "stream",
     "text": [
      "[CV] END ...learning_rate=0.01, max_depth=7, n_estimators=50; total time=   0.1s\n",
      "[CV] END ...learning_rate=0.01, max_depth=7, n_estimators=50; total time=   0.1s\n"
     ]
    },
    {
     "name": "stdout",
     "output_type": "stream",
     "text": [
      "[CV] END ..learning_rate=0.01, max_depth=7, n_estimators=100; total time=   0.2s\n"
     ]
    },
    {
     "name": "stdout",
     "output_type": "stream",
     "text": [
      "[CV] END ..learning_rate=0.01, max_depth=7, n_estimators=100; total time=   0.3s\n"
     ]
    },
    {
     "name": "stdout",
     "output_type": "stream",
     "text": [
      "[CV] END ..learning_rate=0.01, max_depth=7, n_estimators=100; total time=   0.2s\n"
     ]
    },
    {
     "name": "stdout",
     "output_type": "stream",
     "text": [
      "[CV] END ..learning_rate=0.01, max_depth=7, n_estimators=100; total time=   0.3s\n"
     ]
    },
    {
     "name": "stdout",
     "output_type": "stream",
     "text": [
      "[CV] END ..learning_rate=0.01, max_depth=7, n_estimators=100; total time=   0.2s\n"
     ]
    },
    {
     "name": "stdout",
     "output_type": "stream",
     "text": [
      "[CV] END ..learning_rate=0.01, max_depth=7, n_estimators=200; total time=   0.5s\n"
     ]
    },
    {
     "name": "stdout",
     "output_type": "stream",
     "text": [
      "[CV] END ..learning_rate=0.01, max_depth=7, n_estimators=200; total time=   0.5s\n"
     ]
    },
    {
     "name": "stdout",
     "output_type": "stream",
     "text": [
      "[CV] END ..learning_rate=0.01, max_depth=7, n_estimators=200; total time=   0.5s\n"
     ]
    },
    {
     "name": "stdout",
     "output_type": "stream",
     "text": [
      "[CV] END ..learning_rate=0.01, max_depth=7, n_estimators=200; total time=   0.5s\n"
     ]
    },
    {
     "name": "stdout",
     "output_type": "stream",
     "text": [
      "[CV] END ..learning_rate=0.01, max_depth=7, n_estimators=200; total time=   0.5s\n",
      "[CV] END ....learning_rate=0.1, max_depth=3, n_estimators=50; total time=   0.0s\n",
      "[CV] END ....learning_rate=0.1, max_depth=3, n_estimators=50; total time=   0.0s\n",
      "[CV] END ....learning_rate=0.1, max_depth=3, n_estimators=50; total time=   0.0s\n",
      "[CV] END ....learning_rate=0.1, max_depth=3, n_estimators=50; total time=   0.0s\n"
     ]
    },
    {
     "name": "stdout",
     "output_type": "stream",
     "text": [
      "[CV] END ....learning_rate=0.1, max_depth=3, n_estimators=50; total time=   0.0s\n",
      "[CV] END ...learning_rate=0.1, max_depth=3, n_estimators=100; total time=   0.1s\n",
      "[CV] END ...learning_rate=0.1, max_depth=3, n_estimators=100; total time=   0.1s\n"
     ]
    },
    {
     "name": "stdout",
     "output_type": "stream",
     "text": [
      "[CV] END ...learning_rate=0.1, max_depth=3, n_estimators=100; total time=   0.1s\n",
      "[CV] END ...learning_rate=0.1, max_depth=3, n_estimators=100; total time=   0.1s\n",
      "[CV] END ...learning_rate=0.1, max_depth=3, n_estimators=100; total time=   0.1s\n"
     ]
    },
    {
     "name": "stdout",
     "output_type": "stream",
     "text": [
      "[CV] END ...learning_rate=0.1, max_depth=3, n_estimators=200; total time=   0.2s\n",
      "[CV] END ...learning_rate=0.1, max_depth=3, n_estimators=200; total time=   0.2s\n"
     ]
    },
    {
     "name": "stdout",
     "output_type": "stream",
     "text": [
      "[CV] END ...learning_rate=0.1, max_depth=3, n_estimators=200; total time=   0.2s\n",
      "[CV] END ...learning_rate=0.1, max_depth=3, n_estimators=200; total time=   0.2s\n"
     ]
    },
    {
     "name": "stdout",
     "output_type": "stream",
     "text": [
      "[CV] END ...learning_rate=0.1, max_depth=3, n_estimators=200; total time=   0.2s\n",
      "[CV] END ....learning_rate=0.1, max_depth=5, n_estimators=50; total time=   0.1s\n",
      "[CV] END ....learning_rate=0.1, max_depth=5, n_estimators=50; total time=   0.1s\n"
     ]
    },
    {
     "name": "stdout",
     "output_type": "stream",
     "text": [
      "[CV] END ....learning_rate=0.1, max_depth=5, n_estimators=50; total time=   0.1s\n",
      "[CV] END ....learning_rate=0.1, max_depth=5, n_estimators=50; total time=   0.1s\n",
      "[CV] END ....learning_rate=0.1, max_depth=5, n_estimators=50; total time=   0.1s\n"
     ]
    },
    {
     "name": "stdout",
     "output_type": "stream",
     "text": [
      "[CV] END ...learning_rate=0.1, max_depth=5, n_estimators=100; total time=   0.1s\n",
      "[CV] END ...learning_rate=0.1, max_depth=5, n_estimators=100; total time=   0.1s\n"
     ]
    },
    {
     "name": "stdout",
     "output_type": "stream",
     "text": [
      "[CV] END ...learning_rate=0.1, max_depth=5, n_estimators=100; total time=   0.2s\n",
      "[CV] END ...learning_rate=0.1, max_depth=5, n_estimators=100; total time=   0.1s\n"
     ]
    },
    {
     "name": "stdout",
     "output_type": "stream",
     "text": [
      "[CV] END ...learning_rate=0.1, max_depth=5, n_estimators=100; total time=   0.1s\n"
     ]
    },
    {
     "name": "stdout",
     "output_type": "stream",
     "text": [
      "[CV] END ...learning_rate=0.1, max_depth=5, n_estimators=200; total time=   0.3s\n"
     ]
    },
    {
     "name": "stdout",
     "output_type": "stream",
     "text": [
      "[CV] END ...learning_rate=0.1, max_depth=5, n_estimators=200; total time=   0.3s\n"
     ]
    },
    {
     "name": "stdout",
     "output_type": "stream",
     "text": [
      "[CV] END ...learning_rate=0.1, max_depth=5, n_estimators=200; total time=   0.3s\n"
     ]
    },
    {
     "name": "stdout",
     "output_type": "stream",
     "text": [
      "[CV] END ...learning_rate=0.1, max_depth=5, n_estimators=200; total time=   0.3s\n"
     ]
    },
    {
     "name": "stdout",
     "output_type": "stream",
     "text": [
      "[CV] END ...learning_rate=0.1, max_depth=5, n_estimators=200; total time=   0.3s\n",
      "[CV] END ....learning_rate=0.1, max_depth=7, n_estimators=50; total time=   0.1s\n"
     ]
    },
    {
     "name": "stdout",
     "output_type": "stream",
     "text": [
      "[CV] END ....learning_rate=0.1, max_depth=7, n_estimators=50; total time=   0.1s\n",
      "[CV] END ....learning_rate=0.1, max_depth=7, n_estimators=50; total time=   0.1s\n"
     ]
    },
    {
     "name": "stdout",
     "output_type": "stream",
     "text": [
      "[CV] END ....learning_rate=0.1, max_depth=7, n_estimators=50; total time=   0.1s\n",
      "[CV] END ....learning_rate=0.1, max_depth=7, n_estimators=50; total time=   0.1s\n"
     ]
    },
    {
     "name": "stdout",
     "output_type": "stream",
     "text": [
      "[CV] END ...learning_rate=0.1, max_depth=7, n_estimators=100; total time=   0.2s\n"
     ]
    },
    {
     "name": "stdout",
     "output_type": "stream",
     "text": [
      "[CV] END ...learning_rate=0.1, max_depth=7, n_estimators=100; total time=   0.2s\n"
     ]
    },
    {
     "name": "stdout",
     "output_type": "stream",
     "text": [
      "[CV] END ...learning_rate=0.1, max_depth=7, n_estimators=100; total time=   0.3s\n"
     ]
    },
    {
     "name": "stdout",
     "output_type": "stream",
     "text": [
      "[CV] END ...learning_rate=0.1, max_depth=7, n_estimators=100; total time=   0.2s\n"
     ]
    },
    {
     "name": "stdout",
     "output_type": "stream",
     "text": [
      "[CV] END ...learning_rate=0.1, max_depth=7, n_estimators=100; total time=   0.2s\n"
     ]
    },
    {
     "name": "stdout",
     "output_type": "stream",
     "text": [
      "[CV] END ...learning_rate=0.1, max_depth=7, n_estimators=200; total time=   0.5s\n"
     ]
    },
    {
     "name": "stdout",
     "output_type": "stream",
     "text": [
      "[CV] END ...learning_rate=0.1, max_depth=7, n_estimators=200; total time=   0.5s\n"
     ]
    },
    {
     "name": "stdout",
     "output_type": "stream",
     "text": [
      "[CV] END ...learning_rate=0.1, max_depth=7, n_estimators=200; total time=   0.5s\n"
     ]
    },
    {
     "name": "stdout",
     "output_type": "stream",
     "text": [
      "[CV] END ...learning_rate=0.1, max_depth=7, n_estimators=200; total time=   0.5s\n"
     ]
    },
    {
     "name": "stdout",
     "output_type": "stream",
     "text": [
      "[CV] END ...learning_rate=0.1, max_depth=7, n_estimators=200; total time=   0.5s\n",
      "[CV] END ......learning_rate=1, max_depth=3, n_estimators=50; total time=   0.1s\n",
      "[CV] END ......learning_rate=1, max_depth=3, n_estimators=50; total time=   0.0s\n",
      "[CV] END ......learning_rate=1, max_depth=3, n_estimators=50; total time=   0.1s\n"
     ]
    },
    {
     "name": "stdout",
     "output_type": "stream",
     "text": [
      "[CV] END ......learning_rate=1, max_depth=3, n_estimators=50; total time=   0.1s\n",
      "[CV] END ......learning_rate=1, max_depth=3, n_estimators=50; total time=   0.0s\n",
      "[CV] END .....learning_rate=1, max_depth=3, n_estimators=100; total time=   0.1s\n"
     ]
    },
    {
     "name": "stdout",
     "output_type": "stream",
     "text": [
      "[CV] END .....learning_rate=1, max_depth=3, n_estimators=100; total time=   0.1s\n",
      "[CV] END .....learning_rate=1, max_depth=3, n_estimators=100; total time=   0.1s\n",
      "[CV] END .....learning_rate=1, max_depth=3, n_estimators=100; total time=   0.1s\n"
     ]
    },
    {
     "name": "stdout",
     "output_type": "stream",
     "text": [
      "[CV] END .....learning_rate=1, max_depth=3, n_estimators=100; total time=   0.1s\n",
      "[CV] END .....learning_rate=1, max_depth=3, n_estimators=200; total time=   0.2s\n"
     ]
    },
    {
     "name": "stdout",
     "output_type": "stream",
     "text": [
      "[CV] END .....learning_rate=1, max_depth=3, n_estimators=200; total time=   0.2s\n",
      "[CV] END .....learning_rate=1, max_depth=3, n_estimators=200; total time=   0.2s\n"
     ]
    },
    {
     "name": "stdout",
     "output_type": "stream",
     "text": [
      "[CV] END .....learning_rate=1, max_depth=3, n_estimators=200; total time=   0.2s\n",
      "[CV] END .....learning_rate=1, max_depth=3, n_estimators=200; total time=   0.2s\n"
     ]
    },
    {
     "name": "stdout",
     "output_type": "stream",
     "text": [
      "[CV] END ......learning_rate=1, max_depth=5, n_estimators=50; total time=   0.1s\n",
      "[CV] END ......learning_rate=1, max_depth=5, n_estimators=50; total time=   0.1s\n",
      "[CV] END ......learning_rate=1, max_depth=5, n_estimators=50; total time=   0.1s\n"
     ]
    },
    {
     "name": "stdout",
     "output_type": "stream",
     "text": [
      "[CV] END ......learning_rate=1, max_depth=5, n_estimators=50; total time=   0.1s\n",
      "[CV] END ......learning_rate=1, max_depth=5, n_estimators=50; total time=   0.1s\n"
     ]
    },
    {
     "name": "stdout",
     "output_type": "stream",
     "text": [
      "[CV] END .....learning_rate=1, max_depth=5, n_estimators=100; total time=   0.2s\n",
      "[CV] END .....learning_rate=1, max_depth=5, n_estimators=100; total time=   0.2s\n"
     ]
    },
    {
     "name": "stdout",
     "output_type": "stream",
     "text": [
      "[CV] END .....learning_rate=1, max_depth=5, n_estimators=100; total time=   0.1s\n",
      "[CV] END .....learning_rate=1, max_depth=5, n_estimators=100; total time=   0.1s\n"
     ]
    },
    {
     "name": "stdout",
     "output_type": "stream",
     "text": [
      "[CV] END .....learning_rate=1, max_depth=5, n_estimators=100; total time=   0.1s\n"
     ]
    },
    {
     "name": "stdout",
     "output_type": "stream",
     "text": [
      "[CV] END .....learning_rate=1, max_depth=5, n_estimators=200; total time=   0.2s\n"
     ]
    },
    {
     "name": "stdout",
     "output_type": "stream",
     "text": [
      "[CV] END .....learning_rate=1, max_depth=5, n_estimators=200; total time=   0.3s\n"
     ]
    },
    {
     "name": "stdout",
     "output_type": "stream",
     "text": [
      "[CV] END .....learning_rate=1, max_depth=5, n_estimators=200; total time=   0.2s\n"
     ]
    },
    {
     "name": "stdout",
     "output_type": "stream",
     "text": [
      "[CV] END .....learning_rate=1, max_depth=5, n_estimators=200; total time=   0.2s\n"
     ]
    },
    {
     "name": "stdout",
     "output_type": "stream",
     "text": [
      "[CV] END .....learning_rate=1, max_depth=5, n_estimators=200; total time=   0.2s\n",
      "[CV] END ......learning_rate=1, max_depth=7, n_estimators=50; total time=   0.1s\n"
     ]
    },
    {
     "name": "stdout",
     "output_type": "stream",
     "text": [
      "[CV] END ......learning_rate=1, max_depth=7, n_estimators=50; total time=   0.1s\n",
      "[CV] END ......learning_rate=1, max_depth=7, n_estimators=50; total time=   0.1s\n"
     ]
    },
    {
     "name": "stdout",
     "output_type": "stream",
     "text": [
      "[CV] END ......learning_rate=1, max_depth=7, n_estimators=50; total time=   0.1s\n",
      "[CV] END ......learning_rate=1, max_depth=7, n_estimators=50; total time=   0.1s\n"
     ]
    },
    {
     "name": "stdout",
     "output_type": "stream",
     "text": [
      "[CV] END .....learning_rate=1, max_depth=7, n_estimators=100; total time=   0.2s\n",
      "[CV] END .....learning_rate=1, max_depth=7, n_estimators=100; total time=   0.2s\n"
     ]
    },
    {
     "name": "stdout",
     "output_type": "stream",
     "text": [
      "[CV] END .....learning_rate=1, max_depth=7, n_estimators=100; total time=   0.2s\n",
      "[CV] END .....learning_rate=1, max_depth=7, n_estimators=100; total time=   0.2s\n"
     ]
    },
    {
     "name": "stdout",
     "output_type": "stream",
     "text": [
      "[CV] END .....learning_rate=1, max_depth=7, n_estimators=100; total time=   0.2s\n"
     ]
    },
    {
     "name": "stdout",
     "output_type": "stream",
     "text": [
      "[CV] END .....learning_rate=1, max_depth=7, n_estimators=200; total time=   0.2s\n"
     ]
    },
    {
     "name": "stdout",
     "output_type": "stream",
     "text": [
      "[CV] END .....learning_rate=1, max_depth=7, n_estimators=200; total time=   0.3s\n"
     ]
    },
    {
     "name": "stdout",
     "output_type": "stream",
     "text": [
      "[CV] END .....learning_rate=1, max_depth=7, n_estimators=200; total time=   0.3s\n"
     ]
    },
    {
     "name": "stdout",
     "output_type": "stream",
     "text": [
      "[CV] END .....learning_rate=1, max_depth=7, n_estimators=200; total time=   0.3s\n"
     ]
    },
    {
     "name": "stdout",
     "output_type": "stream",
     "text": [
      "[CV] END .....learning_rate=1, max_depth=7, n_estimators=200; total time=   0.2s\n"
     ]
    },
    {
     "data": {
      "text/html": [
       "<style>#sk-container-id-6 {color: black;}#sk-container-id-6 pre{padding: 0;}#sk-container-id-6 div.sk-toggleable {background-color: white;}#sk-container-id-6 label.sk-toggleable__label {cursor: pointer;display: block;width: 100%;margin-bottom: 0;padding: 0.3em;box-sizing: border-box;text-align: center;}#sk-container-id-6 label.sk-toggleable__label-arrow:before {content: \"▸\";float: left;margin-right: 0.25em;color: #696969;}#sk-container-id-6 label.sk-toggleable__label-arrow:hover:before {color: black;}#sk-container-id-6 div.sk-estimator:hover label.sk-toggleable__label-arrow:before {color: black;}#sk-container-id-6 div.sk-toggleable__content {max-height: 0;max-width: 0;overflow: hidden;text-align: left;background-color: #f0f8ff;}#sk-container-id-6 div.sk-toggleable__content pre {margin: 0.2em;color: black;border-radius: 0.25em;background-color: #f0f8ff;}#sk-container-id-6 input.sk-toggleable__control:checked~div.sk-toggleable__content {max-height: 200px;max-width: 100%;overflow: auto;}#sk-container-id-6 input.sk-toggleable__control:checked~label.sk-toggleable__label-arrow:before {content: \"▾\";}#sk-container-id-6 div.sk-estimator input.sk-toggleable__control:checked~label.sk-toggleable__label {background-color: #d4ebff;}#sk-container-id-6 div.sk-label input.sk-toggleable__control:checked~label.sk-toggleable__label {background-color: #d4ebff;}#sk-container-id-6 input.sk-hidden--visually {border: 0;clip: rect(1px 1px 1px 1px);clip: rect(1px, 1px, 1px, 1px);height: 1px;margin: -1px;overflow: hidden;padding: 0;position: absolute;width: 1px;}#sk-container-id-6 div.sk-estimator {font-family: monospace;background-color: #f0f8ff;border: 1px dotted black;border-radius: 0.25em;box-sizing: border-box;margin-bottom: 0.5em;}#sk-container-id-6 div.sk-estimator:hover {background-color: #d4ebff;}#sk-container-id-6 div.sk-parallel-item::after {content: \"\";width: 100%;border-bottom: 1px solid gray;flex-grow: 1;}#sk-container-id-6 div.sk-label:hover label.sk-toggleable__label {background-color: #d4ebff;}#sk-container-id-6 div.sk-serial::before {content: \"\";position: absolute;border-left: 1px solid gray;box-sizing: border-box;top: 0;bottom: 0;left: 50%;z-index: 0;}#sk-container-id-6 div.sk-serial {display: flex;flex-direction: column;align-items: center;background-color: white;padding-right: 0.2em;padding-left: 0.2em;position: relative;}#sk-container-id-6 div.sk-item {position: relative;z-index: 1;}#sk-container-id-6 div.sk-parallel {display: flex;align-items: stretch;justify-content: center;background-color: white;position: relative;}#sk-container-id-6 div.sk-item::before, #sk-container-id-6 div.sk-parallel-item::before {content: \"\";position: absolute;border-left: 1px solid gray;box-sizing: border-box;top: 0;bottom: 0;left: 50%;z-index: -1;}#sk-container-id-6 div.sk-parallel-item {display: flex;flex-direction: column;z-index: 1;position: relative;background-color: white;}#sk-container-id-6 div.sk-parallel-item:first-child::after {align-self: flex-end;width: 50%;}#sk-container-id-6 div.sk-parallel-item:last-child::after {align-self: flex-start;width: 50%;}#sk-container-id-6 div.sk-parallel-item:only-child::after {width: 0;}#sk-container-id-6 div.sk-dashed-wrapped {border: 1px dashed gray;margin: 0 0.4em 0.5em 0.4em;box-sizing: border-box;padding-bottom: 0.4em;background-color: white;}#sk-container-id-6 div.sk-label label {font-family: monospace;font-weight: bold;display: inline-block;line-height: 1.2em;}#sk-container-id-6 div.sk-label-container {text-align: center;}#sk-container-id-6 div.sk-container {/* jupyter's `normalize.less` sets `[hidden] { display: none; }` but bootstrap.min.css set `[hidden] { display: none !important; }` so we also need the `!important` here to be able to override the default hidden behavior on the sphinx rendered scikit-learn.org. See: https://github.com/scikit-learn/scikit-learn/issues/21755 */display: inline-block !important;position: relative;}#sk-container-id-6 div.sk-text-repr-fallback {display: none;}</style><div id=\"sk-container-id-6\" class=\"sk-top-container\"><div class=\"sk-text-repr-fallback\"><pre>GridSearchCV(estimator=GradientBoostingClassifier(),\n",
       "             param_grid={&#x27;learning_rate&#x27;: [0.01, 0.1, 1],\n",
       "                         &#x27;max_depth&#x27;: [3, 5, 7],\n",
       "                         &#x27;n_estimators&#x27;: [50, 100, 200]},\n",
       "             verbose=2)</pre><b>In a Jupyter environment, please rerun this cell to show the HTML representation or trust the notebook. <br />On GitHub, the HTML representation is unable to render, please try loading this page with nbviewer.org.</b></div><div class=\"sk-container\" hidden><div class=\"sk-item sk-dashed-wrapped\"><div class=\"sk-label-container\"><div class=\"sk-label sk-toggleable\"><input class=\"sk-toggleable__control sk-hidden--visually\" id=\"sk-estimator-id-8\" type=\"checkbox\" ><label for=\"sk-estimator-id-8\" class=\"sk-toggleable__label sk-toggleable__label-arrow\">GridSearchCV</label><div class=\"sk-toggleable__content\"><pre>GridSearchCV(estimator=GradientBoostingClassifier(),\n",
       "             param_grid={&#x27;learning_rate&#x27;: [0.01, 0.1, 1],\n",
       "                         &#x27;max_depth&#x27;: [3, 5, 7],\n",
       "                         &#x27;n_estimators&#x27;: [50, 100, 200]},\n",
       "             verbose=2)</pre></div></div></div><div class=\"sk-parallel\"><div class=\"sk-parallel-item\"><div class=\"sk-item\"><div class=\"sk-label-container\"><div class=\"sk-label sk-toggleable\"><input class=\"sk-toggleable__control sk-hidden--visually\" id=\"sk-estimator-id-9\" type=\"checkbox\" ><label for=\"sk-estimator-id-9\" class=\"sk-toggleable__label sk-toggleable__label-arrow\">estimator: GradientBoostingClassifier</label><div class=\"sk-toggleable__content\"><pre>GradientBoostingClassifier()</pre></div></div></div><div class=\"sk-serial\"><div class=\"sk-item\"><div class=\"sk-estimator sk-toggleable\"><input class=\"sk-toggleable__control sk-hidden--visually\" id=\"sk-estimator-id-10\" type=\"checkbox\" ><label for=\"sk-estimator-id-10\" class=\"sk-toggleable__label sk-toggleable__label-arrow\">GradientBoostingClassifier</label><div class=\"sk-toggleable__content\"><pre>GradientBoostingClassifier()</pre></div></div></div></div></div></div></div></div></div></div>"
      ],
      "text/plain": [
       "GridSearchCV(estimator=GradientBoostingClassifier(),\n",
       "             param_grid={'learning_rate': [0.01, 0.1, 1],\n",
       "                         'max_depth': [3, 5, 7],\n",
       "                         'n_estimators': [50, 100, 200]},\n",
       "             verbose=2)"
      ]
     },
     "execution_count": 26,
     "metadata": {},
     "output_type": "execute_result"
    }
   ],
   "source": [
    "model_grid = GridSearchCV(model, param_grid, verbose=2)\n",
    "model_grid.fit(X_train, y_train)"
   ]
  },
  {
   "cell_type": "code",
   "execution_count": 27,
   "id": "a9dcf934",
   "metadata": {
    "execution": {
     "iopub.execute_input": "2024-07-06T19:26:48.024916Z",
     "iopub.status.busy": "2024-07-06T19:26:48.024632Z",
     "iopub.status.idle": "2024-07-06T19:26:48.032448Z",
     "shell.execute_reply": "2024-07-06T19:26:48.031746Z"
    },
    "papermill": {
     "duration": 0.026719,
     "end_time": "2024-07-06T19:26:48.034422",
     "exception": false,
     "start_time": "2024-07-06T19:26:48.007703",
     "status": "completed"
    },
    "tags": []
   },
   "outputs": [
    {
     "data": {
      "text/html": [
       "<style>#sk-container-id-7 {color: black;}#sk-container-id-7 pre{padding: 0;}#sk-container-id-7 div.sk-toggleable {background-color: white;}#sk-container-id-7 label.sk-toggleable__label {cursor: pointer;display: block;width: 100%;margin-bottom: 0;padding: 0.3em;box-sizing: border-box;text-align: center;}#sk-container-id-7 label.sk-toggleable__label-arrow:before {content: \"▸\";float: left;margin-right: 0.25em;color: #696969;}#sk-container-id-7 label.sk-toggleable__label-arrow:hover:before {color: black;}#sk-container-id-7 div.sk-estimator:hover label.sk-toggleable__label-arrow:before {color: black;}#sk-container-id-7 div.sk-toggleable__content {max-height: 0;max-width: 0;overflow: hidden;text-align: left;background-color: #f0f8ff;}#sk-container-id-7 div.sk-toggleable__content pre {margin: 0.2em;color: black;border-radius: 0.25em;background-color: #f0f8ff;}#sk-container-id-7 input.sk-toggleable__control:checked~div.sk-toggleable__content {max-height: 200px;max-width: 100%;overflow: auto;}#sk-container-id-7 input.sk-toggleable__control:checked~label.sk-toggleable__label-arrow:before {content: \"▾\";}#sk-container-id-7 div.sk-estimator input.sk-toggleable__control:checked~label.sk-toggleable__label {background-color: #d4ebff;}#sk-container-id-7 div.sk-label input.sk-toggleable__control:checked~label.sk-toggleable__label {background-color: #d4ebff;}#sk-container-id-7 input.sk-hidden--visually {border: 0;clip: rect(1px 1px 1px 1px);clip: rect(1px, 1px, 1px, 1px);height: 1px;margin: -1px;overflow: hidden;padding: 0;position: absolute;width: 1px;}#sk-container-id-7 div.sk-estimator {font-family: monospace;background-color: #f0f8ff;border: 1px dotted black;border-radius: 0.25em;box-sizing: border-box;margin-bottom: 0.5em;}#sk-container-id-7 div.sk-estimator:hover {background-color: #d4ebff;}#sk-container-id-7 div.sk-parallel-item::after {content: \"\";width: 100%;border-bottom: 1px solid gray;flex-grow: 1;}#sk-container-id-7 div.sk-label:hover label.sk-toggleable__label {background-color: #d4ebff;}#sk-container-id-7 div.sk-serial::before {content: \"\";position: absolute;border-left: 1px solid gray;box-sizing: border-box;top: 0;bottom: 0;left: 50%;z-index: 0;}#sk-container-id-7 div.sk-serial {display: flex;flex-direction: column;align-items: center;background-color: white;padding-right: 0.2em;padding-left: 0.2em;position: relative;}#sk-container-id-7 div.sk-item {position: relative;z-index: 1;}#sk-container-id-7 div.sk-parallel {display: flex;align-items: stretch;justify-content: center;background-color: white;position: relative;}#sk-container-id-7 div.sk-item::before, #sk-container-id-7 div.sk-parallel-item::before {content: \"\";position: absolute;border-left: 1px solid gray;box-sizing: border-box;top: 0;bottom: 0;left: 50%;z-index: -1;}#sk-container-id-7 div.sk-parallel-item {display: flex;flex-direction: column;z-index: 1;position: relative;background-color: white;}#sk-container-id-7 div.sk-parallel-item:first-child::after {align-self: flex-end;width: 50%;}#sk-container-id-7 div.sk-parallel-item:last-child::after {align-self: flex-start;width: 50%;}#sk-container-id-7 div.sk-parallel-item:only-child::after {width: 0;}#sk-container-id-7 div.sk-dashed-wrapped {border: 1px dashed gray;margin: 0 0.4em 0.5em 0.4em;box-sizing: border-box;padding-bottom: 0.4em;background-color: white;}#sk-container-id-7 div.sk-label label {font-family: monospace;font-weight: bold;display: inline-block;line-height: 1.2em;}#sk-container-id-7 div.sk-label-container {text-align: center;}#sk-container-id-7 div.sk-container {/* jupyter's `normalize.less` sets `[hidden] { display: none; }` but bootstrap.min.css set `[hidden] { display: none !important; }` so we also need the `!important` here to be able to override the default hidden behavior on the sphinx rendered scikit-learn.org. See: https://github.com/scikit-learn/scikit-learn/issues/21755 */display: inline-block !important;position: relative;}#sk-container-id-7 div.sk-text-repr-fallback {display: none;}</style><div id=\"sk-container-id-7\" class=\"sk-top-container\"><div class=\"sk-text-repr-fallback\"><pre>GradientBoostingClassifier(learning_rate=0.01, max_depth=5)</pre><b>In a Jupyter environment, please rerun this cell to show the HTML representation or trust the notebook. <br />On GitHub, the HTML representation is unable to render, please try loading this page with nbviewer.org.</b></div><div class=\"sk-container\" hidden><div class=\"sk-item\"><div class=\"sk-estimator sk-toggleable\"><input class=\"sk-toggleable__control sk-hidden--visually\" id=\"sk-estimator-id-11\" type=\"checkbox\" checked><label for=\"sk-estimator-id-11\" class=\"sk-toggleable__label sk-toggleable__label-arrow\">GradientBoostingClassifier</label><div class=\"sk-toggleable__content\"><pre>GradientBoostingClassifier(learning_rate=0.01, max_depth=5)</pre></div></div></div></div></div>"
      ],
      "text/plain": [
       "GradientBoostingClassifier(learning_rate=0.01, max_depth=5)"
      ]
     },
     "execution_count": 27,
     "metadata": {},
     "output_type": "execute_result"
    }
   ],
   "source": [
    "model_grid.best_estimator_"
   ]
  },
  {
   "cell_type": "code",
   "execution_count": 28,
   "id": "a921f890",
   "metadata": {
    "execution": {
     "iopub.execute_input": "2024-07-06T19:26:48.064527Z",
     "iopub.status.busy": "2024-07-06T19:26:48.064280Z",
     "iopub.status.idle": "2024-07-06T19:26:48.068206Z",
     "shell.execute_reply": "2024-07-06T19:26:48.067702Z"
    },
    "papermill": {
     "duration": 0.020469,
     "end_time": "2024-07-06T19:26:48.069950",
     "exception": false,
     "start_time": "2024-07-06T19:26:48.049481",
     "status": "completed"
    },
    "tags": []
   },
   "outputs": [
    {
     "data": {
      "text/plain": [
       "0.7470360824742268"
      ]
     },
     "execution_count": 28,
     "metadata": {},
     "output_type": "execute_result"
    }
   ],
   "source": [
    "model_grid.best_score_"
   ]
  },
  {
   "cell_type": "code",
   "execution_count": 29,
   "id": "9d8a9d8b",
   "metadata": {
    "execution": {
     "iopub.execute_input": "2024-07-06T19:26:48.099481Z",
     "iopub.status.busy": "2024-07-06T19:26:48.099112Z",
     "iopub.status.idle": "2024-07-06T19:26:48.108576Z",
     "shell.execute_reply": "2024-07-06T19:26:48.107906Z"
    },
    "papermill": {
     "duration": 0.026522,
     "end_time": "2024-07-06T19:26:48.110127",
     "exception": false,
     "start_time": "2024-07-06T19:26:48.083605",
     "status": "completed"
    },
    "tags": []
   },
   "outputs": [
    {
     "data": {
      "text/plain": [
       "0.6956521739130435"
      ]
     },
     "execution_count": 29,
     "metadata": {},
     "output_type": "execute_result"
    }
   ],
   "source": [
    "model_grid.score(X_test, y_test)"
   ]
  },
  {
   "cell_type": "code",
   "execution_count": 30,
   "id": "1c07f52b",
   "metadata": {
    "execution": {
     "iopub.execute_input": "2024-07-06T19:26:48.142128Z",
     "iopub.status.busy": "2024-07-06T19:26:48.141804Z",
     "iopub.status.idle": "2024-07-06T19:26:48.150133Z",
     "shell.execute_reply": "2024-07-06T19:26:48.149222Z"
    },
    "papermill": {
     "duration": 0.02815,
     "end_time": "2024-07-06T19:26:48.152478",
     "exception": false,
     "start_time": "2024-07-06T19:26:48.124328",
     "status": "completed"
    },
    "tags": []
   },
   "outputs": [
    {
     "data": {
      "text/html": [
       "<style>#sk-container-id-8 {color: black;}#sk-container-id-8 pre{padding: 0;}#sk-container-id-8 div.sk-toggleable {background-color: white;}#sk-container-id-8 label.sk-toggleable__label {cursor: pointer;display: block;width: 100%;margin-bottom: 0;padding: 0.3em;box-sizing: border-box;text-align: center;}#sk-container-id-8 label.sk-toggleable__label-arrow:before {content: \"▸\";float: left;margin-right: 0.25em;color: #696969;}#sk-container-id-8 label.sk-toggleable__label-arrow:hover:before {color: black;}#sk-container-id-8 div.sk-estimator:hover label.sk-toggleable__label-arrow:before {color: black;}#sk-container-id-8 div.sk-toggleable__content {max-height: 0;max-width: 0;overflow: hidden;text-align: left;background-color: #f0f8ff;}#sk-container-id-8 div.sk-toggleable__content pre {margin: 0.2em;color: black;border-radius: 0.25em;background-color: #f0f8ff;}#sk-container-id-8 input.sk-toggleable__control:checked~div.sk-toggleable__content {max-height: 200px;max-width: 100%;overflow: auto;}#sk-container-id-8 input.sk-toggleable__control:checked~label.sk-toggleable__label-arrow:before {content: \"▾\";}#sk-container-id-8 div.sk-estimator input.sk-toggleable__control:checked~label.sk-toggleable__label {background-color: #d4ebff;}#sk-container-id-8 div.sk-label input.sk-toggleable__control:checked~label.sk-toggleable__label {background-color: #d4ebff;}#sk-container-id-8 input.sk-hidden--visually {border: 0;clip: rect(1px 1px 1px 1px);clip: rect(1px, 1px, 1px, 1px);height: 1px;margin: -1px;overflow: hidden;padding: 0;position: absolute;width: 1px;}#sk-container-id-8 div.sk-estimator {font-family: monospace;background-color: #f0f8ff;border: 1px dotted black;border-radius: 0.25em;box-sizing: border-box;margin-bottom: 0.5em;}#sk-container-id-8 div.sk-estimator:hover {background-color: #d4ebff;}#sk-container-id-8 div.sk-parallel-item::after {content: \"\";width: 100%;border-bottom: 1px solid gray;flex-grow: 1;}#sk-container-id-8 div.sk-label:hover label.sk-toggleable__label {background-color: #d4ebff;}#sk-container-id-8 div.sk-serial::before {content: \"\";position: absolute;border-left: 1px solid gray;box-sizing: border-box;top: 0;bottom: 0;left: 50%;z-index: 0;}#sk-container-id-8 div.sk-serial {display: flex;flex-direction: column;align-items: center;background-color: white;padding-right: 0.2em;padding-left: 0.2em;position: relative;}#sk-container-id-8 div.sk-item {position: relative;z-index: 1;}#sk-container-id-8 div.sk-parallel {display: flex;align-items: stretch;justify-content: center;background-color: white;position: relative;}#sk-container-id-8 div.sk-item::before, #sk-container-id-8 div.sk-parallel-item::before {content: \"\";position: absolute;border-left: 1px solid gray;box-sizing: border-box;top: 0;bottom: 0;left: 50%;z-index: -1;}#sk-container-id-8 div.sk-parallel-item {display: flex;flex-direction: column;z-index: 1;position: relative;background-color: white;}#sk-container-id-8 div.sk-parallel-item:first-child::after {align-self: flex-end;width: 50%;}#sk-container-id-8 div.sk-parallel-item:last-child::after {align-self: flex-start;width: 50%;}#sk-container-id-8 div.sk-parallel-item:only-child::after {width: 0;}#sk-container-id-8 div.sk-dashed-wrapped {border: 1px dashed gray;margin: 0 0.4em 0.5em 0.4em;box-sizing: border-box;padding-bottom: 0.4em;background-color: white;}#sk-container-id-8 div.sk-label label {font-family: monospace;font-weight: bold;display: inline-block;line-height: 1.2em;}#sk-container-id-8 div.sk-label-container {text-align: center;}#sk-container-id-8 div.sk-container {/* jupyter's `normalize.less` sets `[hidden] { display: none; }` but bootstrap.min.css set `[hidden] { display: none !important; }` so we also need the `!important` here to be able to override the default hidden behavior on the sphinx rendered scikit-learn.org. See: https://github.com/scikit-learn/scikit-learn/issues/21755 */display: inline-block !important;position: relative;}#sk-container-id-8 div.sk-text-repr-fallback {display: none;}</style><div id=\"sk-container-id-8\" class=\"sk-top-container\"><div class=\"sk-text-repr-fallback\"><pre>GridSearchCV(estimator=GradientBoostingClassifier(),\n",
       "             param_grid={&#x27;learning_rate&#x27;: [0.01, 0.1, 1],\n",
       "                         &#x27;max_depth&#x27;: [3, 5, 7],\n",
       "                         &#x27;n_estimators&#x27;: [50, 100, 200]},\n",
       "             verbose=2)</pre><b>In a Jupyter environment, please rerun this cell to show the HTML representation or trust the notebook. <br />On GitHub, the HTML representation is unable to render, please try loading this page with nbviewer.org.</b></div><div class=\"sk-container\" hidden><div class=\"sk-item sk-dashed-wrapped\"><div class=\"sk-label-container\"><div class=\"sk-label sk-toggleable\"><input class=\"sk-toggleable__control sk-hidden--visually\" id=\"sk-estimator-id-12\" type=\"checkbox\" ><label for=\"sk-estimator-id-12\" class=\"sk-toggleable__label sk-toggleable__label-arrow\">GridSearchCV</label><div class=\"sk-toggleable__content\"><pre>GridSearchCV(estimator=GradientBoostingClassifier(),\n",
       "             param_grid={&#x27;learning_rate&#x27;: [0.01, 0.1, 1],\n",
       "                         &#x27;max_depth&#x27;: [3, 5, 7],\n",
       "                         &#x27;n_estimators&#x27;: [50, 100, 200]},\n",
       "             verbose=2)</pre></div></div></div><div class=\"sk-parallel\"><div class=\"sk-parallel-item\"><div class=\"sk-item\"><div class=\"sk-label-container\"><div class=\"sk-label sk-toggleable\"><input class=\"sk-toggleable__control sk-hidden--visually\" id=\"sk-estimator-id-13\" type=\"checkbox\" ><label for=\"sk-estimator-id-13\" class=\"sk-toggleable__label sk-toggleable__label-arrow\">estimator: GradientBoostingClassifier</label><div class=\"sk-toggleable__content\"><pre>GradientBoostingClassifier()</pre></div></div></div><div class=\"sk-serial\"><div class=\"sk-item\"><div class=\"sk-estimator sk-toggleable\"><input class=\"sk-toggleable__control sk-hidden--visually\" id=\"sk-estimator-id-14\" type=\"checkbox\" ><label for=\"sk-estimator-id-14\" class=\"sk-toggleable__label sk-toggleable__label-arrow\">GradientBoostingClassifier</label><div class=\"sk-toggleable__content\"><pre>GradientBoostingClassifier()</pre></div></div></div></div></div></div></div></div></div></div>"
      ],
      "text/plain": [
       "GridSearchCV(estimator=GradientBoostingClassifier(),\n",
       "             param_grid={'learning_rate': [0.01, 0.1, 1],\n",
       "                         'max_depth': [3, 5, 7],\n",
       "                         'n_estimators': [50, 100, 200]},\n",
       "             verbose=2)"
      ]
     },
     "execution_count": 30,
     "metadata": {},
     "output_type": "execute_result"
    }
   ],
   "source": [
    "model_grid"
   ]
  }
 ],
 "metadata": {
  "kernelspec": {
   "display_name": "work",
   "language": "python",
   "name": "python3"
  },
  "language_info": {
   "codemirror_mode": {
    "name": "ipython",
    "version": 3
   },
   "file_extension": ".py",
   "mimetype": "text/x-python",
   "name": "python",
   "nbconvert_exporter": "python",
   "pygments_lexer": "ipython3",
   "version": "3.12.0"
  },
  "papermill": {
   "default_parameters": {},
   "duration": 30.222411,
   "end_time": "2024-07-06T19:26:48.591961",
   "environment_variables": {},
   "exception": null,
   "input_path": "/Users/sota/Dropbox/2 Business/1 Datons/2 Areas/Courses/3 Catalogue/20 ML/1 Materials/ML/notebooks/30_Model Selection/2_Why_Hyperparameters/B_Solution.ipynb",
   "output_path": "/Users/sota/Dropbox/2 Business/1 Datons/2 Areas/Courses/3 Catalogue/20 ML/1 Materials/ML/notebooks/30_Model Selection/2_Why_Hyperparameters/B_Solution.ipynb",
   "parameters": {},
   "start_time": "2024-07-06T19:26:18.369550",
   "version": "2.5.0"
  }
 },
 "nbformat": 4,
 "nbformat_minor": 5
}