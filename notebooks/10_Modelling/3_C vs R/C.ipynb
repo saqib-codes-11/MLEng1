{
 "cells": [
  {
   "attachments": {},
   "cell_type": "markdown",
   "id": "3efc3df6",
   "metadata": {
    "papermill": {
     "duration": 0.003642,
     "end_time": "2024-05-10T11:59:44.037273",
     "exception": false,
     "start_time": "2024-05-10T11:59:44.033631",
     "status": "completed"
    },
    "tags": []
   },
   "source": [
    "# Difference between regression and classification"
   ]
  },
  {
   "attachments": {},
   "cell_type": "markdown",
   "id": "c3614fd4",
   "metadata": {
    "papermill": {
     "duration": 0.002464,
     "end_time": "2024-05-10T11:59:44.042613",
     "exception": false,
     "start_time": "2024-05-10T11:59:44.040149",
     "status": "completed"
    },
    "tags": []
   },
   "source": [
    "## Load data"
   ]
  },
  {
   "cell_type": "code",
   "execution_count": null,
   "id": "2de1419e",
   "metadata": {
    "execution": {
     "iopub.execute_input": "2024-05-10T11:59:44.049289Z",
     "iopub.status.busy": "2024-05-10T11:59:44.049076Z",
     "iopub.status.idle": "2024-05-10T11:59:44.065190Z",
     "shell.execute_reply": "2024-05-10T11:59:44.064781Z"
    },
    "papermill": {
     "duration": 0.020247,
     "end_time": "2024-05-10T11:59:44.066313",
     "exception": false,
     "start_time": "2024-05-10T11:59:44.046066",
     "status": "completed"
    },
    "tags": [
     "change-false"
    ]
   },
   "outputs": [],
   "source": []
  },
  {
   "attachments": {},
   "cell_type": "markdown",
   "id": "3b8d901d",
   "metadata": {
    "papermill": {
     "duration": 0.001453,
     "end_time": "2024-05-10T11:59:44.069808",
     "exception": false,
     "start_time": "2024-05-10T11:59:44.068355",
     "status": "completed"
    },
    "tags": []
   },
   "source": [
    "## Feature selection"
   ]
  },
  {
   "cell_type": "code",
   "execution_count": null,
   "id": "b5f1816d",
   "metadata": {
    "execution": {
     "iopub.execute_input": "2024-05-10T11:59:44.073550Z",
     "iopub.status.busy": "2024-05-10T11:59:44.073377Z",
     "iopub.status.idle": "2024-05-10T11:59:44.076272Z",
     "shell.execute_reply": "2024-05-10T11:59:44.076020Z"
    },
    "papermill": {
     "duration": 0.005972,
     "end_time": "2024-05-10T11:59:44.077060",
     "exception": false,
     "start_time": "2024-05-10T11:59:44.071088",
     "status": "completed"
    },
    "tags": []
   },
   "outputs": [],
   "source": []
  },
  {
   "attachments": {},
   "cell_type": "markdown",
   "id": "1e6fddd7",
   "metadata": {
    "papermill": {
     "duration": 0.001252,
     "end_time": "2024-05-10T11:59:44.079630",
     "exception": false,
     "start_time": "2024-05-10T11:59:44.078378",
     "status": "completed"
    },
    "tags": []
   },
   "source": [
    "## K Nearest Neighbors"
   ]
  },
  {
   "attachments": {},
   "cell_type": "markdown",
   "id": "b878dbbd",
   "metadata": {
    "papermill": {
     "duration": 0.001398,
     "end_time": "2024-05-10T11:59:44.082442",
     "exception": false,
     "start_time": "2024-05-10T11:59:44.081044",
     "status": "completed"
    },
    "tags": []
   },
   "source": [
    "### Classification"
   ]
  },
  {
   "cell_type": "code",
   "execution_count": null,
   "id": "185214fa",
   "metadata": {
    "execution": {
     "iopub.execute_input": "2024-05-10T11:59:44.085802Z",
     "iopub.status.busy": "2024-05-10T11:59:44.085669Z",
     "iopub.status.idle": "2024-05-10T11:59:44.404055Z",
     "shell.execute_reply": "2024-05-10T11:59:44.403816Z"
    },
    "papermill": {
     "duration": 0.321156,
     "end_time": "2024-05-10T11:59:44.404879",
     "exception": false,
     "start_time": "2024-05-10T11:59:44.083723",
     "status": "completed"
    },
    "tags": []
   },
   "outputs": [],
   "source": []
  },
  {
   "cell_type": "code",
   "execution_count": null,
   "id": "d575a3c8",
   "metadata": {
    "execution": {
     "iopub.execute_input": "2024-05-10T11:59:44.454780Z",
     "iopub.status.busy": "2024-05-10T11:59:44.454608Z",
     "iopub.status.idle": "2024-05-10T11:59:44.470126Z",
     "shell.execute_reply": "2024-05-10T11:59:44.469913Z"
    },
    "papermill": {
     "duration": 0.020192,
     "end_time": "2024-05-10T11:59:44.470854",
     "exception": false,
     "start_time": "2024-05-10T11:59:44.450662",
     "status": "completed"
    },
    "tags": []
   },
   "outputs": [],
   "source": []
  },
  {
   "attachments": {},
   "cell_type": "markdown",
   "id": "bdf1455f",
   "metadata": {
    "papermill": {
     "duration": 0.001634,
     "end_time": "2024-05-10T11:59:44.473789",
     "exception": false,
     "start_time": "2024-05-10T11:59:44.472155",
     "status": "completed"
    },
    "tags": []
   },
   "source": [
    "### Regressor"
   ]
  },
  {
   "cell_type": "code",
   "execution_count": null,
   "id": "af29b5a4",
   "metadata": {
    "execution": {
     "iopub.execute_input": "2024-05-10T11:59:44.477340Z",
     "iopub.status.busy": "2024-05-10T11:59:44.477239Z",
     "iopub.status.idle": "2024-05-10T11:59:44.480725Z",
     "shell.execute_reply": "2024-05-10T11:59:44.480485Z"
    },
    "papermill": {
     "duration": 0.005981,
     "end_time": "2024-05-10T11:59:44.481431",
     "exception": false,
     "start_time": "2024-05-10T11:59:44.475450",
     "status": "completed"
    },
    "tags": []
   },
   "outputs": [],
   "source": []
  },
  {
   "cell_type": "code",
   "execution_count": null,
   "id": "1b8fc31e",
   "metadata": {
    "execution": {
     "iopub.execute_input": "2024-05-10T11:59:44.485427Z",
     "iopub.status.busy": "2024-05-10T11:59:44.485326Z",
     "iopub.status.idle": "2024-05-10T11:59:44.488917Z",
     "shell.execute_reply": "2024-05-10T11:59:44.488709Z"
    },
    "papermill": {
     "duration": 0.006391,
     "end_time": "2024-05-10T11:59:44.489625",
     "exception": false,
     "start_time": "2024-05-10T11:59:44.483234",
     "status": "completed"
    },
    "tags": []
   },
   "outputs": [],
   "source": []
  },
  {
   "attachments": {},
   "cell_type": "markdown",
   "id": "2811a645",
   "metadata": {
    "papermill": {
     "duration": 0.001476,
     "end_time": "2024-05-10T11:59:44.492433",
     "exception": false,
     "start_time": "2024-05-10T11:59:44.490957",
     "status": "completed"
    },
    "tags": []
   },
   "source": [
    "## Decision Tree"
   ]
  },
  {
   "attachments": {},
   "cell_type": "markdown",
   "id": "5d593d1d",
   "metadata": {
    "papermill": {
     "duration": 0.001548,
     "end_time": "2024-05-10T11:59:44.495441",
     "exception": false,
     "start_time": "2024-05-10T11:59:44.493893",
     "status": "completed"
    },
    "tags": []
   },
   "source": [
    "### Classifier"
   ]
  },
  {
   "cell_type": "code",
   "execution_count": null,
   "id": "7657f91d",
   "metadata": {
    "execution": {
     "iopub.execute_input": "2024-05-10T11:59:44.498598Z",
     "iopub.status.busy": "2024-05-10T11:59:44.498502Z",
     "iopub.status.idle": "2024-05-10T11:59:44.516106Z",
     "shell.execute_reply": "2024-05-10T11:59:44.515899Z"
    },
    "papermill": {
     "duration": 0.020084,
     "end_time": "2024-05-10T11:59:44.516859",
     "exception": false,
     "start_time": "2024-05-10T11:59:44.496775",
     "status": "completed"
    },
    "tags": []
   },
   "outputs": [],
   "source": []
  },
  {
   "cell_type": "code",
   "execution_count": null,
   "id": "2ae82133",
   "metadata": {
    "execution": {
     "iopub.execute_input": "2024-05-10T11:59:44.520556Z",
     "iopub.status.busy": "2024-05-10T11:59:44.520428Z",
     "iopub.status.idle": "2024-05-10T11:59:44.523808Z",
     "shell.execute_reply": "2024-05-10T11:59:44.523614Z"
    },
    "papermill": {
     "duration": 0.005899,
     "end_time": "2024-05-10T11:59:44.524429",
     "exception": false,
     "start_time": "2024-05-10T11:59:44.518530",
     "status": "completed"
    },
    "tags": []
   },
   "outputs": [],
   "source": []
  },
  {
   "attachments": {},
   "cell_type": "markdown",
   "id": "eb629b37",
   "metadata": {
    "papermill": {
     "duration": 0.001513,
     "end_time": "2024-05-10T11:59:44.527630",
     "exception": false,
     "start_time": "2024-05-10T11:59:44.526117",
     "status": "completed"
    },
    "tags": []
   },
   "source": [
    "### Regressor"
   ]
  },
  {
   "cell_type": "code",
   "execution_count": null,
   "id": "d1f051f5",
   "metadata": {
    "execution": {
     "iopub.execute_input": "2024-05-10T11:59:44.531075Z",
     "iopub.status.busy": "2024-05-10T11:59:44.530989Z",
     "iopub.status.idle": "2024-05-10T11:59:44.540408Z",
     "shell.execute_reply": "2024-05-10T11:59:44.540216Z"
    },
    "papermill": {
     "duration": 0.012023,
     "end_time": "2024-05-10T11:59:44.541137",
     "exception": false,
     "start_time": "2024-05-10T11:59:44.529114",
     "status": "completed"
    },
    "tags": []
   },
   "outputs": [],
   "source": []
  },
  {
   "cell_type": "code",
   "execution_count": null,
   "id": "4f3fd5c1",
   "metadata": {
    "execution": {
     "iopub.execute_input": "2024-05-10T11:59:44.545451Z",
     "iopub.status.busy": "2024-05-10T11:59:44.545373Z",
     "iopub.status.idle": "2024-05-10T11:59:44.547877Z",
     "shell.execute_reply": "2024-05-10T11:59:44.547692Z"
    },
    "papermill": {
     "duration": 0.005492,
     "end_time": "2024-05-10T11:59:44.548490",
     "exception": false,
     "start_time": "2024-05-10T11:59:44.542998",
     "status": "completed"
    },
    "tags": []
   },
   "outputs": [],
   "source": []
  }
 ],
 "metadata": {
  "kernelspec": {
   "display_name": "work",
   "language": "python",
   "name": "python3"
  },
  "language_info": {
   "codemirror_mode": {
    "name": "ipython",
    "version": 3
   },
   "file_extension": ".py",
   "mimetype": "text/x-python",
   "name": "python",
   "nbconvert_exporter": "python",
   "pygments_lexer": "ipython3",
   "version": "3.12.2"
  },
  "papermill": {
   "default_parameters": {},
   "duration": 1.707004,
   "end_time": "2024-05-10T11:59:44.765970",
   "environment_variables": {},
   "exception": null,
   "input_path": "/Users/sota/Dropbox/2 Business/1 Datons/2 Areas/Courses/03 ML/materials/notebooks/10_Modelling/03_C vs R/B.ipynb",
   "output_path": "/Users/sota/Dropbox/2 Business/1 Datons/2 Areas/Courses/03 ML/materials/notebooks/10_Modelling/03_C vs R/B.ipynb",
   "parameters": {},
   "start_time": "2024-05-10T11:59:43.058966",
   "version": "2.5.0"
  }
 },
 "nbformat": 4,
 "nbformat_minor": 5
}
