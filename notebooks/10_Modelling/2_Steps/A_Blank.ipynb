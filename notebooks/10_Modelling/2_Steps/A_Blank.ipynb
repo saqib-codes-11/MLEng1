{
 "cells": [
  {
   "attachments": {},
   "cell_type": "markdown",
   "id": "29778fd4-3b3c-485f-95a9-e7750bba38b0",
   "metadata": {
    "editable": true,
    "papermill": {
     "duration": 0.009262,
     "end_time": "2024-07-06T19:23:59.894434",
     "exception": false,
     "start_time": "2024-07-06T19:23:59.885172",
     "status": "completed"
    },
    "slideshow": {
     "slide_type": ""
    },
    "tags": []
   },
   "source": [
    "# General steps to develop any ML model with Scikit-Learn"
   ]
  },
  {
   "attachments": {},
   "cell_type": "markdown",
   "id": "d252a545",
   "metadata": {
    "papermill": {
     "duration": 0.010022,
     "end_time": "2024-07-06T19:23:59.911671",
     "exception": false,
     "start_time": "2024-07-06T19:23:59.901649",
     "status": "completed"
    },
    "tags": []
   },
   "source": [
    "https://scikit-learn.org/stable/supervised_learning.html"
   ]
  },
  {
   "attachments": {},
   "cell_type": "markdown",
   "id": "bba7b3ce-014f-4be4-a18f-6c771784679e",
   "metadata": {
    "editable": true,
    "papermill": {
     "duration": 0.008323,
     "end_time": "2024-07-06T19:23:59.932297",
     "exception": false,
     "start_time": "2024-07-06T19:23:59.923974",
     "status": "completed"
    },
    "slideshow": {
     "slide_type": ""
    },
    "tags": []
   },
   "source": [
    "## Data"
   ]
  },
  {
   "cell_type": "code",
   "execution_count": 1,
   "id": "42ce8ec3-f408-4b5b-82a1-2737f000ebc4",
   "metadata": {
    "editable": true,
    "execution": {
     "iopub.execute_input": "2024-07-06T19:23:59.949008Z",
     "iopub.status.busy": "2024-07-06T19:23:59.948526Z",
     "iopub.status.idle": "2024-07-06T19:24:00.537153Z",
     "shell.execute_reply": "2024-07-06T19:24:00.536463Z"
    },
    "papermill": {
     "duration": 0.599347,
     "end_time": "2024-07-06T19:24:00.540356",
     "exception": false,
     "start_time": "2024-07-06T19:23:59.941009",
     "status": "completed"
    },
    "slideshow": {
     "slide_type": ""
    },
    "tags": [
     "change-false"
    ]
   },
   "outputs": [
    {
     "data": {
      "text/html": [
       "<div>\n",
       "<style scoped>\n",
       "    .dataframe tbody tr th:only-of-type {\n",
       "        vertical-align: middle;\n",
       "    }\n",
       "\n",
       "    .dataframe tbody tr th {\n",
       "        vertical-align: top;\n",
       "    }\n",
       "\n",
       "    .dataframe thead th {\n",
       "        text-align: right;\n",
       "    }\n",
       "</style>\n",
       "<table border=\"1\" class=\"dataframe\">\n",
       "  <thead>\n",
       "    <tr style=\"text-align: right;\">\n",
       "      <th></th>\n",
       "      <th>Price</th>\n",
       "      <th>Bedrooms</th>\n",
       "      <th>Bathrooms</th>\n",
       "      <th>Garage</th>\n",
       "      <th>Build Year</th>\n",
       "      <th>Floor Area</th>\n",
       "    </tr>\n",
       "    <tr>\n",
       "      <th>ADDRESS</th>\n",
       "      <th></th>\n",
       "      <th></th>\n",
       "      <th></th>\n",
       "      <th></th>\n",
       "      <th></th>\n",
       "      <th></th>\n",
       "    </tr>\n",
       "  </thead>\n",
       "  <tbody>\n",
       "    <tr>\n",
       "      <th>1 Datchet Turn</th>\n",
       "      <td>270000</td>\n",
       "      <td>3</td>\n",
       "      <td>2</td>\n",
       "      <td>2.0</td>\n",
       "      <td>2011.0</td>\n",
       "      <td>109</td>\n",
       "    </tr>\n",
       "    <tr>\n",
       "      <th>1 McKenzie Corner</th>\n",
       "      <td>470000</td>\n",
       "      <td>4</td>\n",
       "      <td>2</td>\n",
       "      <td>2.0</td>\n",
       "      <td>2005.0</td>\n",
       "      <td>279</td>\n",
       "    </tr>\n",
       "    <tr>\n",
       "      <th>...</th>\n",
       "      <td>...</td>\n",
       "      <td>...</td>\n",
       "      <td>...</td>\n",
       "      <td>...</td>\n",
       "      <td>...</td>\n",
       "      <td>...</td>\n",
       "    </tr>\n",
       "    <tr>\n",
       "      <th>93 Centennial Avenue</th>\n",
       "      <td>350000</td>\n",
       "      <td>4</td>\n",
       "      <td>2</td>\n",
       "      <td>2.0</td>\n",
       "      <td>2005.0</td>\n",
       "      <td>177</td>\n",
       "    </tr>\n",
       "    <tr>\n",
       "      <th>98 Centennial Avenue</th>\n",
       "      <td>441000</td>\n",
       "      <td>4</td>\n",
       "      <td>2</td>\n",
       "      <td>2.0</td>\n",
       "      <td>2004.0</td>\n",
       "      <td>195</td>\n",
       "    </tr>\n",
       "  </tbody>\n",
       "</table>\n",
       "<p>204 rows × 6 columns</p>\n",
       "</div>"
      ],
      "text/plain": [
       "                       Price  Bedrooms  Bathrooms  Garage  Build Year  \\\n",
       "ADDRESS                                                                 \n",
       "1 Datchet Turn        270000         3          2     2.0      2011.0   \n",
       "1 McKenzie Corner     470000         4          2     2.0      2005.0   \n",
       "...                      ...       ...        ...     ...         ...   \n",
       "93 Centennial Avenue  350000         4          2     2.0      2005.0   \n",
       "98 Centennial Avenue  441000         4          2     2.0      2004.0   \n",
       "\n",
       "                      Floor Area  \n",
       "ADDRESS                           \n",
       "1 Datchet Turn               109  \n",
       "1 McKenzie Corner            279  \n",
       "...                          ...  \n",
       "93 Centennial Avenue         177  \n",
       "98 Centennial Avenue         195  \n",
       "\n",
       "[204 rows x 6 columns]"
      ]
     },
     "execution_count": 1,
     "metadata": {},
     "output_type": "execute_result"
    }
   ],
   "source": [
    "import pandas as pd\n",
    "\n",
    "df_base = pd.read_csv('../../../data/house_perth/output/ml_simple.csv', index_col=0)\n",
    "df_base"
   ]
  },
  {
   "attachments": {},
   "cell_type": "markdown",
   "id": "33058cde-0f4b-4df5-8992-4f547e21f5f7",
   "metadata": {
    "editable": true,
    "papermill": {
     "duration": 0.009375,
     "end_time": "2024-07-06T19:24:00.556223",
     "exception": false,
     "start_time": "2024-07-06T19:24:00.546848",
     "status": "completed"
    },
    "slideshow": {
     "slide_type": ""
    },
    "tags": []
   },
   "source": [
    "Based on the previous variables, the goal is to find the best numbers $b_0, b_1, b_2, ...$ that minimize the error of the following model:\n",
    "\n",
    "$$\n",
    "Y = b_0 + b_1 \\cdot X_1 + b_2 \\cdot X_2 + ... \n",
    "$$\n",
    "\n",
    "Where the variables are:\n",
    "\n",
    "- $Y$ `Price` is the target variable\n",
    "- $X_1$ `Bedrooms` is one explanatory variable\n",
    "- $X_2$ `Bathrooms` is another explanatory variable\n",
    "\n"
   ]
  },
  {
   "attachments": {},
   "cell_type": "markdown",
   "id": "1011f9c2-5051-43ce-bfee-81909bb31338",
   "metadata": {
    "editable": true,
    "papermill": {
     "duration": 0.008225,
     "end_time": "2024-07-06T19:24:00.570190",
     "exception": false,
     "start_time": "2024-07-06T19:24:00.561965",
     "status": "completed"
    },
    "slideshow": {
     "slide_type": ""
    },
    "tags": []
   },
   "source": [
    "## The Machine Learning System\n",
    "\n",
    "To create any ML model in Python, you always [follow the same system](https://datons.craft.me/h3f5pSQSE7l6RW/b/53521460-00B0-4667-9FEB-4D31916272C3/Machine-Learning-%E2%86%92-Sklearn-)."
   ]
  },
  {
   "attachments": {},
   "cell_type": "markdown",
   "id": "2772e6c3-f12e-4c31-b409-ad654940f6a3",
   "metadata": {
    "editable": true,
    "papermill": {
     "duration": 0.005045,
     "end_time": "2024-07-06T19:24:00.581052",
     "exception": false,
     "start_time": "2024-07-06T19:24:00.576007",
     "status": "completed"
    },
    "slideshow": {
     "slide_type": ""
    },
    "tags": []
   },
   "source": [
    "## Select the variables for the model\n",
    "\n",
    "1. **`y` target**: output variable (to predict)\n",
    "2. **`X` explanatory**: input variables to calculate/explain the prediction"
   ]
  },
  {
   "cell_type": "code",
   "execution_count": null,
   "id": "ca6e3ab8-b1b5-4b8d-ab27-4dbab94e3c47",
   "metadata": {
    "editable": true,
    "execution": {
     "iopub.execute_input": "2024-07-06T19:24:00.596491Z",
     "iopub.status.busy": "2024-07-06T19:24:00.596167Z",
     "iopub.status.idle": "2024-07-06T19:24:00.601479Z",
     "shell.execute_reply": "2024-07-06T19:24:00.600971Z"
    },
    "papermill": {
     "duration": 0.013968,
     "end_time": "2024-07-06T19:24:00.602955",
     "exception": false,
     "start_time": "2024-07-06T19:24:00.588987",
     "status": "completed"
    },
    "slideshow": {
     "slide_type": ""
    },
    "tags": []
   },
   "outputs": [],
   "source": []
  },
  {
   "cell_type": "code",
   "execution_count": null,
   "id": "3bb71aa0-be28-47e3-abca-7f7ed0aa298c",
   "metadata": {
    "editable": true,
    "execution": {
     "iopub.execute_input": "2024-07-06T19:24:00.616820Z",
     "iopub.status.busy": "2024-07-06T19:24:00.616286Z",
     "iopub.status.idle": "2024-07-06T19:24:00.622343Z",
     "shell.execute_reply": "2024-07-06T19:24:00.621800Z"
    },
    "papermill": {
     "duration": 0.014996,
     "end_time": "2024-07-06T19:24:00.623925",
     "exception": false,
     "start_time": "2024-07-06T19:24:00.608929",
     "status": "completed"
    },
    "slideshow": {
     "slide_type": ""
    },
    "tags": []
   },
   "outputs": [
    {
     "data": {
      "text/plain": [
       "ADDRESS\n",
       "1 Datchet Turn          270000\n",
       "1 McKenzie Corner       470000\n",
       "                         ...  \n",
       "93 Centennial Avenue    350000\n",
       "98 Centennial Avenue    441000\n",
       "Name: Price, Length: 204, dtype: int64"
      ]
     },
     "execution_count": null,
     "metadata": {},
     "output_type": "execute_result"
    }
   ],
   "source": []
  },
  {
   "cell_type": "code",
   "execution_count": null,
   "id": "0f307d82",
   "metadata": {
    "execution": {
     "iopub.execute_input": "2024-07-06T19:24:00.636073Z",
     "iopub.status.busy": "2024-07-06T19:24:00.635719Z",
     "iopub.status.idle": "2024-07-06T19:24:00.645343Z",
     "shell.execute_reply": "2024-07-06T19:24:00.644631Z"
    },
    "papermill": {
     "duration": 0.018033,
     "end_time": "2024-07-06T19:24:00.647113",
     "exception": false,
     "start_time": "2024-07-06T19:24:00.629080",
     "status": "completed"
    },
    "tags": []
   },
   "outputs": [
    {
     "data": {
      "text/html": [
       "<div>\n",
       "<style scoped>\n",
       "    .dataframe tbody tr th:only-of-type {\n",
       "        vertical-align: middle;\n",
       "    }\n",
       "\n",
       "    .dataframe tbody tr th {\n",
       "        vertical-align: top;\n",
       "    }\n",
       "\n",
       "    .dataframe thead th {\n",
       "        text-align: right;\n",
       "    }\n",
       "</style>\n",
       "<table border=\"1\" class=\"dataframe\">\n",
       "  <thead>\n",
       "    <tr style=\"text-align: right;\">\n",
       "      <th></th>\n",
       "      <th>Bedrooms</th>\n",
       "      <th>Bathrooms</th>\n",
       "      <th>Garage</th>\n",
       "      <th>Build Year</th>\n",
       "      <th>Floor Area</th>\n",
       "    </tr>\n",
       "    <tr>\n",
       "      <th>ADDRESS</th>\n",
       "      <th></th>\n",
       "      <th></th>\n",
       "      <th></th>\n",
       "      <th></th>\n",
       "      <th></th>\n",
       "    </tr>\n",
       "  </thead>\n",
       "  <tbody>\n",
       "    <tr>\n",
       "      <th>1 Datchet Turn</th>\n",
       "      <td>3</td>\n",
       "      <td>2</td>\n",
       "      <td>2.0</td>\n",
       "      <td>2011.0</td>\n",
       "      <td>109</td>\n",
       "    </tr>\n",
       "    <tr>\n",
       "      <th>1 McKenzie Corner</th>\n",
       "      <td>4</td>\n",
       "      <td>2</td>\n",
       "      <td>2.0</td>\n",
       "      <td>2005.0</td>\n",
       "      <td>279</td>\n",
       "    </tr>\n",
       "    <tr>\n",
       "      <th>...</th>\n",
       "      <td>...</td>\n",
       "      <td>...</td>\n",
       "      <td>...</td>\n",
       "      <td>...</td>\n",
       "      <td>...</td>\n",
       "    </tr>\n",
       "    <tr>\n",
       "      <th>93 Centennial Avenue</th>\n",
       "      <td>4</td>\n",
       "      <td>2</td>\n",
       "      <td>2.0</td>\n",
       "      <td>2005.0</td>\n",
       "      <td>177</td>\n",
       "    </tr>\n",
       "    <tr>\n",
       "      <th>98 Centennial Avenue</th>\n",
       "      <td>4</td>\n",
       "      <td>2</td>\n",
       "      <td>2.0</td>\n",
       "      <td>2004.0</td>\n",
       "      <td>195</td>\n",
       "    </tr>\n",
       "  </tbody>\n",
       "</table>\n",
       "<p>204 rows × 5 columns</p>\n",
       "</div>"
      ],
      "text/plain": [
       "                      Bedrooms  Bathrooms  Garage  Build Year  Floor Area\n",
       "ADDRESS                                                                  \n",
       "1 Datchet Turn               3          2     2.0      2011.0         109\n",
       "1 McKenzie Corner            4          2     2.0      2005.0         279\n",
       "...                        ...        ...     ...         ...         ...\n",
       "93 Centennial Avenue         4          2     2.0      2005.0         177\n",
       "98 Centennial Avenue         4          2     2.0      2004.0         195\n",
       "\n",
       "[204 rows x 5 columns]"
      ]
     },
     "execution_count": null,
     "metadata": {},
     "output_type": "execute_result"
    }
   ],
   "source": []
  },
  {
   "attachments": {},
   "cell_type": "markdown",
   "id": "a02dfd04-f2eb-4f15-a5dd-9ff50eec2419",
   "metadata": {
    "editable": true,
    "papermill": {
     "duration": 0.006894,
     "end_time": "2024-07-06T19:24:00.661664",
     "exception": false,
     "start_time": "2024-07-06T19:24:00.654770",
     "status": "completed"
    },
    "slideshow": {
     "slide_type": ""
    },
    "tags": []
   },
   "source": [
    "## Linear Regression"
   ]
  },
  {
   "attachments": {},
   "cell_type": "markdown",
   "id": "92ea1fab",
   "metadata": {
    "papermill": {
     "duration": 0.006435,
     "end_time": "2024-07-06T19:24:00.675134",
     "exception": false,
     "start_time": "2024-07-06T19:24:00.668699",
     "status": "completed"
    },
    "tags": []
   },
   "source": [
    "### Fit model"
   ]
  },
  {
   "cell_type": "code",
   "execution_count": null,
   "id": "c5a40984-1bc8-4944-a3d0-da2570acb7ea",
   "metadata": {
    "editable": true,
    "execution": {
     "iopub.execute_input": "2024-07-06T19:24:00.690455Z",
     "iopub.status.busy": "2024-07-06T19:24:00.689569Z",
     "iopub.status.idle": "2024-07-06T19:24:01.585628Z",
     "shell.execute_reply": "2024-07-06T19:24:01.584813Z"
    },
    "papermill": {
     "duration": 0.90819,
     "end_time": "2024-07-06T19:24:01.588592",
     "exception": false,
     "start_time": "2024-07-06T19:24:00.680402",
     "status": "completed"
    },
    "slideshow": {
     "slide_type": ""
    },
    "tags": []
   },
   "outputs": [
    {
     "data": {
      "text/html": [
       "<style>#sk-container-id-1 {color: black;}#sk-container-id-1 pre{padding: 0;}#sk-container-id-1 div.sk-toggleable {background-color: white;}#sk-container-id-1 label.sk-toggleable__label {cursor: pointer;display: block;width: 100%;margin-bottom: 0;padding: 0.3em;box-sizing: border-box;text-align: center;}#sk-container-id-1 label.sk-toggleable__label-arrow:before {content: \"▸\";float: left;margin-right: 0.25em;color: #696969;}#sk-container-id-1 label.sk-toggleable__label-arrow:hover:before {color: black;}#sk-container-id-1 div.sk-estimator:hover label.sk-toggleable__label-arrow:before {color: black;}#sk-container-id-1 div.sk-toggleable__content {max-height: 0;max-width: 0;overflow: hidden;text-align: left;background-color: #f0f8ff;}#sk-container-id-1 div.sk-toggleable__content pre {margin: 0.2em;color: black;border-radius: 0.25em;background-color: #f0f8ff;}#sk-container-id-1 input.sk-toggleable__control:checked~div.sk-toggleable__content {max-height: 200px;max-width: 100%;overflow: auto;}#sk-container-id-1 input.sk-toggleable__control:checked~label.sk-toggleable__label-arrow:before {content: \"▾\";}#sk-container-id-1 div.sk-estimator input.sk-toggleable__control:checked~label.sk-toggleable__label {background-color: #d4ebff;}#sk-container-id-1 div.sk-label input.sk-toggleable__control:checked~label.sk-toggleable__label {background-color: #d4ebff;}#sk-container-id-1 input.sk-hidden--visually {border: 0;clip: rect(1px 1px 1px 1px);clip: rect(1px, 1px, 1px, 1px);height: 1px;margin: -1px;overflow: hidden;padding: 0;position: absolute;width: 1px;}#sk-container-id-1 div.sk-estimator {font-family: monospace;background-color: #f0f8ff;border: 1px dotted black;border-radius: 0.25em;box-sizing: border-box;margin-bottom: 0.5em;}#sk-container-id-1 div.sk-estimator:hover {background-color: #d4ebff;}#sk-container-id-1 div.sk-parallel-item::after {content: \"\";width: 100%;border-bottom: 1px solid gray;flex-grow: 1;}#sk-container-id-1 div.sk-label:hover label.sk-toggleable__label {background-color: #d4ebff;}#sk-container-id-1 div.sk-serial::before {content: \"\";position: absolute;border-left: 1px solid gray;box-sizing: border-box;top: 0;bottom: 0;left: 50%;z-index: 0;}#sk-container-id-1 div.sk-serial {display: flex;flex-direction: column;align-items: center;background-color: white;padding-right: 0.2em;padding-left: 0.2em;position: relative;}#sk-container-id-1 div.sk-item {position: relative;z-index: 1;}#sk-container-id-1 div.sk-parallel {display: flex;align-items: stretch;justify-content: center;background-color: white;position: relative;}#sk-container-id-1 div.sk-item::before, #sk-container-id-1 div.sk-parallel-item::before {content: \"\";position: absolute;border-left: 1px solid gray;box-sizing: border-box;top: 0;bottom: 0;left: 50%;z-index: -1;}#sk-container-id-1 div.sk-parallel-item {display: flex;flex-direction: column;z-index: 1;position: relative;background-color: white;}#sk-container-id-1 div.sk-parallel-item:first-child::after {align-self: flex-end;width: 50%;}#sk-container-id-1 div.sk-parallel-item:last-child::after {align-self: flex-start;width: 50%;}#sk-container-id-1 div.sk-parallel-item:only-child::after {width: 0;}#sk-container-id-1 div.sk-dashed-wrapped {border: 1px dashed gray;margin: 0 0.4em 0.5em 0.4em;box-sizing: border-box;padding-bottom: 0.4em;background-color: white;}#sk-container-id-1 div.sk-label label {font-family: monospace;font-weight: bold;display: inline-block;line-height: 1.2em;}#sk-container-id-1 div.sk-label-container {text-align: center;}#sk-container-id-1 div.sk-container {/* jupyter's `normalize.less` sets `[hidden] { display: none; }` but bootstrap.min.css set `[hidden] { display: none !important; }` so we also need the `!important` here to be able to override the default hidden behavior on the sphinx rendered scikit-learn.org. See: https://github.com/scikit-learn/scikit-learn/issues/21755 */display: inline-block !important;position: relative;}#sk-container-id-1 div.sk-text-repr-fallback {display: none;}</style><div id=\"sk-container-id-1\" class=\"sk-top-container\"><div class=\"sk-text-repr-fallback\"><pre>LinearRegression()</pre><b>In a Jupyter environment, please rerun this cell to show the HTML representation or trust the notebook. <br />On GitHub, the HTML representation is unable to render, please try loading this page with nbviewer.org.</b></div><div class=\"sk-container\" hidden><div class=\"sk-item\"><div class=\"sk-estimator sk-toggleable\"><input class=\"sk-toggleable__control sk-hidden--visually\" id=\"sk-estimator-id-1\" type=\"checkbox\" checked><label for=\"sk-estimator-id-1\" class=\"sk-toggleable__label sk-toggleable__label-arrow\">LinearRegression</label><div class=\"sk-toggleable__content\"><pre>LinearRegression()</pre></div></div></div></div></div>"
      ],
      "text/plain": [
       "LinearRegression()"
      ]
     },
     "execution_count": null,
     "metadata": {},
     "output_type": "execute_result"
    }
   ],
   "source": []
  },
  {
   "attachments": {},
   "cell_type": "markdown",
   "id": "a5c92cd8-63c4-4470-8cb4-2ac2678ebe3e",
   "metadata": {
    "editable": true,
    "papermill": {
     "duration": 0.006665,
     "end_time": "2024-07-06T19:24:01.602936",
     "exception": false,
     "start_time": "2024-07-06T19:24:01.596271",
     "status": "completed"
    },
    "slideshow": {
     "slide_type": ""
    },
    "tags": []
   },
   "source": [
    "### Model's score"
   ]
  },
  {
   "cell_type": "code",
   "execution_count": null,
   "id": "14520ea6",
   "metadata": {
    "execution": {
     "iopub.execute_input": "2024-07-06T19:24:01.616256Z",
     "iopub.status.busy": "2024-07-06T19:24:01.615848Z",
     "iopub.status.idle": "2024-07-06T19:24:01.622384Z",
     "shell.execute_reply": "2024-07-06T19:24:01.621885Z"
    },
    "papermill": {
     "duration": 0.014518,
     "end_time": "2024-07-06T19:24:01.623902",
     "exception": false,
     "start_time": "2024-07-06T19:24:01.609384",
     "status": "completed"
    },
    "tags": []
   },
   "outputs": [
    {
     "data": {
      "text/plain": [
       "0.5881533749382085"
      ]
     },
     "execution_count": null,
     "metadata": {},
     "output_type": "execute_result"
    }
   ],
   "source": []
  },
  {
   "attachments": {},
   "cell_type": "markdown",
   "id": "d2e76c77",
   "metadata": {
    "papermill": {
     "duration": 0.00573,
     "end_time": "2024-07-06T19:24:01.634775",
     "exception": false,
     "start_time": "2024-07-06T19:24:01.629045",
     "status": "completed"
    },
    "tags": []
   },
   "source": [
    "### Predictions"
   ]
  },
  {
   "cell_type": "code",
   "execution_count": null,
   "id": "76ce1578",
   "metadata": {
    "execution": {
     "iopub.execute_input": "2024-07-06T19:24:01.647599Z",
     "iopub.status.busy": "2024-07-06T19:24:01.647289Z",
     "iopub.status.idle": "2024-07-06T19:24:01.654080Z",
     "shell.execute_reply": "2024-07-06T19:24:01.653495Z"
    },
    "papermill": {
     "duration": 0.015012,
     "end_time": "2024-07-06T19:24:01.655790",
     "exception": false,
     "start_time": "2024-07-06T19:24:01.640778",
     "status": "completed"
    },
    "tags": []
   },
   "outputs": [
    {
     "data": {
      "text/plain": [
       "array([289751.66723767, 508673.67721233, 425773.23461438, 367112.89229502,\n",
       "       281008.42845204, 445690.86817794, 360015.10888963, 402466.20102762,\n",
       "       377452.52573668, 419903.61787467, 293865.39764184, 423304.95959044,\n",
       "       362483.38391356, 416612.52320704, 377304.97574976, 292895.21191837,\n",
       "       395208.92594273, 408335.81776732, 320782.50925523, 389032.2675366 ,\n",
       "       371582.90899698, 344431.88373366, 426276.88699193, 411111.13445768,\n",
       "       286411.51184583, 434884.70139036, 459223.10702452, 446464.44319028,\n",
       "       404934.47605155, 295768.8339643 , 412498.79280286, 384255.20916822,\n",
       "       412498.79280286, 373142.00071422, 399224.35099134, 422838.42624453,\n",
       "       390726.9675482 , 367272.38397451, 462207.16002573, 380546.82578603,\n",
       "       383015.10080997, 398610.2676585 , 355226.10882868, 385483.37583391,\n",
       "       347968.83374379, 481658.26024338, 447692.60985596, 419449.02622132,\n",
       "       419903.61787467, 280947.24212811, 325719.05930311, 473160.87680024,\n",
       "       402172.92086015, 408176.32608783, 384402.75915515, 399383.84267084,\n",
       "       318768.82588464, 394287.80094347, 373891.50843426, 427627.42630547,\n",
       "       362790.42557999, 428560.49299731, 285637.93683349, 382389.07578456,\n",
       "       375882.01817933, 443836.67648685, 340012.93146945, 403546.81770637,\n",
       "       344851.17616176, 430402.74299583, 332350.30936258, 410302.26022009,\n",
       "       376777.07217275, 380706.31746553, 381786.93414428, 435547.84544741,\n",
       "       477802.32687426, 384095.71748873, 370047.70066487, 425011.60129461,\n",
       "       366805.8506286 , 355043.2596165 , 425773.23461438, 315526.97584837,\n",
       "       357080.30051977, 324207.20850368, 387951.65085784, 368967.08398611,\n",
       "       290832.28391642, 361709.80890123, 389498.80088252, 312444.61749159,\n",
       "       404627.43438513, 369274.12565253, 397063.11763383, 335320.41695768,\n",
       "       314446.35916961, 437967.05974714, 372014.14311764, 433190.00137876,\n",
       "       474708.02682492, 374370.1673799 , 307348.57576422, 281413.77547402,\n",
       "       396141.99263456, 398769.75933799, 357511.53464044, 395675.45928864,\n",
       "       464061.35171683, 324945.48429077, 298396.60066773, 371128.31734363,\n",
       "       375757.82572508, 459738.8850018 , 390455.22510703, 371901.89235597,\n",
       "       381001.41743938, 439821.25143823, 394093.01003872, 333897.45938725,\n",
       "       433595.34840075, 436898.38476095, 403694.3676933 , 437402.0371385 ,\n",
       "       365872.78393677, 427172.83465213, 426706.30130621, 389498.80088252,\n",
       "       467659.30414373, 382597.62818826, 411725.21779052, 414967.0678268 ,\n",
       "       338834.00943513, 380080.29244012, 393354.73425163, 365725.23394984,\n",
       "       397836.69264616, 324945.48429077, 414967.0678268 , 430255.19300891,\n",
       "       353224.36715066, 397063.11763383, 367726.97562786, 418356.46785   ,\n",
       "       333283.37605441, 494944.64374747, 367886.46730736, 394128.30926397,\n",
       "       453255.18492925, 361255.21724788, 328063.1418728 , 330224.37523031,\n",
       "       403546.81770637, 423820.55366056, 445076.7848451 , 405708.05106389,\n",
       "       370710.84472192, 423013.51885932, 390112.88421536, 308122.15077655,\n",
       "       330029.58432557, 370195.2506518 , 413579.40948162, 402159.15936119,\n",
       "       410030.51777892, 374529.6590594 , 430414.6846884 , 374677.20904632,\n",
       "       372049.44234289, 550534.04355016, 377501.58646089, 424385.5762692 ,\n",
       "       408532.42847845, 294847.70896504, 308122.15077655, 382979.80158472,\n",
       "       419952.67859888, 475780.88690629, 409109.39277966, 369433.61733203,\n",
       "       345819.54207884, 367726.97562786, 284041.54217745, 365872.78393677,\n",
       "       352267.94292614, 363871.04225874, 356773.25885335, 353838.4504835 ,\n",
       "       473013.32681332, 418208.91786307, 360629.19222247, 366548.05359354,\n",
       "       412965.32614878, 374836.70072582, 363074.10971372, 411270.62613718,\n",
       "       440128.29310466, 380853.86745245, 290218.20058358, 463029.79576227,\n",
       "       456205.5942344 , 394287.80094347, 398450.775979  , 420370.15122059])"
      ]
     },
     "execution_count": null,
     "metadata": {},
     "output_type": "execute_result"
    }
   ],
   "source": []
  },
  {
   "attachments": {},
   "cell_type": "markdown",
   "id": "d826ee87",
   "metadata": {
    "papermill": {
     "duration": 0.005839,
     "end_time": "2024-07-06T19:24:01.667387",
     "exception": false,
     "start_time": "2024-07-06T19:24:01.661548",
     "status": "completed"
    },
    "tags": []
   },
   "source": [
    "## K Nearest Neighbors"
   ]
  },
  {
   "attachments": {},
   "cell_type": "markdown",
   "id": "fa0447fc",
   "metadata": {
    "papermill": {
     "duration": 0.005875,
     "end_time": "2024-07-06T19:24:01.679209",
     "exception": false,
     "start_time": "2024-07-06T19:24:01.673334",
     "status": "completed"
    },
    "tags": []
   },
   "source": [
    "### Fit model"
   ]
  },
  {
   "cell_type": "code",
   "execution_count": null,
   "id": "0066dd43",
   "metadata": {
    "execution": {
     "iopub.execute_input": "2024-07-06T19:24:01.693099Z",
     "iopub.status.busy": "2024-07-06T19:24:01.692806Z",
     "iopub.status.idle": "2024-07-06T19:24:01.748770Z",
     "shell.execute_reply": "2024-07-06T19:24:01.748149Z"
    },
    "papermill": {
     "duration": 0.065585,
     "end_time": "2024-07-06T19:24:01.751356",
     "exception": false,
     "start_time": "2024-07-06T19:24:01.685771",
     "status": "completed"
    },
    "tags": []
   },
   "outputs": [
    {
     "data": {
      "text/html": [
       "<style>#sk-container-id-2 {color: black;}#sk-container-id-2 pre{padding: 0;}#sk-container-id-2 div.sk-toggleable {background-color: white;}#sk-container-id-2 label.sk-toggleable__label {cursor: pointer;display: block;width: 100%;margin-bottom: 0;padding: 0.3em;box-sizing: border-box;text-align: center;}#sk-container-id-2 label.sk-toggleable__label-arrow:before {content: \"▸\";float: left;margin-right: 0.25em;color: #696969;}#sk-container-id-2 label.sk-toggleable__label-arrow:hover:before {color: black;}#sk-container-id-2 div.sk-estimator:hover label.sk-toggleable__label-arrow:before {color: black;}#sk-container-id-2 div.sk-toggleable__content {max-height: 0;max-width: 0;overflow: hidden;text-align: left;background-color: #f0f8ff;}#sk-container-id-2 div.sk-toggleable__content pre {margin: 0.2em;color: black;border-radius: 0.25em;background-color: #f0f8ff;}#sk-container-id-2 input.sk-toggleable__control:checked~div.sk-toggleable__content {max-height: 200px;max-width: 100%;overflow: auto;}#sk-container-id-2 input.sk-toggleable__control:checked~label.sk-toggleable__label-arrow:before {content: \"▾\";}#sk-container-id-2 div.sk-estimator input.sk-toggleable__control:checked~label.sk-toggleable__label {background-color: #d4ebff;}#sk-container-id-2 div.sk-label input.sk-toggleable__control:checked~label.sk-toggleable__label {background-color: #d4ebff;}#sk-container-id-2 input.sk-hidden--visually {border: 0;clip: rect(1px 1px 1px 1px);clip: rect(1px, 1px, 1px, 1px);height: 1px;margin: -1px;overflow: hidden;padding: 0;position: absolute;width: 1px;}#sk-container-id-2 div.sk-estimator {font-family: monospace;background-color: #f0f8ff;border: 1px dotted black;border-radius: 0.25em;box-sizing: border-box;margin-bottom: 0.5em;}#sk-container-id-2 div.sk-estimator:hover {background-color: #d4ebff;}#sk-container-id-2 div.sk-parallel-item::after {content: \"\";width: 100%;border-bottom: 1px solid gray;flex-grow: 1;}#sk-container-id-2 div.sk-label:hover label.sk-toggleable__label {background-color: #d4ebff;}#sk-container-id-2 div.sk-serial::before {content: \"\";position: absolute;border-left: 1px solid gray;box-sizing: border-box;top: 0;bottom: 0;left: 50%;z-index: 0;}#sk-container-id-2 div.sk-serial {display: flex;flex-direction: column;align-items: center;background-color: white;padding-right: 0.2em;padding-left: 0.2em;position: relative;}#sk-container-id-2 div.sk-item {position: relative;z-index: 1;}#sk-container-id-2 div.sk-parallel {display: flex;align-items: stretch;justify-content: center;background-color: white;position: relative;}#sk-container-id-2 div.sk-item::before, #sk-container-id-2 div.sk-parallel-item::before {content: \"\";position: absolute;border-left: 1px solid gray;box-sizing: border-box;top: 0;bottom: 0;left: 50%;z-index: -1;}#sk-container-id-2 div.sk-parallel-item {display: flex;flex-direction: column;z-index: 1;position: relative;background-color: white;}#sk-container-id-2 div.sk-parallel-item:first-child::after {align-self: flex-end;width: 50%;}#sk-container-id-2 div.sk-parallel-item:last-child::after {align-self: flex-start;width: 50%;}#sk-container-id-2 div.sk-parallel-item:only-child::after {width: 0;}#sk-container-id-2 div.sk-dashed-wrapped {border: 1px dashed gray;margin: 0 0.4em 0.5em 0.4em;box-sizing: border-box;padding-bottom: 0.4em;background-color: white;}#sk-container-id-2 div.sk-label label {font-family: monospace;font-weight: bold;display: inline-block;line-height: 1.2em;}#sk-container-id-2 div.sk-label-container {text-align: center;}#sk-container-id-2 div.sk-container {/* jupyter's `normalize.less` sets `[hidden] { display: none; }` but bootstrap.min.css set `[hidden] { display: none !important; }` so we also need the `!important` here to be able to override the default hidden behavior on the sphinx rendered scikit-learn.org. See: https://github.com/scikit-learn/scikit-learn/issues/21755 */display: inline-block !important;position: relative;}#sk-container-id-2 div.sk-text-repr-fallback {display: none;}</style><div id=\"sk-container-id-2\" class=\"sk-top-container\"><div class=\"sk-text-repr-fallback\"><pre>KNeighborsRegressor()</pre><b>In a Jupyter environment, please rerun this cell to show the HTML representation or trust the notebook. <br />On GitHub, the HTML representation is unable to render, please try loading this page with nbviewer.org.</b></div><div class=\"sk-container\" hidden><div class=\"sk-item\"><div class=\"sk-estimator sk-toggleable\"><input class=\"sk-toggleable__control sk-hidden--visually\" id=\"sk-estimator-id-2\" type=\"checkbox\" checked><label for=\"sk-estimator-id-2\" class=\"sk-toggleable__label sk-toggleable__label-arrow\">KNeighborsRegressor</label><div class=\"sk-toggleable__content\"><pre>KNeighborsRegressor()</pre></div></div></div></div></div>"
      ],
      "text/plain": [
       "KNeighborsRegressor()"
      ]
     },
     "execution_count": null,
     "metadata": {},
     "output_type": "execute_result"
    }
   ],
   "source": []
  },
  {
   "attachments": {},
   "cell_type": "markdown",
   "id": "f5c11119",
   "metadata": {
    "papermill": {
     "duration": 0.008097,
     "end_time": "2024-07-06T19:24:01.767190",
     "exception": false,
     "start_time": "2024-07-06T19:24:01.759093",
     "status": "completed"
    },
    "tags": []
   },
   "source": [
    "### Model's score"
   ]
  },
  {
   "cell_type": "code",
   "execution_count": null,
   "id": "7897948b",
   "metadata": {
    "execution": {
     "iopub.execute_input": "2024-07-06T19:24:01.782017Z",
     "iopub.status.busy": "2024-07-06T19:24:01.781755Z",
     "iopub.status.idle": "2024-07-06T19:24:01.789735Z",
     "shell.execute_reply": "2024-07-06T19:24:01.789242Z"
    },
    "papermill": {
     "duration": 0.017091,
     "end_time": "2024-07-06T19:24:01.791615",
     "exception": false,
     "start_time": "2024-07-06T19:24:01.774524",
     "status": "completed"
    },
    "tags": []
   },
   "outputs": [
    {
     "data": {
      "text/plain": [
       "0.6504410395552215"
      ]
     },
     "execution_count": null,
     "metadata": {},
     "output_type": "execute_result"
    }
   ],
   "source": []
  },
  {
   "attachments": {},
   "cell_type": "markdown",
   "id": "bf3933b2",
   "metadata": {
    "papermill": {
     "duration": 0.008604,
     "end_time": "2024-07-06T19:24:01.805908",
     "exception": false,
     "start_time": "2024-07-06T19:24:01.797304",
     "status": "completed"
    },
    "tags": []
   },
   "source": [
    "### Predictions"
   ]
  },
  {
   "cell_type": "code",
   "execution_count": null,
   "id": "2dc012b0",
   "metadata": {
    "execution": {
     "iopub.execute_input": "2024-07-06T19:24:01.820546Z",
     "iopub.status.busy": "2024-07-06T19:24:01.820314Z",
     "iopub.status.idle": "2024-07-06T19:24:01.828200Z",
     "shell.execute_reply": "2024-07-06T19:24:01.827623Z"
    },
    "papermill": {
     "duration": 0.016762,
     "end_time": "2024-07-06T19:24:01.829932",
     "exception": false,
     "start_time": "2024-07-06T19:24:01.813170",
     "status": "completed"
    },
    "tags": []
   },
   "outputs": [
    {
     "data": {
      "text/plain": [
       "array([256200., 471180., 413160., 389200., 275000., 468000., 379400.,\n",
       "       425000., 376600., 397200., 259200., 424560., 379400., 433600.,\n",
       "       353200., 284600., 368000., 417400., 333000., 386400., 356100.,\n",
       "       336000., 402200., 420000., 256200., 466400., 487200., 465800.,\n",
       "       425000., 259200., 406000., 374700., 406000., 363800., 390400.,\n",
       "       461800., 396800., 373000., 497400., 368400., 368400., 380600.,\n",
       "       364000., 371000., 328000., 464000., 470000., 409560., 397200.,\n",
       "       289000., 348000., 497000., 405800., 389000., 361800., 375600.,\n",
       "       311200., 390400., 376500., 420560., 353000., 444500., 272200.,\n",
       "       376600., 371000., 445500., 341900., 404000., 339000., 431160.,\n",
       "       358200., 404600., 376400., 374700., 374700., 451900., 464000.,\n",
       "       353400., 366800., 421100., 380000., 367800., 413160., 320600.,\n",
       "       333400., 337600., 371000., 364800., 259200., 344200., 387800.,\n",
       "       313800., 399000., 376000., 407900., 313800., 339400., 459600.,\n",
       "       373800., 433000., 468400., 367800., 320000., 289000., 381600.,\n",
       "       390000., 377400., 404800., 478000., 349800., 312600., 374000.,\n",
       "       391400., 487200., 366800., 368800., 379400., 456400., 407200.,\n",
       "       326200., 451900., 438300., 383000., 444600., 380700., 420500.,\n",
       "       449900., 387800., 468400., 377400., 396000., 406000., 346200.,\n",
       "       375000., 416400., 376000., 390400., 349800., 406000., 451900.,\n",
       "       326200., 407900., 348600., 407200., 335700., 471180., 365000.,\n",
       "       378000., 468400., 362000., 320000., 320000., 404000., 457800.,\n",
       "       465800., 394000., 380000., 404400., 386400., 331600., 328000.,\n",
       "       357600., 399000., 395600., 420000., 372800., 420500., 386000.,\n",
       "       389200., 471180., 377600., 424560., 392000., 284600., 331600.,\n",
       "       385000., 407600., 487200., 392600., 361400., 336000., 348600.,\n",
       "       272200., 380700., 348800., 356400., 334800., 349400., 468400.,\n",
       "       447800., 327600., 394400., 418000., 345000., 380200., 406600.,\n",
       "       448600., 356800., 284600., 494600., 409560., 390400., 398500.,\n",
       "       461800.])"
      ]
     },
     "execution_count": null,
     "metadata": {},
     "output_type": "execute_result"
    }
   ],
   "source": []
  },
  {
   "attachments": {},
   "cell_type": "markdown",
   "id": "87724e51",
   "metadata": {
    "papermill": {
     "duration": 0.006575,
     "end_time": "2024-07-06T19:24:01.843608",
     "exception": false,
     "start_time": "2024-07-06T19:24:01.837033",
     "status": "completed"
    },
    "tags": []
   },
   "source": [
    "## Random Forest\n",
    "\n",
    "From the ensemble sub-module."
   ]
  },
  {
   "attachments": {},
   "cell_type": "markdown",
   "id": "b8e2b639",
   "metadata": {
    "papermill": {
     "duration": 0.008109,
     "end_time": "2024-07-06T19:24:01.859167",
     "exception": false,
     "start_time": "2024-07-06T19:24:01.851058",
     "status": "completed"
    },
    "tags": []
   },
   "source": [
    "### Fit model"
   ]
  },
  {
   "cell_type": "code",
   "execution_count": null,
   "id": "780e0173",
   "metadata": {
    "execution": {
     "iopub.execute_input": "2024-07-06T19:24:01.875762Z",
     "iopub.status.busy": "2024-07-06T19:24:01.875388Z",
     "iopub.status.idle": "2024-07-06T19:24:02.108163Z",
     "shell.execute_reply": "2024-07-06T19:24:02.106858Z"
    },
    "papermill": {
     "duration": 0.243073,
     "end_time": "2024-07-06T19:24:02.110440",
     "exception": false,
     "start_time": "2024-07-06T19:24:01.867367",
     "status": "completed"
    },
    "tags": []
   },
   "outputs": [
    {
     "data": {
      "text/html": [
       "<style>#sk-container-id-3 {color: black;}#sk-container-id-3 pre{padding: 0;}#sk-container-id-3 div.sk-toggleable {background-color: white;}#sk-container-id-3 label.sk-toggleable__label {cursor: pointer;display: block;width: 100%;margin-bottom: 0;padding: 0.3em;box-sizing: border-box;text-align: center;}#sk-container-id-3 label.sk-toggleable__label-arrow:before {content: \"▸\";float: left;margin-right: 0.25em;color: #696969;}#sk-container-id-3 label.sk-toggleable__label-arrow:hover:before {color: black;}#sk-container-id-3 div.sk-estimator:hover label.sk-toggleable__label-arrow:before {color: black;}#sk-container-id-3 div.sk-toggleable__content {max-height: 0;max-width: 0;overflow: hidden;text-align: left;background-color: #f0f8ff;}#sk-container-id-3 div.sk-toggleable__content pre {margin: 0.2em;color: black;border-radius: 0.25em;background-color: #f0f8ff;}#sk-container-id-3 input.sk-toggleable__control:checked~div.sk-toggleable__content {max-height: 200px;max-width: 100%;overflow: auto;}#sk-container-id-3 input.sk-toggleable__control:checked~label.sk-toggleable__label-arrow:before {content: \"▾\";}#sk-container-id-3 div.sk-estimator input.sk-toggleable__control:checked~label.sk-toggleable__label {background-color: #d4ebff;}#sk-container-id-3 div.sk-label input.sk-toggleable__control:checked~label.sk-toggleable__label {background-color: #d4ebff;}#sk-container-id-3 input.sk-hidden--visually {border: 0;clip: rect(1px 1px 1px 1px);clip: rect(1px, 1px, 1px, 1px);height: 1px;margin: -1px;overflow: hidden;padding: 0;position: absolute;width: 1px;}#sk-container-id-3 div.sk-estimator {font-family: monospace;background-color: #f0f8ff;border: 1px dotted black;border-radius: 0.25em;box-sizing: border-box;margin-bottom: 0.5em;}#sk-container-id-3 div.sk-estimator:hover {background-color: #d4ebff;}#sk-container-id-3 div.sk-parallel-item::after {content: \"\";width: 100%;border-bottom: 1px solid gray;flex-grow: 1;}#sk-container-id-3 div.sk-label:hover label.sk-toggleable__label {background-color: #d4ebff;}#sk-container-id-3 div.sk-serial::before {content: \"\";position: absolute;border-left: 1px solid gray;box-sizing: border-box;top: 0;bottom: 0;left: 50%;z-index: 0;}#sk-container-id-3 div.sk-serial {display: flex;flex-direction: column;align-items: center;background-color: white;padding-right: 0.2em;padding-left: 0.2em;position: relative;}#sk-container-id-3 div.sk-item {position: relative;z-index: 1;}#sk-container-id-3 div.sk-parallel {display: flex;align-items: stretch;justify-content: center;background-color: white;position: relative;}#sk-container-id-3 div.sk-item::before, #sk-container-id-3 div.sk-parallel-item::before {content: \"\";position: absolute;border-left: 1px solid gray;box-sizing: border-box;top: 0;bottom: 0;left: 50%;z-index: -1;}#sk-container-id-3 div.sk-parallel-item {display: flex;flex-direction: column;z-index: 1;position: relative;background-color: white;}#sk-container-id-3 div.sk-parallel-item:first-child::after {align-self: flex-end;width: 50%;}#sk-container-id-3 div.sk-parallel-item:last-child::after {align-self: flex-start;width: 50%;}#sk-container-id-3 div.sk-parallel-item:only-child::after {width: 0;}#sk-container-id-3 div.sk-dashed-wrapped {border: 1px dashed gray;margin: 0 0.4em 0.5em 0.4em;box-sizing: border-box;padding-bottom: 0.4em;background-color: white;}#sk-container-id-3 div.sk-label label {font-family: monospace;font-weight: bold;display: inline-block;line-height: 1.2em;}#sk-container-id-3 div.sk-label-container {text-align: center;}#sk-container-id-3 div.sk-container {/* jupyter's `normalize.less` sets `[hidden] { display: none; }` but bootstrap.min.css set `[hidden] { display: none !important; }` so we also need the `!important` here to be able to override the default hidden behavior on the sphinx rendered scikit-learn.org. See: https://github.com/scikit-learn/scikit-learn/issues/21755 */display: inline-block !important;position: relative;}#sk-container-id-3 div.sk-text-repr-fallback {display: none;}</style><div id=\"sk-container-id-3\" class=\"sk-top-container\"><div class=\"sk-text-repr-fallback\"><pre>RandomForestRegressor()</pre><b>In a Jupyter environment, please rerun this cell to show the HTML representation or trust the notebook. <br />On GitHub, the HTML representation is unable to render, please try loading this page with nbviewer.org.</b></div><div class=\"sk-container\" hidden><div class=\"sk-item\"><div class=\"sk-estimator sk-toggleable\"><input class=\"sk-toggleable__control sk-hidden--visually\" id=\"sk-estimator-id-3\" type=\"checkbox\" checked><label for=\"sk-estimator-id-3\" class=\"sk-toggleable__label sk-toggleable__label-arrow\">RandomForestRegressor</label><div class=\"sk-toggleable__content\"><pre>RandomForestRegressor()</pre></div></div></div></div></div>"
      ],
      "text/plain": [
       "RandomForestRegressor()"
      ]
     },
     "execution_count": null,
     "metadata": {},
     "output_type": "execute_result"
    }
   ],
   "source": []
  },
  {
   "attachments": {},
   "cell_type": "markdown",
   "id": "5078c4da",
   "metadata": {
    "papermill": {
     "duration": 0.007765,
     "end_time": "2024-07-06T19:24:02.124679",
     "exception": false,
     "start_time": "2024-07-06T19:24:02.116914",
     "status": "completed"
    },
    "tags": []
   },
   "source": [
    "### Model's score"
   ]
  },
  {
   "cell_type": "code",
   "execution_count": null,
   "id": "c09978dc",
   "metadata": {
    "execution": {
     "iopub.execute_input": "2024-07-06T19:24:02.138904Z",
     "iopub.status.busy": "2024-07-06T19:24:02.138662Z",
     "iopub.status.idle": "2024-07-06T19:24:02.153032Z",
     "shell.execute_reply": "2024-07-06T19:24:02.152352Z"
    },
    "papermill": {
     "duration": 0.024052,
     "end_time": "2024-07-06T19:24:02.155221",
     "exception": false,
     "start_time": "2024-07-06T19:24:02.131169",
     "status": "completed"
    },
    "tags": []
   },
   "outputs": [
    {
     "data": {
      "text/plain": [
       "0.9035079695663247"
      ]
     },
     "execution_count": null,
     "metadata": {},
     "output_type": "execute_result"
    }
   ],
   "source": []
  },
  {
   "attachments": {},
   "cell_type": "markdown",
   "id": "db67ebcd",
   "metadata": {
    "papermill": {
     "duration": 0.012012,
     "end_time": "2024-07-06T19:24:02.180476",
     "exception": false,
     "start_time": "2024-07-06T19:24:02.168464",
     "status": "completed"
    },
    "tags": []
   },
   "source": [
    "### Predictions"
   ]
  },
  {
   "cell_type": "code",
   "execution_count": null,
   "id": "c227dbc1",
   "metadata": {
    "execution": {
     "iopub.execute_input": "2024-07-06T19:24:02.201021Z",
     "iopub.status.busy": "2024-07-06T19:24:02.200625Z",
     "iopub.status.idle": "2024-07-06T19:24:02.218353Z",
     "shell.execute_reply": "2024-07-06T19:24:02.217716Z"
    },
    "papermill": {
     "duration": 0.03054,
     "end_time": "2024-07-06T19:24:02.221078",
     "exception": false,
     "start_time": "2024-07-06T19:24:02.190538",
     "status": "completed"
    },
    "tags": []
   },
   "outputs": [
    {
     "data": {
      "text/plain": [
       "array([273040.        , 468635.        , 439094.33333333, 403430.        ,\n",
       "       261050.        , 424490.        , 379000.        , 416432.5       ,\n",
       "       388650.        , 415451.42857143, 205650.        , 373679.        ,\n",
       "       373740.        , 472673.33333333, 356280.        , 309700.        ,\n",
       "       373493.33333333, 390970.        , 347128.33333333, 379980.        ,\n",
       "       384403.75      , 311415.        , 373986.66666667, 416956.66666667,\n",
       "       282380.        , 439143.        , 496020.        , 467340.        ,\n",
       "       435710.        , 296930.        , 414869.33333333, 393031.42857143,\n",
       "       414869.33333333, 391325.        , 387678.33333333, 410716.66666667,\n",
       "       400590.        , 361180.        , 455650.        , 350690.        ,\n",
       "       324205.        , 373770.        , 350835.        , 368530.        ,\n",
       "       384430.        , 464050.        , 453284.        , 439313.        ,\n",
       "       415451.42857143, 306350.        , 322175.        , 516122.        ,\n",
       "       391640.        , 381213.33333333, 421920.        , 381515.        ,\n",
       "       315706.66666667, 405521.42857143, 368627.75      , 448998.        ,\n",
       "       350520.5       , 392845.        , 278700.        , 368470.        ,\n",
       "       355622.5       , 486583.        , 360960.        , 403640.        ,\n",
       "       354737.5       , 428164.        , 354376.66666667, 392533.33333333,\n",
       "       364530.        , 393530.        , 383800.        , 475615.        ,\n",
       "       475730.        , 354735.        , 345330.        , 412770.        ,\n",
       "       369140.        , 320160.        , 439094.33333333, 345740.        ,\n",
       "       308923.        , 326176.66666667, 378100.        , 357730.        ,\n",
       "       277260.        , 326820.        , 394494.16666667, 308003.        ,\n",
       "       423950.        , 381780.        , 443992.32142857, 321935.        ,\n",
       "       295646.66666667, 426270.        , 335980.        , 473800.        ,\n",
       "       454946.        , 372910.        , 338321.66666667, 302450.        ,\n",
       "       372880.        , 361558.33333333, 373230.        , 427107.08333333,\n",
       "       488470.        , 345730.        , 295223.33333333, 372030.        ,\n",
       "       391270.        , 460630.        , 369800.        , 376990.        ,\n",
       "       356560.        , 470380.        , 398286.66666667, 298246.66666667,\n",
       "       471115.        , 455040.        , 406663.33333333, 471610.        ,\n",
       "       368335.75      , 433005.        , 424320.        , 394494.16666667,\n",
       "       477345.        , 387580.        , 390203.33333333, 399951.        ,\n",
       "       345950.        , 409950.        , 423213.33333333, 350090.        ,\n",
       "       367945.        , 345730.        , 399951.        , 449210.        ,\n",
       "       351420.        , 443992.32142857, 337364.        , 411976.66666667,\n",
       "       321838.33333333, 499375.        , 372940.        , 395281.66666667,\n",
       "       487800.        , 348050.        , 312380.        , 332310.        ,\n",
       "       403640.        , 456940.        , 488835.        , 394100.        ,\n",
       "       408920.        , 443110.        , 436100.        , 331929.66666667,\n",
       "       314692.5       , 368028.75      , 405063.33333333, 386240.        ,\n",
       "       422616.        , 376850.        , 392690.        , 399200.        ,\n",
       "       420294.        , 451278.        , 382190.        , 450702.66666667,\n",
       "       367270.        , 334470.        , 331929.66666667, 393345.        ,\n",
       "       369990.        , 490336.        , 363240.        , 386200.        ,\n",
       "       339480.        , 337364.        , 278620.        , 368335.75      ,\n",
       "       315130.        , 355885.5       , 357500.        , 356560.        ,\n",
       "       463060.        , 466998.33333333, 321461.25      , 385769.        ,\n",
       "       438130.        , 374350.        , 338490.        , 400520.        ,\n",
       "       432445.        , 343480.        , 317190.        , 461590.        ,\n",
       "       382788.33333333, 405521.42857143, 377270.41666667, 443668.33333333])"
      ]
     },
     "execution_count": null,
     "metadata": {},
     "output_type": "execute_result"
    }
   ],
   "source": []
  },
  {
   "attachments": {},
   "cell_type": "markdown",
   "id": "ae0c7e7d",
   "metadata": {
    "papermill": {
     "duration": 0.010701,
     "end_time": "2024-07-06T19:24:02.239185",
     "exception": false,
     "start_time": "2024-07-06T19:24:02.228484",
     "status": "completed"
    },
    "tags": []
   },
   "source": [
    "## BONUS: Comparing models visually"
   ]
  },
  {
   "cell_type": "code",
   "execution_count": 14,
   "id": "3136e8dd",
   "metadata": {
    "execution": {
     "iopub.execute_input": "2024-07-06T19:24:02.255827Z",
     "iopub.status.busy": "2024-07-06T19:24:02.255550Z",
     "iopub.status.idle": "2024-07-06T19:24:02.266244Z",
     "shell.execute_reply": "2024-07-06T19:24:02.265527Z"
    },
    "papermill": {
     "duration": 0.021874,
     "end_time": "2024-07-06T19:24:02.268118",
     "exception": false,
     "start_time": "2024-07-06T19:24:02.246244",
     "status": "completed"
    },
    "tags": [
     "change-false"
    ]
   },
   "outputs": [
    {
     "data": {
      "text/html": [
       "<div>\n",
       "<style scoped>\n",
       "    .dataframe tbody tr th:only-of-type {\n",
       "        vertical-align: middle;\n",
       "    }\n",
       "\n",
       "    .dataframe tbody tr th {\n",
       "        vertical-align: top;\n",
       "    }\n",
       "\n",
       "    .dataframe thead th {\n",
       "        text-align: right;\n",
       "    }\n",
       "</style>\n",
       "<table border=\"1\" class=\"dataframe\">\n",
       "  <thead>\n",
       "    <tr style=\"text-align: right;\">\n",
       "      <th></th>\n",
       "      <th>Price</th>\n",
       "      <th>PRED_LR</th>\n",
       "      <th>PRED_KN</th>\n",
       "      <th>PRED_RF</th>\n",
       "    </tr>\n",
       "    <tr>\n",
       "      <th>ADDRESS</th>\n",
       "      <th></th>\n",
       "      <th></th>\n",
       "      <th></th>\n",
       "      <th></th>\n",
       "    </tr>\n",
       "  </thead>\n",
       "  <tbody>\n",
       "    <tr>\n",
       "      <th>1 Datchet Turn</th>\n",
       "      <td>270000</td>\n",
       "      <td>289751.667238</td>\n",
       "      <td>256200.0</td>\n",
       "      <td>273040.000000</td>\n",
       "    </tr>\n",
       "    <tr>\n",
       "      <th>1 McKenzie Corner</th>\n",
       "      <td>470000</td>\n",
       "      <td>508673.677212</td>\n",
       "      <td>471180.0</td>\n",
       "      <td>468635.000000</td>\n",
       "    </tr>\n",
       "    <tr>\n",
       "      <th>...</th>\n",
       "      <td>...</td>\n",
       "      <td>...</td>\n",
       "      <td>...</td>\n",
       "      <td>...</td>\n",
       "    </tr>\n",
       "    <tr>\n",
       "      <th>93 Centennial Avenue</th>\n",
       "      <td>350000</td>\n",
       "      <td>398450.775979</td>\n",
       "      <td>398500.0</td>\n",
       "      <td>377270.416667</td>\n",
       "    </tr>\n",
       "    <tr>\n",
       "      <th>98 Centennial Avenue</th>\n",
       "      <td>441000</td>\n",
       "      <td>420370.151221</td>\n",
       "      <td>461800.0</td>\n",
       "      <td>443668.333333</td>\n",
       "    </tr>\n",
       "  </tbody>\n",
       "</table>\n",
       "<p>204 rows × 4 columns</p>\n",
       "</div>"
      ],
      "text/plain": [
       "                       Price        PRED_LR   PRED_KN        PRED_RF\n",
       "ADDRESS                                                             \n",
       "1 Datchet Turn        270000  289751.667238  256200.0  273040.000000\n",
       "1 McKenzie Corner     470000  508673.677212  471180.0  468635.000000\n",
       "...                      ...            ...       ...            ...\n",
       "93 Centennial Avenue  350000  398450.775979  398500.0  377270.416667\n",
       "98 Centennial Avenue  441000  420370.151221  461800.0  443668.333333\n",
       "\n",
       "[204 rows x 4 columns]"
      ]
     },
     "execution_count": 14,
     "metadata": {},
     "output_type": "execute_result"
    }
   ],
   "source": [
    "df_pred = pd.DataFrame({\n",
    "    'Price': y,\n",
    "    'PRED_LR': y_pred_lr,\n",
    "    'PRED_KN': y_pred_kn,\n",
    "    'PRED_RF': y_pred_rf\n",
    "})\n",
    "\n",
    "df_pred"
   ]
  },
  {
   "cell_type": "code",
   "execution_count": 15,
   "id": "11b2d785",
   "metadata": {
    "execution": {
     "iopub.execute_input": "2024-07-06T19:24:02.284492Z",
     "iopub.status.busy": "2024-07-06T19:24:02.284231Z",
     "iopub.status.idle": "2024-07-06T19:24:03.223078Z",
     "shell.execute_reply": "2024-07-06T19:24:03.222245Z"
    },
    "papermill": {
     "duration": 0.949695,
     "end_time": "2024-07-06T19:24:03.225258",
     "exception": false,
     "start_time": "2024-07-06T19:24:02.275563",
     "status": "completed"
    },
    "tags": [
     "change-false"
    ]
   },
   "outputs": [
    {
     "data": {
      "image/png": "[encoded data removed]",
      "text/plain": [
       "<Figure size 640x480 with 1 Axes>"
      ]
     },
     "metadata": {},
     "output_type": "display_data"
    }
   ],
   "source": [
    "import matplotlib.pyplot as plt\n",
    "\n",
    "df_pred.plot.scatter(x='Price', y='Price', label='Price', color='red', zorder=100)\n",
    "\n",
    "plt.scatter(df_pred['Price'], df_pred['PRED_LR'], label='LR')\n",
    "plt.scatter(df_pred['Price'], df_pred['PRED_KN'], label='KN')\n",
    "plt.scatter(df_pred['Price'], df_pred['PRED_RF'], label='RF')\n",
    "\n",
    "plt.legend();"
   ]
  }
 ],
 "metadata": {
  "kernelspec": {
   "display_name": "base",
   "language": "python",
   "name": "python3"
  },
  "language_info": {
   "codemirror_mode": {
    "name": "ipython",
    "version": 3
   },
   "file_extension": ".py",
   "mimetype": "text/x-python",
   "name": "python",
   "nbconvert_exporter": "python",
   "pygments_lexer": "ipython3",
   "version": "3.12.0"
  },
  "papermill": {
   "default_parameters": {},
   "duration": 4.841136,
   "end_time": "2024-07-06T19:24:03.658723",
   "environment_variables": {},
   "exception": null,
   "input_path": "/Users/sota/Dropbox/2 Business/1 Datons/2 Areas/Courses/3 Catalogue/20 ML/1 Materials/ML/notebooks/10_Modelling/2_Steps/B_Solution.ipynb",
   "output_path": "/Users/sota/Dropbox/2 Business/1 Datons/2 Areas/Courses/3 Catalogue/20 ML/1 Materials/ML/notebooks/10_Modelling/2_Steps/B_Solution.ipynb",
   "parameters": {},
   "start_time": "2024-07-06T19:23:58.817587",
   "version": "2.5.0"
  }
 },
 "nbformat": 4,
 "nbformat_minor": 5
}
