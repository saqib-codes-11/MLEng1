{
 "cells": [
  {
   "attachments": {},
   "cell_type": "markdown",
   "id": "29778fd4-3b3c-485f-95a9-e7750bba38b0",
   "metadata": {
    "editable": true,
    "papermill": {
     "duration": 0.010091,
     "end_time": "2024-07-06T19:23:52.830177",
     "exception": false,
     "start_time": "2024-07-06T19:23:52.820086",
     "status": "completed"
    },
    "slideshow": {
     "slide_type": ""
    },
    "tags": []
   },
   "source": [
    "# Why do you need Machine Learning models?"
   ]
  },
  {
   "attachments": {},
   "cell_type": "markdown",
   "id": "5ceacb20",
   "metadata": {
    "papermill": {
     "duration": 0.007214,
     "end_time": "2024-07-06T19:23:52.843437",
     "exception": false,
     "start_time": "2024-07-06T19:23:52.836223",
     "status": "completed"
    },
    "tags": []
   },
   "source": [
    "Let's say you have a house to sell, which Price should you put to it?"
   ]
  },
  {
   "cell_type": "code",
   "execution_count": 1,
   "id": "eae61cc9",
   "metadata": {
    "execution": {
     "iopub.execute_input": "2024-07-06T19:23:52.857369Z",
     "iopub.status.busy": "2024-07-06T19:23:52.856418Z",
     "iopub.status.idle": "2024-07-06T19:23:52.865648Z",
     "shell.execute_reply": "2024-07-06T19:23:52.863830Z"
    },
    "papermill": {
     "duration": 0.030212,
     "end_time": "2024-07-06T19:23:52.879226",
     "exception": false,
     "start_time": "2024-07-06T19:23:52.849014",
     "status": "completed"
    },
    "tags": [
     "change-false"
    ]
   },
   "outputs": [],
   "source": [
    "form_input = {\n",
    "    'Bedrooms': 3,\n",
    "    'Bathrooms': 2,\n",
    "    'Garage': 2,\n",
    "    'Build Year': 2000,\n",
    "    'Floor Area': 200\n",
    "}"
   ]
  },
  {
   "cell_type": "code",
   "execution_count": 2,
   "id": "68e5701e",
   "metadata": {
    "execution": {
     "iopub.execute_input": "2024-07-06T19:23:52.899867Z",
     "iopub.status.busy": "2024-07-06T19:23:52.899288Z",
     "iopub.status.idle": "2024-07-06T19:23:53.737778Z",
     "shell.execute_reply": "2024-07-06T19:23:53.737236Z"
    },
    "papermill": {
     "duration": 0.853091,
     "end_time": "2024-07-06T19:23:53.740936",
     "exception": false,
     "start_time": "2024-07-06T19:23:52.887845",
     "status": "completed"
    },
    "tags": []
   },
   "outputs": [
    {
     "data": {
      "text/html": [
       "<div>\n",
       "<style scoped>\n",
       "    .dataframe tbody tr th:only-of-type {\n",
       "        vertical-align: middle;\n",
       "    }\n",
       "\n",
       "    .dataframe tbody tr th {\n",
       "        vertical-align: top;\n",
       "    }\n",
       "\n",
       "    .dataframe thead th {\n",
       "        text-align: right;\n",
       "    }\n",
       "</style>\n",
       "<table border=\"1\" class=\"dataframe\">\n",
       "  <thead>\n",
       "    <tr style=\"text-align: right;\">\n",
       "      <th></th>\n",
       "      <th>Bedrooms</th>\n",
       "      <th>Bathrooms</th>\n",
       "      <th>Garage</th>\n",
       "      <th>Build Year</th>\n",
       "      <th>Floor Area</th>\n",
       "    </tr>\n",
       "  </thead>\n",
       "  <tbody>\n",
       "    <tr>\n",
       "      <th>0</th>\n",
       "      <td>3</td>\n",
       "      <td>2</td>\n",
       "      <td>2</td>\n",
       "      <td>2000</td>\n",
       "      <td>200</td>\n",
       "    </tr>\n",
       "  </tbody>\n",
       "</table>\n",
       "</div>"
      ],
      "text/plain": [
       "   Bedrooms  Bathrooms  Garage  Build Year  Floor Area\n",
       "0         3          2       2        2000         200"
      ]
     },
     "execution_count": 2,
     "metadata": {},
     "output_type": "execute_result"
    }
   ],
   "source": [
    "import pandas as pd\n",
    "df_input = pd.DataFrame(form_input, index=[0])\n",
    "df_input"
   ]
  },
  {
   "attachments": {},
   "cell_type": "markdown",
   "id": "bba7b3ce-014f-4be4-a18f-6c771784679e",
   "metadata": {
    "editable": true,
    "papermill": {
     "duration": 0.005247,
     "end_time": "2024-07-06T19:23:53.752075",
     "exception": false,
     "start_time": "2024-07-06T19:23:53.746828",
     "status": "completed"
    },
    "slideshow": {
     "slide_type": ""
    },
    "tags": []
   },
   "source": [
    "## Data\n",
    "\n",
    "Having a dataset with many houses and their sold Prices, you can use Machine Learning to predict the optimal Price for your house."
   ]
  },
  {
   "cell_type": "code",
   "execution_count": 3,
   "id": "b2177ca9",
   "metadata": {
    "execution": {
     "iopub.execute_input": "2024-07-06T19:23:53.765466Z",
     "iopub.status.busy": "2024-07-06T19:23:53.764962Z",
     "iopub.status.idle": "2024-07-06T19:23:53.785530Z",
     "shell.execute_reply": "2024-07-06T19:23:53.784803Z"
    },
    "papermill": {
     "duration": 0.030301,
     "end_time": "2024-07-06T19:23:53.787590",
     "exception": false,
     "start_time": "2024-07-06T19:23:53.757289",
     "status": "completed"
    },
    "tags": [
     "change-false"
    ]
   },
   "outputs": [
    {
     "data": {
      "text/html": [
       "<div>\n",
       "<style scoped>\n",
       "    .dataframe tbody tr th:only-of-type {\n",
       "        vertical-align: middle;\n",
       "    }\n",
       "\n",
       "    .dataframe tbody tr th {\n",
       "        vertical-align: top;\n",
       "    }\n",
       "\n",
       "    .dataframe thead th {\n",
       "        text-align: right;\n",
       "    }\n",
       "</style>\n",
       "<table border=\"1\" class=\"dataframe\">\n",
       "  <thead>\n",
       "    <tr style=\"text-align: right;\">\n",
       "      <th></th>\n",
       "      <th>Price</th>\n",
       "      <th>Bedrooms</th>\n",
       "      <th>Bathrooms</th>\n",
       "      <th>Garage</th>\n",
       "      <th>Build Year</th>\n",
       "      <th>Floor Area</th>\n",
       "    </tr>\n",
       "    <tr>\n",
       "      <th>ADDRESS</th>\n",
       "      <th></th>\n",
       "      <th></th>\n",
       "      <th></th>\n",
       "      <th></th>\n",
       "      <th></th>\n",
       "      <th></th>\n",
       "    </tr>\n",
       "  </thead>\n",
       "  <tbody>\n",
       "    <tr>\n",
       "      <th>1 Datchet Turn</th>\n",
       "      <td>270000</td>\n",
       "      <td>3</td>\n",
       "      <td>2</td>\n",
       "      <td>2.0</td>\n",
       "      <td>2011.0</td>\n",
       "      <td>109</td>\n",
       "    </tr>\n",
       "    <tr>\n",
       "      <th>1 McKenzie Corner</th>\n",
       "      <td>470000</td>\n",
       "      <td>4</td>\n",
       "      <td>2</td>\n",
       "      <td>2.0</td>\n",
       "      <td>2005.0</td>\n",
       "      <td>279</td>\n",
       "    </tr>\n",
       "    <tr>\n",
       "      <th>...</th>\n",
       "      <td>...</td>\n",
       "      <td>...</td>\n",
       "      <td>...</td>\n",
       "      <td>...</td>\n",
       "      <td>...</td>\n",
       "      <td>...</td>\n",
       "    </tr>\n",
       "    <tr>\n",
       "      <th>93 Centennial Avenue</th>\n",
       "      <td>350000</td>\n",
       "      <td>4</td>\n",
       "      <td>2</td>\n",
       "      <td>2.0</td>\n",
       "      <td>2005.0</td>\n",
       "      <td>177</td>\n",
       "    </tr>\n",
       "    <tr>\n",
       "      <th>98 Centennial Avenue</th>\n",
       "      <td>441000</td>\n",
       "      <td>4</td>\n",
       "      <td>2</td>\n",
       "      <td>2.0</td>\n",
       "      <td>2004.0</td>\n",
       "      <td>195</td>\n",
       "    </tr>\n",
       "  </tbody>\n",
       "</table>\n",
       "<p>204 rows × 6 columns</p>\n",
       "</div>"
      ],
      "text/plain": [
       "                       Price  Bedrooms  Bathrooms  Garage  Build Year  \\\n",
       "ADDRESS                                                                 \n",
       "1 Datchet Turn        270000         3          2     2.0      2011.0   \n",
       "1 McKenzie Corner     470000         4          2     2.0      2005.0   \n",
       "...                      ...       ...        ...     ...         ...   \n",
       "93 Centennial Avenue  350000         4          2     2.0      2005.0   \n",
       "98 Centennial Avenue  441000         4          2     2.0      2004.0   \n",
       "\n",
       "                      Floor Area  \n",
       "ADDRESS                           \n",
       "1 Datchet Turn               109  \n",
       "1 McKenzie Corner            279  \n",
       "...                          ...  \n",
       "93 Centennial Avenue         177  \n",
       "98 Centennial Avenue         195  \n",
       "\n",
       "[204 rows x 6 columns]"
      ]
     },
     "execution_count": 3,
     "metadata": {},
     "output_type": "execute_result"
    }
   ],
   "source": [
    "import pandas as pd\n",
    "\n",
    "path = '../../../data/house_perth/output/ml_simple.csv'\n",
    "df_base = pd.read_csv(path, index_col=0)\n",
    "df_base"
   ]
  },
  {
   "attachments": {},
   "cell_type": "markdown",
   "id": "a02dfd04-f2eb-4f15-a5dd-9ff50eec2419",
   "metadata": {
    "editable": true,
    "papermill": {
     "duration": 0.004657,
     "end_time": "2024-07-06T19:23:53.796973",
     "exception": false,
     "start_time": "2024-07-06T19:23:53.792316",
     "status": "completed"
    },
    "slideshow": {
     "slide_type": ""
    },
    "tags": []
   },
   "source": [
    "## ML Model"
   ]
  },
  {
   "attachments": {},
   "cell_type": "markdown",
   "id": "9787156f",
   "metadata": {
    "papermill": {
     "duration": 0.00569,
     "end_time": "2024-07-06T19:23:53.808247",
     "exception": false,
     "start_time": "2024-07-06T19:23:53.802557",
     "status": "completed"
    },
    "tags": []
   },
   "source": [
    "**Machine learning, what does it mean?**\n",
    "\n",
    "Visual explanation: https://twitter.com/jsulopzs/status/1449735653328031745"
   ]
  },
  {
   "attachments": {},
   "cell_type": "markdown",
   "id": "c2a26a20",
   "metadata": {
    "papermill": {
     "duration": 0.004426,
     "end_time": "2024-07-06T19:23:53.817197",
     "exception": false,
     "start_time": "2024-07-06T19:23:53.812771",
     "status": "completed"
    },
    "tags": []
   },
   "source": [
    "### Import algorithm from sklearn"
   ]
  },
  {
   "cell_type": "code",
   "execution_count": 4,
   "id": "5aa487d4",
   "metadata": {
    "execution": {
     "iopub.execute_input": "2024-07-06T19:23:53.828401Z",
     "iopub.status.busy": "2024-07-06T19:23:53.828118Z",
     "iopub.status.idle": "2024-07-06T19:23:55.012670Z",
     "shell.execute_reply": "2024-07-06T19:23:55.011976Z"
    },
    "papermill": {
     "duration": 1.19191,
     "end_time": "2024-07-06T19:23:55.014574",
     "exception": false,
     "start_time": "2024-07-06T19:23:53.822664",
     "status": "completed"
    },
    "tags": []
   },
   "outputs": [],
   "source": [
    "from sklearn.linear_model import LinearRegression"
   ]
  },
  {
   "attachments": {},
   "cell_type": "markdown",
   "id": "ffdee0bf",
   "metadata": {
    "papermill": {
     "duration": 0.005994,
     "end_time": "2024-07-06T19:23:55.027878",
     "exception": false,
     "start_time": "2024-07-06T19:23:55.021884",
     "status": "completed"
    },
    "tags": []
   },
   "source": [
    "### Assign the algorithm to a variable in the computer's memory"
   ]
  },
  {
   "cell_type": "code",
   "execution_count": 5,
   "id": "cc7a1432",
   "metadata": {
    "execution": {
     "iopub.execute_input": "2024-07-06T19:23:55.040001Z",
     "iopub.status.busy": "2024-07-06T19:23:55.039617Z",
     "iopub.status.idle": "2024-07-06T19:23:55.043228Z",
     "shell.execute_reply": "2024-07-06T19:23:55.042519Z"
    },
    "papermill": {
     "duration": 0.011851,
     "end_time": "2024-07-06T19:23:55.045090",
     "exception": false,
     "start_time": "2024-07-06T19:23:55.033239",
     "status": "completed"
    },
    "tags": []
   },
   "outputs": [],
   "source": [
    "model = LinearRegression()"
   ]
  },
  {
   "attachments": {},
   "cell_type": "markdown",
   "id": "ee31025e-2830-43dc-8082-f2de0473ec0a",
   "metadata": {
    "editable": true,
    "papermill": {
     "duration": 0.005155,
     "end_time": "2024-07-06T19:23:55.054617",
     "exception": false,
     "start_time": "2024-07-06T19:23:55.049462",
     "status": "completed"
    },
    "slideshow": {
     "slide_type": ""
    },
    "tags": []
   },
   "source": [
    "### Fit model with historical data"
   ]
  },
  {
   "cell_type": "code",
   "execution_count": 6,
   "id": "f3e2088d-261f-45ea-bcf4-b683e3711a57",
   "metadata": {
    "editable": true,
    "execution": {
     "iopub.execute_input": "2024-07-06T19:23:55.065841Z",
     "iopub.status.busy": "2024-07-06T19:23:55.065572Z",
     "iopub.status.idle": "2024-07-06T19:23:55.077313Z",
     "shell.execute_reply": "2024-07-06T19:23:55.076606Z"
    },
    "papermill": {
     "duration": 0.019662,
     "end_time": "2024-07-06T19:23:55.078843",
     "exception": false,
     "start_time": "2024-07-06T19:23:55.059181",
     "status": "completed"
    },
    "slideshow": {
     "slide_type": ""
    },
    "tags": []
   },
   "outputs": [
    {
     "data": {
      "text/html": [
       "<style>#sk-container-id-1 {color: black;}#sk-container-id-1 pre{padding: 0;}#sk-container-id-1 div.sk-toggleable {background-color: white;}#sk-container-id-1 label.sk-toggleable__label {cursor: pointer;display: block;width: 100%;margin-bottom: 0;padding: 0.3em;box-sizing: border-box;text-align: center;}#sk-container-id-1 label.sk-toggleable__label-arrow:before {content: \"▸\";float: left;margin-right: 0.25em;color: #696969;}#sk-container-id-1 label.sk-toggleable__label-arrow:hover:before {color: black;}#sk-container-id-1 div.sk-estimator:hover label.sk-toggleable__label-arrow:before {color: black;}#sk-container-id-1 div.sk-toggleable__content {max-height: 0;max-width: 0;overflow: hidden;text-align: left;background-color: #f0f8ff;}#sk-container-id-1 div.sk-toggleable__content pre {margin: 0.2em;color: black;border-radius: 0.25em;background-color: #f0f8ff;}#sk-container-id-1 input.sk-toggleable__control:checked~div.sk-toggleable__content {max-height: 200px;max-width: 100%;overflow: auto;}#sk-container-id-1 input.sk-toggleable__control:checked~label.sk-toggleable__label-arrow:before {content: \"▾\";}#sk-container-id-1 div.sk-estimator input.sk-toggleable__control:checked~label.sk-toggleable__label {background-color: #d4ebff;}#sk-container-id-1 div.sk-label input.sk-toggleable__control:checked~label.sk-toggleable__label {background-color: #d4ebff;}#sk-container-id-1 input.sk-hidden--visually {border: 0;clip: rect(1px 1px 1px 1px);clip: rect(1px, 1px, 1px, 1px);height: 1px;margin: -1px;overflow: hidden;padding: 0;position: absolute;width: 1px;}#sk-container-id-1 div.sk-estimator {font-family: monospace;background-color: #f0f8ff;border: 1px dotted black;border-radius: 0.25em;box-sizing: border-box;margin-bottom: 0.5em;}#sk-container-id-1 div.sk-estimator:hover {background-color: #d4ebff;}#sk-container-id-1 div.sk-parallel-item::after {content: \"\";width: 100%;border-bottom: 1px solid gray;flex-grow: 1;}#sk-container-id-1 div.sk-label:hover label.sk-toggleable__label {background-color: #d4ebff;}#sk-container-id-1 div.sk-serial::before {content: \"\";position: absolute;border-left: 1px solid gray;box-sizing: border-box;top: 0;bottom: 0;left: 50%;z-index: 0;}#sk-container-id-1 div.sk-serial {display: flex;flex-direction: column;align-items: center;background-color: white;padding-right: 0.2em;padding-left: 0.2em;position: relative;}#sk-container-id-1 div.sk-item {position: relative;z-index: 1;}#sk-container-id-1 div.sk-parallel {display: flex;align-items: stretch;justify-content: center;background-color: white;position: relative;}#sk-container-id-1 div.sk-item::before, #sk-container-id-1 div.sk-parallel-item::before {content: \"\";position: absolute;border-left: 1px solid gray;box-sizing: border-box;top: 0;bottom: 0;left: 50%;z-index: -1;}#sk-container-id-1 div.sk-parallel-item {display: flex;flex-direction: column;z-index: 1;position: relative;background-color: white;}#sk-container-id-1 div.sk-parallel-item:first-child::after {align-self: flex-end;width: 50%;}#sk-container-id-1 div.sk-parallel-item:last-child::after {align-self: flex-start;width: 50%;}#sk-container-id-1 div.sk-parallel-item:only-child::after {width: 0;}#sk-container-id-1 div.sk-dashed-wrapped {border: 1px dashed gray;margin: 0 0.4em 0.5em 0.4em;box-sizing: border-box;padding-bottom: 0.4em;background-color: white;}#sk-container-id-1 div.sk-label label {font-family: monospace;font-weight: bold;display: inline-block;line-height: 1.2em;}#sk-container-id-1 div.sk-label-container {text-align: center;}#sk-container-id-1 div.sk-container {/* jupyter's `normalize.less` sets `[hidden] { display: none; }` but bootstrap.min.css set `[hidden] { display: none !important; }` so we also need the `!important` here to be able to override the default hidden behavior on the sphinx rendered scikit-learn.org. See: https://github.com/scikit-learn/scikit-learn/issues/21755 */display: inline-block !important;position: relative;}#sk-container-id-1 div.sk-text-repr-fallback {display: none;}</style><div id=\"sk-container-id-1\" class=\"sk-top-container\"><div class=\"sk-text-repr-fallback\"><pre>LinearRegression()</pre><b>In a Jupyter environment, please rerun this cell to show the HTML representation or trust the notebook. <br />On GitHub, the HTML representation is unable to render, please try loading this page with nbviewer.org.</b></div><div class=\"sk-container\" hidden><div class=\"sk-item\"><div class=\"sk-estimator sk-toggleable\"><input class=\"sk-toggleable__control sk-hidden--visually\" id=\"sk-estimator-id-1\" type=\"checkbox\" checked><label for=\"sk-estimator-id-1\" class=\"sk-toggleable__label sk-toggleable__label-arrow\">LinearRegression</label><div class=\"sk-toggleable__content\"><pre>LinearRegression()</pre></div></div></div></div></div>"
      ],
      "text/plain": [
       "LinearRegression()"
      ]
     },
     "execution_count": 6,
     "metadata": {},
     "output_type": "execute_result"
    }
   ],
   "source": [
    "y = df_base['Price']\n",
    "X = df_base.drop(columns='Price')\n",
    "\n",
    "model.fit(X, y)"
   ]
  },
  {
   "attachments": {},
   "cell_type": "markdown",
   "id": "7665a639-5d5a-44c0-ad2a-42357117d473",
   "metadata": {
    "editable": true,
    "papermill": {
     "duration": 0.00566,
     "end_time": "2024-07-06T19:23:55.089414",
     "exception": false,
     "start_time": "2024-07-06T19:23:55.083754",
     "status": "completed"
    },
    "slideshow": {
     "slide_type": ""
    },
    "tags": []
   },
   "source": [
    "### Predict your house Price"
   ]
  },
  {
   "cell_type": "code",
   "execution_count": 7,
   "id": "773ff518-bd26-4c1e-9476-f2d0d02e510a",
   "metadata": {
    "editable": true,
    "execution": {
     "iopub.execute_input": "2024-07-06T19:23:55.103566Z",
     "iopub.status.busy": "2024-07-06T19:23:55.103242Z",
     "iopub.status.idle": "2024-07-06T19:23:55.112288Z",
     "shell.execute_reply": "2024-07-06T19:23:55.111410Z"
    },
    "papermill": {
     "duration": 0.01947,
     "end_time": "2024-07-06T19:23:55.114350",
     "exception": false,
     "start_time": "2024-07-06T19:23:55.094880",
     "status": "completed"
    },
    "slideshow": {
     "slide_type": ""
    },
    "tags": []
   },
   "outputs": [
    {
     "data": {
      "text/html": [
       "<div>\n",
       "<style scoped>\n",
       "    .dataframe tbody tr th:only-of-type {\n",
       "        vertical-align: middle;\n",
       "    }\n",
       "\n",
       "    .dataframe tbody tr th {\n",
       "        vertical-align: top;\n",
       "    }\n",
       "\n",
       "    .dataframe thead th {\n",
       "        text-align: right;\n",
       "    }\n",
       "</style>\n",
       "<table border=\"1\" class=\"dataframe\">\n",
       "  <thead>\n",
       "    <tr style=\"text-align: right;\">\n",
       "      <th></th>\n",
       "      <th>Bedrooms</th>\n",
       "      <th>Bathrooms</th>\n",
       "      <th>Garage</th>\n",
       "      <th>Build Year</th>\n",
       "      <th>Floor Area</th>\n",
       "    </tr>\n",
       "  </thead>\n",
       "  <tbody>\n",
       "    <tr>\n",
       "      <th>0</th>\n",
       "      <td>3</td>\n",
       "      <td>2</td>\n",
       "      <td>2</td>\n",
       "      <td>2000</td>\n",
       "      <td>200</td>\n",
       "    </tr>\n",
       "  </tbody>\n",
       "</table>\n",
       "</div>"
      ],
      "text/plain": [
       "   Bedrooms  Bathrooms  Garage  Build Year  Floor Area\n",
       "0         3          2       2        2000         200"
      ]
     },
     "execution_count": 7,
     "metadata": {},
     "output_type": "execute_result"
    }
   ],
   "source": [
    "df_input"
   ]
  },
  {
   "cell_type": "code",
   "execution_count": 8,
   "id": "d1be02eb",
   "metadata": {
    "execution": {
     "iopub.execute_input": "2024-07-06T19:23:55.128036Z",
     "iopub.status.busy": "2024-07-06T19:23:55.127718Z",
     "iopub.status.idle": "2024-07-06T19:23:55.134612Z",
     "shell.execute_reply": "2024-07-06T19:23:55.133407Z"
    },
    "papermill": {
     "duration": 0.016261,
     "end_time": "2024-07-06T19:23:55.136769",
     "exception": false,
     "start_time": "2024-07-06T19:23:55.120508",
     "status": "completed"
    },
    "tags": []
   },
   "outputs": [
    {
     "data": {
      "text/plain": [
       "array([415238.81026797])"
      ]
     },
     "execution_count": 8,
     "metadata": {},
     "output_type": "execute_result"
    }
   ],
   "source": [
    "model.predict(df_input)"
   ]
  },
  {
   "attachments": {},
   "cell_type": "markdown",
   "id": "8749e3b0",
   "metadata": {
    "papermill": {
     "duration": 0.007164,
     "end_time": "2024-07-06T19:23:55.150079",
     "exception": false,
     "start_time": "2024-07-06T19:23:55.142915",
     "status": "completed"
    },
    "tags": []
   },
   "source": [
    "### Interpretation"
   ]
  },
  {
   "cell_type": "code",
   "execution_count": 9,
   "id": "8fb640d6",
   "metadata": {
    "execution": {
     "iopub.execute_input": "2024-07-06T19:23:55.162542Z",
     "iopub.status.busy": "2024-07-06T19:23:55.162277Z",
     "iopub.status.idle": "2024-07-06T19:23:55.167869Z",
     "shell.execute_reply": "2024-07-06T19:23:55.167076Z"
    },
    "papermill": {
     "duration": 0.013872,
     "end_time": "2024-07-06T19:23:55.169992",
     "exception": false,
     "start_time": "2024-07-06T19:23:55.156120",
     "status": "completed"
    },
    "tags": []
   },
   "outputs": [
    {
     "data": {
      "text/plain": [
       "array([20407.52444216, -5446.13921643,  1952.49704666, -2468.27502394,\n",
       "        1080.61667876])"
      ]
     },
     "execution_count": 9,
     "metadata": {},
     "output_type": "execute_result"
    }
   ],
   "source": [
    "model.coef_"
   ]
  },
  {
   "cell_type": "code",
   "execution_count": 10,
   "id": "85d4b0d5",
   "metadata": {
    "execution": {
     "iopub.execute_input": "2024-07-06T19:23:55.187974Z",
     "iopub.status.busy": "2024-07-06T19:23:55.187538Z",
     "iopub.status.idle": "2024-07-06T19:23:55.193057Z",
     "shell.execute_reply": "2024-07-06T19:23:55.192462Z"
    },
    "papermill": {
     "duration": 0.016811,
     "end_time": "2024-07-06T19:23:55.195203",
     "exception": false,
     "start_time": "2024-07-06T19:23:55.178392",
     "status": "completed"
    },
    "tags": []
   },
   "outputs": [
    {
     "data": {
      "text/plain": [
       "5081430.233404346"
      ]
     },
     "execution_count": 10,
     "metadata": {},
     "output_type": "execute_result"
    }
   ],
   "source": [
    "model.intercept_"
   ]
  },
  {
   "cell_type": "code",
   "execution_count": 11,
   "id": "d79e01b5",
   "metadata": {
    "execution": {
     "iopub.execute_input": "2024-07-06T19:23:55.209058Z",
     "iopub.status.busy": "2024-07-06T19:23:55.208789Z",
     "iopub.status.idle": "2024-07-06T19:23:55.217906Z",
     "shell.execute_reply": "2024-07-06T19:23:55.216712Z"
    },
    "papermill": {
     "duration": 0.018567,
     "end_time": "2024-07-06T19:23:55.219980",
     "exception": false,
     "start_time": "2024-07-06T19:23:55.201413",
     "status": "completed"
    },
    "tags": []
   },
   "outputs": [
    {
     "data": {
      "text/plain": [
       "0    415238.810268\n",
       "dtype: float64"
      ]
     },
     "execution_count": 11,
     "metadata": {},
     "output_type": "execute_result"
    }
   ],
   "source": [
    "(df_input * model.coef_).sum(axis=1) + model.intercept_"
   ]
  },
  {
   "attachments": {},
   "cell_type": "markdown",
   "id": "ec1ed63a",
   "metadata": {
    "papermill": {
     "duration": 0.005158,
     "end_time": "2024-07-06T19:23:55.230939",
     "exception": false,
     "start_time": "2024-07-06T19:23:55.225781",
     "status": "completed"
    },
    "tags": []
   },
   "source": [
    "### How does the machine learns?\n",
    "\n",
    "- Visual explanation: https://youtu.be/Ht3rYS-JilE\n",
    "- Visit source code `model.fit` to understand see the math behind the model."
   ]
  },
  {
   "attachments": {},
   "cell_type": "markdown",
   "id": "f775dfd4",
   "metadata": {
    "papermill": {
     "duration": 0.005307,
     "end_time": "2024-07-06T19:23:55.243069",
     "exception": false,
     "start_time": "2024-07-06T19:23:55.237762",
     "status": "completed"
    },
    "tags": []
   },
   "source": [
    "<img src=\"src/sourcecode.png\" width=800>"
   ]
  },
  {
   "attachments": {},
   "cell_type": "markdown",
   "id": "a4978b35-2190-4800-bba5-e424aa303af8",
   "metadata": {
    "editable": true,
    "papermill": {
     "duration": 0.006465,
     "end_time": "2024-07-06T19:23:55.255171",
     "exception": false,
     "start_time": "2024-07-06T19:23:55.248706",
     "status": "completed"
    },
    "slideshow": {
     "slide_type": ""
    },
    "tags": []
   },
   "source": [
    "### Model evaluation"
   ]
  },
  {
   "cell_type": "code",
   "execution_count": 12,
   "id": "3bbcd411",
   "metadata": {
    "execution": {
     "iopub.execute_input": "2024-07-06T19:23:55.268465Z",
     "iopub.status.busy": "2024-07-06T19:23:55.268188Z",
     "iopub.status.idle": "2024-07-06T19:23:55.275234Z",
     "shell.execute_reply": "2024-07-06T19:23:55.274560Z"
    },
    "papermill": {
     "duration": 0.015642,
     "end_time": "2024-07-06T19:23:55.277012",
     "exception": false,
     "start_time": "2024-07-06T19:23:55.261370",
     "status": "completed"
    },
    "tags": []
   },
   "outputs": [
    {
     "data": {
      "text/plain": [
       "array([289751.66723767, 508673.67721233, 425773.23461438, 367112.89229502,\n",
       "       281008.42845204, 445690.86817794, 360015.10888963, 402466.20102762,\n",
       "       377452.52573668, 419903.61787467, 293865.39764184, 423304.95959044,\n",
       "       362483.38391356, 416612.52320704, 377304.97574976, 292895.21191837,\n",
       "       395208.92594273, 408335.81776732, 320782.50925523, 389032.2675366 ,\n",
       "       371582.90899698, 344431.88373366, 426276.88699193, 411111.13445768,\n",
       "       286411.51184583, 434884.70139036, 459223.10702452, 446464.44319028,\n",
       "       404934.47605155, 295768.8339643 , 412498.79280286, 384255.20916822,\n",
       "       412498.79280286, 373142.00071422, 399224.35099134, 422838.42624453,\n",
       "       390726.9675482 , 367272.38397451, 462207.16002573, 380546.82578603,\n",
       "       383015.10080997, 398610.2676585 , 355226.10882868, 385483.37583391,\n",
       "       347968.83374379, 481658.26024338, 447692.60985596, 419449.02622132,\n",
       "       419903.61787467, 280947.24212811, 325719.05930311, 473160.87680024,\n",
       "       402172.92086015, 408176.32608783, 384402.75915515, 399383.84267084,\n",
       "       318768.82588464, 394287.80094347, 373891.50843426, 427627.42630547,\n",
       "       362790.42557999, 428560.49299731, 285637.93683349, 382389.07578456,\n",
       "       375882.01817933, 443836.67648685, 340012.93146945, 403546.81770637,\n",
       "       344851.17616176, 430402.74299583, 332350.30936258, 410302.26022009,\n",
       "       376777.07217275, 380706.31746553, 381786.93414428, 435547.84544741,\n",
       "       477802.32687426, 384095.71748873, 370047.70066487, 425011.60129461,\n",
       "       366805.8506286 , 355043.2596165 , 425773.23461438, 315526.97584837,\n",
       "       357080.30051977, 324207.20850368, 387951.65085784, 368967.08398611,\n",
       "       290832.28391642, 361709.80890123, 389498.80088252, 312444.61749159,\n",
       "       404627.43438513, 369274.12565253, 397063.11763383, 335320.41695768,\n",
       "       314446.35916961, 437967.05974714, 372014.14311764, 433190.00137876,\n",
       "       474708.02682492, 374370.1673799 , 307348.57576422, 281413.77547402,\n",
       "       396141.99263456, 398769.75933799, 357511.53464044, 395675.45928864,\n",
       "       464061.35171683, 324945.48429077, 298396.60066773, 371128.31734363,\n",
       "       375757.82572508, 459738.8850018 , 390455.22510703, 371901.89235597,\n",
       "       381001.41743938, 439821.25143823, 394093.01003872, 333897.45938725,\n",
       "       433595.34840075, 436898.38476095, 403694.3676933 , 437402.0371385 ,\n",
       "       365872.78393677, 427172.83465213, 426706.30130621, 389498.80088252,\n",
       "       467659.30414373, 382597.62818826, 411725.21779052, 414967.0678268 ,\n",
       "       338834.00943513, 380080.29244012, 393354.73425163, 365725.23394984,\n",
       "       397836.69264616, 324945.48429077, 414967.0678268 , 430255.19300891,\n",
       "       353224.36715066, 397063.11763383, 367726.97562786, 418356.46785   ,\n",
       "       333283.37605441, 494944.64374747, 367886.46730736, 394128.30926397,\n",
       "       453255.18492925, 361255.21724788, 328063.1418728 , 330224.37523031,\n",
       "       403546.81770637, 423820.55366056, 445076.7848451 , 405708.05106389,\n",
       "       370710.84472192, 423013.51885932, 390112.88421536, 308122.15077655,\n",
       "       330029.58432557, 370195.2506518 , 413579.40948162, 402159.15936119,\n",
       "       410030.51777892, 374529.6590594 , 430414.6846884 , 374677.20904632,\n",
       "       372049.44234289, 550534.04355016, 377501.58646089, 424385.5762692 ,\n",
       "       408532.42847845, 294847.70896504, 308122.15077655, 382979.80158472,\n",
       "       419952.67859888, 475780.88690629, 409109.39277966, 369433.61733203,\n",
       "       345819.54207884, 367726.97562786, 284041.54217745, 365872.78393677,\n",
       "       352267.94292614, 363871.04225874, 356773.25885335, 353838.4504835 ,\n",
       "       473013.32681332, 418208.91786307, 360629.19222247, 366548.05359354,\n",
       "       412965.32614878, 374836.70072582, 363074.10971372, 411270.62613718,\n",
       "       440128.29310466, 380853.86745245, 290218.20058358, 463029.79576227,\n",
       "       456205.5942344 , 394287.80094347, 398450.775979  , 420370.15122059])"
      ]
     },
     "execution_count": 12,
     "metadata": {},
     "output_type": "execute_result"
    }
   ],
   "source": [
    "y_pred = model.predict(X)\n",
    "y_pred"
   ]
  },
  {
   "cell_type": "code",
   "execution_count": 13,
   "id": "0ab06e99",
   "metadata": {
    "execution": {
     "iopub.execute_input": "2024-07-06T19:23:55.289221Z",
     "iopub.status.busy": "2024-07-06T19:23:55.288961Z",
     "iopub.status.idle": "2024-07-06T19:23:55.296581Z",
     "shell.execute_reply": "2024-07-06T19:23:55.295930Z"
    },
    "papermill": {
     "duration": 0.015934,
     "end_time": "2024-07-06T19:23:55.298227",
     "exception": false,
     "start_time": "2024-07-06T19:23:55.282293",
     "status": "completed"
    },
    "tags": []
   },
   "outputs": [
    {
     "data": {
      "text/html": [
       "<div>\n",
       "<style scoped>\n",
       "    .dataframe tbody tr th:only-of-type {\n",
       "        vertical-align: middle;\n",
       "    }\n",
       "\n",
       "    .dataframe tbody tr th {\n",
       "        vertical-align: top;\n",
       "    }\n",
       "\n",
       "    .dataframe thead th {\n",
       "        text-align: right;\n",
       "    }\n",
       "</style>\n",
       "<table border=\"1\" class=\"dataframe\">\n",
       "  <thead>\n",
       "    <tr style=\"text-align: right;\">\n",
       "      <th></th>\n",
       "      <th>y_true</th>\n",
       "      <th>y_pred</th>\n",
       "    </tr>\n",
       "    <tr>\n",
       "      <th>ADDRESS</th>\n",
       "      <th></th>\n",
       "      <th></th>\n",
       "    </tr>\n",
       "  </thead>\n",
       "  <tbody>\n",
       "    <tr>\n",
       "      <th>1 Datchet Turn</th>\n",
       "      <td>270000</td>\n",
       "      <td>289751.667238</td>\n",
       "    </tr>\n",
       "    <tr>\n",
       "      <th>1 McKenzie Corner</th>\n",
       "      <td>470000</td>\n",
       "      <td>508673.677212</td>\n",
       "    </tr>\n",
       "    <tr>\n",
       "      <th>...</th>\n",
       "      <td>...</td>\n",
       "      <td>...</td>\n",
       "    </tr>\n",
       "    <tr>\n",
       "      <th>93 Centennial Avenue</th>\n",
       "      <td>350000</td>\n",
       "      <td>398450.775979</td>\n",
       "    </tr>\n",
       "    <tr>\n",
       "      <th>98 Centennial Avenue</th>\n",
       "      <td>441000</td>\n",
       "      <td>420370.151221</td>\n",
       "    </tr>\n",
       "  </tbody>\n",
       "</table>\n",
       "<p>204 rows × 2 columns</p>\n",
       "</div>"
      ],
      "text/plain": [
       "                      y_true         y_pred\n",
       "ADDRESS                                    \n",
       "1 Datchet Turn        270000  289751.667238\n",
       "1 McKenzie Corner     470000  508673.677212\n",
       "...                      ...            ...\n",
       "93 Centennial Avenue  350000  398450.775979\n",
       "98 Centennial Avenue  441000  420370.151221\n",
       "\n",
       "[204 rows x 2 columns]"
      ]
     },
     "execution_count": 13,
     "metadata": {},
     "output_type": "execute_result"
    }
   ],
   "source": [
    "data = {\n",
    "    'y_true': y,\n",
    "    'y_pred': y_pred\n",
    "}\n",
    "\n",
    "df_pred = pd.DataFrame(data)\n",
    "df_pred"
   ]
  },
  {
   "cell_type": "code",
   "execution_count": 14,
   "id": "f2b6dfaf",
   "metadata": {
    "execution": {
     "iopub.execute_input": "2024-07-06T19:23:55.310490Z",
     "iopub.status.busy": "2024-07-06T19:23:55.310188Z",
     "iopub.status.idle": "2024-07-06T19:23:55.316238Z",
     "shell.execute_reply": "2024-07-06T19:23:55.315439Z"
    },
    "papermill": {
     "duration": 0.014622,
     "end_time": "2024-07-06T19:23:55.318658",
     "exception": false,
     "start_time": "2024-07-06T19:23:55.304036",
     "status": "completed"
    },
    "tags": []
   },
   "outputs": [
    {
     "data": {
      "text/plain": [
       "0.5881533749382085"
      ]
     },
     "execution_count": 14,
     "metadata": {},
     "output_type": "execute_result"
    }
   ],
   "source": [
    "model.score(X, y)"
   ]
  },
  {
   "attachments": {},
   "cell_type": "markdown",
   "id": "a9540c1a",
   "metadata": {
    "papermill": {
     "duration": 0.006127,
     "end_time": "2024-07-06T19:23:55.330765",
     "exception": false,
     "start_time": "2024-07-06T19:23:55.324638",
     "status": "completed"
    },
    "tags": []
   },
   "source": [
    "Watch out! The model's prediction is 58% approximate to the real Price... is there a better model?\n",
    "\n",
    "And that's why you need Machine Learning!"
   ]
  },
  {
   "attachments": {},
   "cell_type": "markdown",
   "id": "5f12e653",
   "metadata": {
    "papermill": {
     "duration": 0.008881,
     "end_time": "2024-07-06T19:23:55.347453",
     "exception": false,
     "start_time": "2024-07-06T19:23:55.338572",
     "status": "completed"
    },
    "tags": []
   },
   "source": [
    "https://scikit-learn.org/stable/supervised_learning.html"
   ]
  }
 ],
 "metadata": {
  "kernelspec": {
   "display_name": "work",
   "language": "python",
   "name": "python3"
  },
  "language_info": {
   "codemirror_mode": {
    "name": "ipython",
    "version": 3
   },
   "file_extension": ".py",
   "mimetype": "text/x-python",
   "name": "python",
   "nbconvert_exporter": "python",
   "pygments_lexer": "ipython3",
   "version": "3.12.0"
  },
  "papermill": {
   "default_parameters": {},
   "duration": 4.793424,
   "end_time": "2024-07-06T19:23:55.779526",
   "environment_variables": {},
   "exception": null,
   "input_path": "/Users/sota/Dropbox/2 Business/1 Datons/2 Areas/Courses/3 Catalogue/20 ML/1 Materials/ML/notebooks/10_Modelling/1_Why/B_Solution.ipynb",
   "output_path": "/Users/sota/Dropbox/2 Business/1 Datons/2 Areas/Courses/3 Catalogue/20 ML/1 Materials/ML/notebooks/10_Modelling/1_Why/B_Solution.ipynb",
   "parameters": {},
   "start_time": "2024-07-06T19:23:50.986102",
   "version": "2.5.0"
  }
 },
 "nbformat": 4,
 "nbformat_minor": 5
}