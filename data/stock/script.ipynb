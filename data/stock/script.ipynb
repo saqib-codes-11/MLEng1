{
 "cells": [
  {
   "cell_type": "code",
   "execution_count": 1,
   "metadata": {},
   "outputs": [],
   "source": [
    "import yfinance as yf"
   ]
  },
  {
   "cell_type": "code",
   "execution_count": 2,
   "metadata": {},
   "outputs": [
    {
     "name": "stderr",
     "output_type": "stream",
     "text": [
      "[*********************100%%**********************]  1 of 1 completed\n"
     ]
    }
   ],
   "source": [
    "df_base = yf.download('NVDA')"
   ]
  },
  {
   "cell_type": "code",
   "execution_count": 3,
   "metadata": {},
   "outputs": [],
   "source": [
    "import numpy as np"
   ]
  },
  {
   "cell_type": "code",
   "execution_count": 4,
   "metadata": {},
   "outputs": [
    {
     "data": {
      "text/html": [
       "<div>\n",
       "<style scoped>\n",
       "    .dataframe tbody tr th:only-of-type {\n",
       "        vertical-align: middle;\n",
       "    }\n",
       "\n",
       "    .dataframe tbody tr th {\n",
       "        vertical-align: top;\n",
       "    }\n",
       "\n",
       "    .dataframe thead th {\n",
       "        text-align: right;\n",
       "    }\n",
       "</style>\n",
       "<table border=\"1\" class=\"dataframe\">\n",
       "  <thead>\n",
       "    <tr style=\"text-align: right;\">\n",
       "      <th></th>\n",
       "      <th>Open</th>\n",
       "      <th>High</th>\n",
       "      <th>Low</th>\n",
       "      <th>Close</th>\n",
       "      <th>Volume</th>\n",
       "      <th>T.Change</th>\n",
       "      <th>T.Direction</th>\n",
       "    </tr>\n",
       "    <tr>\n",
       "      <th>Date</th>\n",
       "      <th></th>\n",
       "      <th></th>\n",
       "      <th></th>\n",
       "      <th></th>\n",
       "      <th></th>\n",
       "      <th></th>\n",
       "      <th></th>\n",
       "    </tr>\n",
       "  </thead>\n",
       "  <tbody>\n",
       "    <tr>\n",
       "      <th>2020-01-02</th>\n",
       "      <td>59.687500</td>\n",
       "      <td>59.977501</td>\n",
       "      <td>59.180000</td>\n",
       "      <td>59.741238</td>\n",
       "      <td>23753600</td>\n",
       "      <td>-0.016006</td>\n",
       "      <td>DOWN</td>\n",
       "    </tr>\n",
       "    <tr>\n",
       "      <th>2020-01-03</th>\n",
       "      <td>58.775002</td>\n",
       "      <td>59.457500</td>\n",
       "      <td>58.525002</td>\n",
       "      <td>58.785030</td>\n",
       "      <td>20538400</td>\n",
       "      <td>0.004193</td>\n",
       "      <td>UP</td>\n",
       "    </tr>\n",
       "    <tr>\n",
       "      <th>...</th>\n",
       "      <td>...</td>\n",
       "      <td>...</td>\n",
       "      <td>...</td>\n",
       "      <td>...</td>\n",
       "      <td>...</td>\n",
       "      <td>...</td>\n",
       "      <td>...</td>\n",
       "    </tr>\n",
       "    <tr>\n",
       "      <th>2024-05-07</th>\n",
       "      <td>910.979980</td>\n",
       "      <td>917.809998</td>\n",
       "      <td>823.250000</td>\n",
       "      <td>905.539978</td>\n",
       "      <td>43734200</td>\n",
       "      <td>-0.001568</td>\n",
       "      <td>DOWN</td>\n",
       "    </tr>\n",
       "    <tr>\n",
       "      <th>2024-05-08</th>\n",
       "      <td>894.830017</td>\n",
       "      <td>911.940002</td>\n",
       "      <td>894.200012</td>\n",
       "      <td>904.119995</td>\n",
       "      <td>32572100</td>\n",
       "      <td>-0.018416</td>\n",
       "      <td>DOWN</td>\n",
       "    </tr>\n",
       "  </tbody>\n",
       "</table>\n",
       "<p>1095 rows × 7 columns</p>\n",
       "</div>"
      ],
      "text/plain": [
       "                  Open        High         Low       Close    Volume  \\\n",
       "Date                                                                   \n",
       "2020-01-02   59.687500   59.977501   59.180000   59.741238  23753600   \n",
       "2020-01-03   58.775002   59.457500   58.525002   58.785030  20538400   \n",
       "...                ...         ...         ...         ...       ...   \n",
       "2024-05-07  910.979980  917.809998  823.250000  905.539978  43734200   \n",
       "2024-05-08  894.830017  911.940002  894.200012  904.119995  32572100   \n",
       "\n",
       "            T.Change T.Direction  \n",
       "Date                              \n",
       "2020-01-02 -0.016006        DOWN  \n",
       "2020-01-03  0.004193          UP  \n",
       "...              ...         ...  \n",
       "2024-05-07 -0.001568        DOWN  \n",
       "2024-05-08 -0.018416        DOWN  \n",
       "\n",
       "[1095 rows x 7 columns]"
      ]
     },
     "execution_count": 4,
     "metadata": {},
     "output_type": "execute_result"
    }
   ],
   "source": [
    "df = df_base.copy()\n",
    "df = df.drop(columns='Close').rename(columns={'Adj Close': 'Close'})\n",
    "df['T.Change'] = df['Close'].pct_change().shift(-1)\n",
    "df = df.dropna()\n",
    "df['T.Direction'] = np.where(df['T.Change'] > 0, 'UP', 'DOWN')\n",
    "df = df.loc['2020':]\n",
    "df"
   ]
  },
  {
   "cell_type": "code",
   "execution_count": 5,
   "metadata": {},
   "outputs": [],
   "source": [
    "df.to_csv('output/c_vs_r.csv')"
   ]
  }
 ],
 "metadata": {
  "kernelspec": {
   "display_name": "work",
   "language": "python",
   "name": "python3"
  },
  "language_info": {
   "codemirror_mode": {
    "name": "ipython",
    "version": 3
   },
   "file_extension": ".py",
   "mimetype": "text/x-python",
   "name": "python",
   "nbconvert_exporter": "python",
   "pygments_lexer": "ipython3",
   "version": "3.12.2"
  }
 },
 "nbformat": 4,
 "nbformat_minor": 2
}
