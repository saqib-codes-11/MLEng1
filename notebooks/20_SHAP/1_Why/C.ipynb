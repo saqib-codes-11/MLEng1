{
 "cells": [
  {
   "attachments": {},
   "cell_type": "markdown",
   "id": "6e8acf31",
   "metadata": {
    "papermill": {
     "duration": 0.003659,
     "end_time": "2024-05-10T12:10:25.948496",
     "exception": false,
     "start_time": "2024-05-10T12:10:25.944837",
     "status": "completed"
    },
    "tags": []
   },
   "source": [
    "# Why do you need SHAP values to interpret non-linear ML models?"
   ]
  },
  {
   "cell_type": "code",
   "execution_count": null,
   "id": "35d8ae4c",
   "metadata": {
    "execution": {
     "iopub.execute_input": "2024-05-10T12:10:25.955239Z",
     "iopub.status.busy": "2024-05-10T12:10:25.955019Z",
     "iopub.status.idle": "2024-05-10T12:10:25.962738Z",
     "shell.execute_reply": "2024-05-10T12:10:25.962439Z"
    },
    "papermill": {
     "duration": 0.012332,
     "end_time": "2024-05-10T12:10:25.963752",
     "exception": false,
     "start_time": "2024-05-10T12:10:25.951420",
     "status": "completed"
    },
    "tags": [
     "change-false"
    ]
   },
   "outputs": [],
   "source": []
  },
  {
   "cell_type": "code",
   "execution_count": null,
   "id": "53a0c8f2",
   "metadata": {
    "tags": [
     "change-false"
    ]
   },
   "outputs": [],
   "source": []
  },
  {
   "attachments": {},
   "cell_type": "markdown",
   "id": "24ccc707",
   "metadata": {
    "papermill": {
     "duration": 0.002056,
     "end_time": "2024-05-10T12:10:25.968082",
     "exception": false,
     "start_time": "2024-05-10T12:10:25.966026",
     "status": "completed"
    },
    "tags": []
   },
   "source": [
    "## Load data"
   ]
  },
  {
   "cell_type": "code",
   "execution_count": null,
   "id": "f1c922d5",
   "metadata": {
    "execution": {
     "iopub.execute_input": "2024-05-10T12:10:25.972688Z",
     "iopub.status.busy": "2024-05-10T12:10:25.972551Z",
     "iopub.status.idle": "2024-05-10T12:10:25.979026Z",
     "shell.execute_reply": "2024-05-10T12:10:25.978543Z"
    },
    "papermill": {
     "duration": 0.009941,
     "end_time": "2024-05-10T12:10:25.980066",
     "exception": false,
     "start_time": "2024-05-10T12:10:25.970125",
     "status": "completed"
    },
    "tags": [
     "change-false"
    ]
   },
   "outputs": [],
   "source": []
  },
  {
   "attachments": {},
   "cell_type": "markdown",
   "id": "88b2fe67",
   "metadata": {},
   "source": [
    "## Feature selection"
   ]
  },
  {
   "cell_type": "code",
   "execution_count": null,
   "id": "357cc65b",
   "metadata": {
    "execution": {
     "iopub.execute_input": "2024-05-10T12:10:25.984594Z",
     "iopub.status.busy": "2024-05-10T12:10:25.984455Z",
     "iopub.status.idle": "2024-05-10T12:10:25.986691Z",
     "shell.execute_reply": "2024-05-10T12:10:25.986473Z"
    },
    "papermill": {
     "duration": 0.005433,
     "end_time": "2024-05-10T12:10:25.987440",
     "exception": false,
     "start_time": "2024-05-10T12:10:25.982007",
     "status": "completed"
    },
    "tags": []
   },
   "outputs": [],
   "source": []
  },
  {
   "attachments": {},
   "cell_type": "markdown",
   "id": "afb05e7f",
   "metadata": {
    "papermill": {
     "duration": 0.001706,
     "end_time": "2024-05-10T12:10:25.991053",
     "exception": false,
     "start_time": "2024-05-10T12:10:25.989347",
     "status": "completed"
    },
    "tags": []
   },
   "source": [
    "## Linear models"
   ]
  },
  {
   "cell_type": "code",
   "execution_count": null,
   "id": "d1d4cdcd",
   "metadata": {
    "execution": {
     "iopub.execute_input": "2024-05-10T12:10:25.995267Z",
     "iopub.status.busy": "2024-05-10T12:10:25.995133Z",
     "iopub.status.idle": "2024-05-10T12:10:26.278888Z",
     "shell.execute_reply": "2024-05-10T12:10:26.278644Z"
    },
    "papermill": {
     "duration": 0.287029,
     "end_time": "2024-05-10T12:10:26.279706",
     "exception": false,
     "start_time": "2024-05-10T12:10:25.992677",
     "status": "completed"
    },
    "tags": []
   },
   "outputs": [],
   "source": []
  },
  {
   "cell_type": "code",
   "execution_count": null,
   "id": "49a5155f",
   "metadata": {
    "execution": {
     "iopub.execute_input": "2024-05-10T12:10:26.284276Z",
     "iopub.status.busy": "2024-05-10T12:10:26.284117Z",
     "iopub.status.idle": "2024-05-10T12:10:26.288193Z",
     "shell.execute_reply": "2024-05-10T12:10:26.287967Z"
    },
    "papermill": {
     "duration": 0.007164,
     "end_time": "2024-05-10T12:10:26.288907",
     "exception": false,
     "start_time": "2024-05-10T12:10:26.281743",
     "status": "completed"
    },
    "tags": []
   },
   "outputs": [],
   "source": []
  },
  {
   "cell_type": "code",
   "execution_count": null,
   "id": "fbb4e75e",
   "metadata": {
    "execution": {
     "iopub.execute_input": "2024-05-10T12:10:26.292997Z",
     "iopub.status.busy": "2024-05-10T12:10:26.292896Z",
     "iopub.status.idle": "2024-05-10T12:10:26.295450Z",
     "shell.execute_reply": "2024-05-10T12:10:26.295262Z"
    },
    "papermill": {
     "duration": 0.005343,
     "end_time": "2024-05-10T12:10:26.296075",
     "exception": false,
     "start_time": "2024-05-10T12:10:26.290732",
     "status": "completed"
    },
    "tags": []
   },
   "outputs": [],
   "source": []
  },
  {
   "cell_type": "code",
   "execution_count": null,
   "id": "c4d5852a",
   "metadata": {
    "execution": {
     "iopub.execute_input": "2024-05-10T12:10:26.299980Z",
     "iopub.status.busy": "2024-05-10T12:10:26.299896Z",
     "iopub.status.idle": "2024-05-10T12:10:26.302044Z",
     "shell.execute_reply": "2024-05-10T12:10:26.301801Z"
    },
    "papermill": {
     "duration": 0.004928,
     "end_time": "2024-05-10T12:10:26.302746",
     "exception": false,
     "start_time": "2024-05-10T12:10:26.297818",
     "status": "completed"
    },
    "tags": []
   },
   "outputs": [],
   "source": []
  },
  {
   "cell_type": "code",
   "execution_count": null,
   "id": "883f1e83",
   "metadata": {
    "execution": {
     "iopub.execute_input": "2024-05-10T12:10:26.306805Z",
     "iopub.status.busy": "2024-05-10T12:10:26.306715Z",
     "iopub.status.idle": "2024-05-10T12:10:26.311064Z",
     "shell.execute_reply": "2024-05-10T12:10:26.310858Z"
    },
    "papermill": {
     "duration": 0.007128,
     "end_time": "2024-05-10T12:10:26.311720",
     "exception": false,
     "start_time": "2024-05-10T12:10:26.304592",
     "status": "completed"
    },
    "tags": []
   },
   "outputs": [],
   "source": []
  },
  {
   "attachments": {},
   "cell_type": "markdown",
   "id": "c8c51ccf",
   "metadata": {
    "papermill": {
     "duration": 0.002137,
     "end_time": "2024-05-10T12:10:26.315844",
     "exception": false,
     "start_time": "2024-05-10T12:10:26.313707",
     "status": "completed"
    },
    "tags": []
   },
   "source": [
    "## Non-linear models"
   ]
  },
  {
   "cell_type": "code",
   "execution_count": null,
   "id": "7fed88e0",
   "metadata": {
    "execution": {
     "iopub.execute_input": "2024-05-10T12:10:26.320848Z",
     "iopub.status.busy": "2024-05-10T12:10:26.320739Z",
     "iopub.status.idle": "2024-05-10T12:10:26.345246Z",
     "shell.execute_reply": "2024-05-10T12:10:26.345044Z"
    },
    "papermill": {
     "duration": 0.027794,
     "end_time": "2024-05-10T12:10:26.345931",
     "exception": false,
     "start_time": "2024-05-10T12:10:26.318137",
     "status": "completed"
    },
    "tags": []
   },
   "outputs": [],
   "source": []
  },
  {
   "cell_type": "code",
   "execution_count": null,
   "id": "e7c04d41",
   "metadata": {
    "execution": {
     "iopub.execute_input": "2024-05-10T12:10:26.350474Z",
     "iopub.status.busy": "2024-05-10T12:10:26.350353Z",
     "iopub.status.idle": "2024-05-10T12:10:26.353872Z",
     "shell.execute_reply": "2024-05-10T12:10:26.353663Z"
    },
    "papermill": {
     "duration": 0.006455,
     "end_time": "2024-05-10T12:10:26.354515",
     "exception": false,
     "start_time": "2024-05-10T12:10:26.348060",
     "status": "completed"
    },
    "tags": []
   },
   "outputs": [],
   "source": []
  },
  {
   "cell_type": "code",
   "execution_count": null,
   "id": "768fb0dd",
   "metadata": {
    "execution": {
     "iopub.execute_input": "2024-05-10T12:10:26.358987Z",
     "iopub.status.busy": "2024-05-10T12:10:26.358913Z",
     "iopub.status.idle": "2024-05-10T12:10:26.361354Z",
     "shell.execute_reply": "2024-05-10T12:10:26.361190Z"
    },
    "papermill": {
     "duration": 0.005311,
     "end_time": "2024-05-10T12:10:26.361974",
     "exception": false,
     "start_time": "2024-05-10T12:10:26.356663",
     "status": "completed"
    },
    "tags": []
   },
   "outputs": [],
   "source": []
  },
  {
   "cell_type": "code",
   "execution_count": null,
   "id": "472fc0b1",
   "metadata": {
    "execution": {
     "iopub.execute_input": "2024-05-10T12:10:26.366285Z",
     "iopub.status.busy": "2024-05-10T12:10:26.366208Z",
     "iopub.status.idle": "2024-05-10T12:10:26.368093Z",
     "shell.execute_reply": "2024-05-10T12:10:26.367904Z"
    },
    "papermill": {
     "duration": 0.004848,
     "end_time": "2024-05-10T12:10:26.368789",
     "exception": false,
     "start_time": "2024-05-10T12:10:26.363941",
     "status": "completed"
    },
    "tags": []
   },
   "outputs": [],
   "source": []
  },
  {
   "cell_type": "code",
   "execution_count": null,
   "id": "86d19da0",
   "metadata": {
    "execution": {
     "iopub.execute_input": "2024-05-10T12:10:26.373508Z",
     "iopub.status.busy": "2024-05-10T12:10:26.373431Z",
     "iopub.status.idle": "2024-05-10T12:10:26.376778Z",
     "shell.execute_reply": "2024-05-10T12:10:26.376588Z"
    },
    "papermill": {
     "duration": 0.006403,
     "end_time": "2024-05-10T12:10:26.377375",
     "exception": false,
     "start_time": "2024-05-10T12:10:26.370972",
     "status": "completed"
    },
    "tags": []
   },
   "outputs": [],
   "source": []
  },
  {
   "cell_type": "code",
   "execution_count": null,
   "id": "f67b7b0e",
   "metadata": {
    "execution": {
     "iopub.execute_input": "2024-05-10T12:10:26.382396Z",
     "iopub.status.busy": "2024-05-10T12:10:26.382298Z",
     "iopub.status.idle": "2024-05-10T12:10:26.855367Z",
     "shell.execute_reply": "2024-05-10T12:10:26.854698Z"
    },
    "papermill": {
     "duration": 0.477339,
     "end_time": "2024-05-10T12:10:26.857119",
     "exception": false,
     "start_time": "2024-05-10T12:10:26.379780",
     "status": "completed"
    },
    "tags": []
   },
   "outputs": [],
   "source": []
  },
  {
   "cell_type": "code",
   "execution_count": null,
   "id": "3e32bbd6",
   "metadata": {
    "execution": {
     "iopub.execute_input": "2024-05-10T12:10:26.876393Z",
     "iopub.status.busy": "2024-05-10T12:10:26.875481Z",
     "iopub.status.idle": "2024-05-10T12:10:26.929498Z",
     "shell.execute_reply": "2024-05-10T12:10:26.928852Z"
    },
    "papermill": {
     "duration": 0.065588,
     "end_time": "2024-05-10T12:10:26.930841",
     "exception": false,
     "start_time": "2024-05-10T12:10:26.865253",
     "status": "completed"
    },
    "tags": []
   },
   "outputs": [],
   "source": []
  },
  {
   "attachments": {},
   "cell_type": "markdown",
   "id": "7255307a",
   "metadata": {
    "papermill": {
     "duration": 0.003356,
     "end_time": "2024-05-10T12:10:26.941529",
     "exception": false,
     "start_time": "2024-05-10T12:10:26.938173",
     "status": "completed"
    },
    "tags": []
   },
   "source": [
    "## How to interpret non-linear models?\n",
    "\n",
    "- SHAP Values"
   ]
  },
  {
   "cell_type": "code",
   "execution_count": null,
   "id": "fa357f37",
   "metadata": {
    "execution": {
     "iopub.execute_input": "2024-05-10T12:10:26.954605Z",
     "iopub.status.busy": "2024-05-10T12:10:26.954337Z",
     "iopub.status.idle": "2024-05-10T12:10:27.495186Z",
     "shell.execute_reply": "2024-05-10T12:10:27.494962Z"
    },
    "papermill": {
     "duration": 0.546625,
     "end_time": "2024-05-10T12:10:27.495986",
     "exception": false,
     "start_time": "2024-05-10T12:10:26.949361",
     "status": "completed"
    },
    "tags": []
   },
   "outputs": [],
   "source": []
  },
  {
   "attachments": {},
   "cell_type": "markdown",
   "id": "8c6731bc",
   "metadata": {
    "papermill": {
     "duration": 0.003098,
     "end_time": "2024-05-10T12:10:27.502296",
     "exception": false,
     "start_time": "2024-05-10T12:10:27.499198",
     "status": "completed"
    },
    "tags": []
   },
   "source": [
    "### Houses examples"
   ]
  },
  {
   "cell_type": "code",
   "execution_count": null,
   "id": "b368ef32",
   "metadata": {
    "execution": {
     "iopub.execute_input": "2024-05-10T12:10:27.509018Z",
     "iopub.status.busy": "2024-05-10T12:10:27.508868Z",
     "iopub.status.idle": "2024-05-10T12:10:27.510666Z",
     "shell.execute_reply": "2024-05-10T12:10:27.510461Z"
    },
    "papermill": {
     "duration": 0.005791,
     "end_time": "2024-05-10T12:10:27.511389",
     "exception": false,
     "start_time": "2024-05-10T12:10:27.505598",
     "status": "completed"
    },
    "tags": []
   },
   "outputs": [],
   "source": []
  },
  {
   "cell_type": "code",
   "execution_count": null,
   "id": "ecc13321",
   "metadata": {
    "execution": {
     "iopub.execute_input": "2024-05-10T12:10:27.517787Z",
     "iopub.status.busy": "2024-05-10T12:10:27.517700Z",
     "iopub.status.idle": "2024-05-10T12:10:27.591310Z",
     "shell.execute_reply": "2024-05-10T12:10:27.591066Z"
    },
    "papermill": {
     "duration": 0.07781,
     "end_time": "2024-05-10T12:10:27.592205",
     "exception": false,
     "start_time": "2024-05-10T12:10:27.514395",
     "status": "completed"
    },
    "tags": []
   },
   "outputs": [],
   "source": []
  },
  {
   "cell_type": "code",
   "execution_count": null,
   "id": "ac393216",
   "metadata": {
    "execution": {
     "iopub.execute_input": "2024-05-10T12:10:27.604600Z",
     "iopub.status.busy": "2024-05-10T12:10:27.604481Z",
     "iopub.status.idle": "2024-05-10T12:10:27.608669Z",
     "shell.execute_reply": "2024-05-10T12:10:27.608464Z"
    },
    "papermill": {
     "duration": 0.010263,
     "end_time": "2024-05-10T12:10:27.610773",
     "exception": false,
     "start_time": "2024-05-10T12:10:27.600510",
     "status": "completed"
    },
    "tags": []
   },
   "outputs": [],
   "source": []
  },
  {
   "cell_type": "code",
   "execution_count": null,
   "id": "d21235be",
   "metadata": {
    "execution": {
     "iopub.execute_input": "2024-05-10T12:10:27.621177Z",
     "iopub.status.busy": "2024-05-10T12:10:27.621029Z",
     "iopub.status.idle": "2024-05-10T12:10:27.623535Z",
     "shell.execute_reply": "2024-05-10T12:10:27.623300Z"
    },
    "papermill": {
     "duration": 0.008376,
     "end_time": "2024-05-10T12:10:27.624172",
     "exception": false,
     "start_time": "2024-05-10T12:10:27.615796",
     "status": "completed"
    },
    "tags": []
   },
   "outputs": [],
   "source": []
  },
  {
   "cell_type": "code",
   "execution_count": null,
   "id": "1ddb87de",
   "metadata": {
    "execution": {
     "iopub.execute_input": "2024-05-10T12:10:27.634272Z",
     "iopub.status.busy": "2024-05-10T12:10:27.634136Z",
     "iopub.status.idle": "2024-05-10T12:10:27.636559Z",
     "shell.execute_reply": "2024-05-10T12:10:27.636307Z"
    },
    "papermill": {
     "duration": 0.008393,
     "end_time": "2024-05-10T12:10:27.637349",
     "exception": false,
     "start_time": "2024-05-10T12:10:27.628956",
     "status": "completed"
    },
    "tags": []
   },
   "outputs": [],
   "source": []
  },
  {
   "attachments": {},
   "cell_type": "markdown",
   "id": "3fe2757c",
   "metadata": {
    "papermill": {
     "duration": 0.004664,
     "end_time": "2024-05-10T12:10:27.647260",
     "exception": false,
     "start_time": "2024-05-10T12:10:27.642596",
     "status": "completed"
    },
    "tags": []
   },
   "source": [
    "### Full data"
   ]
  },
  {
   "cell_type": "code",
   "execution_count": null,
   "id": "2e3be005",
   "metadata": {
    "execution": {
     "iopub.execute_input": "2024-05-10T12:10:27.657253Z",
     "iopub.status.busy": "2024-05-10T12:10:27.657155Z",
     "iopub.status.idle": "2024-05-10T12:10:27.660682Z",
     "shell.execute_reply": "2024-05-10T12:10:27.660430Z"
    },
    "papermill": {
     "duration": 0.009393,
     "end_time": "2024-05-10T12:10:27.661478",
     "exception": false,
     "start_time": "2024-05-10T12:10:27.652085",
     "status": "completed"
    },
    "tags": []
   },
   "outputs": [],
   "source": []
  },
  {
   "cell_type": "code",
   "execution_count": null,
   "id": "c48c7a07",
   "metadata": {
    "execution": {
     "iopub.execute_input": "2024-05-10T12:10:27.671180Z",
     "iopub.status.busy": "2024-05-10T12:10:27.671052Z",
     "iopub.status.idle": "2024-05-10T12:10:27.710674Z",
     "shell.execute_reply": "2024-05-10T12:10:27.710418Z"
    },
    "papermill": {
     "duration": 0.045295,
     "end_time": "2024-05-10T12:10:27.711419",
     "exception": false,
     "start_time": "2024-05-10T12:10:27.666124",
     "status": "completed"
    },
    "tags": []
   },
   "outputs": [],
   "source": []
  },
  {
   "cell_type": "code",
   "execution_count": null,
   "id": "73db0839",
   "metadata": {
    "execution": {
     "iopub.execute_input": "2024-05-10T12:10:27.723186Z",
     "iopub.status.busy": "2024-05-10T12:10:27.723047Z",
     "iopub.status.idle": "2024-05-10T12:10:27.789889Z",
     "shell.execute_reply": "2024-05-10T12:10:27.789632Z"
    },
    "papermill": {
     "duration": 0.073447,
     "end_time": "2024-05-10T12:10:27.790751",
     "exception": false,
     "start_time": "2024-05-10T12:10:27.717304",
     "status": "completed"
    },
    "tags": []
   },
   "outputs": [],
   "source": []
  },
  {
   "cell_type": "code",
   "execution_count": null,
   "id": "7d20708b",
   "metadata": {
    "execution": {
     "iopub.execute_input": "2024-05-10T12:10:27.802030Z",
     "iopub.status.busy": "2024-05-10T12:10:27.801927Z",
     "iopub.status.idle": "2024-05-10T12:10:27.814567Z",
     "shell.execute_reply": "2024-05-10T12:10:27.814371Z"
    },
    "papermill": {
     "duration": 0.018847,
     "end_time": "2024-05-10T12:10:27.815181",
     "exception": false,
     "start_time": "2024-05-10T12:10:27.796334",
     "status": "completed"
    },
    "tags": []
   },
   "outputs": [],
   "source": []
  },
  {
   "cell_type": "code",
   "execution_count": null,
   "id": "17a70bb6",
   "metadata": {
    "execution": {
     "iopub.execute_input": "2024-05-10T12:10:27.826351Z",
     "iopub.status.busy": "2024-05-10T12:10:27.826267Z",
     "iopub.status.idle": "2024-05-10T12:10:27.929423Z",
     "shell.execute_reply": "2024-05-10T12:10:27.929112Z"
    },
    "papermill": {
     "duration": 0.109946,
     "end_time": "2024-05-10T12:10:27.930412",
     "exception": false,
     "start_time": "2024-05-10T12:10:27.820466",
     "status": "completed"
    },
    "tags": []
   },
   "outputs": [],
   "source": []
  },
  {
   "cell_type": "code",
   "execution_count": null,
   "id": "c6af2f91",
   "metadata": {
    "execution": {
     "iopub.execute_input": "2024-05-10T12:10:27.944631Z",
     "iopub.status.busy": "2024-05-10T12:10:27.944505Z",
     "iopub.status.idle": "2024-05-10T12:10:27.946995Z",
     "shell.execute_reply": "2024-05-10T12:10:27.946749Z"
    },
    "papermill": {
     "duration": 0.009686,
     "end_time": "2024-05-10T12:10:27.947687",
     "exception": false,
     "start_time": "2024-05-10T12:10:27.938001",
     "status": "completed"
    },
    "tags": []
   },
   "outputs": [],
   "source": []
  },
  {
   "cell_type": "code",
   "execution_count": null,
   "id": "dd0a4393",
   "metadata": {
    "execution": {
     "iopub.execute_input": "2024-05-10T12:10:27.959742Z",
     "iopub.status.busy": "2024-05-10T12:10:27.959625Z",
     "iopub.status.idle": "2024-05-10T12:10:27.961971Z",
     "shell.execute_reply": "2024-05-10T12:10:27.961740Z"
    },
    "papermill": {
     "duration": 0.00935,
     "end_time": "2024-05-10T12:10:27.962680",
     "exception": false,
     "start_time": "2024-05-10T12:10:27.953330",
     "status": "completed"
    },
    "tags": []
   },
   "outputs": [],
   "source": []
  },
  {
   "cell_type": "code",
   "execution_count": null,
   "id": "eecda441",
   "metadata": {
    "execution": {
     "iopub.execute_input": "2024-05-10T12:10:27.974693Z",
     "iopub.status.busy": "2024-05-10T12:10:27.974596Z",
     "iopub.status.idle": "2024-05-10T12:10:27.976641Z",
     "shell.execute_reply": "2024-05-10T12:10:27.976453Z"
    },
    "papermill": {
     "duration": 0.008635,
     "end_time": "2024-05-10T12:10:27.977251",
     "exception": false,
     "start_time": "2024-05-10T12:10:27.968616",
     "status": "completed"
    },
    "tags": []
   },
   "outputs": [],
   "source": []
  },
  {
   "attachments": {},
   "cell_type": "markdown",
   "id": "48cc2fb6",
   "metadata": {
    "papermill": {
     "duration": 0.005718,
     "end_time": "2024-05-10T12:10:27.988867",
     "exception": false,
     "start_time": "2024-05-10T12:10:27.983149",
     "status": "completed"
    },
    "tags": []
   },
   "source": [
    "## Theory behind SHAP values\n",
    "### Shapley values from game theory\n",
    "https://www.youtube.com/watch?v=w9O0fkfMkx0\n",
    "\n",
    "### Permutation importance\n",
    "\n",
    "- https://www.youtube.com/watch?v=-taOhqkiuIo\n",
    "- https://www.kaggle.com/code/dansbecker/permutation-importance"
   ]
  }
 ],
 "metadata": {
  "kernelspec": {
   "display_name": "work",
   "language": "python",
   "name": "python3"
  },
  "language_info": {
   "codemirror_mode": {
    "name": "ipython",
    "version": 3
   },
   "file_extension": ".py",
   "mimetype": "text/x-python",
   "name": "python",
   "nbconvert_exporter": "python",
   "pygments_lexer": "ipython3",
   "version": "3.10.12"
  },
  "papermill": {
   "default_parameters": {},
   "duration": 3.331203,
   "end_time": "2024-05-10T12:10:28.311709",
   "environment_variables": {},
   "exception": null,
   "input_path": "/Users/sota/Dropbox/2 Business/1 Datons/2 Areas/Courses/03 ML/materials/notebooks/60_SHAP/61_Why/B.ipynb",
   "output_path": "/Users/sota/Dropbox/2 Business/1 Datons/2 Areas/Courses/03 ML/materials/notebooks/60_SHAP/61_Why/B.ipynb",
   "parameters": {},
   "start_time": "2024-05-10T12:10:24.980506",
   "version": "2.5.0"
  }
 },
 "nbformat": 4,
 "nbformat_minor": 5
}
