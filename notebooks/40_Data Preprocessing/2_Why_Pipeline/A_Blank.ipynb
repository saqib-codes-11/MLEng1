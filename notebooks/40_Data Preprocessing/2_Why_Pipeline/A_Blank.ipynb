{
 "cells": [
  {
   "attachments": {},
   "cell_type": "markdown",
   "id": "6a777f07",
   "metadata": {
    "editable": true,
    "papermill": {
     "duration": 0.008718,
     "end_time": "2024-07-06T19:27:23.234134",
     "exception": false,
     "start_time": "2024-07-06T19:27:23.225416",
     "status": "completed"
    },
    "slideshow": {
     "slide_type": ""
    },
    "tags": []
   },
   "source": [
    "# Dummy variables"
   ]
  },
  {
   "attachments": {},
   "cell_type": "markdown",
   "id": "4dccdf87",
   "metadata": {
    "papermill": {
     "duration": 0.006673,
     "end_time": "2024-07-06T19:27:23.247038",
     "exception": false,
     "start_time": "2024-07-06T19:27:23.240365",
     "status": "completed"
    },
    "tags": []
   },
   "source": [
    "## Load data"
   ]
  },
  {
   "cell_type": "code",
   "execution_count": 1,
   "id": "42f3ec61",
   "metadata": {
    "editable": true,
    "execution": {
     "iopub.execute_input": "2024-07-06T19:27:23.259475Z",
     "iopub.status.busy": "2024-07-06T19:27:23.259120Z",
     "iopub.status.idle": "2024-07-06T19:27:23.887161Z",
     "shell.execute_reply": "2024-07-06T19:27:23.886496Z"
    },
    "papermill": {
     "duration": 0.635811,
     "end_time": "2024-07-06T19:27:23.889027",
     "exception": false,
     "start_time": "2024-07-06T19:27:23.253216",
     "status": "completed"
    },
    "slideshow": {
     "slide_type": ""
    },
    "tags": [
     "change-false"
    ]
   },
   "outputs": [
    {
     "data": {
      "text/html": [
       "<div>\n",
       "<style scoped>\n",
       "    .dataframe tbody tr th:only-of-type {\n",
       "        vertical-align: middle;\n",
       "    }\n",
       "\n",
       "    .dataframe tbody tr th {\n",
       "        vertical-align: top;\n",
       "    }\n",
       "\n",
       "    .dataframe thead th {\n",
       "        text-align: right;\n",
       "    }\n",
       "</style>\n",
       "<table border=\"1\" class=\"dataframe\">\n",
       "  <thead>\n",
       "    <tr style=\"text-align: right;\">\n",
       "      <th></th>\n",
       "      <th>Industry</th>\n",
       "      <th>Ethnicity</th>\n",
       "      <th>Gender</th>\n",
       "      <th>Age</th>\n",
       "      <th>CivilStatus</th>\n",
       "      <th>YearsEmployed</th>\n",
       "      <th>Income</th>\n",
       "      <th>Approved</th>\n",
       "    </tr>\n",
       "  </thead>\n",
       "  <tbody>\n",
       "    <tr>\n",
       "      <th>0</th>\n",
       "      <td>Industrials</td>\n",
       "      <td>White</td>\n",
       "      <td>Male</td>\n",
       "      <td>30</td>\n",
       "      <td>Married</td>\n",
       "      <td>1.25</td>\n",
       "      <td>0.000000</td>\n",
       "      <td>1</td>\n",
       "    </tr>\n",
       "    <tr>\n",
       "      <th>1</th>\n",
       "      <td>Materials</td>\n",
       "      <td>Black</td>\n",
       "      <td>Female</td>\n",
       "      <td>58</td>\n",
       "      <td>Married</td>\n",
       "      <td>3.04</td>\n",
       "      <td>632.793678</td>\n",
       "      <td>1</td>\n",
       "    </tr>\n",
       "    <tr>\n",
       "      <th>...</th>\n",
       "      <td>...</td>\n",
       "      <td>...</td>\n",
       "      <td>...</td>\n",
       "      <td>...</td>\n",
       "      <td>...</td>\n",
       "      <td>...</td>\n",
       "      <td>...</td>\n",
       "      <td>...</td>\n",
       "    </tr>\n",
       "    <tr>\n",
       "      <th>687</th>\n",
       "      <td>ConsumerStaples</td>\n",
       "      <td>White</td>\n",
       "      <td>Male</td>\n",
       "      <td>17</td>\n",
       "      <td>Married</td>\n",
       "      <td>0.04</td>\n",
       "      <td>662.007321</td>\n",
       "      <td>0</td>\n",
       "    </tr>\n",
       "    <tr>\n",
       "      <th>688</th>\n",
       "      <td>Energy</td>\n",
       "      <td>Black</td>\n",
       "      <td>Male</td>\n",
       "      <td>35</td>\n",
       "      <td>Married</td>\n",
       "      <td>8.29</td>\n",
       "      <td>0.000000</td>\n",
       "      <td>0</td>\n",
       "    </tr>\n",
       "  </tbody>\n",
       "</table>\n",
       "<p>689 rows × 8 columns</p>\n",
       "</div>"
      ],
      "text/plain": [
       "            Industry Ethnicity  Gender  Age CivilStatus  YearsEmployed  \\\n",
       "0        Industrials     White    Male   30     Married           1.25   \n",
       "1          Materials     Black  Female   58     Married           3.04   \n",
       "..               ...       ...     ...  ...         ...            ...   \n",
       "687  ConsumerStaples     White    Male   17     Married           0.04   \n",
       "688           Energy     Black    Male   35     Married           8.29   \n",
       "\n",
       "         Income  Approved  \n",
       "0      0.000000         1  \n",
       "1    632.793678         1  \n",
       "..          ...       ...  \n",
       "687  662.007321         0  \n",
       "688    0.000000         0  \n",
       "\n",
       "[689 rows x 8 columns]"
      ]
     },
     "execution_count": 1,
     "metadata": {},
     "output_type": "execute_result"
    }
   ],
   "source": [
    "import pandas as pd\n",
    "\n",
    "path = '../../../data/default_credit_card/output/simplified_features_cat.csv'\n",
    "df = pd.read_csv(path)\n",
    "df"
   ]
  },
  {
   "attachments": {},
   "cell_type": "markdown",
   "id": "4119218c",
   "metadata": {
    "editable": true,
    "papermill": {
     "duration": 0.004014,
     "end_time": "2024-07-06T19:27:23.897586",
     "exception": false,
     "start_time": "2024-07-06T19:27:23.893572",
     "status": "completed"
    },
    "slideshow": {
     "slide_type": ""
    },
    "tags": []
   },
   "source": [
    "## Feature selection"
   ]
  },
  {
   "cell_type": "code",
   "execution_count": 2,
   "id": "462d403a",
   "metadata": {
    "editable": true,
    "execution": {
     "iopub.execute_input": "2024-07-06T19:27:23.907797Z",
     "iopub.status.busy": "2024-07-06T19:27:23.907047Z",
     "iopub.status.idle": "2024-07-06T19:27:23.912431Z",
     "shell.execute_reply": "2024-07-06T19:27:23.911698Z"
    },
    "papermill": {
     "duration": 0.013441,
     "end_time": "2024-07-06T19:27:23.914898",
     "exception": false,
     "start_time": "2024-07-06T19:27:23.901457",
     "status": "completed"
    },
    "slideshow": {
     "slide_type": ""
    },
    "tags": [
     "change-false"
    ]
   },
   "outputs": [],
   "source": [
    "target = 'Approved'\n",
    "\n",
    "y = df[target]\n",
    "X = df.drop(columns=target)"
   ]
  },
  {
   "attachments": {},
   "cell_type": "markdown",
   "id": "403ed068",
   "metadata": {
    "editable": true,
    "papermill": {
     "duration": 0.004759,
     "end_time": "2024-07-06T19:27:23.924778",
     "exception": false,
     "start_time": "2024-07-06T19:27:23.920019",
     "status": "completed"
    },
    "slideshow": {
     "slide_type": ""
    },
    "tags": []
   },
   "source": [
    "## Train test split"
   ]
  },
  {
   "cell_type": "code",
   "execution_count": 3,
   "id": "ec51868d",
   "metadata": {
    "editable": true,
    "execution": {
     "iopub.execute_input": "2024-07-06T19:27:23.935649Z",
     "iopub.status.busy": "2024-07-06T19:27:23.935322Z",
     "iopub.status.idle": "2024-07-06T19:27:24.671456Z",
     "shell.execute_reply": "2024-07-06T19:27:24.670601Z"
    },
    "papermill": {
     "duration": 0.744984,
     "end_time": "2024-07-06T19:27:24.673550",
     "exception": false,
     "start_time": "2024-07-06T19:27:23.928566",
     "status": "completed"
    },
    "slideshow": {
     "slide_type": ""
    },
    "tags": [
     "change-false"
    ]
   },
   "outputs": [],
   "source": [
    "from sklearn.model_selection import train_test_split\n",
    "\n",
    "X_train, X_test, y_train, y_test = train_test_split(\n",
    "    X, y, test_size=0.3, random_state=42)"
   ]
  },
  {
   "attachments": {},
   "cell_type": "markdown",
   "id": "da166790",
   "metadata": {
    "editable": true,
    "papermill": {
     "duration": 0.005096,
     "end_time": "2024-07-06T19:27:24.682729",
     "exception": false,
     "start_time": "2024-07-06T19:27:24.677633",
     "status": "completed"
    },
    "slideshow": {
     "slide_type": ""
    },
    "tags": []
   },
   "source": [
    "## Pipeline"
   ]
  },
  {
   "attachments": {},
   "cell_type": "markdown",
   "id": "caabd8f3",
   "metadata": {
    "editable": true,
    "papermill": {
     "duration": 0.003572,
     "end_time": "2024-07-06T19:27:24.690640",
     "exception": false,
     "start_time": "2024-07-06T19:27:24.687068",
     "status": "completed"
    },
    "slideshow": {
     "slide_type": ""
    },
    "tags": []
   },
   "source": [
    "### One hot encoding (dummy variables)"
   ]
  },
  {
   "cell_type": "code",
   "execution_count": 4,
   "id": "67358a8b",
   "metadata": {
    "editable": true,
    "execution": {
     "iopub.execute_input": "2024-07-06T19:27:24.699920Z",
     "iopub.status.busy": "2024-07-06T19:27:24.699356Z",
     "iopub.status.idle": "2024-07-06T19:27:24.708919Z",
     "shell.execute_reply": "2024-07-06T19:27:24.707865Z"
    },
    "papermill": {
     "duration": 0.017069,
     "end_time": "2024-07-06T19:27:24.710939",
     "exception": false,
     "start_time": "2024-07-06T19:27:24.693870",
     "status": "completed"
    },
    "slideshow": {
     "slide_type": ""
    },
    "tags": [
     "change-false"
    ]
   },
   "outputs": [],
   "source": [
    "from sklearn.preprocessing import OneHotEncoder\n",
    "from sklearn.compose import ColumnTransformer"
   ]
  },
  {
   "cell_type": "code",
   "execution_count": 5,
   "id": "caefba3a",
   "metadata": {
    "editable": true,
    "execution": {
     "iopub.execute_input": "2024-07-06T19:27:24.719543Z",
     "iopub.status.busy": "2024-07-06T19:27:24.719222Z",
     "iopub.status.idle": "2024-07-06T19:27:24.725406Z",
     "shell.execute_reply": "2024-07-06T19:27:24.724810Z"
    },
    "papermill": {
     "duration": 0.012575,
     "end_time": "2024-07-06T19:27:24.727330",
     "exception": false,
     "start_time": "2024-07-06T19:27:24.714755",
     "status": "completed"
    },
    "slideshow": {
     "slide_type": ""
    },
    "tags": [
     "change-false"
    ]
   },
   "outputs": [
    {
     "data": {
      "text/plain": [
       "Index(['Industry', 'Ethnicity', 'Gender', 'CivilStatus'], dtype='object')"
      ]
     },
     "execution_count": 5,
     "metadata": {},
     "output_type": "execute_result"
    }
   ],
   "source": [
    "features = df.dtypes\n",
    "\n",
    "features_categorical = features[features == 'object'].index\n",
    "features_categorical"
   ]
  },
  {
   "cell_type": "code",
   "execution_count": 6,
   "id": "015e008e",
   "metadata": {
    "editable": true,
    "execution": {
     "iopub.execute_input": "2024-07-06T19:27:24.736016Z",
     "iopub.status.busy": "2024-07-06T19:27:24.735772Z",
     "iopub.status.idle": "2024-07-06T19:27:24.739242Z",
     "shell.execute_reply": "2024-07-06T19:27:24.738684Z"
    },
    "papermill": {
     "duration": 0.010075,
     "end_time": "2024-07-06T19:27:24.741486",
     "exception": false,
     "start_time": "2024-07-06T19:27:24.731411",
     "status": "completed"
    },
    "slideshow": {
     "slide_type": ""
    },
    "tags": [
     "change-false"
    ]
   },
   "outputs": [],
   "source": [
    "transformer = ColumnTransformer(transformers=[\n",
    "    ('cat', OneHotEncoder(), features_categorical)\n",
    "], remainder='passthrough')"
   ]
  },
  {
   "attachments": {},
   "cell_type": "markdown",
   "id": "a8f47718-39a9-4054-98bf-1446888e8af3",
   "metadata": {
    "editable": true,
    "papermill": {
     "duration": 0.003892,
     "end_time": "2024-07-06T19:27:24.749882",
     "exception": false,
     "start_time": "2024-07-06T19:27:24.745990",
     "status": "completed"
    },
    "slideshow": {
     "slide_type": ""
    },
    "tags": []
   },
   "source": [
    "### Model"
   ]
  },
  {
   "cell_type": "code",
   "execution_count": null,
   "id": "baf0854b-943f-4ea9-b0c4-0d8037666ce9",
   "metadata": {
    "editable": true,
    "execution": {
     "iopub.execute_input": "2024-07-06T19:27:24.758631Z",
     "iopub.status.busy": "2024-07-06T19:27:24.758218Z",
     "iopub.status.idle": "2024-07-06T19:27:24.898177Z",
     "shell.execute_reply": "2024-07-06T19:27:24.897541Z"
    },
    "papermill": {
     "duration": 0.146474,
     "end_time": "2024-07-06T19:27:24.899872",
     "exception": false,
     "start_time": "2024-07-06T19:27:24.753398",
     "status": "completed"
    },
    "slideshow": {
     "slide_type": ""
    },
    "tags": []
   },
   "outputs": [],
   "source": []
  },
  {
   "cell_type": "code",
   "execution_count": null,
   "id": "dd92779d",
   "metadata": {
    "execution": {
     "iopub.execute_input": "2024-07-06T19:27:24.912262Z",
     "iopub.status.busy": "2024-07-06T19:27:24.911861Z",
     "iopub.status.idle": "2024-07-06T19:27:24.915945Z",
     "shell.execute_reply": "2024-07-06T19:27:24.915303Z"
    },
    "papermill": {
     "duration": 0.012664,
     "end_time": "2024-07-06T19:27:24.917649",
     "exception": false,
     "start_time": "2024-07-06T19:27:24.904985",
     "status": "completed"
    },
    "tags": []
   },
   "outputs": [],
   "source": []
  },
  {
   "attachments": {},
   "cell_type": "markdown",
   "id": "4d7c0cda-0214-40f0-8131-2c72985360de",
   "metadata": {
    "editable": true,
    "papermill": {
     "duration": 0.003702,
     "end_time": "2024-07-06T19:27:24.925004",
     "exception": false,
     "start_time": "2024-07-06T19:27:24.921302",
     "status": "completed"
    },
    "slideshow": {
     "slide_type": ""
    },
    "tags": []
   },
   "source": [
    "### Alltogether"
   ]
  },
  {
   "cell_type": "code",
   "execution_count": null,
   "id": "3cd28585-7dd7-4226-8c1b-18d84d1fdbe3",
   "metadata": {
    "editable": true,
    "execution": {
     "iopub.execute_input": "2024-07-06T19:27:24.934872Z",
     "iopub.status.busy": "2024-07-06T19:27:24.934592Z",
     "iopub.status.idle": "2024-07-06T19:27:24.938509Z",
     "shell.execute_reply": "2024-07-06T19:27:24.937598Z"
    },
    "papermill": {
     "duration": 0.01091,
     "end_time": "2024-07-06T19:27:24.940166",
     "exception": false,
     "start_time": "2024-07-06T19:27:24.929256",
     "status": "completed"
    },
    "slideshow": {
     "slide_type": ""
    },
    "tags": []
   },
   "outputs": [],
   "source": []
  },
  {
   "cell_type": "code",
   "execution_count": null,
   "id": "320916d8-9272-475d-b918-aa7d8a0384fe",
   "metadata": {
    "editable": true,
    "execution": {
     "iopub.execute_input": "2024-07-06T19:27:24.949837Z",
     "iopub.status.busy": "2024-07-06T19:27:24.949595Z",
     "iopub.status.idle": "2024-07-06T19:27:25.234149Z",
     "shell.execute_reply": "2024-07-06T19:27:25.233392Z"
    },
    "papermill": {
     "duration": 0.292427,
     "end_time": "2024-07-06T19:27:25.236317",
     "exception": false,
     "start_time": "2024-07-06T19:27:24.943890",
     "status": "completed"
    },
    "slideshow": {
     "slide_type": ""
    },
    "tags": []
   },
   "outputs": [
    {
     "execution_count": null,
     "name": "stdout",
     "output_type": "stream",
     "text": [
      "Fitting 3 folds for each of 32 candidates, totalling 96 fits\n"
     ]
    },
    {
     "data": {
      "text/html": [
       "<style>#sk-container-id-1 {color: black;}#sk-container-id-1 pre{padding: 0;}#sk-container-id-1 div.sk-toggleable {background-color: white;}#sk-container-id-1 label.sk-toggleable__label {cursor: pointer;display: block;width: 100%;margin-bottom: 0;padding: 0.3em;box-sizing: border-box;text-align: center;}#sk-container-id-1 label.sk-toggleable__label-arrow:before {content: \"▸\";float: left;margin-right: 0.25em;color: #696969;}#sk-container-id-1 label.sk-toggleable__label-arrow:hover:before {color: black;}#sk-container-id-1 div.sk-estimator:hover label.sk-toggleable__label-arrow:before {color: black;}#sk-container-id-1 div.sk-toggleable__content {max-height: 0;max-width: 0;overflow: hidden;text-align: left;background-color: #f0f8ff;}#sk-container-id-1 div.sk-toggleable__content pre {margin: 0.2em;color: black;border-radius: 0.25em;background-color: #f0f8ff;}#sk-container-id-1 input.sk-toggleable__control:checked~div.sk-toggleable__content {max-height: 200px;max-width: 100%;overflow: auto;}#sk-container-id-1 input.sk-toggleable__control:checked~label.sk-toggleable__label-arrow:before {content: \"▾\";}#sk-container-id-1 div.sk-estimator input.sk-toggleable__control:checked~label.sk-toggleable__label {background-color: #d4ebff;}#sk-container-id-1 div.sk-label input.sk-toggleable__control:checked~label.sk-toggleable__label {background-color: #d4ebff;}#sk-container-id-1 input.sk-hidden--visually {border: 0;clip: rect(1px 1px 1px 1px);clip: rect(1px, 1px, 1px, 1px);height: 1px;margin: -1px;overflow: hidden;padding: 0;position: absolute;width: 1px;}#sk-container-id-1 div.sk-estimator {font-family: monospace;background-color: #f0f8ff;border: 1px dotted black;border-radius: 0.25em;box-sizing: border-box;margin-bottom: 0.5em;}#sk-container-id-1 div.sk-estimator:hover {background-color: #d4ebff;}#sk-container-id-1 div.sk-parallel-item::after {content: \"\";width: 100%;border-bottom: 1px solid gray;flex-grow: 1;}#sk-container-id-1 div.sk-label:hover label.sk-toggleable__label {background-color: #d4ebff;}#sk-container-id-1 div.sk-serial::before {content: \"\";position: absolute;border-left: 1px solid gray;box-sizing: border-box;top: 0;bottom: 0;left: 50%;z-index: 0;}#sk-container-id-1 div.sk-serial {display: flex;flex-direction: column;align-items: center;background-color: white;padding-right: 0.2em;padding-left: 0.2em;position: relative;}#sk-container-id-1 div.sk-item {position: relative;z-index: 1;}#sk-container-id-1 div.sk-parallel {display: flex;align-items: stretch;justify-content: center;background-color: white;position: relative;}#sk-container-id-1 div.sk-item::before, #sk-container-id-1 div.sk-parallel-item::before {content: \"\";position: absolute;border-left: 1px solid gray;box-sizing: border-box;top: 0;bottom: 0;left: 50%;z-index: -1;}#sk-container-id-1 div.sk-parallel-item {display: flex;flex-direction: column;z-index: 1;position: relative;background-color: white;}#sk-container-id-1 div.sk-parallel-item:first-child::after {align-self: flex-end;width: 50%;}#sk-container-id-1 div.sk-parallel-item:last-child::after {align-self: flex-start;width: 50%;}#sk-container-id-1 div.sk-parallel-item:only-child::after {width: 0;}#sk-container-id-1 div.sk-dashed-wrapped {border: 1px dashed gray;margin: 0 0.4em 0.5em 0.4em;box-sizing: border-box;padding-bottom: 0.4em;background-color: white;}#sk-container-id-1 div.sk-label label {font-family: monospace;font-weight: bold;display: inline-block;line-height: 1.2em;}#sk-container-id-1 div.sk-label-container {text-align: center;}#sk-container-id-1 div.sk-container {/* jupyter's `normalize.less` sets `[hidden] { display: none; }` but bootstrap.min.css set `[hidden] { display: none !important; }` so we also need the `!important` here to be able to override the default hidden behavior on the sphinx rendered scikit-learn.org. See: https://github.com/scikit-learn/scikit-learn/issues/21755 */display: inline-block !important;position: relative;}#sk-container-id-1 div.sk-text-repr-fallback {display: none;}</style><div id=\"sk-container-id-1\" class=\"sk-top-container\"><div class=\"sk-text-repr-fallback\"><pre>Pipeline(steps=[(&#x27;preprocessing&#x27;,\n",
       "                 ColumnTransformer(remainder=&#x27;passthrough&#x27;,\n",
       "                                   transformers=[(&#x27;cat&#x27;, OneHotEncoder(),\n",
       "                                                  Index([&#x27;Industry&#x27;, &#x27;Ethnicity&#x27;, &#x27;Gender&#x27;, &#x27;CivilStatus&#x27;], dtype=&#x27;object&#x27;))])),\n",
       "                (&#x27;modelling&#x27;,\n",
       "                 GridSearchCV(cv=3, estimator=DecisionTreeClassifier(),\n",
       "                              param_grid={&#x27;criterion&#x27;: [&#x27;gini&#x27;, &#x27;entropy&#x27;],\n",
       "                                          &#x27;max_depth&#x27;: [3, 5, 7, 9],\n",
       "                                          &#x27;min_samples_leaf&#x27;: [50, 100, 200,\n",
       "                                                               500]},\n",
       "                              verbose=1))])</pre><b>In a Jupyter environment, please rerun this cell to show the HTML representation or trust the notebook. <br />On GitHub, the HTML representation is unable to render, please try loading this page with nbviewer.org.</b></div><div class=\"sk-container\" hidden><div class=\"sk-item sk-dashed-wrapped\"><div class=\"sk-label-container\"><div class=\"sk-label sk-toggleable\"><input class=\"sk-toggleable__control sk-hidden--visually\" id=\"sk-estimator-id-1\" type=\"checkbox\" ><label for=\"sk-estimator-id-1\" class=\"sk-toggleable__label sk-toggleable__label-arrow\">Pipeline</label><div class=\"sk-toggleable__content\"><pre>Pipeline(steps=[(&#x27;preprocessing&#x27;,\n",
       "                 ColumnTransformer(remainder=&#x27;passthrough&#x27;,\n",
       "                                   transformers=[(&#x27;cat&#x27;, OneHotEncoder(),\n",
       "                                                  Index([&#x27;Industry&#x27;, &#x27;Ethnicity&#x27;, &#x27;Gender&#x27;, &#x27;CivilStatus&#x27;], dtype=&#x27;object&#x27;))])),\n",
       "                (&#x27;modelling&#x27;,\n",
       "                 GridSearchCV(cv=3, estimator=DecisionTreeClassifier(),\n",
       "                              param_grid={&#x27;criterion&#x27;: [&#x27;gini&#x27;, &#x27;entropy&#x27;],\n",
       "                                          &#x27;max_depth&#x27;: [3, 5, 7, 9],\n",
       "                                          &#x27;min_samples_leaf&#x27;: [50, 100, 200,\n",
       "                                                               500]},\n",
       "                              verbose=1))])</pre></div></div></div><div class=\"sk-serial\"><div class=\"sk-item sk-dashed-wrapped\"><div class=\"sk-label-container\"><div class=\"sk-label sk-toggleable\"><input class=\"sk-toggleable__control sk-hidden--visually\" id=\"sk-estimator-id-2\" type=\"checkbox\" ><label for=\"sk-estimator-id-2\" class=\"sk-toggleable__label sk-toggleable__label-arrow\">preprocessing: ColumnTransformer</label><div class=\"sk-toggleable__content\"><pre>ColumnTransformer(remainder=&#x27;passthrough&#x27;,\n",
       "                  transformers=[(&#x27;cat&#x27;, OneHotEncoder(),\n",
       "                                 Index([&#x27;Industry&#x27;, &#x27;Ethnicity&#x27;, &#x27;Gender&#x27;, &#x27;CivilStatus&#x27;], dtype=&#x27;object&#x27;))])</pre></div></div></div><div class=\"sk-parallel\"><div class=\"sk-parallel-item\"><div class=\"sk-item\"><div class=\"sk-label-container\"><div class=\"sk-label sk-toggleable\"><input class=\"sk-toggleable__control sk-hidden--visually\" id=\"sk-estimator-id-3\" type=\"checkbox\" ><label for=\"sk-estimator-id-3\" class=\"sk-toggleable__label sk-toggleable__label-arrow\">cat</label><div class=\"sk-toggleable__content\"><pre>Index([&#x27;Industry&#x27;, &#x27;Ethnicity&#x27;, &#x27;Gender&#x27;, &#x27;CivilStatus&#x27;], dtype=&#x27;object&#x27;)</pre></div></div></div><div class=\"sk-serial\"><div class=\"sk-item\"><div class=\"sk-estimator sk-toggleable\"><input class=\"sk-toggleable__control sk-hidden--visually\" id=\"sk-estimator-id-4\" type=\"checkbox\" ><label for=\"sk-estimator-id-4\" class=\"sk-toggleable__label sk-toggleable__label-arrow\">OneHotEncoder</label><div class=\"sk-toggleable__content\"><pre>OneHotEncoder()</pre></div></div></div></div></div></div><div class=\"sk-parallel-item\"><div class=\"sk-item\"><div class=\"sk-label-container\"><div class=\"sk-label sk-toggleable\"><input class=\"sk-toggleable__control sk-hidden--visually\" id=\"sk-estimator-id-5\" type=\"checkbox\" ><label for=\"sk-estimator-id-5\" class=\"sk-toggleable__label sk-toggleable__label-arrow\">remainder</label><div class=\"sk-toggleable__content\"><pre>[&#x27;Age&#x27;, &#x27;YearsEmployed&#x27;, &#x27;Income&#x27;]</pre></div></div></div><div class=\"sk-serial\"><div class=\"sk-item\"><div class=\"sk-estimator sk-toggleable\"><input class=\"sk-toggleable__control sk-hidden--visually\" id=\"sk-estimator-id-6\" type=\"checkbox\" ><label for=\"sk-estimator-id-6\" class=\"sk-toggleable__label sk-toggleable__label-arrow\">passthrough</label><div class=\"sk-toggleable__content\"><pre>passthrough</pre></div></div></div></div></div></div></div></div><div class=\"sk-item sk-dashed-wrapped\"><div class=\"sk-label-container\"><div class=\"sk-label sk-toggleable\"><input class=\"sk-toggleable__control sk-hidden--visually\" id=\"sk-estimator-id-7\" type=\"checkbox\" ><label for=\"sk-estimator-id-7\" class=\"sk-toggleable__label sk-toggleable__label-arrow\">modelling: GridSearchCV</label><div class=\"sk-toggleable__content\"><pre>GridSearchCV(cv=3, estimator=DecisionTreeClassifier(),\n",
       "             param_grid={&#x27;criterion&#x27;: [&#x27;gini&#x27;, &#x27;entropy&#x27;],\n",
       "                         &#x27;max_depth&#x27;: [3, 5, 7, 9],\n",
       "                         &#x27;min_samples_leaf&#x27;: [50, 100, 200, 500]},\n",
       "             verbose=1)</pre></div></div></div><div class=\"sk-parallel\"><div class=\"sk-parallel-item\"><div class=\"sk-item\"><div class=\"sk-label-container\"><div class=\"sk-label sk-toggleable\"><input class=\"sk-toggleable__control sk-hidden--visually\" id=\"sk-estimator-id-8\" type=\"checkbox\" ><label for=\"sk-estimator-id-8\" class=\"sk-toggleable__label sk-toggleable__label-arrow\">estimator: DecisionTreeClassifier</label><div class=\"sk-toggleable__content\"><pre>DecisionTreeClassifier()</pre></div></div></div><div class=\"sk-serial\"><div class=\"sk-item\"><div class=\"sk-estimator sk-toggleable\"><input class=\"sk-toggleable__control sk-hidden--visually\" id=\"sk-estimator-id-9\" type=\"checkbox\" ><label for=\"sk-estimator-id-9\" class=\"sk-toggleable__label sk-toggleable__label-arrow\">DecisionTreeClassifier</label><div class=\"sk-toggleable__content\"><pre>DecisionTreeClassifier()</pre></div></div></div></div></div></div></div></div></div></div></div></div>"
      ],
      "text/plain": [
       "Pipeline(steps=[('preprocessing',\n",
       "                 ColumnTransformer(remainder='passthrough',\n",
       "                                   transformers=[('cat', OneHotEncoder(),\n",
       "                                                  Index(['Industry', 'Ethnicity', 'Gender', 'CivilStatus'], dtype='object'))])),\n",
       "                ('modelling',\n",
       "                 GridSearchCV(cv=3, estimator=DecisionTreeClassifier(),\n",
       "                              param_grid={'criterion': ['gini', 'entropy'],\n",
       "                                          'max_depth': [3, 5, 7, 9],\n",
       "                                          'min_samples_leaf': [50, 100, 200,\n",
       "                                                               500]},\n",
       "                              verbose=1))])"
      ]
     },
     "execution_count": null,
     "metadata": {},
     "output_type": "execute_result"
    }
   ],
   "source": []
  },
  {
   "cell_type": "code",
   "execution_count": null,
   "id": "99fe9970-2e3e-4c51-a82a-9b5f3d6ddc12",
   "metadata": {
    "editable": true,
    "execution": {
     "iopub.execute_input": "2024-07-06T19:27:25.252033Z",
     "iopub.status.busy": "2024-07-06T19:27:25.251476Z",
     "iopub.status.idle": "2024-07-06T19:27:25.263121Z",
     "shell.execute_reply": "2024-07-06T19:27:25.261878Z"
    },
    "papermill": {
     "duration": 0.023205,
     "end_time": "2024-07-06T19:27:25.265127",
     "exception": false,
     "start_time": "2024-07-06T19:27:25.241922",
     "status": "completed"
    },
    "slideshow": {
     "slide_type": ""
    },
    "tags": []
   },
   "outputs": [
    {
     "data": {
      "text/plain": [
       "0.6908212560386473"
      ]
     },
     "execution_count": null,
     "metadata": {},
     "output_type": "execute_result"
    }
   ],
   "source": []
  },
  {
   "cell_type": "code",
   "execution_count": null,
   "id": "85870d0e-0bcd-4300-833f-10de4b5e30dd",
   "metadata": {
    "editable": true,
    "execution": {
     "iopub.execute_input": "2024-07-06T19:27:25.274480Z",
     "iopub.status.busy": "2024-07-06T19:27:25.274233Z",
     "iopub.status.idle": "2024-07-06T19:27:25.285033Z",
     "shell.execute_reply": "2024-07-06T19:27:25.284463Z"
    },
    "papermill": {
     "duration": 0.017611,
     "end_time": "2024-07-06T19:27:25.286818",
     "exception": false,
     "start_time": "2024-07-06T19:27:25.269207",
     "status": "completed"
    },
    "slideshow": {
     "slide_type": ""
    },
    "tags": []
   },
   "outputs": [
    {
     "data": {
      "text/plain": [
       "0.7593360995850622"
      ]
     },
     "execution_count": null,
     "metadata": {},
     "output_type": "execute_result"
    }
   ],
   "source": []
  }
 ],
 "metadata": {
  "kernelspec": {
   "display_name": "Python 3 (ipykernel)",
   "language": "python",
   "name": "python3"
  },
  "language_info": {
   "codemirror_mode": {
    "name": "ipython",
    "version": 3
   },
   "file_extension": ".py",
   "mimetype": "text/x-python",
   "name": "python",
   "nbconvert_exporter": "python",
   "pygments_lexer": "ipython3",
   "version": "3.12.0"
  },
  "papermill": {
   "default_parameters": {},
   "duration": 3.821546,
   "end_time": "2024-07-06T19:27:25.715457",
   "environment_variables": {},
   "exception": null,
   "input_path": "/Users/sota/Dropbox/2 Business/1 Datons/2 Areas/Courses/3 Catalogue/20 ML/1 Materials/ML/notebooks/40_Data Preprocessing/2_Why_Pipeline/B_Solution.ipynb",
   "output_path": "/Users/sota/Dropbox/2 Business/1 Datons/2 Areas/Courses/3 Catalogue/20 ML/1 Materials/ML/notebooks/40_Data Preprocessing/2_Why_Pipeline/B_Solution.ipynb",
   "parameters": {},
   "start_time": "2024-07-06T19:27:21.893911",
   "version": "2.5.0"
  }
 },
 "nbformat": 4,
 "nbformat_minor": 5
}
