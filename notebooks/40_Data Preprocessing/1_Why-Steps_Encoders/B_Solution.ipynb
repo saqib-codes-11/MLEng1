{
 "cells": [
  {
   "attachments": {},
   "cell_type": "markdown",
   "id": "6a777f07",
   "metadata": {
    "papermill": {
     "duration": 0.032011,
     "end_time": "2024-07-06T19:27:14.866085",
     "exception": false,
     "start_time": "2024-07-06T19:27:14.834074",
     "status": "completed"
    },
    "tags": []
   },
   "source": [
    "# Dummy variables"
   ]
  },
  {
   "attachments": {},
   "cell_type": "markdown",
   "id": "4dccdf87",
   "metadata": {
    "papermill": {
     "duration": 0.011586,
     "end_time": "2024-07-06T19:27:14.910476",
     "exception": false,
     "start_time": "2024-07-06T19:27:14.898890",
     "status": "completed"
    },
    "tags": []
   },
   "source": [
    "## Load data"
   ]
  },
  {
   "cell_type": "code",
   "execution_count": 1,
   "id": "42f3ec61",
   "metadata": {
    "execution": {
     "iopub.execute_input": "2024-07-06T19:27:14.956217Z",
     "iopub.status.busy": "2024-07-06T19:27:14.924561Z",
     "iopub.status.idle": "2024-07-06T19:27:16.633420Z",
     "shell.execute_reply": "2024-07-06T19:27:16.632513Z"
    },
    "papermill": {
     "duration": 1.720119,
     "end_time": "2024-07-06T19:27:16.637216",
     "exception": false,
     "start_time": "2024-07-06T19:27:14.917097",
     "status": "completed"
    },
    "tags": [
     "change-false"
    ]
   },
   "outputs": [
    {
     "data": {
      "text/html": [
       "<div>\n",
       "<style scoped>\n",
       "    .dataframe tbody tr th:only-of-type {\n",
       "        vertical-align: middle;\n",
       "    }\n",
       "\n",
       "    .dataframe tbody tr th {\n",
       "        vertical-align: top;\n",
       "    }\n",
       "\n",
       "    .dataframe thead th {\n",
       "        text-align: right;\n",
       "    }\n",
       "</style>\n",
       "<table border=\"1\" class=\"dataframe\">\n",
       "  <thead>\n",
       "    <tr style=\"text-align: right;\">\n",
       "      <th></th>\n",
       "      <th>Industry</th>\n",
       "      <th>Ethnicity</th>\n",
       "      <th>Gender</th>\n",
       "      <th>Age</th>\n",
       "      <th>CivilStatus</th>\n",
       "      <th>YearsEmployed</th>\n",
       "      <th>Income</th>\n",
       "      <th>Approved</th>\n",
       "    </tr>\n",
       "  </thead>\n",
       "  <tbody>\n",
       "    <tr>\n",
       "      <th>0</th>\n",
       "      <td>Industrials</td>\n",
       "      <td>White</td>\n",
       "      <td>Male</td>\n",
       "      <td>30</td>\n",
       "      <td>Married</td>\n",
       "      <td>1.25</td>\n",
       "      <td>0.000000</td>\n",
       "      <td>1</td>\n",
       "    </tr>\n",
       "    <tr>\n",
       "      <th>1</th>\n",
       "      <td>Materials</td>\n",
       "      <td>Black</td>\n",
       "      <td>Female</td>\n",
       "      <td>58</td>\n",
       "      <td>Married</td>\n",
       "      <td>3.04</td>\n",
       "      <td>632.793678</td>\n",
       "      <td>1</td>\n",
       "    </tr>\n",
       "    <tr>\n",
       "      <th>...</th>\n",
       "      <td>...</td>\n",
       "      <td>...</td>\n",
       "      <td>...</td>\n",
       "      <td>...</td>\n",
       "      <td>...</td>\n",
       "      <td>...</td>\n",
       "      <td>...</td>\n",
       "      <td>...</td>\n",
       "    </tr>\n",
       "    <tr>\n",
       "      <th>687</th>\n",
       "      <td>ConsumerStaples</td>\n",
       "      <td>White</td>\n",
       "      <td>Male</td>\n",
       "      <td>17</td>\n",
       "      <td>Married</td>\n",
       "      <td>0.04</td>\n",
       "      <td>662.007321</td>\n",
       "      <td>0</td>\n",
       "    </tr>\n",
       "    <tr>\n",
       "      <th>688</th>\n",
       "      <td>Energy</td>\n",
       "      <td>Black</td>\n",
       "      <td>Male</td>\n",
       "      <td>35</td>\n",
       "      <td>Married</td>\n",
       "      <td>8.29</td>\n",
       "      <td>0.000000</td>\n",
       "      <td>0</td>\n",
       "    </tr>\n",
       "  </tbody>\n",
       "</table>\n",
       "<p>689 rows × 8 columns</p>\n",
       "</div>"
      ],
      "text/plain": [
       "            Industry Ethnicity  Gender  Age CivilStatus  YearsEmployed  \\\n",
       "0        Industrials     White    Male   30     Married           1.25   \n",
       "1          Materials     Black  Female   58     Married           3.04   \n",
       "..               ...       ...     ...  ...         ...            ...   \n",
       "687  ConsumerStaples     White    Male   17     Married           0.04   \n",
       "688           Energy     Black    Male   35     Married           8.29   \n",
       "\n",
       "         Income  Approved  \n",
       "0      0.000000         1  \n",
       "1    632.793678         1  \n",
       "..          ...       ...  \n",
       "687  662.007321         0  \n",
       "688    0.000000         0  \n",
       "\n",
       "[689 rows x 8 columns]"
      ]
     },
     "execution_count": 1,
     "metadata": {},
     "output_type": "execute_result"
    }
   ],
   "source": [
    "import pandas as pd\n",
    "\n",
    "path = '../../../data/default_credit_card/output/simplified_features_cat.csv'\n",
    "df = pd.read_csv(path)\n",
    "df"
   ]
  },
  {
   "attachments": {},
   "cell_type": "markdown",
   "id": "4119218c",
   "metadata": {
    "papermill": {
     "duration": 0.007205,
     "end_time": "2024-07-06T19:27:16.656711",
     "exception": false,
     "start_time": "2024-07-06T19:27:16.649506",
     "status": "completed"
    },
    "tags": []
   },
   "source": [
    "## Feature selection"
   ]
  },
  {
   "cell_type": "code",
   "execution_count": 2,
   "id": "462d403a",
   "metadata": {
    "execution": {
     "iopub.execute_input": "2024-07-06T19:27:16.676475Z",
     "iopub.status.busy": "2024-07-06T19:27:16.675727Z",
     "iopub.status.idle": "2024-07-06T19:27:16.685150Z",
     "shell.execute_reply": "2024-07-06T19:27:16.683197Z"
    },
    "papermill": {
     "duration": 0.025815,
     "end_time": "2024-07-06T19:27:16.690640",
     "exception": false,
     "start_time": "2024-07-06T19:27:16.664825",
     "status": "completed"
    },
    "tags": [
     "change-false"
    ]
   },
   "outputs": [],
   "source": [
    "target = 'Approved'\n",
    "\n",
    "y = df[target]\n",
    "X = df.drop(columns=target)"
   ]
  },
  {
   "attachments": {},
   "cell_type": "markdown",
   "id": "403ed068",
   "metadata": {
    "papermill": {
     "duration": 0.003679,
     "end_time": "2024-07-06T19:27:16.701492",
     "exception": false,
     "start_time": "2024-07-06T19:27:16.697813",
     "status": "completed"
    },
    "tags": []
   },
   "source": [
    "## Train test split"
   ]
  },
  {
   "cell_type": "code",
   "execution_count": 3,
   "id": "ec51868d",
   "metadata": {
    "execution": {
     "iopub.execute_input": "2024-07-06T19:27:16.713153Z",
     "iopub.status.busy": "2024-07-06T19:27:16.712376Z",
     "iopub.status.idle": "2024-07-06T19:27:17.858272Z",
     "shell.execute_reply": "2024-07-06T19:27:17.857540Z"
    },
    "papermill": {
     "duration": 1.153298,
     "end_time": "2024-07-06T19:27:17.860223",
     "exception": false,
     "start_time": "2024-07-06T19:27:16.706925",
     "status": "completed"
    },
    "tags": [
     "change-false"
    ]
   },
   "outputs": [],
   "source": [
    "from sklearn.model_selection import train_test_split\n",
    "\n",
    "X_train, X_test, y_train, y_test = train_test_split(\n",
    "    X, y, test_size=0.3, random_state=42)"
   ]
  },
  {
   "attachments": {},
   "cell_type": "markdown",
   "id": "caabd8f3",
   "metadata": {
    "papermill": {
     "duration": 0.004319,
     "end_time": "2024-07-06T19:27:17.868758",
     "exception": false,
     "start_time": "2024-07-06T19:27:17.864439",
     "status": "completed"
    },
    "tags": []
   },
   "source": [
    "## Data preprocessing\n",
    "\n",
    "**One hot encoding (dummy variables)**"
   ]
  },
  {
   "attachments": {},
   "cell_type": "markdown",
   "id": "3c3c1e5a",
   "metadata": {
    "papermill": {
     "duration": 0.003304,
     "end_time": "2024-07-06T19:27:17.876038",
     "exception": false,
     "start_time": "2024-07-06T19:27:17.872734",
     "status": "completed"
    },
    "tags": []
   },
   "source": [
    "<table>\n",
    "    <tr>\n",
    "        <!-- Table headers -->\n",
    "        <th>Original</th>\n",
    "        <th>Dummy</th>\n",
    "    </tr>\n",
    "    <tr>\n",
    "        <!-- Table data cells containing images -->\n",
    "        <td>\n",
    "            <img src=\"src/dummy-1.png\" height=\"150\"/>\n",
    "        </td>\n",
    "        <td>\n",
    "            <img src=\"src/dummy-2.png\" height=\"150\"/>\n",
    "        </td>\n",
    "    </tr>\n",
    "</table>\n"
   ]
  },
  {
   "cell_type": "code",
   "execution_count": 4,
   "id": "67358a8b",
   "metadata": {
    "execution": {
     "iopub.execute_input": "2024-07-06T19:27:17.887039Z",
     "iopub.status.busy": "2024-07-06T19:27:17.886447Z",
     "iopub.status.idle": "2024-07-06T19:27:17.897129Z",
     "shell.execute_reply": "2024-07-06T19:27:17.896547Z"
    },
    "papermill": {
     "duration": 0.017959,
     "end_time": "2024-07-06T19:27:17.898813",
     "exception": false,
     "start_time": "2024-07-06T19:27:17.880854",
     "status": "completed"
    },
    "tags": []
   },
   "outputs": [],
   "source": [
    "from sklearn.preprocessing import OneHotEncoder\n",
    "from sklearn.compose import ColumnTransformer"
   ]
  },
  {
   "cell_type": "code",
   "execution_count": 5,
   "id": "caefba3a",
   "metadata": {
    "execution": {
     "iopub.execute_input": "2024-07-06T19:27:17.906742Z",
     "iopub.status.busy": "2024-07-06T19:27:17.906508Z",
     "iopub.status.idle": "2024-07-06T19:27:17.913488Z",
     "shell.execute_reply": "2024-07-06T19:27:17.912476Z"
    },
    "papermill": {
     "duration": 0.012711,
     "end_time": "2024-07-06T19:27:17.915335",
     "exception": false,
     "start_time": "2024-07-06T19:27:17.902624",
     "status": "completed"
    },
    "tags": []
   },
   "outputs": [
    {
     "data": {
      "text/plain": [
       "Index(['Industry', 'Ethnicity', 'Gender', 'CivilStatus'], dtype='object')"
      ]
     },
     "execution_count": 5,
     "metadata": {},
     "output_type": "execute_result"
    }
   ],
   "source": [
    "features = X_train.dtypes\n",
    "\n",
    "features_categorical = features[features == 'object'].index\n",
    "features_categorical"
   ]
  },
  {
   "cell_type": "code",
   "execution_count": 6,
   "id": "015e008e",
   "metadata": {
    "execution": {
     "iopub.execute_input": "2024-07-06T19:27:17.923116Z",
     "iopub.status.busy": "2024-07-06T19:27:17.922878Z",
     "iopub.status.idle": "2024-07-06T19:27:17.926005Z",
     "shell.execute_reply": "2024-07-06T19:27:17.925389Z"
    },
    "papermill": {
     "duration": 0.010053,
     "end_time": "2024-07-06T19:27:17.928859",
     "exception": false,
     "start_time": "2024-07-06T19:27:17.918806",
     "status": "completed"
    },
    "tags": []
   },
   "outputs": [],
   "source": [
    "transformer = ColumnTransformer(transformers=[\n",
    "    ('cat', OneHotEncoder(), features_categorical)\n",
    "], remainder='passthrough')"
   ]
  },
  {
   "cell_type": "code",
   "execution_count": 7,
   "id": "95d7be1e",
   "metadata": {
    "execution": {
     "iopub.execute_input": "2024-07-06T19:27:17.939943Z",
     "iopub.status.busy": "2024-07-06T19:27:17.939692Z",
     "iopub.status.idle": "2024-07-06T19:27:17.954385Z",
     "shell.execute_reply": "2024-07-06T19:27:17.953812Z"
    },
    "papermill": {
     "duration": 0.021806,
     "end_time": "2024-07-06T19:27:17.956183",
     "exception": false,
     "start_time": "2024-07-06T19:27:17.934377",
     "status": "completed"
    },
    "tags": []
   },
   "outputs": [],
   "source": [
    "X_train_ohe = transformer.fit_transform(X_train)"
   ]
  },
  {
   "attachments": {},
   "cell_type": "markdown",
   "id": "f936e57a",
   "metadata": {
    "papermill": {
     "duration": 0.003494,
     "end_time": "2024-07-06T19:27:17.963090",
     "exception": false,
     "start_time": "2024-07-06T19:27:17.959596",
     "status": "completed"
    },
    "tags": []
   },
   "source": [
    "## Modelling"
   ]
  },
  {
   "cell_type": "code",
   "execution_count": 8,
   "id": "b8907fce",
   "metadata": {
    "execution": {
     "iopub.execute_input": "2024-07-06T19:27:17.973976Z",
     "iopub.status.busy": "2024-07-06T19:27:17.973656Z",
     "iopub.status.idle": "2024-07-06T19:27:18.365314Z",
     "shell.execute_reply": "2024-07-06T19:27:18.364722Z"
    },
    "papermill": {
     "duration": 0.39944,
     "end_time": "2024-07-06T19:27:18.366828",
     "exception": false,
     "start_time": "2024-07-06T19:27:17.967388",
     "status": "completed"
    },
    "tags": []
   },
   "outputs": [
    {
     "data": {
      "text/html": [
       "<style>#sk-container-id-1 {color: black;}#sk-container-id-1 pre{padding: 0;}#sk-container-id-1 div.sk-toggleable {background-color: white;}#sk-container-id-1 label.sk-toggleable__label {cursor: pointer;display: block;width: 100%;margin-bottom: 0;padding: 0.3em;box-sizing: border-box;text-align: center;}#sk-container-id-1 label.sk-toggleable__label-arrow:before {content: \"▸\";float: left;margin-right: 0.25em;color: #696969;}#sk-container-id-1 label.sk-toggleable__label-arrow:hover:before {color: black;}#sk-container-id-1 div.sk-estimator:hover label.sk-toggleable__label-arrow:before {color: black;}#sk-container-id-1 div.sk-toggleable__content {max-height: 0;max-width: 0;overflow: hidden;text-align: left;background-color: #f0f8ff;}#sk-container-id-1 div.sk-toggleable__content pre {margin: 0.2em;color: black;border-radius: 0.25em;background-color: #f0f8ff;}#sk-container-id-1 input.sk-toggleable__control:checked~div.sk-toggleable__content {max-height: 200px;max-width: 100%;overflow: auto;}#sk-container-id-1 input.sk-toggleable__control:checked~label.sk-toggleable__label-arrow:before {content: \"▾\";}#sk-container-id-1 div.sk-estimator input.sk-toggleable__control:checked~label.sk-toggleable__label {background-color: #d4ebff;}#sk-container-id-1 div.sk-label input.sk-toggleable__control:checked~label.sk-toggleable__label {background-color: #d4ebff;}#sk-container-id-1 input.sk-hidden--visually {border: 0;clip: rect(1px 1px 1px 1px);clip: rect(1px, 1px, 1px, 1px);height: 1px;margin: -1px;overflow: hidden;padding: 0;position: absolute;width: 1px;}#sk-container-id-1 div.sk-estimator {font-family: monospace;background-color: #f0f8ff;border: 1px dotted black;border-radius: 0.25em;box-sizing: border-box;margin-bottom: 0.5em;}#sk-container-id-1 div.sk-estimator:hover {background-color: #d4ebff;}#sk-container-id-1 div.sk-parallel-item::after {content: \"\";width: 100%;border-bottom: 1px solid gray;flex-grow: 1;}#sk-container-id-1 div.sk-label:hover label.sk-toggleable__label {background-color: #d4ebff;}#sk-container-id-1 div.sk-serial::before {content: \"\";position: absolute;border-left: 1px solid gray;box-sizing: border-box;top: 0;bottom: 0;left: 50%;z-index: 0;}#sk-container-id-1 div.sk-serial {display: flex;flex-direction: column;align-items: center;background-color: white;padding-right: 0.2em;padding-left: 0.2em;position: relative;}#sk-container-id-1 div.sk-item {position: relative;z-index: 1;}#sk-container-id-1 div.sk-parallel {display: flex;align-items: stretch;justify-content: center;background-color: white;position: relative;}#sk-container-id-1 div.sk-item::before, #sk-container-id-1 div.sk-parallel-item::before {content: \"\";position: absolute;border-left: 1px solid gray;box-sizing: border-box;top: 0;bottom: 0;left: 50%;z-index: -1;}#sk-container-id-1 div.sk-parallel-item {display: flex;flex-direction: column;z-index: 1;position: relative;background-color: white;}#sk-container-id-1 div.sk-parallel-item:first-child::after {align-self: flex-end;width: 50%;}#sk-container-id-1 div.sk-parallel-item:last-child::after {align-self: flex-start;width: 50%;}#sk-container-id-1 div.sk-parallel-item:only-child::after {width: 0;}#sk-container-id-1 div.sk-dashed-wrapped {border: 1px dashed gray;margin: 0 0.4em 0.5em 0.4em;box-sizing: border-box;padding-bottom: 0.4em;background-color: white;}#sk-container-id-1 div.sk-label label {font-family: monospace;font-weight: bold;display: inline-block;line-height: 1.2em;}#sk-container-id-1 div.sk-label-container {text-align: center;}#sk-container-id-1 div.sk-container {/* jupyter's `normalize.less` sets `[hidden] { display: none; }` but bootstrap.min.css set `[hidden] { display: none !important; }` so we also need the `!important` here to be able to override the default hidden behavior on the sphinx rendered scikit-learn.org. See: https://github.com/scikit-learn/scikit-learn/issues/21755 */display: inline-block !important;position: relative;}#sk-container-id-1 div.sk-text-repr-fallback {display: none;}</style><div id=\"sk-container-id-1\" class=\"sk-top-container\"><div class=\"sk-text-repr-fallback\"><pre>GradientBoostingClassifier()</pre><b>In a Jupyter environment, please rerun this cell to show the HTML representation or trust the notebook. <br />On GitHub, the HTML representation is unable to render, please try loading this page with nbviewer.org.</b></div><div class=\"sk-container\" hidden><div class=\"sk-item\"><div class=\"sk-estimator sk-toggleable\"><input class=\"sk-toggleable__control sk-hidden--visually\" id=\"sk-estimator-id-1\" type=\"checkbox\" checked><label for=\"sk-estimator-id-1\" class=\"sk-toggleable__label sk-toggleable__label-arrow\">GradientBoostingClassifier</label><div class=\"sk-toggleable__content\"><pre>GradientBoostingClassifier()</pre></div></div></div></div></div>"
      ],
      "text/plain": [
       "GradientBoostingClassifier()"
      ]
     },
     "execution_count": 8,
     "metadata": {},
     "output_type": "execute_result"
    }
   ],
   "source": [
    "from sklearn.ensemble import GradientBoostingClassifier\n",
    "\n",
    "model = GradientBoostingClassifier()\n",
    "model.fit(X_train_ohe, y_train)"
   ]
  },
  {
   "cell_type": "code",
   "execution_count": 9,
   "id": "129f2ba2",
   "metadata": {
    "execution": {
     "iopub.execute_input": "2024-07-06T19:27:18.374883Z",
     "iopub.status.busy": "2024-07-06T19:27:18.374642Z",
     "iopub.status.idle": "2024-07-06T19:27:18.384350Z",
     "shell.execute_reply": "2024-07-06T19:27:18.383639Z"
    },
    "papermill": {
     "duration": 0.016118,
     "end_time": "2024-07-06T19:27:18.386559",
     "exception": false,
     "start_time": "2024-07-06T19:27:18.370441",
     "status": "completed"
    },
    "tags": []
   },
   "outputs": [],
   "source": [
    "X_test_ohe = transformer.transform(X_test)"
   ]
  },
  {
   "cell_type": "code",
   "execution_count": 10,
   "id": "47f646bc",
   "metadata": {
    "execution": {
     "iopub.execute_input": "2024-07-06T19:27:18.395787Z",
     "iopub.status.busy": "2024-07-06T19:27:18.395500Z",
     "iopub.status.idle": "2024-07-06T19:27:18.402123Z",
     "shell.execute_reply": "2024-07-06T19:27:18.401602Z"
    },
    "papermill": {
     "duration": 0.012865,
     "end_time": "2024-07-06T19:27:18.403633",
     "exception": false,
     "start_time": "2024-07-06T19:27:18.390768",
     "status": "completed"
    },
    "tags": []
   },
   "outputs": [
    {
     "data": {
      "text/plain": [
       "0.7198067632850241"
      ]
     },
     "execution_count": 10,
     "metadata": {},
     "output_type": "execute_result"
    }
   ],
   "source": [
    "model.score(X_test_ohe, y_test)"
   ]
  },
  {
   "cell_type": "code",
   "execution_count": 11,
   "id": "d4f6eeab",
   "metadata": {
    "execution": {
     "iopub.execute_input": "2024-07-06T19:27:18.414757Z",
     "iopub.status.busy": "2024-07-06T19:27:18.414380Z",
     "iopub.status.idle": "2024-07-06T19:27:18.421767Z",
     "shell.execute_reply": "2024-07-06T19:27:18.421263Z"
    },
    "papermill": {
     "duration": 0.015513,
     "end_time": "2024-07-06T19:27:18.423250",
     "exception": false,
     "start_time": "2024-07-06T19:27:18.407737",
     "status": "completed"
    },
    "tags": []
   },
   "outputs": [
    {
     "data": {
      "text/plain": [
       "0.9024896265560166"
      ]
     },
     "execution_count": 11,
     "metadata": {},
     "output_type": "execute_result"
    }
   ],
   "source": [
    "model.score(X_train_ohe, y_train)"
   ]
  }
 ],
 "metadata": {
  "kernelspec": {
   "display_name": "work",
   "language": "python",
   "name": "python3"
  },
  "language_info": {
   "codemirror_mode": {
    "name": "ipython",
    "version": 3
   },
   "file_extension": ".py",
   "mimetype": "text/x-python",
   "name": "python",
   "nbconvert_exporter": "python",
   "pygments_lexer": "ipython3",
   "version": "3.12.0"
  },
  "papermill": {
   "default_parameters": {},
   "duration": 6.178155,
   "end_time": "2024-07-06T19:27:18.848461",
   "environment_variables": {},
   "exception": null,
   "input_path": "/Users/sota/Dropbox/2 Business/1 Datons/2 Areas/Courses/3 Catalogue/20 ML/1 Materials/ML/notebooks/40_Data Preprocessing/1_Why-Steps_Encoders/B_Solution.ipynb",
   "output_path": "/Users/sota/Dropbox/2 Business/1 Datons/2 Areas/Courses/3 Catalogue/20 ML/1 Materials/ML/notebooks/40_Data Preprocessing/1_Why-Steps_Encoders/B_Solution.ipynb",
   "parameters": {},
   "start_time": "2024-07-06T19:27:12.670306",
   "version": "2.5.0"
  }
 },
 "nbformat": 4,
 "nbformat_minor": 5
}